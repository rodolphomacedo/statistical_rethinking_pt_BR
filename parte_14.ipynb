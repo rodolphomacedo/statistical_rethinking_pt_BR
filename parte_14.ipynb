{
 "cells": [
  {
   "cell_type": "markdown",
   "id": "e9bf0146",
   "metadata": {},
   "source": [
    "# 14 Adventures in Covariance"
   ]
  },
  {
   "cell_type": "markdown",
   "id": "16ed1f97",
   "metadata": {},
   "source": [
    "## Imports, loadings and functions"
   ]
  },
  {
   "cell_type": "code",
   "execution_count": 1,
   "id": "39e7ebea",
   "metadata": {},
   "outputs": [],
   "source": [
    "import numpy as np\n",
    "\n",
    "from scipy import stats\n",
    "\n",
    "import matplotlib.pyplot as plt\n",
    "from matplotlib.gridspec import GridSpec\n",
    "from matplotlib.patches import Ellipse\n",
    "import matplotlib.transforms as transforms\n",
    "\n",
    "import pandas as pd\n",
    "\n",
    "import networkx as nx\n",
    "# from causalgraphicalmodels import CausalGraphicalModel\n",
    "\n",
    "import arviz as az\n",
    "# ArviZ ships with style sheets!\n",
    "# https://python.arviz.org/en/stable/examples/styles.html#example-styles\n",
    "az.style.use(\"arviz-darkgrid\")\n",
    "\n",
    "import xarray as xr\n",
    "\n",
    "import stan\n",
    "import nest_asyncio\n",
    "\n",
    "plt.style.use('default')\n",
    "plt.rcParams['axes.facecolor'] = 'lightgray'\n",
    "\n",
    "# To DAG's\n",
    "import daft\n",
    "# from causalgraphicalmodels import CausalGraphicalModel  # Just work in < python3.9 "
   ]
  },
  {
   "cell_type": "code",
   "execution_count": 2,
   "id": "7a78c92f",
   "metadata": {},
   "outputs": [],
   "source": [
    "# Add fonts to matplotlib to run xkcd\n",
    "\n",
    "from matplotlib import font_manager\n",
    "\n",
    "font_dirs = [\"fonts/\"]  # The path to the custom font file.\n",
    "font_files = font_manager.findSystemFonts(fontpaths=font_dirs)\n",
    "\n",
    "for font_file in font_files:\n",
    "    font_manager.fontManager.addfont(font_file)"
   ]
  },
  {
   "cell_type": "code",
   "execution_count": 3,
   "id": "57b999a1",
   "metadata": {},
   "outputs": [],
   "source": [
    "# To make plots like drawing \n",
    "# plt.xkcd()"
   ]
  },
  {
   "cell_type": "code",
   "execution_count": 4,
   "id": "8781d488",
   "metadata": {},
   "outputs": [],
   "source": [
    "# To running the stan in jupyter notebook\n",
    "nest_asyncio.apply()"
   ]
  },
  {
   "cell_type": "code",
   "execution_count": 5,
   "id": "e9b5e50f",
   "metadata": {},
   "outputs": [],
   "source": [
    "# https://matplotlib.org/stable/gallery/statistics/confidence_ellipse.html\n",
    "def get_correlated_dataset(n, dependency, mu, scale):\n",
    "    latent = np.random.randn(n, 2)\n",
    "    dependent = latent.dot(dependency)\n",
    "    scaled = dependent * scale\n",
    "    scaled_with_offset = scaled + mu\n",
    "    # return x and y of the new, correlated dataset\n",
    "    return scaled_with_offset[:, 0], scaled_with_offset[:, 1]"
   ]
  },
  {
   "cell_type": "code",
   "execution_count": 6,
   "id": "b2d9f2d5",
   "metadata": {},
   "outputs": [],
   "source": [
    "# https://matplotlib.org/stable/gallery/statistics/confidence_ellipse.html\n",
    "def confidence_ellipse(x, y, ax, n_std=3.0, facecolor='none', **kwargs):\n",
    "    \"\"\"\n",
    "    Create a plot of the covariance confidence ellipse of *x* and *y*.\n",
    "\n",
    "    Parameters\n",
    "    ----------\n",
    "    x, y : array-like, shape (n, )\n",
    "        Input data.\n",
    "\n",
    "    ax : matplotlib.axes.Axes\n",
    "        The axes object to draw the ellipse into.\n",
    "\n",
    "    n_std : float\n",
    "        The number of standard deviations to determine the ellipse's radiuses.\n",
    "\n",
    "    **kwargs\n",
    "        Forwarded to `~matplotlib.patches.Ellipse`\n",
    "\n",
    "    Returns\n",
    "    -------\n",
    "    matplotlib.patches.Ellipse\n",
    "    \"\"\"\n",
    "    if x.size != y.size:\n",
    "        raise ValueError(\"x and y must be the same size\")\n",
    "\n",
    "    cov = np.cov(x, y)\n",
    "    pearson = cov[0, 1]/np.sqrt(cov[0, 0] * cov[1, 1])\n",
    "    # Using a special case to obtain the eigenvalues of this\n",
    "    # two-dimensional dataset.\n",
    "    ell_radius_x = np.sqrt(1 + pearson)\n",
    "    ell_radius_y = np.sqrt(1 - pearson)\n",
    "    ellipse = Ellipse((0, 0), width=ell_radius_x * 2, height=ell_radius_y * 2,\n",
    "                      facecolor=facecolor, **kwargs)\n",
    "\n",
    "    # Calculating the standard deviation of x from\n",
    "    # the squareroot of the variance and multiplying\n",
    "    # with the given number of standard deviations.\n",
    "    scale_x = np.sqrt(cov[0, 0]) * n_std\n",
    "    #scale_x = n_std\n",
    "    mean_x = np.mean(x)\n",
    "\n",
    "    # calculating the standard deviation of y ...\n",
    "    scale_y = np.sqrt(cov[1, 1]) * n_std\n",
    "    #scale_y = n_std\n",
    "    mean_y = np.mean(y)\n",
    "\n",
    "    transf = transforms.Affine2D() \\\n",
    "        .rotate_deg(45) \\\n",
    "        .scale(scale_x, scale_y) \\\n",
    "        .translate(mean_x, mean_y)\n",
    "\n",
    "    ellipse.set_transform(transf + ax.transData)\n",
    "    return ax.add_patch(ellipse)"
   ]
  },
  {
   "cell_type": "code",
   "execution_count": 7,
   "id": "846eed0e",
   "metadata": {},
   "outputs": [],
   "source": [
    "def draw_ellipse(mu, sigma, level, plot_points=None):\n",
    "    fig, ax_nstd = plt.subplots(figsize=(6, 6))\n",
    "\n",
    "    dependency_nstd = sigma.tolist()\n",
    "\n",
    "    scale = 5, 5\n",
    "\n",
    "    x, y = get_correlated_dataset(500, dependency_nstd, mu, scale)\n",
    "    \n",
    "    if plot_points is not None:\n",
    "        ax_nstd.scatter(plot_points[:, 0], plot_points[:, 1], s=25)\n",
    "\n",
    "    for l in level:\n",
    "        confidence_ellipse(x, y, ax_nstd, n_std=l, edgecolor='black', alpha=0.3)\n",
    "\n",
    "    # ax_nstd.scatter(mu[0], mu[1], c='red', s=3)\n",
    "    ax_nstd.set_title('Cafés sampled - Figure 14.20')\n",
    "    ax_nstd.set_xlabel('intercepts (a_cafe)')\n",
    "    ax_nstd.set_ylabel('slopes (b_cafe)')\n",
    "    \n",
    "    ax_nstd.set_xlim(1.8, 6.2)\n",
    "    ax_nstd.set_ylim(-1.9, -0.51)\n",
    "    \n",
    "    plt.show()"
   ]
  },
  {
   "cell_type": "markdown",
   "id": "a22b8ee5",
   "metadata": {},
   "source": [
    "## 14.1 Varing Slopes by Contructions"
   ]
  },
  {
   "cell_type": "markdown",
   "id": "08905ac0",
   "metadata": {},
   "source": [
    "### R Code 14.1"
   ]
  },
  {
   "cell_type": "code",
   "execution_count": 8,
   "id": "40888826",
   "metadata": {},
   "outputs": [],
   "source": [
    "a = 3.5        # Average morning wait time\n",
    "b = (-1)       # Avergatge difference afternoon wait time\n",
    "sigma_a = 1    # std dev in intercepts\n",
    "sigma_b = 0.5  # std in slopes\n",
    "rho = (-0.7)   # correlation between intercepts and slopes"
   ]
  },
  {
   "cell_type": "markdown",
   "id": "f38f6542",
   "metadata": {},
   "source": [
    "### R Code 14.2"
   ]
  },
  {
   "cell_type": "code",
   "execution_count": 9,
   "id": "b76b4c23",
   "metadata": {},
   "outputs": [
    {
     "data": {
      "text/plain": [
       "array([ 3.5, -1. ])"
      ]
     },
     "execution_count": 9,
     "metadata": {},
     "output_type": "execute_result"
    }
   ],
   "source": [
    "Mu = np.array([a, b])  # Vector\n",
    "Mu"
   ]
  },
  {
   "cell_type": "markdown",
   "id": "23188d9f",
   "metadata": {},
   "source": [
    " ### R Code 14.3"
   ]
  },
  {
   "cell_type": "markdown",
   "id": "edb3aee5",
   "metadata": {},
   "source": [
    "The matrix variance and covariance:\n",
    "\n",
    "$$ \n",
    "\\begin{pmatrix}\n",
    "\\mbox{variance of intercepts} & \\mbox{covariance of intercepts & Slopes} \\\\\n",
    "\\mbox{covariance of intercepts & Slopes} & \\mbox{variance of slopes}\n",
    "\\end{pmatrix}\n",
    "$$\n",
    "\n",
    "And in math form:\n",
    "\n",
    "\n",
    "$$\n",
    "\\begin{pmatrix}\n",
    "\\sigma^2_\\alpha & \\sigma_\\alpha\\sigma_\\beta\\rho \\\\\n",
    "\\sigma_\\alpha\\sigma_\\beta\\rho & \\sigma^2_\\beta\n",
    "\\end{pmatrix}\n",
    "$$"
   ]
  },
  {
   "cell_type": "markdown",
   "id": "8cd118fd",
   "metadata": {},
   "source": [
    "### R Code 14.3"
   ]
  },
  {
   "cell_type": "code",
   "execution_count": 10,
   "id": "f56495bd",
   "metadata": {},
   "outputs": [
    {
     "data": {
      "text/plain": [
       "matrix([[ 1.  , -0.35],\n",
       "        [-0.35,  0.25]])"
      ]
     },
     "execution_count": 10,
     "metadata": {},
     "output_type": "execute_result"
    }
   ],
   "source": [
    "cov_ab = sigma_a * sigma_b * rho\n",
    "Sigma = np.matrix([\n",
    "    [sigma_a**2, cov_ab],\n",
    "    [cov_ab, sigma_b**2]\n",
    "])\n",
    "Sigma"
   ]
  },
  {
   "cell_type": "markdown",
   "id": "7b99f3ff",
   "metadata": {},
   "source": [
    "### R Code 14.4"
   ]
  },
  {
   "cell_type": "code",
   "execution_count": 11,
   "id": "321eeea8",
   "metadata": {},
   "outputs": [
    {
     "data": {
      "text/plain": [
       "matrix([[1, 2],\n",
       "        [3, 4]])"
      ]
     },
     "execution_count": 11,
     "metadata": {},
     "output_type": "execute_result"
    }
   ],
   "source": [
    "np.matrix([[1,2], [3, 4]])"
   ]
  },
  {
   "cell_type": "markdown",
   "id": "4bce32a1",
   "metadata": {},
   "source": [
    "### R Code 14.5"
   ]
  },
  {
   "cell_type": "code",
   "execution_count": 12,
   "id": "8cb7a663",
   "metadata": {},
   "outputs": [
    {
     "data": {
      "text/plain": [
       "array([1. , 0.5])"
      ]
     },
     "execution_count": 12,
     "metadata": {},
     "output_type": "execute_result"
    }
   ],
   "source": [
    "sigmas = np.array([sigma_a, sigma_b])  # Standart Deviations\n",
    "\n",
    "sigmas"
   ]
  },
  {
   "cell_type": "code",
   "execution_count": 13,
   "id": "2b0a55ce",
   "metadata": {},
   "outputs": [
    {
     "data": {
      "text/plain": [
       "matrix([[ 1. , -0.7],\n",
       "        [-0.7,  1. ]])"
      ]
     },
     "execution_count": 13,
     "metadata": {},
     "output_type": "execute_result"
    }
   ],
   "source": [
    "Rho = np.matrix([\n",
    "    [1, rho],\n",
    "    [rho, 1]\n",
    "])  # Correlation Matrix\n",
    "\n",
    "Rho"
   ]
  },
  {
   "cell_type": "code",
   "execution_count": 14,
   "id": "332f2046",
   "metadata": {},
   "outputs": [
    {
     "data": {
      "text/plain": [
       "matrix([[ 1.  , -0.35],\n",
       "        [-0.35,  0.25]])"
      ]
     },
     "execution_count": 14,
     "metadata": {},
     "output_type": "execute_result"
    }
   ],
   "source": [
    "# Multiply to get covariance matrix\n",
    "Sigma = np.diag(sigmas) * Rho * np.diag(sigmas)\n",
    "\n",
    "Sigma"
   ]
  },
  {
   "cell_type": "markdown",
   "id": "24035bd8",
   "metadata": {},
   "source": [
    "### R Code 14.6"
   ]
  },
  {
   "cell_type": "code",
   "execution_count": 15,
   "id": "0aad896c",
   "metadata": {},
   "outputs": [],
   "source": [
    "N_cafe = 20"
   ]
  },
  {
   "cell_type": "markdown",
   "id": "84f19e25",
   "metadata": {},
   "source": [
    "### R Code 14.7"
   ]
  },
  {
   "cell_type": "code",
   "execution_count": 16,
   "id": "5039922a",
   "metadata": {},
   "outputs": [
    {
     "data": {
      "text/plain": [
       "array([[ 3.02149593, -0.9304358 ],\n",
       "       [ 1.05666673, -0.12762876],\n",
       "       [ 3.58546284, -0.46432203],\n",
       "       [ 4.3297356 , -1.53991745],\n",
       "       [ 3.27332508, -1.02933771],\n",
       "       [ 4.65859716, -1.5303893 ],\n",
       "       [ 3.93018946, -0.9524405 ],\n",
       "       [ 5.06625508, -1.869279  ],\n",
       "       [ 2.58529637,  0.0287956 ],\n",
       "       [ 5.07890482, -1.39033508],\n",
       "       [ 4.36801698, -1.65042937],\n",
       "       [ 4.31342478, -1.47263713],\n",
       "       [ 2.59854231, -0.38835499],\n",
       "       [ 3.39670791, -1.09000246],\n",
       "       [ 3.48373345, -1.03170127],\n",
       "       [ 2.63542057, -0.88644913],\n",
       "       [ 3.49374238, -1.03389681],\n",
       "       [ 3.58250316, -0.94285315],\n",
       "       [ 3.46768242, -0.50699357],\n",
       "       [ 3.77789108, -0.54770738]])"
      ]
     },
     "execution_count": 16,
     "metadata": {},
     "output_type": "execute_result"
    }
   ],
   "source": [
    "np.random.seed(5)   # used to replicate example\n",
    "\n",
    "vary_effects = stats.multivariate_normal(mean=Mu, cov=Sigma).rvs(N_cafe)\n",
    "vary_effects"
   ]
  },
  {
   "cell_type": "markdown",
   "id": "1ab4c654",
   "metadata": {},
   "source": [
    "### R Code 14.8"
   ]
  },
  {
   "cell_type": "code",
   "execution_count": 17,
   "id": "b6ca78d7",
   "metadata": {},
   "outputs": [],
   "source": [
    "a_cafe = vary_effects[:, 0]  # Intercepts samples\n",
    "b_cafe = vary_effects[:, 1]  # Slopes samples"
   ]
  },
  {
   "cell_type": "markdown",
   "id": "4f2eeab4",
   "metadata": {},
   "source": [
    "### R Code 14.9"
   ]
  },
  {
   "cell_type": "code",
   "execution_count": 18,
   "id": "53f2e5ca",
   "metadata": {},
   "outputs": [
    {
     "data": {
      "image/png": "[encoded data removed]",
      "text/plain": [
       "<Figure size 600x600 with 1 Axes>"
      ]
     },
     "metadata": {},
     "output_type": "display_data"
    }
   ],
   "source": [
    "levels = [0.1, 0.3, 0.5, 0.8, 0.99]\n",
    "draw_ellipse(mu=Mu, sigma=Sigma, level=levels, plot_points=vary_effects)"
   ]
  },
  {
   "cell_type": "markdown",
   "id": "22004069",
   "metadata": {},
   "source": [
    "**Overthinking**: We define the *covariance* with 3 parameters: (pag 440)\n",
    "\n",
    " 1. Firt variable standart deviations  $\\sigma_\\alpha$\n",
    " 2. Second variable standart deviations  $ \\sigma_\\beta $\n",
    " 3. Correlation between two variables  $\\rho_{\\alpha\\beta}$\n",
    "    \n",
    "Whu the covariance is equal to $\\sigma_\\alpha \\sigma_\\beta \\rho_{\\alpha\\beta}$?\n",
    "\n",
    "The usual definition of the covariance between two variables $x$ and $y$ is:\n",
    "\n",
    "$$ cov(x, y) = \\mathbb{E}(xy) - \\mathbb{E}(x)\\mathbb{E}(y) $$\n",
    "\n",
    "\n",
    "To simple variance this concept is the same:\n",
    "\n",
    "$$ var(x) = cov(x, x) = \\mathbb{E}(x^2) - \\mathbb{E}(x)^2$$\n",
    "\n",
    "\n",
    "If the variable with only mean equal zero ($0$), then the variance to be:\n",
    "\n",
    "$$ var(x) = cov(x) = \\mathbb{E}(x^2), \\mbox{ if the } \\mathbb{E}(x) = 0 $$\n",
    "\n",
    "\n",
    "The correlation live in $[-1, 1]$, this is only the covariance rescaled. To be rescaled covariance just:\n",
    "\n",
    "$$ cov(xy) = \\sqrt{var(x)var(y)} \\rho_{xy} $$\n",
    "\n",
    "or better:\n",
    "\n",
    "$$ cov(xy) = \\sigma_x \\sigma_y \\rho_{xy} $$\n"
   ]
  },
  {
   "cell_type": "markdown",
   "id": "64e98487",
   "metadata": {},
   "source": [
    "### R Code 14.10"
   ]
  },
  {
   "cell_type": "code",
   "execution_count": 19,
   "id": "28926ac9",
   "metadata": {},
   "outputs": [
    {
     "data": {
      "text/html": [
       "<div>\n",
       "<style scoped>\n",
       "    .dataframe tbody tr th:only-of-type {\n",
       "        vertical-align: middle;\n",
       "    }\n",
       "\n",
       "    .dataframe tbody tr th {\n",
       "        vertical-align: top;\n",
       "    }\n",
       "\n",
       "    .dataframe thead th {\n",
       "        text-align: right;\n",
       "    }\n",
       "</style>\n",
       "<table border=\"1\" class=\"dataframe\">\n",
       "  <thead>\n",
       "    <tr style=\"text-align: right;\">\n",
       "      <th></th>\n",
       "      <th>cafe</th>\n",
       "      <th>afternoon</th>\n",
       "      <th>wait</th>\n",
       "    </tr>\n",
       "  </thead>\n",
       "  <tbody>\n",
       "    <tr>\n",
       "      <th>0</th>\n",
       "      <td>0</td>\n",
       "      <td>0</td>\n",
       "      <td>2.713830</td>\n",
       "    </tr>\n",
       "    <tr>\n",
       "      <th>1</th>\n",
       "      <td>0</td>\n",
       "      <td>0</td>\n",
       "      <td>2.896053</td>\n",
       "    </tr>\n",
       "    <tr>\n",
       "      <th>2</th>\n",
       "      <td>0</td>\n",
       "      <td>0</td>\n",
       "      <td>3.261427</td>\n",
       "    </tr>\n",
       "    <tr>\n",
       "      <th>3</th>\n",
       "      <td>0</td>\n",
       "      <td>0</td>\n",
       "      <td>3.767034</td>\n",
       "    </tr>\n",
       "    <tr>\n",
       "      <th>4</th>\n",
       "      <td>0</td>\n",
       "      <td>0</td>\n",
       "      <td>3.105162</td>\n",
       "    </tr>\n",
       "    <tr>\n",
       "      <th>...</th>\n",
       "      <td>...</td>\n",
       "      <td>...</td>\n",
       "      <td>...</td>\n",
       "    </tr>\n",
       "    <tr>\n",
       "      <th>195</th>\n",
       "      <td>19</td>\n",
       "      <td>1</td>\n",
       "      <td>4.001264</td>\n",
       "    </tr>\n",
       "    <tr>\n",
       "      <th>196</th>\n",
       "      <td>19</td>\n",
       "      <td>1</td>\n",
       "      <td>3.443584</td>\n",
       "    </tr>\n",
       "    <tr>\n",
       "      <th>197</th>\n",
       "      <td>19</td>\n",
       "      <td>1</td>\n",
       "      <td>2.764103</td>\n",
       "    </tr>\n",
       "    <tr>\n",
       "      <th>198</th>\n",
       "      <td>19</td>\n",
       "      <td>1</td>\n",
       "      <td>2.959630</td>\n",
       "    </tr>\n",
       "    <tr>\n",
       "      <th>199</th>\n",
       "      <td>19</td>\n",
       "      <td>1</td>\n",
       "      <td>2.439118</td>\n",
       "    </tr>\n",
       "  </tbody>\n",
       "</table>\n",
       "<p>200 rows × 3 columns</p>\n",
       "</div>"
      ],
      "text/plain": [
       "     cafe  afternoon      wait\n",
       "0       0          0  2.713830\n",
       "1       0          0  2.896053\n",
       "2       0          0  3.261427\n",
       "3       0          0  3.767034\n",
       "4       0          0  3.105162\n",
       "..    ...        ...       ...\n",
       "195    19          1  4.001264\n",
       "196    19          1  3.443584\n",
       "197    19          1  2.764103\n",
       "198    19          1  2.959630\n",
       "199    19          1  2.439118\n",
       "\n",
       "[200 rows x 3 columns]"
      ]
     },
     "execution_count": 19,
     "metadata": {},
     "output_type": "execute_result"
    }
   ],
   "source": [
    "N_visit = 10\n",
    "afternoon = np.repeat([0, 1], (N_visit*N_cafe)/2)\n",
    "cafe_id = np.repeat(np.arange(0, N_cafe), N_visit)\n",
    "mu = a_cafe[cafe_id] + b_cafe[cafe_id]*afternoon\n",
    "sigma = 0.5  # std dev within cafes\n",
    "wait = np.random.normal(mu, sigma, size=N_visit*N_cafe)\n",
    "\n",
    "d = pd.DataFrame({'cafe': cafe_id, 'afternoon':afternoon, 'wait': wait})\n",
    "d"
   ]
  },
  {
   "cell_type": "markdown",
   "id": "fa7be75a",
   "metadata": {},
   "source": [
    "## 14.1.3 The varing slope model"
   ]
  },
  {
   "cell_type": "markdown",
   "id": "88cfd75a",
   "metadata": {},
   "source": [
    "The likelihood:\n",
    "\n",
    "$$ W_i \\sim Normal(\\mu_i, \\sigma) $$\n",
    "\n",
    "and the linear model:\n",
    "\n",
    "$$ \\mu_i = \\alpha_{CAFÉ[i]} + \\beta_{CAFÉ[i]}A_i $$\n",
    "\n",
    "\n",
    "Then comes the matrix of varing intercepts and slopes, with it's covariance matrix:\n",
    "\n",
    "Population of varying effects:\n",
    "$$\n",
    "\\begin{bmatrix}\n",
    "\\alpha_{CAFÉ} \\\\\n",
    "\\beta_{CAFÉ}\n",
    "\\end{bmatrix} \n",
    "\\sim Normal\n",
    "\\begin{pmatrix}\n",
    "\\begin{bmatrix}\n",
    "\\alpha \\\\\n",
    "\\beta\n",
    "\\end{bmatrix}, S\n",
    "\\end{pmatrix}\n",
    "$$\n",
    "\n",
    "construct covariance matrix:\n",
    "\n",
    "$$S = \n",
    "\\begin{pmatrix} \n",
    "\\sigma_\\alpha &  0 \\\\\n",
    "0  & \\sigma_\\beta\n",
    "\\end{pmatrix}\n",
    "R\n",
    "\\begin{pmatrix} \n",
    "\\sigma_\\alpha &  0 \\\\\n",
    "0  & \\sigma_\\beta\n",
    "\\end{pmatrix}\n",
    "$$\n",
    "\n",
    "The $R$ is the correlation matrix. In this simple case $R$ is defined like:\n",
    "\n",
    "$$\n",
    "R = \n",
    "\\begin{pmatrix}\n",
    "1 & \\rho  \\\\\n",
    "\\rho & 1\n",
    "\\end{pmatrix}\n",
    "$$\n",
    "\n",
    "\n",
    "And the priors and hyper-priors:\n",
    "\n",
    "- prior for intercept:\n",
    "\n",
    "$$ \\alpha \\sim Normal(5, 2) $$\n",
    "\n",
    "\n",
    "- prior for average slope:\n",
    "\n",
    "$$ \\beta \\sim Normal(-1, 0.5) $$\n",
    "\n",
    "\n",
    "\n",
    "- prior for stddev within cafés\n",
    "\n",
    "$$\\sigma \\sim Exponential(1) $$\n",
    "\n",
    "\n",
    "- prior for stddev among cafés\n",
    "\n",
    "$$ \\sigma_\\alpha \\sim Exponential(1) $$\n",
    "\n",
    "\n",
    "- prior for stddev among slopes\n",
    "\n",
    "$$ \\sigma_\\beta \\sim Exponential(1) $$\n",
    "\n",
    "- prior for correlation  matrix\n",
    "\n",
    "$$ R \\sim LKJcorr(2) $$"
   ]
  }
 ],
 "metadata": {
  "kernelspec": {
   "display_name": "Python 3 (ipykernel)",
   "language": "python",
   "name": "python3"
  },
  "language_info": {
   "codemirror_mode": {
    "name": "ipython",
    "version": 3
   },
   "file_extension": ".py",
   "mimetype": "text/x-python",
   "name": "python",
   "nbconvert_exporter": "python",
   "pygments_lexer": "ipython3",
   "version": "3.10.12"
  }
 },
 "nbformat": 4,
 "nbformat_minor": 5
}
