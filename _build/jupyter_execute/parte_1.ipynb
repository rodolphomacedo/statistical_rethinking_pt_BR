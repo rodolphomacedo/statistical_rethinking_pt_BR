{
 "cells": [
  {
   "cell_type": "markdown",
   "metadata": {},
   "source": [
    "# 1- Introdução"
   ]
  },
  {
   "cell_type": "markdown",
   "metadata": {},
   "source": [
    "<img src=\"./images/cover_book_SR2.jpg\" alt=\"Statistical Rethinking 2\" width=500>"
   ]
  },
  {
   "cell_type": "markdown",
   "metadata": {},
   "source": [
    "## Antelóquio\n",
    "\n",
    "`Antelóquio` é o que se diz ou escreve antes; uma apresentação, um preâmbulo, um prólogo.\n",
    "\n",
    "Todas as notas desse material foram baseadas nas aulas de 2019 ([ACESSE](https://www.youtube.com/playlist?list=PLDcUM9US4XdNM4Edgs7weiyIguLSToZRI)) do curso do [`Prof. Richard McElreath`](https://www.mpg.de/9349950/evolutionary-anthropology-mcelreath) e também em seu livro (*capa acima*) Statistical Rethinking - *Segunda Edição*. \n",
    "\n",
    "Escrevi esse material como o intuíto de construir um estudo estruturado que me permita uma boa compreensão das aulas do curso e, por consequência, melhor as habilidades em programação e exposição de idéias.\n",
    "\n",
    "Esse material foi construído tentando preservar os detalhes didáticos que julguei serem mais importantes e, também, as construções dos modelos na medida do possível utilizando `Python`, permitindo assim um entendimento mais concreto do que está acontencendo.\n",
    "\n",
    "```{alert}\n",
    "Tudo que está sendo colocado nesse material está público nos vídeos do curso, na internet com as fontes de referências, caso eu esteja utilizando algum material privado entre em contato!\n",
    "```\n",
    "\n",
    "Diferenças do material original do curso: esse material foi construído transportando as idéias codificadas em [R](https://cran.r-project.org/) do pacote [rethinking](https://github.com/rmcelreath/rethinking) para a linguagem [python](https://www.python.org/) em conjunto com suas principais bibliotecas de análise de dados (numpy, scipy, matplotlib) e no lugar do pacote *rethinking* usei, tanto quanto meu conhecimento me permitiu, utilização da biblioteca [Stan](http://mc-stan.org/) e sua interface para python [pystan](https://pystan.readthedocs.io/en/latest/). \n",
    "\n",
    "\n",
    "-----\n",
    "Esse material foi escrtio em lingua portuguesa (Brasil).\n",
    "\n",
    "Estará disponibilizado gratuitamente no github: https://github.com/rodolphomacedo.\n",
    "\n",
    "Erros, sugestões ou dúvidas podem ser enviadas para o email [rodolpho.ime@gmail.com](rodolpho.ime@gmail.com)\n",
    "\n",
    "*Bons estudos!!!*"
   ]
  },
  {
   "cell_type": "markdown",
   "metadata": {},
   "source": [
    "## Prefácio\n",
    "\n",
    "O prefácio é um breve texto preliminar de apresentação, colocado no começo do livro, com explicações sobre os objetivos.\n",
    "\n",
    "\n",
    "Esse material tem como objetivo primário descrever um modo de (re)pensar a estatística. Para uma primeira leitura não é necessário um foco mais atento dos códigos que geram os gráficos, porém o próprio código e os comentários são partes integrantes do método que usei para apresentar as ideias e muitas dúvidas podem ser sanadas com uma leitura mais atenta.\n",
    "\n",
    "\n",
    "Tentei colocar o máximo de figuras e memes que pude encontrar para ilustrar os exemplos, muitos deles foram os mesmos que foram usados nas apresentações do curso."
   ]
  },
  {
   "cell_type": "markdown",
   "metadata": {},
   "source": [
    "## Requisitos\n",
    "\n",
    "É necessário um breve conhecimento da `teoria das probabilidades` e as técnicas básicas de `contagem`. Uma vivência razoável em python e suas bibliotecas mais usuais de análise de dados."
   ]
  },
  {
   "cell_type": "markdown",
   "metadata": {},
   "source": [
    "\n",
    "\n",
    "---\n",
    "#  Golem de Praga\n",
    "\n",
    "\n",
    "<img src=\"./images/golem_of_prague.png\" alt=\"Golem of Prague\" width=1000 />\n",
    "\n",
    "[Statistical Rethinking Winter 2019 Lecture 01 - Golem de Praga](https://youtu.be/4WVelCswXo4?t=2562)"
   ]
  },
  {
   "cell_type": "markdown",
   "metadata": {},
   "source": [
    "`Golem` é um ser artificial místico. Geralmente associado à tradição mística do judaísmo, particularmente à cabala, que pode ser trazido à vida através de um processo divino. No folclore judaico, o golem é um ser animado que é feito de material inanimado, muitas vezes visto como um gigante de pedra. \n",
    "\n",
    "Um Golem pode ser entendido como robô que `obedece` as ordens do seu criador, porém `eles não possuem nenhum compromisso com a verdade`, deixando assim a cargo do `seu criador avaliar e criticar suas ações à luz da racionalidade`.\n",
    "\n",
    "Nesse material vamos é aprender a construir `golems bayesianos`."
   ]
  },
  {
   "cell_type": "markdown",
   "metadata": {},
   "source": [
    "## Medidas das ideias\n",
    "\n",
    "Um cientista, em um sentido mais amplo, refere-se a qualquer pessoa que exerça uma atividade sistemática para obter conhecimento sobre algo. Em um sentido mais restrito, cientista refere-se a indivíduos que usam o método científicos.\n",
    "\n",
    "Todos nós precisamos construir inferências sobre aspectos de ao menos uma parcela de particularidades de um problema que está sobre estudo. \n",
    "\n",
    "Medir a Natureza é fascinante! Tal medida nos permite um entendimento aproximado de um subconjunto do funcionamento da `maquinaria natural do Todo`.\n",
    "\n",
    "Ao se observar o fenômeno a ser estudado, a proposta da criação de uma métrica surge a partir de uma ideia, uma sugestão, uma proposta, que se admite, independentemente do fato de ser verdadeira ou falsa, como um princípio a partir do qual se pode deduzir um determinado conjunto de consequências. \n",
    "\n",
    "```{note}\n",
    "Tal ideia a definiremos como uma `hipótese`.  \n",
    "```\n",
    "\n",
    "Para conseguirmos saber se a *hipótese* é verdadeira é necessário utilizarmos um método confiável. Esse método é a realização de uma operação *intelectual*, por meio da qual se afirma a verdade da hipótese em decorrência de sua ligação com outras já reconhecidas como verdadeiras, isto é, uma `inferência`."
   ]
  },
  {
   "cell_type": "markdown",
   "metadata": {},
   "source": [
    "### Problemas de escopo aberto\n",
    "\n",
    "Os problemas de escopo aberto apresentam dificuldades relativamente grandes e que desafiam a nossa capacidade de encontrar uma solução. \n",
    "\n",
    "Tais problemas guardam em si a particularidade de serem difíceis de obter um pouco de conhecimento a seu respeito.   \n",
    "\n",
    "----\n",
    "\n",
    "*Complementar com LAPLACE Ensaio Filosóficos sobre as probabilidades. \"sobre a probablidade. pg. 42*"
   ]
  },
  {
   "cell_type": "markdown",
   "metadata": {},
   "source": [
    "A estrutura estatística sugerida pelo biólogo Ronald Fisher, no início da década de 20, não contém em seu propósito a capacidade de resolver problemas de caráter tão amplo.  *(ver complementar com SHARON, capítulo3 em Fisher - A teoria que não morreria)*\n",
    "\n",
    "Tais técnicas propostas, e estudadas ainda hoje, podem ser vistas como `pequenos robôs` que precisam de uma entrada e produzem uma saída `agnóstica a seu propósito`. *Robôs* de modo geral são assim, são bons para realizar tarefas que supram a necessidade humana. \n",
    "\n",
    "A estrutura de testes estatísticos proposta por Fischer pode ser estruturada hoje em dia usando `flowcharts`. Abaixo temos um exemplo de como essa estrutura pode ser visualizada. "
   ]
  },
  {
   "cell_type": "markdown",
   "metadata": {},
   "source": [
    "<img src=\"./images/test_flowchart.png\" alt=\"Golem of Prague\" width=1000 />"
   ]
  },
  {
   "cell_type": "markdown",
   "metadata": {},
   "source": [
    "----"
   ]
  },
  {
   "cell_type": "markdown",
   "metadata": {},
   "source": [
    "O `ambiente de estudo` é, de modo geral, extremamente confuso para conseguirmos completamente. Ao londo desse material iremos entender mais a fundo essa complexidade.\n",
    "\n",
    "Assim, naturalmente, nasce uma necessidade da construção de uma estrutura que nos permitirá obter, ao menos, alguns pontos de sabedoria desse ambiente."
   ]
  },
  {
   "cell_type": "markdown",
   "metadata": {},
   "source": [
    "## Falha da Falsificação "
   ]
  },
  {
   "cell_type": "markdown",
   "metadata": {},
   "source": [
    "Karl Popper, um dos mais conhecidos filósofos da ciência, entra para a história por propor uma definição do que pode ser `ciência` e, também, o que ela não é, através da falsificação ou não.\n",
    "\n",
    "```{note}\n",
    "O critério de falsificação é a demarcação do que está acontecendo dentro e fora. Mas existem muitas outras coisas sobre o que foi `evidenciado` e, que por sua complexidade, exige que tenhamos `mais de um modelo` para verificar `quais deles são consistentes com que observamos`. \n",
    "```\n",
    "\n",
    "O que queremos `é tentar falsificar um modelo explicativo` e não qualquer outro modelo sem importância!\n",
    "\n",
    "Agora no século $XX$, isso foi revertido! Oque os cientistas tentam falsificar com seus testes estatísticos não são as suas hipóteses de pesquisa, mas algumas hipóteses que eles não gostam e que não está acontecendo nada.\n",
    "\n",
    "*(Obs: Pensar num exemplo sobre essa parte acima.)* \n",
    "\n",
    "O que deveríamos realmente fazer são as previsões sobre o que está acontecendo ali e falsificar todo o restante.\n",
    "\n",
    "*(Obs: Usar o mesmo exemplo sobre essa parte acima.)* \n",
    "\n",
    "\n",
    "```{Note}\n",
    "Assim, ciência não se trata de falsificar coisas, é necessário construir uma teoria substantiva em algum ponto.\n",
    "```\n"
   ]
  },
  {
   "cell_type": "markdown",
   "metadata": {},
   "source": [
    "\n",
    "## O que Karl Popper propõe:\n",
    "\n",
    "```{note}\n",
    "Construa uma hipótese de pesquisa substantiva com previsões pontuais sobre o que deveria estar acontecendo e tente falsifica-lá.\n",
    "```\n",
    "\n",
    "E não falsificar a ideia boba em que não está acontecendo nada. \n",
    "\n",
    "\n",
    "Porque sempre está acontecendo algo, `essa é a Natureza`! \n",
    "\n",
    "\n",
    "Muitas coisas estão correlacionadas em muitos lugares na Natureza! Existe um emaranhado de coisas acontecendo, simultâneamente e interagindo entre si a todo momento. \n",
    "\n",
    "\n",
    "Falsificar a ideia de que `algo não está acontecendo algo ali` é como olhar para cima para tomar a decisão de atravessar uma rua, ao invés de olhar para ambos os lados.  \n",
    "\n",
    "Mas a questão principal é:\n",
    "\n",
    "```{note} \n",
    "Como prever essa estrutura?\n",
    "```"
   ]
  },
  {
   "cell_type": "markdown",
   "metadata": {},
   "source": [
    "- Modelos *nulos* não são únicos!\n",
    "\n",
    "\n",
    "- Deveria *falsificar* o modelo explanatório, e não o modelo *nulo* ($h_0$).\n",
    "\n",
    "\n",
    "- A falsificação é consensual, não lógica!\n",
    "\n",
    "\n",
    "- Falseabilidade é sobre a demarcação e não sobre o método.\n",
    "\n",
    "\n",
    "- Não existe um procedimento estatístico suficiente.\n",
    "\n",
    "```{note}\n",
    "A ciência é uma tecnologia social!\n",
    "```\n"
   ]
  },
  {
   "cell_type": "markdown",
   "metadata": {},
   "source": [
    "----"
   ]
  },
  {
   "cell_type": "markdown",
   "metadata": {},
   "source": [
    "# Engeharia de Golem"
   ]
  },
  {
   "cell_type": "markdown",
   "metadata": {},
   "source": [
    "Para o desenvolvimento dos *golem's* bayesianos vamos precisar de um conjunto de princípios para que possamos construir nossos modelo estatístico. Não vamos entrar nesse curso achando que é apenas uma escolha de golem de dentro de uma caixa de ferramentas com vários golems pré-fabricados, ou algum *flowchart de técnicas quaisquer*.\n",
    "\n",
    "Iremos aprender a construir os nossos próprios golems e também aprenderemos os princípios para conseguirmos criticá-los e refiná-los.\n",
    "\n",
    "Existem muitos modos de fazermos as escolhas desses principíos que estão sob os diversos direcionamentos da `filosofia que escolhermos trabalhar`!\n",
    "\n",
    "\n",
    "Nós iremos seguir esses três principios:\n",
    "    \n",
    "- Análise de dados Bayesiana\n",
    "    \n",
    "- Modelos multi-níveis\n",
    "    \n",
    "- Comparação de modelos\n",
    "    "
   ]
  },
  {
   "cell_type": "markdown",
   "metadata": {},
   "source": [
    "## Análise de Dados Bayesiana"
   ]
  },
  {
   "cell_type": "markdown",
   "metadata": {},
   "source": [
    "- Contar todas as maneiras que as coisas podem acontecer, de acordo com nossa suposição.\n",
    "\n",
    "- As suposições que são mais consistentes com os dados, ou seja, as que ocorrem mais vezes, são mais plausíveis de acontecerem.\n",
    "\n",
    "```{note}\n",
    "Logo faremos algumas suposições sobre como o mundo poderá ser e, também, como o processo casual acontece. Então iremos ver algumas observações que são consequências desse processo.\n",
    "```\n",
    "\n",
    "Assim, podemos dizer que temos um conjunto de suposições alternativas, e cada uma dessas suposições são mais ou menos plausíveis de ocorrer de acordo com quantidade de vezes que ela já ocorreu anteriormente.\n",
    "\n",
    "Isso é, na verdade, uma forma muito específica de **contar coisas.** Isso é o que o nossos `Golem's` irão fazer, contar coisas, mas de um modo `MUITO rápido`!\n",
    "\n",
    "Nós precisamos apenas programá-los, para que ele conte as coisas que nós quisermos."
   ]
  },
  {
   "cell_type": "markdown",
   "metadata": {},
   "source": [
    "## Modelos Multiníveis\n",
    "\n",
    "- Modelos com multiplos níveis de incerteza:\n",
    "    - Troque os parâmetros por modelos\n",
    "    \n",
    "\n",
    "- Casos comuns de uso:\n",
    "    - Amostragem repetida e desbalanceada\n",
    "    - Estudo da variação\n",
    "    - Evitar a média.\n",
    "    - Filogenética, fator e análises, networks, modelos espaciais.\n",
    "\n",
    "\n",
    "- Estratégia Bayesiana Natural:\n",
    "    - Estratégia natural para a construção desses modelos."
   ]
  },
  {
   "cell_type": "markdown",
   "metadata": {},
   "source": [
    "## Comparação de modelos\n",
    "\n",
    "\n",
    "- Temos que ter múltiplos modelos para podermos compará-los e saber o que está acontecendo, `e não falsificar uma hipótese nula`. Estamos comparando o significado dos modelos.\n",
    "\n",
    "\n",
    "- Problemas básicos:\n",
    "    - Overfitting\n",
    "    - Inferência Casual (*Para descobrir alguma rede de causas e efeitos, pensar em uma rede de mediação*).\n",
    "    \n",
    "    \n",
    "- Navalha de Ocam é bobagem:\n",
    "\n",
    "\n",
    "- Teoria da Informação é menos bobagem:\n",
    "    - AIC, WAIC, cross-validation...\n",
    "\n",
    "\n",
    "- Devemos distinguir a predicação da inferência:\n",
    "\n",
    " \n"
   ]
  },
  {
   "cell_type": "markdown",
   "metadata": {},
   "source": [
    "---"
   ]
  },
  {
   "cell_type": "markdown",
   "metadata": {},
   "source": [
    "# O Erro de Colombo"
   ]
  },
  {
   "cell_type": "markdown",
   "metadata": {},
   "source": [
    "Cristóvão de Colombo foi um navegador e explorador genovês, responsável por liderar a frotas Marítimas sob as ordens dos Reis Católicos de Espanha. \n",
    "\n",
    "Colombo, empreendeu a sua viagem através do Oceano Atlântico com o objetivo de atingir a Índia, tendo na realidade descoberto as ilhas das Caraíbas (*as Antilhas*) e, mais tarde, a costa do Golfo do México na América Central. \n",
    "\n",
    "Em $12$ de Outubro de $1492$ Colombo alcança o continente americano. Esse episódio histórico é conhecido hoje como `o descobrimento da América`. $^1$\n",
    "\n",
    "Porém, enquanto navegava, sempre *enxergava quais as melhores direções* que ele poderia seguir guiando-se apenas por seu mapa.\n",
    "\n",
    "Essa é uma réplica do mapa que Colombo utilizou nessa viagem histórica:"
   ]
  },
  {
   "cell_type": "markdown",
   "metadata": {},
   "source": [
    "<img src=\"./images/Martin_Behaim_1492_Ocean_Map.png\" alt=\"Colombo Globe\" width=800>\n",
    "\n",
    "\n",
    "Cadê a América?\n",
    "\n",
    "\n",
    "[Behain Globe](https://pt.wikipedia.org/wiki/Erdapfel): *Globo que Colombo usou viajando em direção as Américas.*\n",
    "\n",
    "\n",
    "$^1$[Cristóvão de Colombo - Wikipedia](https://pt.wikipedia.org/wiki/Crist%C3%B3v%C3%A3o_Colombo)\n",
    " "
   ]
  },
  {
   "cell_type": "markdown",
   "metadata": {},
   "source": [
    "O mapa não é o mundo real, é apenas uma representação, uma hipótese, do que ele pode ser. O mundo real é sempre muito maior e bem mais complexo.\n",
    "\n",
    "\n",
    "Nós, enquanto estamos construindo um modelo, `estamos nos guiando por um mapa lógico mental`. Esse mapa também não é o mundo real, é apenas uma representação, uma hipótese, ou ainda uma sugestão particular, do que o mundo pode ser.\n",
    "\n",
    "```{note}\n",
    "O mundo real é sempre bem maior e bem mais complexo do que se possa parecer! \n",
    "```"
   ]
  },
  {
   "cell_type": "markdown",
   "metadata": {},
   "source": [
    "#### Sensu L.J. Savage (1954)\n",
    "\n",
    "* **Pequeno Mundo**: Esse é o mundo das suposições dos Golems. Golems bayesianos são ótimos em um mundo pequeno.\n",
    "\n",
    "\n",
    "* **Mundo Real**: Não existe a garantia de otimalidade para qualquer tipo de Golem.\n",
    "\n",
    "\n",
    "Temos que nos preocupar com ambos!\n",
    "\n",
    "\n",
    "----\n",
    "**Quem foi Savage?**:\n",
    " - O economista Milton Friedman disse que Savage foi \"*...uma das poucas pessoas que conheci a quem sem hesitar chamaria de gênio.*\"\n",
    " \n",
    "- Durante a Segunda Guerra Mundial, Savage serviu como principal `assistente estatístico de John von Neumann`.\n",
    "\n",
    "[*Savage - Wikipedia*](https://en.wikipedia.org/wiki/Leonard_Jimmie_Savage)"
   ]
  },
  {
   "cell_type": "markdown",
   "metadata": {},
   "source": [
    "## Jardim das Bifurcações dos Dados"
   ]
  },
  {
   "cell_type": "markdown",
   "metadata": {},
   "source": [
    "Para entender com funciona máquina bayesiana, vamos introduzir um exemplo simples:\n",
    "\n",
    "<img src=\"./images/blue_white_balls_exe.jpg\" alt=\"blue and white balls\" width=800/>\n",
    "\n",
    "Temos uma bolsa com $4$ bolas ($N=4$). Sabemos que só existem a bolas *azuis* (rotuladas de $1$) e bolas *brancas* ($0$).\n",
    "\n",
    "O que queremos saber é:\n",
    "\n",
    "```{note}\n",
    "Quantas bolas de cada cor tem dentro da bolsa? \n",
    "```\n",
    "\n",
    "Vamos sortear as bolas e em seguida `iremos devolver elas para a bolsa` novamente. \n",
    "\n",
    "Em três sorteios, tivemos o seguinte resultado:\n",
    "\n",
    "$$[Azul, Branca, Azul]$$\n",
    "\n",
    "ou ainda:\n",
    "\n",
    "$$[1, 0, 1] $$\n",
    "\n",
    "Vamos construir um procedimento para obter mais conhecimento a respeito de quais são as bolas que estão na bolsa."
   ]
  },
  {
   "cell_type": "markdown",
   "metadata": {},
   "source": [
    "A primeira coisa a se fazer é, listar todas as possíveis sugestões que podem acontecer, são elas :\n",
    "\n",
    "(1) $[B, B, B, B]$\n",
    "\n",
    "\n",
    "(2) $[A, B, B, B]$\n",
    "\n",
    "\n",
    "(3) $[A, A, B, B]$\n",
    "\n",
    "\n",
    "(4) $[A, A, A, B]$\n",
    "\n",
    "\n",
    "(5) $[A, A, A, A]$"
   ]
  },
  {
   "cell_type": "markdown",
   "metadata": {},
   "source": [
    "As nossas 3 retiradas:\n",
    "\n",
    "$[A, B, A] <=> [1, 0, 1]$\n",
    "\n",
    "Vamos calcular as coisas usando Python"
   ]
  },
  {
   "cell_type": "code",
   "execution_count": 1,
   "metadata": {},
   "outputs": [],
   "source": [
    "import numpy as np\n",
    "from scipy import stats\n",
    "import matplotlib.pyplot as plt"
   ]
  },
  {
   "cell_type": "code",
   "execution_count": 2,
   "metadata": {},
   "outputs": [],
   "source": [
    "# Definindo o plano de fundo cinza claro para todos os gráficos feitos no matplotlib\n",
    "plt.rcParams['axes.facecolor'] = 'lightgray'"
   ]
  },
  {
   "cell_type": "code",
   "execution_count": 3,
   "metadata": {},
   "outputs": [],
   "source": [
    "#  Jardim da Bifurcações dos Dados\n",
    "# ===================================\n",
    "\n",
    "N = 4  # Quantidade de bolas na bolsa.\n",
    "\n",
    "amostra = [1, 0, 1]  # Nossas retiradas - [Azul, Branca, Azul]."
   ]
  },
  {
   "cell_type": "markdown",
   "metadata": {},
   "source": [
    "A seguir será necessário breve conhecimento de técnicas de contagem. Uma ótima referência pode ser encontrar aqui [Programa de Aperfeiçoamento para Professores de Matemática do Ensino Médio - Janeiro / 2004\n",
    "Problemas de Contagem - Prof. Morgado](https://www.youtube.com/watch?v=N-aDkQ5zZps)\n",
    "\n",
    "No curso é feito uma abordagem gráfica muito interessante. Assista para entende-lá!\n",
    "\n",
    "Entenda a combinatória de um modo gráfico diretamente no curso, [clique aqui para assistir!](https://youtu.be/4WVelCswXo4?t=2562)\n"
   ]
  },
  {
   "cell_type": "code",
   "execution_count": 4,
   "metadata": {},
   "outputs": [],
   "source": [
    "#  Contando quantas vezes cada hipótese pode ter ocorrido, dado nossa amostra.\n",
    "# =============================================================================\n",
    "\n",
    "plausibilidade_da_hipotese = {}  # Inicializando um novo dicionário com as hipóteses propostas.\n",
    "\n",
    "                                           # ========= #\n",
    "                                           #  AMOSTRA  #\n",
    "                                           # ========= #\n",
    "                                           # A - B - A #\n",
    "                                           # ========= #\n",
    "#                                            |   |   | \n",
    "plausibilidade_da_hipotese['B B B B'] = 0  # 0 * 4 * 0  = Todas brancas, nenhuma configuração é possível.\n",
    "plausibilidade_da_hipotese['A B B B'] = 3  # 1 * 3 * 1  = 3 Maneiras distintas dessa configuração acontecer.\n",
    "plausibilidade_da_hipotese['A A B B'] = 8  # 2 * 2 * 2  = 8 Maneiras distintas dessa configuração acontecer.\n",
    "plausibilidade_da_hipotese['A A A B'] = 9  # 3 * 1 * 3  = 9 Maneiras distintas dessa configuração acontecer.\n",
    "plausibilidade_da_hipotese['A A A A'] = 0  # 4 * 0 * 4  = Todas azuis, nenhuma configuração é possível."
   ]
  },
  {
   "cell_type": "markdown",
   "metadata": {},
   "source": [
    "----\n",
    "\n",
    "```{note}\n",
    "Esse é o cerne da estatística bayesiana, contagens. Apenas contagens!\n",
    "```"
   ]
  },
  {
   "cell_type": "markdown",
   "metadata": {},
   "source": [
    "Vamos, dessa vez, sortear mais uma bola... e, dessa vez, tiramos uma bola `Azul`:\n",
    "\n",
    "\n",
    "$$[A]$$\n",
    "\n",
    "\n",
    "Uma das várias coisas interessantes que podemos fazer é usar a contagem que fizemos anteriormente. Chamaremos essa contagem de contagem `à priori`, e então somamos com a contagem atual:\n",
    "\n"
   ]
  },
  {
   "cell_type": "code",
   "execution_count": 5,
   "metadata": {},
   "outputs": [],
   "source": [
    "#  Mais um novo sorteio de bolas na bolsa\n",
    "# ========================================\n",
    "\n",
    "#  Contar a quantidade de maneiras que podemos tirar uma bola Azul para cada hipótese proposta, \n",
    "#  ou seja, para cada bolsa hipotética que pensamos.\n",
    "\n",
    "nova_plausibilidade_da_hipotese = {}  # Inicializando um novo dicionário com as novas hipóteses.\n",
    "\n",
    "nova_plausibilidade_da_hipotese['B B B B'] = 0  # 0  = Nenhuma configuraçao possível\n",
    "nova_plausibilidade_da_hipotese['A B B B'] = 1  # 1 Maneiras distintas dessa configuração acontecer.\n",
    "nova_plausibilidade_da_hipotese['A A B B'] = 2  # 2 Maneiras distintas dessa configuração acontecer.\n",
    "nova_plausibilidade_da_hipotese['A A A B'] = 3  # 3 Maneiras distintas dessa configuração acontecer.\n",
    "nova_plausibilidade_da_hipotese['A A A A'] = 4  # 4 Maneiras distintas dessa configuração acontecer."
   ]
  },
  {
   "cell_type": "markdown",
   "metadata": {},
   "source": [
    "Assim teremos a contagem anterior (contagem *à priori*) multiplicada pela nova retirada da bola Azul."
   ]
  },
  {
   "cell_type": "code",
   "execution_count": 6,
   "metadata": {},
   "outputs": [],
   "source": [
    "#  Atualizando a contagem com a nova informação (a nova bola Azul)\n",
    "# =================================================================\n",
    "\n",
    "# A multiplicação é apenas uma forma de somar as possibilidades de cada hipótese.\n",
    "\n",
    "plausibilidade = {}\n",
    "\n",
    "plausibilidade['B B B B'] = plausibilidade_da_hipotese['B B B B'] * nova_plausibilidade_da_hipotese['B B B B']\n",
    "plausibilidade['A B B B'] = plausibilidade_da_hipotese['A B B B'] * nova_plausibilidade_da_hipotese['A B B B']\n",
    "plausibilidade['A A B B'] = plausibilidade_da_hipotese['A A B B'] * nova_plausibilidade_da_hipotese['A A B B']\n",
    "plausibilidade['A A A B'] = plausibilidade_da_hipotese['A A A B'] * nova_plausibilidade_da_hipotese['A A A B']\n",
    "plausibilidade['A A A A'] = plausibilidade_da_hipotese['A A A A'] * nova_plausibilidade_da_hipotese['A A A A']"
   ]
  },
  {
   "cell_type": "code",
   "execution_count": 7,
   "metadata": {},
   "outputs": [
    {
     "name": "stdout",
     "output_type": "stream",
     "text": [
      "Número de manerias diferentes de conseguirmos obter essa amostra, dado a hipótese atual. \n",
      "\n",
      "Plausibildade da hipótese [B B B B] =  0 maneiras possíveis, dado a hipótese.\n",
      "Plausibildade da hipótese [A B B B] =  3 maneiras possíveis, dado a hipótese.\n",
      "Plausibildade da hipótese [A A B B] =  16 maneiras possíveis, dado a hipótese.\n",
      "Plausibildade da hipótese [A A A B] =  27 maneiras possíveis, dado a hipótese.\n",
      "Plausibildade da hipótese [A A A A] =  0 maneiras possíveis, dado a hipótese.\n"
     ]
    }
   ],
   "source": [
    "#  O quão plausível é cada uma das bolsas hipotéticas, de acordo com a amostra observada. \n",
    "# ========================================================================================\n",
    "\n",
    "print('Número de manerias diferentes de conseguirmos obter essa amostra, dado a hipótese atual. \\n')\n",
    "\n",
    "print('Plausibildade da hipótese [B B B B] = ', plausibilidade['B B B B'], 'maneiras possíveis, dado a hipótese.')\n",
    "print('Plausibildade da hipótese [A B B B] = ', plausibilidade['A B B B'], 'maneiras possíveis, dado a hipótese.')\n",
    "print('Plausibildade da hipótese [A A B B] = ', plausibilidade['A A B B'], 'maneiras possíveis, dado a hipótese.')\n",
    "print('Plausibildade da hipótese [A A A B] = ', plausibilidade['A A A B'], 'maneiras possíveis, dado a hipótese.')\n",
    "print('Plausibildade da hipótese [A A A A] = ', plausibilidade['A A A A'], 'maneiras possíveis, dado a hipótese.')"
   ]
  },
  {
   "cell_type": "markdown",
   "metadata": {},
   "source": [
    "----"
   ]
  },
  {
   "cell_type": "markdown",
   "metadata": {},
   "source": [
    "## Adicionando Prioris\n"
   ]
  },
  {
   "cell_type": "markdown",
   "metadata": {},
   "source": [
    "Ainda nesse exemplo, imagine que na fábrica que produz essas bolsas com as bolinhas dentro, um funcionário nos diga que:\n",
    "\n",
    "- Existem poucas bolinhas `Azuis` em cada bolsa, e cada bolsa tem uma chance bem grande de ter uma bolinha Azul. Para nós conseguirmos transmitir essa **intuição** do funcionário sobre a quantidade de bolinhas que são mais prováveis em cada bolsa, podemos descrever os pesos mais viáveis. \n",
    "\n",
    "Chamaremos essa nova informação de *à priori*. ou seja, é a informação de quantas bolas o funcionário acredita ter de cada cor na bolsa. Assim, para cada uma das nossas hipóteses, temos o quão plausível é ela acontecer.\n",
    "    \n",
    "$$ [B B B B]  = 0 $$\n",
    "\n",
    "$$ [A B B B]  = 3 $$\n",
    "\n",
    "$$ [A A B B]  = 2 $$\n",
    "\n",
    "$$ [A A A B]  = 1 $$\n",
    "\n",
    "$$ [A A A B]  = 0 $$"
   ]
  },
  {
   "cell_type": "markdown",
   "metadata": {},
   "source": [
    "Com essas informações, podemos multiplicar nossas contagens para cada uma das hipóteses."
   ]
  },
  {
   "cell_type": "code",
   "execution_count": 8,
   "metadata": {},
   "outputs": [],
   "source": [
    "#  Inserindo a nossa informação a priori no nosso modelo.\n",
    "# =======================================================\n",
    "\n",
    "priori = {}   # Inicializando um novo dicionário com as prioris.\n",
    "\n",
    "priori['B B B B'] = 0  \n",
    "priori['A B B B'] = 3   \n",
    "priori['A A B B'] = 2  \n",
    "priori['A A A B'] = 1  \n",
    "priori['A A A A'] = 0"
   ]
  },
  {
   "cell_type": "code",
   "execution_count": 9,
   "metadata": {},
   "outputs": [],
   "source": [
    "#  Calculando a posteriori\n",
    "# ==========================\n",
    "\n",
    "nova_plausibilidade = {}   # Inicializando um novo dicionário com as posterioris.\n",
    "\n",
    "nova_plausibilidade['B B B B'] = priori['B B B B'] * plausibilidade['B B B B']\n",
    "nova_plausibilidade['A B B B'] = priori['A B B B'] * plausibilidade['A B B B']\n",
    "nova_plausibilidade['A A B B'] = priori['A A B B'] * plausibilidade['A A B B']\n",
    "nova_plausibilidade['A A A B'] = priori['A A A B'] * plausibilidade['A A A B']\n",
    "nova_plausibilidade['A A A A'] = priori['A A A A'] * plausibilidade['A A A A']"
   ]
  },
  {
   "cell_type": "markdown",
   "metadata": {},
   "source": [
    "Com a nova informação, teremos novas plausabilidade para cada uma das hipóteses sugeridas."
   ]
  },
  {
   "cell_type": "code",
   "execution_count": 10,
   "metadata": {},
   "outputs": [
    {
     "name": "stdout",
     "output_type": "stream",
     "text": [
      "=====================================================================================\n",
      "\n",
      "\t\tQuais bolsas são as mais prováveis, dado a amostra!\n",
      "\n",
      "-------------------------------------------------------------------------------------\n",
      "\n",
      "Nova plausibildade da hipótese [A B B B] =  9 maneiras possíveis, dado a hipótese. \n",
      "\n",
      "Nova plausibildade da hipótese [A A B B] =  32 maneiras possíveis, dado a hipótese. \n",
      "\n",
      "Nova plausibildade da hipótese [A A A B] =  27 maneiras possíveis, dado a hipótese. \n",
      "\n",
      "Nova plausibildade da hipótese [A A A A] =  0 maneiras possíveis, dado a hipótese. \n",
      "\n",
      "=====================================================================================\n"
     ]
    }
   ],
   "source": [
    "#  Mostrando, para cada uma das hipóteses, o quão plausível são as novas contagens. \n",
    "# =================================================================================\n",
    "print('='*85)\n",
    "print('\\n\\t\\tQuais bolsas são as mais prováveis, dado a amostra!\\n')\n",
    "print('-'*85)\n",
    "print('\\nNova plausibildade da hipótese [A B B B] = ', nova_plausibilidade['A B B B'], 'maneiras possíveis, dado a hipótese. \\n')\n",
    "print('Nova plausibildade da hipótese [A A B B] = ', nova_plausibilidade['A A B B'], 'maneiras possíveis, dado a hipótese. \\n')\n",
    "print('Nova plausibildade da hipótese [A A A B] = ', nova_plausibilidade['A A A B'], 'maneiras possíveis, dado a hipótese. \\n')\n",
    "print('Nova plausibildade da hipótese [A A A A] = ', nova_plausibilidade['A A A A'], 'maneiras possíveis, dado a hipótese. \\n')\n",
    "print('='*85)"
   ]
  },
  {
   "cell_type": "markdown",
   "metadata": {},
   "source": [
    " # Conclusão"
   ]
  },
  {
   "cell_type": "markdown",
   "metadata": {},
   "source": [
    "Temos uma intuição lógica muito boa de qual das possíveis bolsas (ou sejas, quais as hipóteses) que sugerimos poderia ser `a verdadeira bolsa`. Sabemos que as nossas bolsas hipotéticas contém apenas bolas azuis $[A A A A]$ ou apenas bolas brancas $[B B B B]$ tem *peso* de $0$, pois sabemos que tem pelo menos $1$ bola Azul e $1$ bola Branca na nossa amostragem.\n",
    "\n",
    "Já nossas outras bolsas hipotéticas, tem suas `plausibilidades` positivas (ou seja, *maior que zero*). Então, podemos concluir que:\n",
    "\n",
    "```{note}\n",
    "As hipóteses mais plausíveis são as bolsas com maior número de maneiras de acontecer!\n",
    "```\n",
    "\n",
    "*Simplesmente lindo!!!*"
   ]
  },
  {
   "cell_type": "markdown",
   "metadata": {},
   "source": [
    "----"
   ]
  },
  {
   "cell_type": "markdown",
   "metadata": {},
   "source": [
    "O exemplo da *quantidade de bolinhas azuis contidas na bolsa* apresenta `como é o funcionamento e a construção da lógica de todos os modelos bayesianos` que iremos construir.\n",
    "\n",
    "Em muitos casos, `iremos precisar contar infinitas hipóteses`. Para isso, iremos usar o computador juntamente com cálculo para conseguir fazer tais contagens."
   ]
  },
  {
   "cell_type": "markdown",
   "metadata": {},
   "source": [
    "Porém, existe uma particularidade no desenvolvimento acima: uma contagem poderá ficar muito, mas muito grande, quando o número de bolinhas contidas na bolsa aumenta e também quando aumentamos a quantidade de vezes que retiramos uma bola da urna. \n",
    "\n",
    "Por exemplo, um experimento de uma urna com $10$ bolinhas e $10$ retiradas. Qual a magnitude do número de contagens que é preciso fazer? \n",
    "\n",
    "E se fossem 1000 bolinhas? E `infinitas`? \n",
    "\n",
    "Essa última, apesar de se parecer absurda, será a que iremos utilizar com mais frequência. \n",
    "\n",
    "Então surge um obstáculo:\n",
    "\n",
    "\n",
    "```{warning}\n",
    "Como contar até infinita vezes?\n",
    "```"
   ]
  },
  {
   "cell_type": "markdown",
   "metadata": {},
   "source": [
    "Voltando no exemplo das bolinhas...\n",
    "\n",
    "Podemos calcular `somas relativas`, ou seja, qual a proporção de bolas azuis (por exemplo) que existem na amostra?"
   ]
  },
  {
   "cell_type": "code",
   "execution_count": 11,
   "metadata": {},
   "outputs": [
    {
     "name": "stdout",
     "output_type": "stream",
     "text": [
      "=====================================================================================\n",
      "  A soma de todos os modos que cada uma das bolsa podem ser :  68 , dado a amostra!\n",
      "=====================================================================================\n"
     ]
    }
   ],
   "source": [
    "#  Quantidade total de maneiras possíveis de ocorrer uma das hipóteses\n",
    "# ======================================================================\n",
    "\n",
    "# Somando todas as possíveis maneiras que uma das bolsas podem ocorrer.\n",
    "total = sum(nova_plausibilidade.values())\n",
    "\n",
    "print('='*85)\n",
    "print('  A soma de todos os modos que cada uma das bolsa podem ser : ', total, ', dado a amostra!')\n",
    "print('='*85)"
   ]
  },
  {
   "cell_type": "markdown",
   "metadata": {},
   "source": [
    "`Normalizando` a nossa contagem! \n",
    "\n",
    "Para fazermos isso vamos dividir cada uma das hipótese pela soma `total`, assim teremos:"
   ]
  },
  {
   "cell_type": "code",
   "execution_count": 12,
   "metadata": {},
   "outputs": [],
   "source": [
    "# Normalizando as contagens plausíveis.\n",
    "\n",
    "plausibilidade_normalizada = {}   # Inicializando um novo dicionário de plausibilidade normalizada.\n",
    "\n",
    "plausibilidade_normalizada['B B B B'] = nova_plausibilidade['B B B B'] / total\n",
    "plausibilidade_normalizada['A B B B'] = nova_plausibilidade['A B B B'] / total\n",
    "plausibilidade_normalizada['A A B B'] = nova_plausibilidade['A A B B'] / total\n",
    "plausibilidade_normalizada['A A A B'] = nova_plausibilidade['A A A B'] / total\n",
    "plausibilidade_normalizada['A A A A'] = nova_plausibilidade['A A A A'] / total"
   ]
  },
  {
   "cell_type": "code",
   "execution_count": 13,
   "metadata": {},
   "outputs": [
    {
     "name": "stdout",
     "output_type": "stream",
     "text": [
      "==========================================================================================\n",
      "\n",
      "\t  Qual a probabilidade de ser uma das bolsas, dado a amostra!\n",
      "\n",
      "-----------------------------------------------------------------------------------------\n",
      "\n",
      " Nova plausibildade da hipótese [A B B B] =  0.0 %  maneiras possíveis, dado a hipótese.\n",
      "\n",
      " Nova plausibildade da hipótese [A B B B] =  0.13 %  maneiras possíveis, dado a hipótese.\n",
      "\n",
      " Nova plausibildade da hipótese [A A B B] =  0.47 %  maneiras possíveis, dado a hipótese.\n",
      "\n",
      " Nova plausibildade da hipótese [A A A B] =  0.4 %  maneiras possíveis, dado a hipótese.\n",
      "\n",
      " Nova plausibildade da hipótese [A A A A] =  0.0 %  maneiras possíveis, dado a hipótese.\n",
      "\n",
      "==========================================================================================\n"
     ]
    }
   ],
   "source": [
    "print('='*90)\n",
    "print('\\n\\t  Qual a probabilidade de ser uma das bolsas, dado a amostra!\\n')\n",
    "print('-'*89)\n",
    "print('\\n Nova plausibildade da hipótese [A B B B] = ', round( plausibilidade_normalizada['B B B B'], 2),'%  maneiras possíveis, dado a hipótese.\\n')\n",
    "print(' Nova plausibildade da hipótese [A B B B] = ', round( plausibilidade_normalizada['A B B B'], 2),'%  maneiras possíveis, dado a hipótese.\\n')\n",
    "print(' Nova plausibildade da hipótese [A A B B] = ', round( plausibilidade_normalizada['A A B B'], 2),'%  maneiras possíveis, dado a hipótese.\\n')\n",
    "print(' Nova plausibildade da hipótese [A A A B] = ', round( plausibilidade_normalizada['A A A B'], 2),'%  maneiras possíveis, dado a hipótese.\\n')\n",
    "print(' Nova plausibildade da hipótese [A A A A] = ', round( plausibilidade_normalizada['A A A A'], 2),'%  maneiras possíveis, dado a hipótese.\\n')\n",
    "print('='*90)"
   ]
  },
  {
   "cell_type": "markdown",
   "metadata": {},
   "source": [
    "Agora todas as plausibilidades normalizadas (as probabilidades) estão entre $0$ e $1$, e soma de todos os elementos será, sempre, $1$."
   ]
  },
  {
   "cell_type": "markdown",
   "metadata": {},
   "source": [
    "----"
   ]
  },
  {
   "cell_type": "markdown",
   "metadata": {},
   "source": [
    "Assim teremos nossa **probablidade**, isso é, é o **peso** da evidência para cada hipótese sugerida. \n",
    "\n",
    "Essa é a inferência bayesiana! `Lindo!!!`\n"
   ]
  },
  {
   "cell_type": "markdown",
   "metadata": {},
   "source": [
    "A **teoria das probablidade** é o único conjunto de ferramentas que nos permite trabalhar com números normalizados entre $0$ e $1$."
   ]
  },
  {
   "cell_type": "markdown",
   "metadata": {},
   "source": [
    "*Plausibilidade normalizada é a probabilidade*: Ou seja, é um conjunto de números `não-negativos` que somam $1$. \n",
    "\n",
    "**São os números de maneiras pelas quais cada uma dessas conjecturas poderiam ser verdadeiras condicionalmente em  todas as evidências!!!**"
   ]
  },
  {
   "cell_type": "markdown",
   "metadata": {},
   "source": [
    "A teroria das probabilidades é apenas um conjunto de atalhos para a possibilidades de contagens."
   ]
  }
 ],
 "metadata": {
  "kernelspec": {
   "display_name": "Python 3 (ipykernel)",
   "language": "python",
   "name": "python3"
  },
  "language_info": {
   "codemirror_mode": {
    "name": "ipython",
    "version": 3
   },
   "file_extension": ".py",
   "mimetype": "text/x-python",
   "name": "python",
   "nbconvert_exporter": "python",
   "pygments_lexer": "ipython3",
   "version": "3.8.0"
  }
 },
 "nbformat": 4,
 "nbformat_minor": 4
}