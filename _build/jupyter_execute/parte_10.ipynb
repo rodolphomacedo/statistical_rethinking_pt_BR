{
 "cells": [
  {
   "cell_type": "markdown",
   "id": "d65ab641",
   "metadata": {},
   "source": [
    "# 10 - Grande Entropia e Modelos Lineares Generalizados"
   ]
  },
  {
   "cell_type": "code",
   "execution_count": 1,
   "id": "2cea1405",
   "metadata": {},
   "outputs": [],
   "source": [
    "import numpy as np\n",
    "\n",
    "from scipy import stats\n",
    "\n",
    "import matplotlib.pyplot as plt\n",
    "from matplotlib.gridspec import GridSpec\n",
    "\n",
    "import pandas as pd\n",
    "\n",
    "import networkx as nx\n",
    "# from causalgraphicalmodels import CausalGraphicalModel\n",
    "\n",
    "import arviz as az\n",
    "# ArviZ ships with style sheets!\n",
    "# https://python.arviz.org/en/stable/examples/styles.html#example-styles\n",
    "az.style.use(\"arviz-darkgrid\")\n",
    "\n",
    "import xarray as xr\n",
    "\n",
    "import stan\n",
    "import nest_asyncio\n",
    "\n",
    "plt.style.use('default')\n",
    "plt.rcParams['axes.facecolor'] = 'lightgray'\n",
    "\n",
    "# To DAG's\n",
    "import daft\n",
    "from causalgraphicalmodels import CausalGraphicalModel"
   ]
  },
  {
   "cell_type": "code",
   "execution_count": 2,
   "id": "449b2877",
   "metadata": {},
   "outputs": [],
   "source": [
    "# Add fonts to matplotlib to run xkcd\n",
    "\n",
    "from matplotlib import font_manager\n",
    "\n",
    "font_dirs = [\"fonts/\"]  # The path to the custom font file.\n",
    "font_files = font_manager.findSystemFonts(fontpaths=font_dirs)\n",
    "\n",
    "for font_file in font_files:\n",
    "    font_manager.fontManager.addfont(font_file)"
   ]
  },
  {
   "cell_type": "code",
   "execution_count": 3,
   "id": "2774f695",
   "metadata": {},
   "outputs": [],
   "source": [
    "# To make plots like drawing \n",
    "# plt.xkcd()"
   ]
  },
  {
   "cell_type": "code",
   "execution_count": 4,
   "id": "6f4405d9",
   "metadata": {},
   "outputs": [],
   "source": [
    "# To running the stan in jupyter notebook\n",
    "nest_asyncio.apply()"
   ]
  },
  {
   "cell_type": "markdown",
   "id": "c807993a",
   "metadata": {},
   "source": [
    "### R Code 10.1"
   ]
  },
  {
   "cell_type": "code",
   "execution_count": 5,
   "id": "b1b1e4ec",
   "metadata": {},
   "outputs": [
    {
     "data": {
      "text/html": [
       "<div>\n",
       "<style scoped>\n",
       "    .dataframe tbody tr th:only-of-type {\n",
       "        vertical-align: middle;\n",
       "    }\n",
       "\n",
       "    .dataframe tbody tr th {\n",
       "        vertical-align: top;\n",
       "    }\n",
       "\n",
       "    .dataframe thead th {\n",
       "        text-align: right;\n",
       "    }\n",
       "</style>\n",
       "<table border=\"1\" class=\"dataframe\">\n",
       "  <thead>\n",
       "    <tr style=\"text-align: right;\">\n",
       "      <th></th>\n",
       "      <th>A</th>\n",
       "      <th>B</th>\n",
       "      <th>C</th>\n",
       "      <th>D</th>\n",
       "      <th>E</th>\n",
       "    </tr>\n",
       "  </thead>\n",
       "  <tbody>\n",
       "    <tr>\n",
       "      <th>0</th>\n",
       "      <td>0</td>\n",
       "      <td>0</td>\n",
       "      <td>0</td>\n",
       "      <td>1</td>\n",
       "      <td>2</td>\n",
       "    </tr>\n",
       "    <tr>\n",
       "      <th>1</th>\n",
       "      <td>0</td>\n",
       "      <td>1</td>\n",
       "      <td>2</td>\n",
       "      <td>2</td>\n",
       "      <td>2</td>\n",
       "    </tr>\n",
       "    <tr>\n",
       "      <th>2</th>\n",
       "      <td>1</td>\n",
       "      <td>8</td>\n",
       "      <td>6</td>\n",
       "      <td>4</td>\n",
       "      <td>2</td>\n",
       "    </tr>\n",
       "    <tr>\n",
       "      <th>3</th>\n",
       "      <td>0</td>\n",
       "      <td>1</td>\n",
       "      <td>2</td>\n",
       "      <td>2</td>\n",
       "      <td>2</td>\n",
       "    </tr>\n",
       "    <tr>\n",
       "      <th>4</th>\n",
       "      <td>0</td>\n",
       "      <td>0</td>\n",
       "      <td>0</td>\n",
       "      <td>1</td>\n",
       "      <td>2</td>\n",
       "    </tr>\n",
       "  </tbody>\n",
       "</table>\n",
       "</div>"
      ],
      "text/plain": [
       "   A  B  C  D  E\n",
       "0  0  0  0  1  2\n",
       "1  0  1  2  2  2\n",
       "2  1  8  6  4  2\n",
       "3  0  1  2  2  2\n",
       "4  0  0  0  1  2"
      ]
     },
     "execution_count": 5,
     "metadata": {},
     "output_type": "execute_result"
    }
   ],
   "source": [
    "buckets = {\n",
    "    \"A\": (0, 0, 1, 0, 0),\n",
    "    \"B\": (0, 1, 8, 1, 0),\n",
    "    \"C\": (0, 2, 6, 2, 0),\n",
    "    \"D\": (1, 2, 4, 2, 1),\n",
    "    \"E\": (2, 2, 2, 2, 2),\n",
    "}\n",
    "\n",
    "df = pd.DataFrame.from_dict(buckets)\n",
    "df"
   ]
  },
  {
   "cell_type": "markdown",
   "id": "d8e7607d",
   "metadata": {},
   "source": [
    "### R Code 10.2"
   ]
  },
  {
   "cell_type": "code",
   "execution_count": 6,
   "id": "19b6ae3d",
   "metadata": {},
   "outputs": [
    {
     "data": {
      "text/html": [
       "<div>\n",
       "<style scoped>\n",
       "    .dataframe tbody tr th:only-of-type {\n",
       "        vertical-align: middle;\n",
       "    }\n",
       "\n",
       "    .dataframe tbody tr th {\n",
       "        vertical-align: top;\n",
       "    }\n",
       "\n",
       "    .dataframe thead th {\n",
       "        text-align: right;\n",
       "    }\n",
       "</style>\n",
       "<table border=\"1\" class=\"dataframe\">\n",
       "  <thead>\n",
       "    <tr style=\"text-align: right;\">\n",
       "      <th></th>\n",
       "      <th>A</th>\n",
       "      <th>B</th>\n",
       "      <th>C</th>\n",
       "      <th>D</th>\n",
       "      <th>E</th>\n",
       "    </tr>\n",
       "  </thead>\n",
       "  <tbody>\n",
       "    <tr>\n",
       "      <th>0</th>\n",
       "      <td>0.0</td>\n",
       "      <td>0.0</td>\n",
       "      <td>0.0</td>\n",
       "      <td>0.1</td>\n",
       "      <td>0.2</td>\n",
       "    </tr>\n",
       "    <tr>\n",
       "      <th>1</th>\n",
       "      <td>0.0</td>\n",
       "      <td>0.1</td>\n",
       "      <td>0.2</td>\n",
       "      <td>0.2</td>\n",
       "      <td>0.2</td>\n",
       "    </tr>\n",
       "    <tr>\n",
       "      <th>2</th>\n",
       "      <td>1.0</td>\n",
       "      <td>0.8</td>\n",
       "      <td>0.6</td>\n",
       "      <td>0.4</td>\n",
       "      <td>0.2</td>\n",
       "    </tr>\n",
       "    <tr>\n",
       "      <th>3</th>\n",
       "      <td>0.0</td>\n",
       "      <td>0.1</td>\n",
       "      <td>0.2</td>\n",
       "      <td>0.2</td>\n",
       "      <td>0.2</td>\n",
       "    </tr>\n",
       "    <tr>\n",
       "      <th>4</th>\n",
       "      <td>0.0</td>\n",
       "      <td>0.0</td>\n",
       "      <td>0.0</td>\n",
       "      <td>0.1</td>\n",
       "      <td>0.2</td>\n",
       "    </tr>\n",
       "  </tbody>\n",
       "</table>\n",
       "</div>"
      ],
      "text/plain": [
       "     A    B    C    D    E\n",
       "0  0.0  0.0  0.0  0.1  0.2\n",
       "1  0.0  0.1  0.2  0.2  0.2\n",
       "2  1.0  0.8  0.6  0.4  0.2\n",
       "3  0.0  0.1  0.2  0.2  0.2\n",
       "4  0.0  0.0  0.0  0.1  0.2"
      ]
     },
     "execution_count": 6,
     "metadata": {},
     "output_type": "execute_result"
    }
   ],
   "source": [
    "# Normalize\n",
    "\n",
    "p_norm = df / df.sum(axis=0)\n",
    "p_norm"
   ]
  },
  {
   "cell_type": "markdown",
   "id": "c4f9da3c",
   "metadata": {},
   "source": [
    "### R Code 10.3"
   ]
  },
  {
   "cell_type": "code",
   "execution_count": 7,
   "id": "74fdb4ad",
   "metadata": {},
   "outputs": [],
   "source": [
    "def entropy(bucket):\n",
    "    uncertainty = []\n",
    "    \n",
    "    for q in bucket:\n",
    "        if q == 0:\n",
    "            uncertainty.append(q)\n",
    "        else:\n",
    "            uncertainty.append(q * np.log(q))\n",
    "    \n",
    "    return (-1) * np.sum(uncertainty)"
   ]
  },
  {
   "cell_type": "code",
   "execution_count": 8,
   "id": "5ca8a893",
   "metadata": {},
   "outputs": [
    {
     "data": {
      "text/html": [
       "<div>\n",
       "<style scoped>\n",
       "    .dataframe tbody tr th:only-of-type {\n",
       "        vertical-align: middle;\n",
       "    }\n",
       "\n",
       "    .dataframe tbody tr th {\n",
       "        vertical-align: top;\n",
       "    }\n",
       "\n",
       "    .dataframe thead th {\n",
       "        text-align: right;\n",
       "    }\n",
       "</style>\n",
       "<table border=\"1\" class=\"dataframe\">\n",
       "  <thead>\n",
       "    <tr style=\"text-align: right;\">\n",
       "      <th></th>\n",
       "      <th>A</th>\n",
       "      <th>B</th>\n",
       "      <th>C</th>\n",
       "      <th>D</th>\n",
       "      <th>E</th>\n",
       "    </tr>\n",
       "  </thead>\n",
       "  <tbody>\n",
       "    <tr>\n",
       "      <th>0</th>\n",
       "      <td>-0.0</td>\n",
       "      <td>0.639032</td>\n",
       "      <td>0.950271</td>\n",
       "      <td>1.470808</td>\n",
       "      <td>1.609438</td>\n",
       "    </tr>\n",
       "  </tbody>\n",
       "</table>\n",
       "</div>"
      ],
      "text/plain": [
       "     A         B         C         D         E\n",
       "0 -0.0  0.639032  0.950271  1.470808  1.609438"
      ]
     },
     "execution_count": 8,
     "metadata": {},
     "output_type": "execute_result"
    }
   ],
   "source": [
    "H = [entropy(p_norm[key]) for key in p_norm.keys()]\n",
    "\n",
    "df_H = pd.DataFrame(H).T\n",
    "df_H.columns = p_norm.keys()\n",
    "df_H"
   ]
  },
  {
   "cell_type": "markdown",
   "id": "4d185249",
   "metadata": {},
   "source": [
    "### R Code 10.4"
   ]
  },
  {
   "cell_type": "code",
   "execution_count": 9,
   "id": "3cfacebb",
   "metadata": {},
   "outputs": [
    {
     "data": {
      "text/plain": [
       "array([0.        , 0.44998097, 0.7138867 , 1.05400644, 1.16386767])"
      ]
     },
     "execution_count": 9,
     "metadata": {},
     "output_type": "execute_result"
    }
   ],
   "source": [
    "ways = (1, 90, 1260, 37800, 113400)\n",
    "\n",
    "logwayspp = np.log(ways) / 10\n",
    "\n",
    "logwayspp"
   ]
  },
  {
   "cell_type": "code",
   "execution_count": 10,
   "id": "2088a2f6",
   "metadata": {},
   "outputs": [
    {
     "data": {
      "image/png": "[encoded data removed]",
      "text/plain": [
       "<Figure size 1152x432 with 1 Axes>"
      ]
     },
     "metadata": {
      "filenames": {
       "image/png": "/home/rodolpho/Projects/bayesian/rethinking/statistical_rethinking_pt_BR/_build/jupyter_execute/parte_10_14_0.png"
      },
      "needs_background": "light"
     },
     "output_type": "display_data"
    }
   ],
   "source": [
    "plt.figure(figsize=(16, 6))\n",
    "\n",
    "plt.plot(logwayspp, df_H.T.values, '--', c='black')\n",
    "plt.plot(logwayspp, df_H.T.values, 'o', ms=10)\n",
    "\n",
    "plt.title('Entropy in Buckets')\n",
    "plt.xlabel('log(ways) per pebble')\n",
    "plt.ylabel('entropy')\n",
    "\n",
    "plt.show()"
   ]
  },
  {
   "cell_type": "markdown",
   "id": "9c75a7a9",
   "metadata": {},
   "source": [
    "### R Code 10.5"
   ]
  },
  {
   "cell_type": "code",
   "execution_count": 11,
   "id": "1c47744a",
   "metadata": {},
   "outputs": [
    {
     "data": {
      "text/plain": [
       "[1.0, 1.0, 1.0, 1.0]"
      ]
     },
     "execution_count": 11,
     "metadata": {},
     "output_type": "execute_result"
    }
   ],
   "source": [
    "# Build list of canditate distributions\n",
    "p = [\n",
    "    [1/4, 1/4, 1/4, 1/4],\n",
    "    [2/6, 1/6, 1/6, 2/6],\n",
    "    [1/6, 2/6, 2/6, 1/6],\n",
    "    [1/8, 4/8, 2/8, 1/8],\n",
    "]\n",
    "\n",
    "# Compute the expected values of each\n",
    "result = [np.sum(np.multiply(p_i, [0, 1, 1, 2])) for p_i in p]\n",
    "result"
   ]
  },
  {
   "cell_type": "markdown",
   "id": "33067d14",
   "metadata": {},
   "source": [
    "### R Code 10.6"
   ]
  },
  {
   "cell_type": "code",
   "execution_count": 12,
   "id": "0810f027",
   "metadata": {},
   "outputs": [
    {
     "name": "stdout",
     "output_type": "stream",
     "text": [
      "1.3862943611198906\n",
      "1.3296613488547582\n",
      "1.3296613488547582\n",
      "1.2130075659799042\n"
     ]
    }
   ],
   "source": [
    "# Compute the entropy of each distribution\n",
    "\n",
    "for p_i in p:\n",
    "    print(-np.sum(p_i * np.log(p_i)))"
   ]
  },
  {
   "cell_type": "markdown",
   "id": "957ee617",
   "metadata": {},
   "source": [
    "### R Code 10.7"
   ]
  },
  {
   "cell_type": "code",
   "execution_count": 13,
   "id": "93d786e4",
   "metadata": {},
   "outputs": [
    {
     "data": {
      "text/plain": [
       "array([0.09, 0.21, 0.21, 0.49])"
      ]
     },
     "execution_count": 13,
     "metadata": {},
     "output_type": "execute_result"
    }
   ],
   "source": [
    "p = 0.7\n",
    "\n",
    "A = [\n",
    "    (1-p)**2,\n",
    "    p*(1-p),\n",
    "    (1-p)*p,\n",
    "    (p)**2,\n",
    "]\n",
    "\n",
    "np.round(A, 3)"
   ]
  },
  {
   "cell_type": "markdown",
   "id": "00c96f28",
   "metadata": {},
   "source": [
    "### R Code 10.8"
   ]
  },
  {
   "cell_type": "code",
   "execution_count": 14,
   "id": "8c4be3b1",
   "metadata": {},
   "outputs": [
    {
     "data": {
      "text/plain": [
       "1.221728604109787"
      ]
     },
     "execution_count": 14,
     "metadata": {},
     "output_type": "execute_result"
    }
   ],
   "source": [
    "- np.sum(A * np.log(A))"
   ]
  },
  {
   "cell_type": "markdown",
   "id": "dc6b416a",
   "metadata": {},
   "source": [
    "### R Code 10.9"
   ]
  },
  {
   "cell_type": "code",
   "execution_count": 15,
   "id": "8ae91c55",
   "metadata": {},
   "outputs": [],
   "source": [
    "def sim_p(G=1.4):\n",
    "    x = np.random.uniform(0, 1, size=4)\n",
    "    x[3] = 0  # Removing the last random number x4\n",
    "    \n",
    "    x[3] = ( G * np.sum(x) - x[1] - x[2] ) / (2 - G)\n",
    "    \n",
    "    p = x / np.sum(x)\n",
    "    \n",
    "    return [-np.sum(p * np.log(p)), p]"
   ]
  },
  {
   "cell_type": "markdown",
   "id": "cdfdd872",
   "metadata": {},
   "source": [
    "### R Code 10.10"
   ]
  },
  {
   "cell_type": "code",
   "execution_count": 16,
   "id": "1cb0f5dd",
   "metadata": {},
   "outputs": [
    {
     "data": {
      "image/png": "[encoded data removed]",
      "text/plain": [
       "<Figure size 1224x432 with 1 Axes>"
      ]
     },
     "metadata": {
      "filenames": {
       "image/png": "/home/rodolpho/Projects/bayesian/rethinking/statistical_rethinking_pt_BR/_build/jupyter_execute/parte_10_26_0.png"
      },
      "needs_background": "light"
     },
     "output_type": "display_data"
    }
   ],
   "source": [
    "H = pd.DataFrame([ sim_p(1.4) for _ in range(10000)], columns=('entropies', 'distributions'))\n",
    "\n",
    "plt.figure(figsize=(17, 6))\n",
    "\n",
    "plt.hist(H.entropies, density=True, rwidth=0.9)\n",
    "\n",
    "plt.title('Entropy - Binomial')\n",
    "plt.xlabel('Entropy')\n",
    "plt.ylabel('Density')\n",
    "\n",
    "plt.show()"
   ]
  },
  {
   "cell_type": "markdown",
   "id": "914a55af",
   "metadata": {},
   "source": [
    "### R Code 10.11"
   ]
  },
  {
   "cell_type": "code",
   "execution_count": 17,
   "id": "d11e9d8a",
   "metadata": {},
   "outputs": [],
   "source": [
    "# entropies = H.entropies\n",
    "# distributions = H.distributions"
   ]
  },
  {
   "cell_type": "markdown",
   "id": "d46899f3",
   "metadata": {},
   "source": [
    "### R Code 10.12"
   ]
  },
  {
   "cell_type": "code",
   "execution_count": 18,
   "id": "b924401c",
   "metadata": {},
   "outputs": [
    {
     "data": {
      "text/plain": [
       "1.2217257418082403"
      ]
     },
     "execution_count": 18,
     "metadata": {},
     "output_type": "execute_result"
    }
   ],
   "source": [
    "H.entropies.max()"
   ]
  },
  {
   "cell_type": "markdown",
   "id": "f9386d7e",
   "metadata": {},
   "source": [
    "### R Code 10.13"
   ]
  },
  {
   "cell_type": "code",
   "execution_count": 19,
   "id": "8fdfa11a",
   "metadata": {},
   "outputs": [
    {
     "data": {
      "text/plain": [
       "array([array([0.09039858, 0.21007322, 0.20912962, 0.49039858])],\n",
       "      dtype=object)"
      ]
     },
     "execution_count": 19,
     "metadata": {},
     "output_type": "execute_result"
    }
   ],
   "source": [
    "H.loc[H.entropies == H.entropies.max(), 'distributions'].values\n"
   ]
  }
 ],
 "metadata": {
  "kernelspec": {
   "display_name": "Python 3 (ipykernel)",
   "language": "python",
   "name": "python3"
  },
  "language_info": {
   "codemirror_mode": {
    "name": "ipython",
    "version": 3
   },
   "file_extension": ".py",
   "mimetype": "text/x-python",
   "name": "python",
   "nbconvert_exporter": "python",
   "pygments_lexer": "ipython3",
   "version": "3.8.0"
  }
 },
 "nbformat": 4,
 "nbformat_minor": 5
}