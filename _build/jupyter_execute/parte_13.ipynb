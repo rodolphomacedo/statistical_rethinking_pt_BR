{
 "cells": [
  {
   "cell_type": "markdown",
   "id": "e9bf0146",
   "metadata": {},
   "source": [
    "# 13 - Modelos com Memória"
   ]
  },
  {
   "cell_type": "markdown",
   "id": "16ed1f97",
   "metadata": {},
   "source": [
    "## Imports, loadings and functions"
   ]
  },
  {
   "cell_type": "code",
   "execution_count": 1,
   "id": "39e7ebea",
   "metadata": {},
   "outputs": [],
   "source": [
    "import numpy as np\n",
    "\n",
    "from scipy import stats\n",
    "\n",
    "import matplotlib.pyplot as plt\n",
    "from matplotlib.gridspec import GridSpec\n",
    "\n",
    "import pandas as pd\n",
    "\n",
    "import networkx as nx\n",
    "# from causalgraphicalmodels import CausalGraphicalModel\n",
    "\n",
    "import arviz as az\n",
    "# ArviZ ships with style sheets!\n",
    "# https://python.arviz.org/en/stable/examples/styles.html#example-styles\n",
    "az.style.use(\"arviz-darkgrid\")\n",
    "\n",
    "import xarray as xr\n",
    "\n",
    "import stan\n",
    "import nest_asyncio\n",
    "\n",
    "plt.style.use('default')\n",
    "plt.rcParams['axes.facecolor'] = 'lightgray'\n",
    "\n",
    "# To DAG's\n",
    "import daft\n",
    "# from causalgraphicalmodels import CausalGraphicalModel  # Just work in < python3.9 "
   ]
  },
  {
   "cell_type": "code",
   "execution_count": 2,
   "id": "7a78c92f",
   "metadata": {},
   "outputs": [],
   "source": [
    "# Add fonts to matplotlib to run xkcd\n",
    "\n",
    "from matplotlib import font_manager\n",
    "\n",
    "font_dirs = [\"fonts/\"]  # The path to the custom font file.\n",
    "font_files = font_manager.findSystemFonts(fontpaths=font_dirs)\n",
    "\n",
    "for font_file in font_files:\n",
    "    font_manager.fontManager.addfont(font_file)"
   ]
  },
  {
   "cell_type": "code",
   "execution_count": 3,
   "id": "57b999a1",
   "metadata": {},
   "outputs": [],
   "source": [
    "# To make plots like drawing \n",
    "# plt.xkcd()"
   ]
  },
  {
   "cell_type": "code",
   "execution_count": 4,
   "id": "8781d488",
   "metadata": {},
   "outputs": [],
   "source": [
    "# To running the stan in jupyter notebook\n",
    "nest_asyncio.apply()"
   ]
  },
  {
   "cell_type": "code",
   "execution_count": 5,
   "id": "bbe1f6a8",
   "metadata": {},
   "outputs": [],
   "source": [
    "# Utils functions\n",
    "\n",
    "def logit(p):\n",
    "    return np.log(p) - np.log(1 - p)\n",
    "\n",
    "def inv_logit(p):\n",
    "    return np.exp(p) / (1 + np.exp(p))"
   ]
  },
  {
   "cell_type": "markdown",
   "id": "ab28e2ba",
   "metadata": {},
   "source": [
    "## 13.1 Example: Multilevel tadpoles"
   ]
  },
  {
   "cell_type": "markdown",
   "id": "e0f4702d",
   "metadata": {},
   "source": [
    "### R Code 13.1"
   ]
  },
  {
   "cell_type": "code",
   "execution_count": 6,
   "id": "2966b0de",
   "metadata": {},
   "outputs": [
    {
     "data": {
      "text/html": [
       "<div>\n",
       "<style scoped>\n",
       "    .dataframe tbody tr th:only-of-type {\n",
       "        vertical-align: middle;\n",
       "    }\n",
       "\n",
       "    .dataframe tbody tr th {\n",
       "        vertical-align: top;\n",
       "    }\n",
       "\n",
       "    .dataframe thead th {\n",
       "        text-align: right;\n",
       "    }\n",
       "</style>\n",
       "<table border=\"1\" class=\"dataframe\">\n",
       "  <thead>\n",
       "    <tr style=\"text-align: right;\">\n",
       "      <th></th>\n",
       "      <th>density</th>\n",
       "      <th>pred</th>\n",
       "      <th>size</th>\n",
       "      <th>surv</th>\n",
       "      <th>propsurv</th>\n",
       "      <th>tank</th>\n",
       "    </tr>\n",
       "  </thead>\n",
       "  <tbody>\n",
       "    <tr>\n",
       "      <th>0</th>\n",
       "      <td>10</td>\n",
       "      <td>no</td>\n",
       "      <td>big</td>\n",
       "      <td>9</td>\n",
       "      <td>0.900000</td>\n",
       "      <td>1</td>\n",
       "    </tr>\n",
       "    <tr>\n",
       "      <th>1</th>\n",
       "      <td>10</td>\n",
       "      <td>no</td>\n",
       "      <td>big</td>\n",
       "      <td>10</td>\n",
       "      <td>1.000000</td>\n",
       "      <td>2</td>\n",
       "    </tr>\n",
       "    <tr>\n",
       "      <th>2</th>\n",
       "      <td>10</td>\n",
       "      <td>no</td>\n",
       "      <td>big</td>\n",
       "      <td>7</td>\n",
       "      <td>0.700000</td>\n",
       "      <td>3</td>\n",
       "    </tr>\n",
       "    <tr>\n",
       "      <th>3</th>\n",
       "      <td>10</td>\n",
       "      <td>no</td>\n",
       "      <td>big</td>\n",
       "      <td>10</td>\n",
       "      <td>1.000000</td>\n",
       "      <td>4</td>\n",
       "    </tr>\n",
       "    <tr>\n",
       "      <th>4</th>\n",
       "      <td>10</td>\n",
       "      <td>no</td>\n",
       "      <td>small</td>\n",
       "      <td>9</td>\n",
       "      <td>0.900000</td>\n",
       "      <td>5</td>\n",
       "    </tr>\n",
       "    <tr>\n",
       "      <th>5</th>\n",
       "      <td>10</td>\n",
       "      <td>no</td>\n",
       "      <td>small</td>\n",
       "      <td>9</td>\n",
       "      <td>0.900000</td>\n",
       "      <td>6</td>\n",
       "    </tr>\n",
       "    <tr>\n",
       "      <th>6</th>\n",
       "      <td>10</td>\n",
       "      <td>no</td>\n",
       "      <td>small</td>\n",
       "      <td>10</td>\n",
       "      <td>1.000000</td>\n",
       "      <td>7</td>\n",
       "    </tr>\n",
       "    <tr>\n",
       "      <th>7</th>\n",
       "      <td>10</td>\n",
       "      <td>no</td>\n",
       "      <td>small</td>\n",
       "      <td>9</td>\n",
       "      <td>0.900000</td>\n",
       "      <td>8</td>\n",
       "    </tr>\n",
       "    <tr>\n",
       "      <th>8</th>\n",
       "      <td>10</td>\n",
       "      <td>pred</td>\n",
       "      <td>big</td>\n",
       "      <td>4</td>\n",
       "      <td>0.400000</td>\n",
       "      <td>9</td>\n",
       "    </tr>\n",
       "    <tr>\n",
       "      <th>9</th>\n",
       "      <td>10</td>\n",
       "      <td>pred</td>\n",
       "      <td>big</td>\n",
       "      <td>9</td>\n",
       "      <td>0.900000</td>\n",
       "      <td>10</td>\n",
       "    </tr>\n",
       "    <tr>\n",
       "      <th>10</th>\n",
       "      <td>10</td>\n",
       "      <td>pred</td>\n",
       "      <td>big</td>\n",
       "      <td>7</td>\n",
       "      <td>0.700000</td>\n",
       "      <td>11</td>\n",
       "    </tr>\n",
       "    <tr>\n",
       "      <th>11</th>\n",
       "      <td>10</td>\n",
       "      <td>pred</td>\n",
       "      <td>big</td>\n",
       "      <td>6</td>\n",
       "      <td>0.600000</td>\n",
       "      <td>12</td>\n",
       "    </tr>\n",
       "    <tr>\n",
       "      <th>12</th>\n",
       "      <td>10</td>\n",
       "      <td>pred</td>\n",
       "      <td>small</td>\n",
       "      <td>7</td>\n",
       "      <td>0.700000</td>\n",
       "      <td>13</td>\n",
       "    </tr>\n",
       "    <tr>\n",
       "      <th>13</th>\n",
       "      <td>10</td>\n",
       "      <td>pred</td>\n",
       "      <td>small</td>\n",
       "      <td>5</td>\n",
       "      <td>0.500000</td>\n",
       "      <td>14</td>\n",
       "    </tr>\n",
       "    <tr>\n",
       "      <th>14</th>\n",
       "      <td>10</td>\n",
       "      <td>pred</td>\n",
       "      <td>small</td>\n",
       "      <td>9</td>\n",
       "      <td>0.900000</td>\n",
       "      <td>15</td>\n",
       "    </tr>\n",
       "    <tr>\n",
       "      <th>15</th>\n",
       "      <td>10</td>\n",
       "      <td>pred</td>\n",
       "      <td>small</td>\n",
       "      <td>9</td>\n",
       "      <td>0.900000</td>\n",
       "      <td>16</td>\n",
       "    </tr>\n",
       "    <tr>\n",
       "      <th>16</th>\n",
       "      <td>25</td>\n",
       "      <td>no</td>\n",
       "      <td>big</td>\n",
       "      <td>24</td>\n",
       "      <td>0.960000</td>\n",
       "      <td>17</td>\n",
       "    </tr>\n",
       "    <tr>\n",
       "      <th>17</th>\n",
       "      <td>25</td>\n",
       "      <td>no</td>\n",
       "      <td>big</td>\n",
       "      <td>23</td>\n",
       "      <td>0.920000</td>\n",
       "      <td>18</td>\n",
       "    </tr>\n",
       "    <tr>\n",
       "      <th>18</th>\n",
       "      <td>25</td>\n",
       "      <td>no</td>\n",
       "      <td>big</td>\n",
       "      <td>22</td>\n",
       "      <td>0.880000</td>\n",
       "      <td>19</td>\n",
       "    </tr>\n",
       "    <tr>\n",
       "      <th>19</th>\n",
       "      <td>25</td>\n",
       "      <td>no</td>\n",
       "      <td>big</td>\n",
       "      <td>25</td>\n",
       "      <td>1.000000</td>\n",
       "      <td>20</td>\n",
       "    </tr>\n",
       "    <tr>\n",
       "      <th>20</th>\n",
       "      <td>25</td>\n",
       "      <td>no</td>\n",
       "      <td>small</td>\n",
       "      <td>23</td>\n",
       "      <td>0.920000</td>\n",
       "      <td>21</td>\n",
       "    </tr>\n",
       "    <tr>\n",
       "      <th>21</th>\n",
       "      <td>25</td>\n",
       "      <td>no</td>\n",
       "      <td>small</td>\n",
       "      <td>23</td>\n",
       "      <td>0.920000</td>\n",
       "      <td>22</td>\n",
       "    </tr>\n",
       "    <tr>\n",
       "      <th>22</th>\n",
       "      <td>25</td>\n",
       "      <td>no</td>\n",
       "      <td>small</td>\n",
       "      <td>23</td>\n",
       "      <td>0.920000</td>\n",
       "      <td>23</td>\n",
       "    </tr>\n",
       "    <tr>\n",
       "      <th>23</th>\n",
       "      <td>25</td>\n",
       "      <td>no</td>\n",
       "      <td>small</td>\n",
       "      <td>21</td>\n",
       "      <td>0.840000</td>\n",
       "      <td>24</td>\n",
       "    </tr>\n",
       "    <tr>\n",
       "      <th>24</th>\n",
       "      <td>25</td>\n",
       "      <td>pred</td>\n",
       "      <td>big</td>\n",
       "      <td>6</td>\n",
       "      <td>0.240000</td>\n",
       "      <td>25</td>\n",
       "    </tr>\n",
       "    <tr>\n",
       "      <th>25</th>\n",
       "      <td>25</td>\n",
       "      <td>pred</td>\n",
       "      <td>big</td>\n",
       "      <td>13</td>\n",
       "      <td>0.520000</td>\n",
       "      <td>26</td>\n",
       "    </tr>\n",
       "    <tr>\n",
       "      <th>26</th>\n",
       "      <td>25</td>\n",
       "      <td>pred</td>\n",
       "      <td>big</td>\n",
       "      <td>4</td>\n",
       "      <td>0.160000</td>\n",
       "      <td>27</td>\n",
       "    </tr>\n",
       "    <tr>\n",
       "      <th>27</th>\n",
       "      <td>25</td>\n",
       "      <td>pred</td>\n",
       "      <td>big</td>\n",
       "      <td>9</td>\n",
       "      <td>0.360000</td>\n",
       "      <td>28</td>\n",
       "    </tr>\n",
       "    <tr>\n",
       "      <th>28</th>\n",
       "      <td>25</td>\n",
       "      <td>pred</td>\n",
       "      <td>small</td>\n",
       "      <td>13</td>\n",
       "      <td>0.520000</td>\n",
       "      <td>29</td>\n",
       "    </tr>\n",
       "    <tr>\n",
       "      <th>29</th>\n",
       "      <td>25</td>\n",
       "      <td>pred</td>\n",
       "      <td>small</td>\n",
       "      <td>20</td>\n",
       "      <td>0.800000</td>\n",
       "      <td>30</td>\n",
       "    </tr>\n",
       "    <tr>\n",
       "      <th>30</th>\n",
       "      <td>25</td>\n",
       "      <td>pred</td>\n",
       "      <td>small</td>\n",
       "      <td>8</td>\n",
       "      <td>0.320000</td>\n",
       "      <td>31</td>\n",
       "    </tr>\n",
       "    <tr>\n",
       "      <th>31</th>\n",
       "      <td>25</td>\n",
       "      <td>pred</td>\n",
       "      <td>small</td>\n",
       "      <td>10</td>\n",
       "      <td>0.400000</td>\n",
       "      <td>32</td>\n",
       "    </tr>\n",
       "    <tr>\n",
       "      <th>32</th>\n",
       "      <td>35</td>\n",
       "      <td>no</td>\n",
       "      <td>big</td>\n",
       "      <td>34</td>\n",
       "      <td>0.971429</td>\n",
       "      <td>33</td>\n",
       "    </tr>\n",
       "    <tr>\n",
       "      <th>33</th>\n",
       "      <td>35</td>\n",
       "      <td>no</td>\n",
       "      <td>big</td>\n",
       "      <td>33</td>\n",
       "      <td>0.942857</td>\n",
       "      <td>34</td>\n",
       "    </tr>\n",
       "    <tr>\n",
       "      <th>34</th>\n",
       "      <td>35</td>\n",
       "      <td>no</td>\n",
       "      <td>big</td>\n",
       "      <td>33</td>\n",
       "      <td>0.942857</td>\n",
       "      <td>35</td>\n",
       "    </tr>\n",
       "    <tr>\n",
       "      <th>35</th>\n",
       "      <td>35</td>\n",
       "      <td>no</td>\n",
       "      <td>big</td>\n",
       "      <td>31</td>\n",
       "      <td>0.885714</td>\n",
       "      <td>36</td>\n",
       "    </tr>\n",
       "    <tr>\n",
       "      <th>36</th>\n",
       "      <td>35</td>\n",
       "      <td>no</td>\n",
       "      <td>small</td>\n",
       "      <td>31</td>\n",
       "      <td>0.885714</td>\n",
       "      <td>37</td>\n",
       "    </tr>\n",
       "    <tr>\n",
       "      <th>37</th>\n",
       "      <td>35</td>\n",
       "      <td>no</td>\n",
       "      <td>small</td>\n",
       "      <td>35</td>\n",
       "      <td>1.000000</td>\n",
       "      <td>38</td>\n",
       "    </tr>\n",
       "    <tr>\n",
       "      <th>38</th>\n",
       "      <td>35</td>\n",
       "      <td>no</td>\n",
       "      <td>small</td>\n",
       "      <td>33</td>\n",
       "      <td>0.942857</td>\n",
       "      <td>39</td>\n",
       "    </tr>\n",
       "    <tr>\n",
       "      <th>39</th>\n",
       "      <td>35</td>\n",
       "      <td>no</td>\n",
       "      <td>small</td>\n",
       "      <td>32</td>\n",
       "      <td>0.914286</td>\n",
       "      <td>40</td>\n",
       "    </tr>\n",
       "    <tr>\n",
       "      <th>40</th>\n",
       "      <td>35</td>\n",
       "      <td>pred</td>\n",
       "      <td>big</td>\n",
       "      <td>4</td>\n",
       "      <td>0.114286</td>\n",
       "      <td>41</td>\n",
       "    </tr>\n",
       "    <tr>\n",
       "      <th>41</th>\n",
       "      <td>35</td>\n",
       "      <td>pred</td>\n",
       "      <td>big</td>\n",
       "      <td>12</td>\n",
       "      <td>0.342857</td>\n",
       "      <td>42</td>\n",
       "    </tr>\n",
       "    <tr>\n",
       "      <th>42</th>\n",
       "      <td>35</td>\n",
       "      <td>pred</td>\n",
       "      <td>big</td>\n",
       "      <td>13</td>\n",
       "      <td>0.371429</td>\n",
       "      <td>43</td>\n",
       "    </tr>\n",
       "    <tr>\n",
       "      <th>43</th>\n",
       "      <td>35</td>\n",
       "      <td>pred</td>\n",
       "      <td>big</td>\n",
       "      <td>14</td>\n",
       "      <td>0.400000</td>\n",
       "      <td>44</td>\n",
       "    </tr>\n",
       "    <tr>\n",
       "      <th>44</th>\n",
       "      <td>35</td>\n",
       "      <td>pred</td>\n",
       "      <td>small</td>\n",
       "      <td>22</td>\n",
       "      <td>0.628571</td>\n",
       "      <td>45</td>\n",
       "    </tr>\n",
       "    <tr>\n",
       "      <th>45</th>\n",
       "      <td>35</td>\n",
       "      <td>pred</td>\n",
       "      <td>small</td>\n",
       "      <td>12</td>\n",
       "      <td>0.342857</td>\n",
       "      <td>46</td>\n",
       "    </tr>\n",
       "    <tr>\n",
       "      <th>46</th>\n",
       "      <td>35</td>\n",
       "      <td>pred</td>\n",
       "      <td>small</td>\n",
       "      <td>31</td>\n",
       "      <td>0.885714</td>\n",
       "      <td>47</td>\n",
       "    </tr>\n",
       "    <tr>\n",
       "      <th>47</th>\n",
       "      <td>35</td>\n",
       "      <td>pred</td>\n",
       "      <td>small</td>\n",
       "      <td>17</td>\n",
       "      <td>0.485714</td>\n",
       "      <td>48</td>\n",
       "    </tr>\n",
       "  </tbody>\n",
       "</table>\n",
       "</div>"
      ],
      "text/plain": [
       "    density  pred   size  surv  propsurv  tank\n",
       "0        10    no    big     9  0.900000     1\n",
       "1        10    no    big    10  1.000000     2\n",
       "2        10    no    big     7  0.700000     3\n",
       "3        10    no    big    10  1.000000     4\n",
       "4        10    no  small     9  0.900000     5\n",
       "5        10    no  small     9  0.900000     6\n",
       "6        10    no  small    10  1.000000     7\n",
       "7        10    no  small     9  0.900000     8\n",
       "8        10  pred    big     4  0.400000     9\n",
       "9        10  pred    big     9  0.900000    10\n",
       "10       10  pred    big     7  0.700000    11\n",
       "11       10  pred    big     6  0.600000    12\n",
       "12       10  pred  small     7  0.700000    13\n",
       "13       10  pred  small     5  0.500000    14\n",
       "14       10  pred  small     9  0.900000    15\n",
       "15       10  pred  small     9  0.900000    16\n",
       "16       25    no    big    24  0.960000    17\n",
       "17       25    no    big    23  0.920000    18\n",
       "18       25    no    big    22  0.880000    19\n",
       "19       25    no    big    25  1.000000    20\n",
       "20       25    no  small    23  0.920000    21\n",
       "21       25    no  small    23  0.920000    22\n",
       "22       25    no  small    23  0.920000    23\n",
       "23       25    no  small    21  0.840000    24\n",
       "24       25  pred    big     6  0.240000    25\n",
       "25       25  pred    big    13  0.520000    26\n",
       "26       25  pred    big     4  0.160000    27\n",
       "27       25  pred    big     9  0.360000    28\n",
       "28       25  pred  small    13  0.520000    29\n",
       "29       25  pred  small    20  0.800000    30\n",
       "30       25  pred  small     8  0.320000    31\n",
       "31       25  pred  small    10  0.400000    32\n",
       "32       35    no    big    34  0.971429    33\n",
       "33       35    no    big    33  0.942857    34\n",
       "34       35    no    big    33  0.942857    35\n",
       "35       35    no    big    31  0.885714    36\n",
       "36       35    no  small    31  0.885714    37\n",
       "37       35    no  small    35  1.000000    38\n",
       "38       35    no  small    33  0.942857    39\n",
       "39       35    no  small    32  0.914286    40\n",
       "40       35  pred    big     4  0.114286    41\n",
       "41       35  pred    big    12  0.342857    42\n",
       "42       35  pred    big    13  0.371429    43\n",
       "43       35  pred    big    14  0.400000    44\n",
       "44       35  pred  small    22  0.628571    45\n",
       "45       35  pred  small    12  0.342857    46\n",
       "46       35  pred  small    31  0.885714    47\n",
       "47       35  pred  small    17  0.485714    48"
      ]
     },
     "execution_count": 6,
     "metadata": {},
     "output_type": "execute_result"
    }
   ],
   "source": [
    "df = pd.read_csv('./data/reedfrogs.csv', sep=\";\")\n",
    "df['tank'] = df.index.to_list()\n",
    "df['tank'] += 1  # index start from 1 like Stan works\n",
    "df"
   ]
  },
  {
   "cell_type": "code",
   "execution_count": 7,
   "id": "a877a7e4",
   "metadata": {},
   "outputs": [
    {
     "data": {
      "text/html": [
       "<div>\n",
       "<style scoped>\n",
       "    .dataframe tbody tr th:only-of-type {\n",
       "        vertical-align: middle;\n",
       "    }\n",
       "\n",
       "    .dataframe tbody tr th {\n",
       "        vertical-align: top;\n",
       "    }\n",
       "\n",
       "    .dataframe thead th {\n",
       "        text-align: right;\n",
       "    }\n",
       "</style>\n",
       "<table border=\"1\" class=\"dataframe\">\n",
       "  <thead>\n",
       "    <tr style=\"text-align: right;\">\n",
       "      <th></th>\n",
       "      <th>density</th>\n",
       "      <th>surv</th>\n",
       "      <th>propsurv</th>\n",
       "      <th>tank</th>\n",
       "    </tr>\n",
       "  </thead>\n",
       "  <tbody>\n",
       "    <tr>\n",
       "      <th>count</th>\n",
       "      <td>48.000000</td>\n",
       "      <td>48.000000</td>\n",
       "      <td>48.000000</td>\n",
       "      <td>48.00</td>\n",
       "    </tr>\n",
       "    <tr>\n",
       "      <th>mean</th>\n",
       "      <td>23.333333</td>\n",
       "      <td>16.312500</td>\n",
       "      <td>0.721607</td>\n",
       "      <td>24.50</td>\n",
       "    </tr>\n",
       "    <tr>\n",
       "      <th>std</th>\n",
       "      <td>10.382746</td>\n",
       "      <td>9.884775</td>\n",
       "      <td>0.266416</td>\n",
       "      <td>14.00</td>\n",
       "    </tr>\n",
       "    <tr>\n",
       "      <th>min</th>\n",
       "      <td>10.000000</td>\n",
       "      <td>4.000000</td>\n",
       "      <td>0.114286</td>\n",
       "      <td>1.00</td>\n",
       "    </tr>\n",
       "    <tr>\n",
       "      <th>25%</th>\n",
       "      <td>10.000000</td>\n",
       "      <td>9.000000</td>\n",
       "      <td>0.496429</td>\n",
       "      <td>12.75</td>\n",
       "    </tr>\n",
       "    <tr>\n",
       "      <th>50%</th>\n",
       "      <td>25.000000</td>\n",
       "      <td>12.500000</td>\n",
       "      <td>0.885714</td>\n",
       "      <td>24.50</td>\n",
       "    </tr>\n",
       "    <tr>\n",
       "      <th>75%</th>\n",
       "      <td>35.000000</td>\n",
       "      <td>23.000000</td>\n",
       "      <td>0.920000</td>\n",
       "      <td>36.25</td>\n",
       "    </tr>\n",
       "    <tr>\n",
       "      <th>max</th>\n",
       "      <td>35.000000</td>\n",
       "      <td>35.000000</td>\n",
       "      <td>1.000000</td>\n",
       "      <td>48.00</td>\n",
       "    </tr>\n",
       "  </tbody>\n",
       "</table>\n",
       "</div>"
      ],
      "text/plain": [
       "         density       surv   propsurv   tank\n",
       "count  48.000000  48.000000  48.000000  48.00\n",
       "mean   23.333333  16.312500   0.721607  24.50\n",
       "std    10.382746   9.884775   0.266416  14.00\n",
       "min    10.000000   4.000000   0.114286   1.00\n",
       "25%    10.000000   9.000000   0.496429  12.75\n",
       "50%    25.000000  12.500000   0.885714  24.50\n",
       "75%    35.000000  23.000000   0.920000  36.25\n",
       "max    35.000000  35.000000   1.000000  48.00"
      ]
     },
     "execution_count": 7,
     "metadata": {},
     "output_type": "execute_result"
    }
   ],
   "source": [
    "df.describe()"
   ]
  },
  {
   "cell_type": "markdown",
   "id": "07571408",
   "metadata": {},
   "source": [
    "### R Code 13.2"
   ]
  },
  {
   "cell_type": "markdown",
   "id": "13877b50",
   "metadata": {},
   "source": [
    "$$ S_i \\sim Binomial(N_i, p_i) $$\n",
    "\n",
    "$$ logit(p_i) = \\alpha_{TANK[i]} $$\n",
    "\n",
    "$$ \\alpha_j \\sim Normal(0, 1.5), \\mbox{ for } j \\in \\{1, 48\\}$$"
   ]
  },
  {
   "cell_type": "code",
   "execution_count": 8,
   "id": "6f4c2bd2",
   "metadata": {
    "tags": [
     "remove_output"
    ]
   },
   "outputs": [
    {
     "name": "stderr",
     "output_type": "stream",
     "text": [
      "\u001b[32mBuilding:\u001b[0m found in cache, done.\n"
     ]
    },
    {
     "name": "stderr",
     "output_type": "stream",
     "text": [
      "\u001b[36mSampling:\u001b[0m   0%\n"
     ]
    },
    {
     "name": "stderr",
     "output_type": "stream",
     "text": [
      "\u001b[1A"
     ]
    },
    {
     "name": "stderr",
     "output_type": "stream",
     "text": [
      "\u001b[0J"
     ]
    },
    {
     "name": "stderr",
     "output_type": "stream",
     "text": [
      "\u001b[36mSampling:\u001b[0m  25% (2000/8000)\n"
     ]
    },
    {
     "name": "stderr",
     "output_type": "stream",
     "text": [
      "\u001b[1A"
     ]
    },
    {
     "name": "stderr",
     "output_type": "stream",
     "text": [
      "\u001b[0J"
     ]
    },
    {
     "name": "stderr",
     "output_type": "stream",
     "text": [
      "\u001b[36mSampling:\u001b[0m  50% (4000/8000)\n"
     ]
    },
    {
     "name": "stderr",
     "output_type": "stream",
     "text": [
      "\u001b[1A"
     ]
    },
    {
     "name": "stderr",
     "output_type": "stream",
     "text": [
      "\u001b[0J"
     ]
    },
    {
     "name": "stderr",
     "output_type": "stream",
     "text": [
      "\u001b[36mSampling:\u001b[0m  75% (6000/8000)\n"
     ]
    },
    {
     "name": "stderr",
     "output_type": "stream",
     "text": [
      "\u001b[1A"
     ]
    },
    {
     "name": "stderr",
     "output_type": "stream",
     "text": [
      "\u001b[0J"
     ]
    },
    {
     "name": "stderr",
     "output_type": "stream",
     "text": [
      "\u001b[36mSampling:\u001b[0m 100% (8000/8000)\n"
     ]
    },
    {
     "name": "stderr",
     "output_type": "stream",
     "text": [
      "\u001b[1A"
     ]
    },
    {
     "name": "stderr",
     "output_type": "stream",
     "text": [
      "\u001b[0J"
     ]
    },
    {
     "name": "stderr",
     "output_type": "stream",
     "text": [
      "\u001b[32mSampling:\u001b[0m 100% (8000/8000), done.\n"
     ]
    },
    {
     "name": "stderr",
     "output_type": "stream",
     "text": [
      "\u001b[36mMessages received during sampling:\u001b[0m\n"
     ]
    },
    {
     "name": "stderr",
     "output_type": "stream",
     "text": [
      "  Gradient evaluation took 4.4e-05 seconds\n"
     ]
    },
    {
     "name": "stderr",
     "output_type": "stream",
     "text": [
      "  1000 transitions using 10 leapfrog steps per transition would take 0.44 seconds.\n"
     ]
    },
    {
     "name": "stderr",
     "output_type": "stream",
     "text": [
      "  Adjust your expectations accordingly!\n"
     ]
    },
    {
     "name": "stderr",
     "output_type": "stream",
     "text": [
      "  Gradient evaluation took 5e-05 seconds\n"
     ]
    },
    {
     "name": "stderr",
     "output_type": "stream",
     "text": [
      "  1000 transitions using 10 leapfrog steps per transition would take 0.5 seconds.\n"
     ]
    },
    {
     "name": "stderr",
     "output_type": "stream",
     "text": [
      "  Adjust your expectations accordingly!\n"
     ]
    },
    {
     "name": "stderr",
     "output_type": "stream",
     "text": [
      "  Gradient evaluation took 3e-05 seconds\n"
     ]
    },
    {
     "name": "stderr",
     "output_type": "stream",
     "text": [
      "  1000 transitions using 10 leapfrog steps per transition would take 0.3 seconds.\n"
     ]
    },
    {
     "name": "stderr",
     "output_type": "stream",
     "text": [
      "  Adjust your expectations accordingly!\n"
     ]
    },
    {
     "name": "stderr",
     "output_type": "stream",
     "text": [
      "  Gradient evaluation took 4.9e-05 seconds\n"
     ]
    },
    {
     "name": "stderr",
     "output_type": "stream",
     "text": [
      "  1000 transitions using 10 leapfrog steps per transition would take 0.49 seconds.\n"
     ]
    },
    {
     "name": "stderr",
     "output_type": "stream",
     "text": [
      "  Adjust your expectations accordingly!\n"
     ]
    }
   ],
   "source": [
    "model = \"\"\"\n",
    "    data {\n",
    "        int qty;\n",
    "        array[qty] int N;  // Total quantities that have tadpoles in tank\n",
    "        array[qty] int survival;  // How many tadpoles survival\n",
    "        array[qty] int tank;  // Tank index\n",
    "    }\n",
    "    \n",
    "    parameters {\n",
    "        vector[qty] alpha;\n",
    "    }\n",
    "    \n",
    "    model {\n",
    "        vector[qty] p;\n",
    "        \n",
    "        alpha ~ normal(0, 1.5);\n",
    "        \n",
    "        for (i in 1:qty){\n",
    "            p[i] = alpha[ tank[i] ];\n",
    "            p[i] = inv_logit(alpha[i]);\n",
    "        }\n",
    "        \n",
    "        survival ~ binomial(N, p);\n",
    "        \n",
    "    }\n",
    "\"\"\"\n",
    "\n",
    "dat_list = {\n",
    "    'qty': len(df),\n",
    "    'tank': df['tank'].to_list(),\n",
    "    'survival': df['surv'].to_list(),\n",
    "    'N': df['density'].to_list()\n",
    "}\n",
    "\n",
    "\n",
    "posteriori = stan.build(model, data=dat_list)\n",
    "samples = posteriori.sample(num_chains=4, num_samples=1000)"
   ]
  },
  {
   "cell_type": "code",
   "execution_count": 9,
   "id": "b4d68a9d",
   "metadata": {},
   "outputs": [],
   "source": [
    "model_13_1 = az.from_pystan(\n",
    "    posterior=samples,\n",
    "    posterior_model=posteriori,\n",
    "    observed_data=dat_list.keys()\n",
    ")"
   ]
  },
  {
   "cell_type": "code",
   "execution_count": 10,
   "id": "5a9709aa",
   "metadata": {},
   "outputs": [
    {
     "data": {
      "text/html": [
       "<div>\n",
       "<style scoped>\n",
       "    .dataframe tbody tr th:only-of-type {\n",
       "        vertical-align: middle;\n",
       "    }\n",
       "\n",
       "    .dataframe tbody tr th {\n",
       "        vertical-align: top;\n",
       "    }\n",
       "\n",
       "    .dataframe thead th {\n",
       "        text-align: right;\n",
       "    }\n",
       "</style>\n",
       "<table border=\"1\" class=\"dataframe\">\n",
       "  <thead>\n",
       "    <tr style=\"text-align: right;\">\n",
       "      <th></th>\n",
       "      <th>mean</th>\n",
       "      <th>sd</th>\n",
       "      <th>hdi_5.5%</th>\n",
       "      <th>hdi_94.5%</th>\n",
       "      <th>mcse_mean</th>\n",
       "      <th>mcse_sd</th>\n",
       "      <th>ess_bulk</th>\n",
       "      <th>ess_tail</th>\n",
       "      <th>r_hat</th>\n",
       "    </tr>\n",
       "  </thead>\n",
       "  <tbody>\n",
       "    <tr>\n",
       "      <th>alpha[0]</th>\n",
       "      <td>1.729</td>\n",
       "      <td>0.782</td>\n",
       "      <td>0.473</td>\n",
       "      <td>2.954</td>\n",
       "      <td>0.011</td>\n",
       "      <td>0.009</td>\n",
       "      <td>5033.0</td>\n",
       "      <td>2899.0</td>\n",
       "      <td>1.00</td>\n",
       "    </tr>\n",
       "    <tr>\n",
       "      <th>alpha[1]</th>\n",
       "      <td>2.397</td>\n",
       "      <td>0.896</td>\n",
       "      <td>0.960</td>\n",
       "      <td>3.810</td>\n",
       "      <td>0.012</td>\n",
       "      <td>0.010</td>\n",
       "      <td>5933.0</td>\n",
       "      <td>2874.0</td>\n",
       "      <td>1.00</td>\n",
       "    </tr>\n",
       "    <tr>\n",
       "      <th>alpha[2]</th>\n",
       "      <td>0.761</td>\n",
       "      <td>0.627</td>\n",
       "      <td>-0.247</td>\n",
       "      <td>1.749</td>\n",
       "      <td>0.008</td>\n",
       "      <td>0.008</td>\n",
       "      <td>5851.0</td>\n",
       "      <td>2858.0</td>\n",
       "      <td>1.00</td>\n",
       "    </tr>\n",
       "    <tr>\n",
       "      <th>alpha[3]</th>\n",
       "      <td>2.397</td>\n",
       "      <td>0.873</td>\n",
       "      <td>0.989</td>\n",
       "      <td>3.729</td>\n",
       "      <td>0.010</td>\n",
       "      <td>0.009</td>\n",
       "      <td>7616.0</td>\n",
       "      <td>2956.0</td>\n",
       "      <td>1.00</td>\n",
       "    </tr>\n",
       "    <tr>\n",
       "      <th>alpha[4]</th>\n",
       "      <td>1.721</td>\n",
       "      <td>0.768</td>\n",
       "      <td>0.518</td>\n",
       "      <td>2.939</td>\n",
       "      <td>0.010</td>\n",
       "      <td>0.009</td>\n",
       "      <td>6444.0</td>\n",
       "      <td>2264.0</td>\n",
       "      <td>1.00</td>\n",
       "    </tr>\n",
       "    <tr>\n",
       "      <th>alpha[5]</th>\n",
       "      <td>1.697</td>\n",
       "      <td>0.751</td>\n",
       "      <td>0.465</td>\n",
       "      <td>2.871</td>\n",
       "      <td>0.009</td>\n",
       "      <td>0.008</td>\n",
       "      <td>6611.0</td>\n",
       "      <td>2922.0</td>\n",
       "      <td>1.00</td>\n",
       "    </tr>\n",
       "    <tr>\n",
       "      <th>alpha[6]</th>\n",
       "      <td>2.417</td>\n",
       "      <td>0.891</td>\n",
       "      <td>1.038</td>\n",
       "      <td>3.823</td>\n",
       "      <td>0.012</td>\n",
       "      <td>0.010</td>\n",
       "      <td>6037.0</td>\n",
       "      <td>3012.0</td>\n",
       "      <td>1.00</td>\n",
       "    </tr>\n",
       "    <tr>\n",
       "      <th>alpha[7]</th>\n",
       "      <td>1.724</td>\n",
       "      <td>0.804</td>\n",
       "      <td>0.382</td>\n",
       "      <td>2.897</td>\n",
       "      <td>0.010</td>\n",
       "      <td>0.009</td>\n",
       "      <td>6642.0</td>\n",
       "      <td>2708.0</td>\n",
       "      <td>1.00</td>\n",
       "    </tr>\n",
       "    <tr>\n",
       "      <th>alpha[8]</th>\n",
       "      <td>-0.369</td>\n",
       "      <td>0.616</td>\n",
       "      <td>-1.348</td>\n",
       "      <td>0.580</td>\n",
       "      <td>0.009</td>\n",
       "      <td>0.009</td>\n",
       "      <td>5099.0</td>\n",
       "      <td>3129.0</td>\n",
       "      <td>1.00</td>\n",
       "    </tr>\n",
       "    <tr>\n",
       "      <th>alpha[9]</th>\n",
       "      <td>1.729</td>\n",
       "      <td>0.774</td>\n",
       "      <td>0.468</td>\n",
       "      <td>2.932</td>\n",
       "      <td>0.011</td>\n",
       "      <td>0.009</td>\n",
       "      <td>5226.0</td>\n",
       "      <td>2840.0</td>\n",
       "      <td>1.00</td>\n",
       "    </tr>\n",
       "    <tr>\n",
       "      <th>alpha[10]</th>\n",
       "      <td>0.760</td>\n",
       "      <td>0.649</td>\n",
       "      <td>-0.294</td>\n",
       "      <td>1.767</td>\n",
       "      <td>0.008</td>\n",
       "      <td>0.008</td>\n",
       "      <td>6808.0</td>\n",
       "      <td>2797.0</td>\n",
       "      <td>1.00</td>\n",
       "    </tr>\n",
       "    <tr>\n",
       "      <th>alpha[11]</th>\n",
       "      <td>0.374</td>\n",
       "      <td>0.618</td>\n",
       "      <td>-0.615</td>\n",
       "      <td>1.336</td>\n",
       "      <td>0.008</td>\n",
       "      <td>0.009</td>\n",
       "      <td>6522.0</td>\n",
       "      <td>2646.0</td>\n",
       "      <td>1.00</td>\n",
       "    </tr>\n",
       "    <tr>\n",
       "      <th>alpha[12]</th>\n",
       "      <td>0.750</td>\n",
       "      <td>0.624</td>\n",
       "      <td>-0.232</td>\n",
       "      <td>1.733</td>\n",
       "      <td>0.008</td>\n",
       "      <td>0.007</td>\n",
       "      <td>6833.0</td>\n",
       "      <td>2804.0</td>\n",
       "      <td>1.00</td>\n",
       "    </tr>\n",
       "    <tr>\n",
       "      <th>alpha[13]</th>\n",
       "      <td>0.004</td>\n",
       "      <td>0.593</td>\n",
       "      <td>-0.923</td>\n",
       "      <td>0.953</td>\n",
       "      <td>0.008</td>\n",
       "      <td>0.010</td>\n",
       "      <td>5845.0</td>\n",
       "      <td>2809.0</td>\n",
       "      <td>1.00</td>\n",
       "    </tr>\n",
       "    <tr>\n",
       "      <th>alpha[14]</th>\n",
       "      <td>1.721</td>\n",
       "      <td>0.780</td>\n",
       "      <td>0.457</td>\n",
       "      <td>2.893</td>\n",
       "      <td>0.011</td>\n",
       "      <td>0.009</td>\n",
       "      <td>5877.0</td>\n",
       "      <td>2668.0</td>\n",
       "      <td>1.00</td>\n",
       "    </tr>\n",
       "    <tr>\n",
       "      <th>alpha[15]</th>\n",
       "      <td>1.731</td>\n",
       "      <td>0.773</td>\n",
       "      <td>0.549</td>\n",
       "      <td>2.968</td>\n",
       "      <td>0.011</td>\n",
       "      <td>0.009</td>\n",
       "      <td>5508.0</td>\n",
       "      <td>2657.0</td>\n",
       "      <td>1.00</td>\n",
       "    </tr>\n",
       "    <tr>\n",
       "      <th>alpha[16]</th>\n",
       "      <td>2.547</td>\n",
       "      <td>0.675</td>\n",
       "      <td>1.465</td>\n",
       "      <td>3.591</td>\n",
       "      <td>0.009</td>\n",
       "      <td>0.007</td>\n",
       "      <td>6075.0</td>\n",
       "      <td>2900.0</td>\n",
       "      <td>1.00</td>\n",
       "    </tr>\n",
       "    <tr>\n",
       "      <th>alpha[17]</th>\n",
       "      <td>2.141</td>\n",
       "      <td>0.606</td>\n",
       "      <td>1.210</td>\n",
       "      <td>3.112</td>\n",
       "      <td>0.009</td>\n",
       "      <td>0.007</td>\n",
       "      <td>4941.0</td>\n",
       "      <td>2607.0</td>\n",
       "      <td>1.00</td>\n",
       "    </tr>\n",
       "    <tr>\n",
       "      <th>alpha[18]</th>\n",
       "      <td>1.815</td>\n",
       "      <td>0.533</td>\n",
       "      <td>0.942</td>\n",
       "      <td>2.630</td>\n",
       "      <td>0.007</td>\n",
       "      <td>0.006</td>\n",
       "      <td>5376.0</td>\n",
       "      <td>2942.0</td>\n",
       "      <td>1.00</td>\n",
       "    </tr>\n",
       "    <tr>\n",
       "      <th>alpha[19]</th>\n",
       "      <td>3.100</td>\n",
       "      <td>0.823</td>\n",
       "      <td>1.861</td>\n",
       "      <td>4.392</td>\n",
       "      <td>0.011</td>\n",
       "      <td>0.009</td>\n",
       "      <td>5902.0</td>\n",
       "      <td>2957.0</td>\n",
       "      <td>1.00</td>\n",
       "    </tr>\n",
       "    <tr>\n",
       "      <th>alpha[20]</th>\n",
       "      <td>2.149</td>\n",
       "      <td>0.619</td>\n",
       "      <td>1.147</td>\n",
       "      <td>3.097</td>\n",
       "      <td>0.010</td>\n",
       "      <td>0.008</td>\n",
       "      <td>4751.0</td>\n",
       "      <td>2430.0</td>\n",
       "      <td>1.00</td>\n",
       "    </tr>\n",
       "    <tr>\n",
       "      <th>alpha[21]</th>\n",
       "      <td>2.124</td>\n",
       "      <td>0.586</td>\n",
       "      <td>1.215</td>\n",
       "      <td>3.052</td>\n",
       "      <td>0.008</td>\n",
       "      <td>0.007</td>\n",
       "      <td>5953.0</td>\n",
       "      <td>2490.0</td>\n",
       "      <td>1.00</td>\n",
       "    </tr>\n",
       "    <tr>\n",
       "      <th>alpha[22]</th>\n",
       "      <td>2.140</td>\n",
       "      <td>0.613</td>\n",
       "      <td>1.192</td>\n",
       "      <td>3.098</td>\n",
       "      <td>0.008</td>\n",
       "      <td>0.007</td>\n",
       "      <td>5610.0</td>\n",
       "      <td>2987.0</td>\n",
       "      <td>1.00</td>\n",
       "    </tr>\n",
       "    <tr>\n",
       "      <th>alpha[23]</th>\n",
       "      <td>1.551</td>\n",
       "      <td>0.523</td>\n",
       "      <td>0.695</td>\n",
       "      <td>2.324</td>\n",
       "      <td>0.007</td>\n",
       "      <td>0.006</td>\n",
       "      <td>6228.0</td>\n",
       "      <td>2590.0</td>\n",
       "      <td>1.00</td>\n",
       "    </tr>\n",
       "    <tr>\n",
       "      <th>alpha[24]</th>\n",
       "      <td>-1.089</td>\n",
       "      <td>0.436</td>\n",
       "      <td>-1.818</td>\n",
       "      <td>-0.408</td>\n",
       "      <td>0.005</td>\n",
       "      <td>0.004</td>\n",
       "      <td>7119.0</td>\n",
       "      <td>2925.0</td>\n",
       "      <td>1.00</td>\n",
       "    </tr>\n",
       "    <tr>\n",
       "      <th>alpha[25]</th>\n",
       "      <td>0.076</td>\n",
       "      <td>0.397</td>\n",
       "      <td>-0.556</td>\n",
       "      <td>0.701</td>\n",
       "      <td>0.005</td>\n",
       "      <td>0.007</td>\n",
       "      <td>6264.0</td>\n",
       "      <td>2929.0</td>\n",
       "      <td>1.00</td>\n",
       "    </tr>\n",
       "    <tr>\n",
       "      <th>alpha[26]</th>\n",
       "      <td>-1.548</td>\n",
       "      <td>0.505</td>\n",
       "      <td>-2.323</td>\n",
       "      <td>-0.709</td>\n",
       "      <td>0.007</td>\n",
       "      <td>0.005</td>\n",
       "      <td>6025.0</td>\n",
       "      <td>2769.0</td>\n",
       "      <td>1.00</td>\n",
       "    </tr>\n",
       "    <tr>\n",
       "      <th>alpha[27]</th>\n",
       "      <td>-0.554</td>\n",
       "      <td>0.402</td>\n",
       "      <td>-1.177</td>\n",
       "      <td>0.100</td>\n",
       "      <td>0.005</td>\n",
       "      <td>0.004</td>\n",
       "      <td>6636.0</td>\n",
       "      <td>2947.0</td>\n",
       "      <td>1.00</td>\n",
       "    </tr>\n",
       "    <tr>\n",
       "      <th>alpha[28]</th>\n",
       "      <td>0.081</td>\n",
       "      <td>0.407</td>\n",
       "      <td>-0.593</td>\n",
       "      <td>0.689</td>\n",
       "      <td>0.005</td>\n",
       "      <td>0.007</td>\n",
       "      <td>5490.0</td>\n",
       "      <td>2935.0</td>\n",
       "      <td>1.00</td>\n",
       "    </tr>\n",
       "    <tr>\n",
       "      <th>alpha[29]</th>\n",
       "      <td>1.310</td>\n",
       "      <td>0.480</td>\n",
       "      <td>0.532</td>\n",
       "      <td>2.039</td>\n",
       "      <td>0.006</td>\n",
       "      <td>0.005</td>\n",
       "      <td>7013.0</td>\n",
       "      <td>2854.0</td>\n",
       "      <td>1.00</td>\n",
       "    </tr>\n",
       "    <tr>\n",
       "      <th>alpha[30]</th>\n",
       "      <td>-0.732</td>\n",
       "      <td>0.407</td>\n",
       "      <td>-1.422</td>\n",
       "      <td>-0.124</td>\n",
       "      <td>0.006</td>\n",
       "      <td>0.004</td>\n",
       "      <td>5134.0</td>\n",
       "      <td>2874.0</td>\n",
       "      <td>1.00</td>\n",
       "    </tr>\n",
       "    <tr>\n",
       "      <th>alpha[31]</th>\n",
       "      <td>-0.398</td>\n",
       "      <td>0.387</td>\n",
       "      <td>-1.026</td>\n",
       "      <td>0.213</td>\n",
       "      <td>0.005</td>\n",
       "      <td>0.005</td>\n",
       "      <td>5524.0</td>\n",
       "      <td>2954.0</td>\n",
       "      <td>1.00</td>\n",
       "    </tr>\n",
       "    <tr>\n",
       "      <th>alpha[32]</th>\n",
       "      <td>2.831</td>\n",
       "      <td>0.651</td>\n",
       "      <td>1.827</td>\n",
       "      <td>3.820</td>\n",
       "      <td>0.009</td>\n",
       "      <td>0.007</td>\n",
       "      <td>5118.0</td>\n",
       "      <td>3261.0</td>\n",
       "      <td>1.00</td>\n",
       "    </tr>\n",
       "    <tr>\n",
       "      <th>alpha[33]</th>\n",
       "      <td>2.475</td>\n",
       "      <td>0.600</td>\n",
       "      <td>1.542</td>\n",
       "      <td>3.414</td>\n",
       "      <td>0.009</td>\n",
       "      <td>0.007</td>\n",
       "      <td>5083.0</td>\n",
       "      <td>2667.0</td>\n",
       "      <td>1.00</td>\n",
       "    </tr>\n",
       "    <tr>\n",
       "      <th>alpha[34]</th>\n",
       "      <td>2.448</td>\n",
       "      <td>0.581</td>\n",
       "      <td>1.467</td>\n",
       "      <td>3.332</td>\n",
       "      <td>0.007</td>\n",
       "      <td>0.006</td>\n",
       "      <td>6680.0</td>\n",
       "      <td>2426.0</td>\n",
       "      <td>1.00</td>\n",
       "    </tr>\n",
       "    <tr>\n",
       "      <th>alpha[35]</th>\n",
       "      <td>1.905</td>\n",
       "      <td>0.481</td>\n",
       "      <td>1.161</td>\n",
       "      <td>2.714</td>\n",
       "      <td>0.006</td>\n",
       "      <td>0.005</td>\n",
       "      <td>6105.0</td>\n",
       "      <td>2837.0</td>\n",
       "      <td>1.00</td>\n",
       "    </tr>\n",
       "    <tr>\n",
       "      <th>alpha[36]</th>\n",
       "      <td>1.906</td>\n",
       "      <td>0.464</td>\n",
       "      <td>1.139</td>\n",
       "      <td>2.600</td>\n",
       "      <td>0.006</td>\n",
       "      <td>0.005</td>\n",
       "      <td>6146.0</td>\n",
       "      <td>3053.0</td>\n",
       "      <td>1.00</td>\n",
       "    </tr>\n",
       "    <tr>\n",
       "      <th>alpha[37]</th>\n",
       "      <td>3.352</td>\n",
       "      <td>0.778</td>\n",
       "      <td>2.097</td>\n",
       "      <td>4.528</td>\n",
       "      <td>0.011</td>\n",
       "      <td>0.008</td>\n",
       "      <td>5970.0</td>\n",
       "      <td>2790.0</td>\n",
       "      <td>1.00</td>\n",
       "    </tr>\n",
       "    <tr>\n",
       "      <th>alpha[38]</th>\n",
       "      <td>2.445</td>\n",
       "      <td>0.583</td>\n",
       "      <td>1.524</td>\n",
       "      <td>3.334</td>\n",
       "      <td>0.008</td>\n",
       "      <td>0.006</td>\n",
       "      <td>6204.0</td>\n",
       "      <td>3449.0</td>\n",
       "      <td>1.00</td>\n",
       "    </tr>\n",
       "    <tr>\n",
       "      <th>alpha[39]</th>\n",
       "      <td>2.164</td>\n",
       "      <td>0.524</td>\n",
       "      <td>1.383</td>\n",
       "      <td>3.051</td>\n",
       "      <td>0.007</td>\n",
       "      <td>0.006</td>\n",
       "      <td>6301.0</td>\n",
       "      <td>2722.0</td>\n",
       "      <td>1.00</td>\n",
       "    </tr>\n",
       "    <tr>\n",
       "      <th>alpha[40]</th>\n",
       "      <td>-1.904</td>\n",
       "      <td>0.479</td>\n",
       "      <td>-2.635</td>\n",
       "      <td>-1.122</td>\n",
       "      <td>0.006</td>\n",
       "      <td>0.004</td>\n",
       "      <td>7453.0</td>\n",
       "      <td>2977.0</td>\n",
       "      <td>1.00</td>\n",
       "    </tr>\n",
       "    <tr>\n",
       "      <th>alpha[41]</th>\n",
       "      <td>-0.637</td>\n",
       "      <td>0.355</td>\n",
       "      <td>-1.205</td>\n",
       "      <td>-0.078</td>\n",
       "      <td>0.004</td>\n",
       "      <td>0.004</td>\n",
       "      <td>6393.0</td>\n",
       "      <td>3005.0</td>\n",
       "      <td>1.00</td>\n",
       "    </tr>\n",
       "    <tr>\n",
       "      <th>alpha[42]</th>\n",
       "      <td>-0.511</td>\n",
       "      <td>0.339</td>\n",
       "      <td>-1.006</td>\n",
       "      <td>0.074</td>\n",
       "      <td>0.004</td>\n",
       "      <td>0.004</td>\n",
       "      <td>5884.0</td>\n",
       "      <td>2943.0</td>\n",
       "      <td>1.01</td>\n",
       "    </tr>\n",
       "    <tr>\n",
       "      <th>alpha[43]</th>\n",
       "      <td>-0.395</td>\n",
       "      <td>0.336</td>\n",
       "      <td>-0.930</td>\n",
       "      <td>0.138</td>\n",
       "      <td>0.004</td>\n",
       "      <td>0.004</td>\n",
       "      <td>5973.0</td>\n",
       "      <td>2821.0</td>\n",
       "      <td>1.00</td>\n",
       "    </tr>\n",
       "    <tr>\n",
       "      <th>alpha[44]</th>\n",
       "      <td>0.507</td>\n",
       "      <td>0.347</td>\n",
       "      <td>-0.033</td>\n",
       "      <td>1.068</td>\n",
       "      <td>0.004</td>\n",
       "      <td>0.004</td>\n",
       "      <td>6663.0</td>\n",
       "      <td>2982.0</td>\n",
       "      <td>1.00</td>\n",
       "    </tr>\n",
       "    <tr>\n",
       "      <th>alpha[45]</th>\n",
       "      <td>-0.631</td>\n",
       "      <td>0.346</td>\n",
       "      <td>-1.185</td>\n",
       "      <td>-0.074</td>\n",
       "      <td>0.005</td>\n",
       "      <td>0.004</td>\n",
       "      <td>5811.0</td>\n",
       "      <td>2715.0</td>\n",
       "      <td>1.00</td>\n",
       "    </tr>\n",
       "    <tr>\n",
       "      <th>alpha[46]</th>\n",
       "      <td>1.905</td>\n",
       "      <td>0.480</td>\n",
       "      <td>1.152</td>\n",
       "      <td>2.637</td>\n",
       "      <td>0.006</td>\n",
       "      <td>0.005</td>\n",
       "      <td>6090.0</td>\n",
       "      <td>2761.0</td>\n",
       "      <td>1.00</td>\n",
       "    </tr>\n",
       "    <tr>\n",
       "      <th>alpha[47]</th>\n",
       "      <td>-0.053</td>\n",
       "      <td>0.334</td>\n",
       "      <td>-0.546</td>\n",
       "      <td>0.523</td>\n",
       "      <td>0.004</td>\n",
       "      <td>0.006</td>\n",
       "      <td>6006.0</td>\n",
       "      <td>2621.0</td>\n",
       "      <td>1.00</td>\n",
       "    </tr>\n",
       "  </tbody>\n",
       "</table>\n",
       "</div>"
      ],
      "text/plain": [
       "            mean     sd  hdi_5.5%  hdi_94.5%  mcse_mean  mcse_sd  ess_bulk  \\\n",
       "alpha[0]   1.729  0.782     0.473      2.954      0.011    0.009    5033.0   \n",
       "alpha[1]   2.397  0.896     0.960      3.810      0.012    0.010    5933.0   \n",
       "alpha[2]   0.761  0.627    -0.247      1.749      0.008    0.008    5851.0   \n",
       "alpha[3]   2.397  0.873     0.989      3.729      0.010    0.009    7616.0   \n",
       "alpha[4]   1.721  0.768     0.518      2.939      0.010    0.009    6444.0   \n",
       "alpha[5]   1.697  0.751     0.465      2.871      0.009    0.008    6611.0   \n",
       "alpha[6]   2.417  0.891     1.038      3.823      0.012    0.010    6037.0   \n",
       "alpha[7]   1.724  0.804     0.382      2.897      0.010    0.009    6642.0   \n",
       "alpha[8]  -0.369  0.616    -1.348      0.580      0.009    0.009    5099.0   \n",
       "alpha[9]   1.729  0.774     0.468      2.932      0.011    0.009    5226.0   \n",
       "alpha[10]  0.760  0.649    -0.294      1.767      0.008    0.008    6808.0   \n",
       "alpha[11]  0.374  0.618    -0.615      1.336      0.008    0.009    6522.0   \n",
       "alpha[12]  0.750  0.624    -0.232      1.733      0.008    0.007    6833.0   \n",
       "alpha[13]  0.004  0.593    -0.923      0.953      0.008    0.010    5845.0   \n",
       "alpha[14]  1.721  0.780     0.457      2.893      0.011    0.009    5877.0   \n",
       "alpha[15]  1.731  0.773     0.549      2.968      0.011    0.009    5508.0   \n",
       "alpha[16]  2.547  0.675     1.465      3.591      0.009    0.007    6075.0   \n",
       "alpha[17]  2.141  0.606     1.210      3.112      0.009    0.007    4941.0   \n",
       "alpha[18]  1.815  0.533     0.942      2.630      0.007    0.006    5376.0   \n",
       "alpha[19]  3.100  0.823     1.861      4.392      0.011    0.009    5902.0   \n",
       "alpha[20]  2.149  0.619     1.147      3.097      0.010    0.008    4751.0   \n",
       "alpha[21]  2.124  0.586     1.215      3.052      0.008    0.007    5953.0   \n",
       "alpha[22]  2.140  0.613     1.192      3.098      0.008    0.007    5610.0   \n",
       "alpha[23]  1.551  0.523     0.695      2.324      0.007    0.006    6228.0   \n",
       "alpha[24] -1.089  0.436    -1.818     -0.408      0.005    0.004    7119.0   \n",
       "alpha[25]  0.076  0.397    -0.556      0.701      0.005    0.007    6264.0   \n",
       "alpha[26] -1.548  0.505    -2.323     -0.709      0.007    0.005    6025.0   \n",
       "alpha[27] -0.554  0.402    -1.177      0.100      0.005    0.004    6636.0   \n",
       "alpha[28]  0.081  0.407    -0.593      0.689      0.005    0.007    5490.0   \n",
       "alpha[29]  1.310  0.480     0.532      2.039      0.006    0.005    7013.0   \n",
       "alpha[30] -0.732  0.407    -1.422     -0.124      0.006    0.004    5134.0   \n",
       "alpha[31] -0.398  0.387    -1.026      0.213      0.005    0.005    5524.0   \n",
       "alpha[32]  2.831  0.651     1.827      3.820      0.009    0.007    5118.0   \n",
       "alpha[33]  2.475  0.600     1.542      3.414      0.009    0.007    5083.0   \n",
       "alpha[34]  2.448  0.581     1.467      3.332      0.007    0.006    6680.0   \n",
       "alpha[35]  1.905  0.481     1.161      2.714      0.006    0.005    6105.0   \n",
       "alpha[36]  1.906  0.464     1.139      2.600      0.006    0.005    6146.0   \n",
       "alpha[37]  3.352  0.778     2.097      4.528      0.011    0.008    5970.0   \n",
       "alpha[38]  2.445  0.583     1.524      3.334      0.008    0.006    6204.0   \n",
       "alpha[39]  2.164  0.524     1.383      3.051      0.007    0.006    6301.0   \n",
       "alpha[40] -1.904  0.479    -2.635     -1.122      0.006    0.004    7453.0   \n",
       "alpha[41] -0.637  0.355    -1.205     -0.078      0.004    0.004    6393.0   \n",
       "alpha[42] -0.511  0.339    -1.006      0.074      0.004    0.004    5884.0   \n",
       "alpha[43] -0.395  0.336    -0.930      0.138      0.004    0.004    5973.0   \n",
       "alpha[44]  0.507  0.347    -0.033      1.068      0.004    0.004    6663.0   \n",
       "alpha[45] -0.631  0.346    -1.185     -0.074      0.005    0.004    5811.0   \n",
       "alpha[46]  1.905  0.480     1.152      2.637      0.006    0.005    6090.0   \n",
       "alpha[47] -0.053  0.334    -0.546      0.523      0.004    0.006    6006.0   \n",
       "\n",
       "           ess_tail  r_hat  \n",
       "alpha[0]     2899.0   1.00  \n",
       "alpha[1]     2874.0   1.00  \n",
       "alpha[2]     2858.0   1.00  \n",
       "alpha[3]     2956.0   1.00  \n",
       "alpha[4]     2264.0   1.00  \n",
       "alpha[5]     2922.0   1.00  \n",
       "alpha[6]     3012.0   1.00  \n",
       "alpha[7]     2708.0   1.00  \n",
       "alpha[8]     3129.0   1.00  \n",
       "alpha[9]     2840.0   1.00  \n",
       "alpha[10]    2797.0   1.00  \n",
       "alpha[11]    2646.0   1.00  \n",
       "alpha[12]    2804.0   1.00  \n",
       "alpha[13]    2809.0   1.00  \n",
       "alpha[14]    2668.0   1.00  \n",
       "alpha[15]    2657.0   1.00  \n",
       "alpha[16]    2900.0   1.00  \n",
       "alpha[17]    2607.0   1.00  \n",
       "alpha[18]    2942.0   1.00  \n",
       "alpha[19]    2957.0   1.00  \n",
       "alpha[20]    2430.0   1.00  \n",
       "alpha[21]    2490.0   1.00  \n",
       "alpha[22]    2987.0   1.00  \n",
       "alpha[23]    2590.0   1.00  \n",
       "alpha[24]    2925.0   1.00  \n",
       "alpha[25]    2929.0   1.00  \n",
       "alpha[26]    2769.0   1.00  \n",
       "alpha[27]    2947.0   1.00  \n",
       "alpha[28]    2935.0   1.00  \n",
       "alpha[29]    2854.0   1.00  \n",
       "alpha[30]    2874.0   1.00  \n",
       "alpha[31]    2954.0   1.00  \n",
       "alpha[32]    3261.0   1.00  \n",
       "alpha[33]    2667.0   1.00  \n",
       "alpha[34]    2426.0   1.00  \n",
       "alpha[35]    2837.0   1.00  \n",
       "alpha[36]    3053.0   1.00  \n",
       "alpha[37]    2790.0   1.00  \n",
       "alpha[38]    3449.0   1.00  \n",
       "alpha[39]    2722.0   1.00  \n",
       "alpha[40]    2977.0   1.00  \n",
       "alpha[41]    3005.0   1.00  \n",
       "alpha[42]    2943.0   1.01  \n",
       "alpha[43]    2821.0   1.00  \n",
       "alpha[44]    2982.0   1.00  \n",
       "alpha[45]    2715.0   1.00  \n",
       "alpha[46]    2761.0   1.00  \n",
       "alpha[47]    2621.0   1.00  "
      ]
     },
     "execution_count": 10,
     "metadata": {},
     "output_type": "execute_result"
    }
   ],
   "source": [
    "az.summary(model_13_1, hdi_prob=0.89)"
   ]
  },
  {
   "cell_type": "code",
   "execution_count": 11,
   "id": "fe0fa372",
   "metadata": {},
   "outputs": [
    {
     "data": {
      "image/png": "[encoded data removed]",
      "text/plain": [
       "<Figure size 1224x1440 with 1 Axes>"
      ]
     },
     "metadata": {
      "filenames": {
       "image/png": "/home/rodolpho/Projects/bayesian/rethinking/statistical_rethinking_pt_BR/_build/jupyter_execute/parte_13_16_0.png"
      },
      "needs_background": "light"
     },
     "output_type": "display_data"
    }
   ],
   "source": [
    "az.plot_forest(model_13_1, hdi_prob=0.89, combined=True, figsize=(17, 20))\n",
    "\n",
    "plt.grid(axis='y', c='white', alpha=0.3)\n",
    "plt.show()"
   ]
  },
  {
   "cell_type": "markdown",
   "id": "d19e5e79",
   "metadata": {},
   "source": [
    "### R Code 13.3"
   ]
  },
  {
   "cell_type": "markdown",
   "id": "a3b894a1",
   "metadata": {},
   "source": [
    "#### Multilevel model Tadpole\n",
    "\n",
    "$$ S_i \\sim Binomial(N_i, p_i) $$\n",
    "\n",
    "$$ logit(p_i) = \\alpha_{TANK[i]} $$\n",
    "\n",
    "$$ \\alpha[j] \\sim Normal(\\bar{\\alpha}, \\sigma) \\mbox{ - [Adaptative prior]} $$\n",
    "\n",
    "$$ \\bar{\\alpha} \\sim Normal(0, 1.5) \\mbox{ - [prior to average tank]} $$\n",
    "\n",
    "$$ \\sigma \\sim Exponential(1) \\mbox{ - [prior for standard deviation of tanks]} $$"
   ]
  },
  {
   "cell_type": "code",
   "execution_count": 12,
   "id": "7203c437",
   "metadata": {
    "tags": [
     "remove_output"
    ]
   },
   "outputs": [
    {
     "name": "stderr",
     "output_type": "stream",
     "text": [
      "\u001b[32mBuilding:\u001b[0m found in cache, done.\n"
     ]
    },
    {
     "name": "stderr",
     "output_type": "stream",
     "text": [
      "\u001b[36mSampling:\u001b[0m   0%\n"
     ]
    },
    {
     "name": "stderr",
     "output_type": "stream",
     "text": [
      "\u001b[1A"
     ]
    },
    {
     "name": "stderr",
     "output_type": "stream",
     "text": [
      "\u001b[0J"
     ]
    },
    {
     "name": "stderr",
     "output_type": "stream",
     "text": [
      "\u001b[36mSampling:\u001b[0m  25% (2000/8000)\n"
     ]
    },
    {
     "name": "stderr",
     "output_type": "stream",
     "text": [
      "\u001b[1A"
     ]
    },
    {
     "name": "stderr",
     "output_type": "stream",
     "text": [
      "\u001b[0J"
     ]
    },
    {
     "name": "stderr",
     "output_type": "stream",
     "text": [
      "\u001b[36mSampling:\u001b[0m  50% (4000/8000)\n"
     ]
    },
    {
     "name": "stderr",
     "output_type": "stream",
     "text": [
      "\u001b[1A"
     ]
    },
    {
     "name": "stderr",
     "output_type": "stream",
     "text": [
      "\u001b[0J"
     ]
    },
    {
     "name": "stderr",
     "output_type": "stream",
     "text": [
      "\u001b[36mSampling:\u001b[0m  75% (6000/8000)\n"
     ]
    },
    {
     "name": "stderr",
     "output_type": "stream",
     "text": [
      "\u001b[1A"
     ]
    },
    {
     "name": "stderr",
     "output_type": "stream",
     "text": [
      "\u001b[0J"
     ]
    },
    {
     "name": "stderr",
     "output_type": "stream",
     "text": [
      "\u001b[36mSampling:\u001b[0m 100% (8000/8000)\n"
     ]
    },
    {
     "name": "stderr",
     "output_type": "stream",
     "text": [
      "\u001b[1A"
     ]
    },
    {
     "name": "stderr",
     "output_type": "stream",
     "text": [
      "\u001b[0J"
     ]
    },
    {
     "name": "stderr",
     "output_type": "stream",
     "text": [
      "\u001b[32mSampling:\u001b[0m 100% (8000/8000), done.\n"
     ]
    },
    {
     "name": "stderr",
     "output_type": "stream",
     "text": [
      "\u001b[36mMessages received during sampling:\u001b[0m\n"
     ]
    },
    {
     "name": "stderr",
     "output_type": "stream",
     "text": [
      "  Gradient evaluation took 3.5e-05 seconds\n"
     ]
    },
    {
     "name": "stderr",
     "output_type": "stream",
     "text": [
      "  1000 transitions using 10 leapfrog steps per transition would take 0.35 seconds.\n"
     ]
    },
    {
     "name": "stderr",
     "output_type": "stream",
     "text": [
      "  Adjust your expectations accordingly!\n"
     ]
    },
    {
     "name": "stderr",
     "output_type": "stream",
     "text": [
      "  Gradient evaluation took 2.3e-05 seconds\n"
     ]
    },
    {
     "name": "stderr",
     "output_type": "stream",
     "text": [
      "  1000 transitions using 10 leapfrog steps per transition would take 0.23 seconds.\n"
     ]
    },
    {
     "name": "stderr",
     "output_type": "stream",
     "text": [
      "  Adjust your expectations accordingly!\n"
     ]
    },
    {
     "name": "stderr",
     "output_type": "stream",
     "text": [
      "  Gradient evaluation took 5.8e-05 seconds\n"
     ]
    },
    {
     "name": "stderr",
     "output_type": "stream",
     "text": [
      "  1000 transitions using 10 leapfrog steps per transition would take 0.58 seconds.\n"
     ]
    },
    {
     "name": "stderr",
     "output_type": "stream",
     "text": [
      "  Adjust your expectations accordingly!\n"
     ]
    },
    {
     "name": "stderr",
     "output_type": "stream",
     "text": [
      "  Gradient evaluation took 4.3e-05 seconds\n"
     ]
    },
    {
     "name": "stderr",
     "output_type": "stream",
     "text": [
      "  1000 transitions using 10 leapfrog steps per transition would take 0.43 seconds.\n"
     ]
    },
    {
     "name": "stderr",
     "output_type": "stream",
     "text": [
      "  Adjust your expectations accordingly!\n"
     ]
    }
   ],
   "source": [
    "model = \"\"\"\n",
    "    data {\n",
    "        int qty;\n",
    "        array[qty] int N;\n",
    "        array[qty] int survival;\n",
    "        array[qty] int tank;\n",
    "    }\n",
    "    \n",
    "    parameters {\n",
    "        vector[qty] alpha;\n",
    "        real bar_alpha;\n",
    "        real<lower=0> sigma;\n",
    "    }\n",
    "    \n",
    "    model {\n",
    "        vector[qty] p;\n",
    "        \n",
    "        alpha ~ normal(bar_alpha, sigma);\n",
    "        \n",
    "        bar_alpha ~ normal(0, 1.5);\n",
    "        sigma ~ exponential(1);\n",
    "        \n",
    "        for (i in 1:qty){\n",
    "            p[i] = alpha[ tank[i] ];\n",
    "            p[i] = inv_logit(p[i]);\n",
    "        }\n",
    "    \n",
    "        survival ~ binomial(N, p);\n",
    "    }\n",
    "\"\"\"\n",
    "\n",
    "\n",
    "dat_list = {\n",
    "    'qty': len(df),\n",
    "    'tank': df['tank'].to_list(),\n",
    "    'survival': df['surv'].to_list(),\n",
    "    'N': df['density'].to_list()\n",
    "}\n",
    "\n",
    "\n",
    "posteriori = stan.build(model, data=dat_list)\n",
    "samples = posteriori.sample(num_chains=4, num_samples=1000)"
   ]
  },
  {
   "cell_type": "code",
   "execution_count": 13,
   "id": "e312974d",
   "metadata": {},
   "outputs": [],
   "source": [
    "model_13_2 = az.from_pystan(\n",
    "    posterior=samples,\n",
    "    posterior_model=posteriori,\n",
    "    observed_data=dat_list.keys(),\n",
    ")"
   ]
  },
  {
   "cell_type": "code",
   "execution_count": 14,
   "id": "2732fcfd",
   "metadata": {},
   "outputs": [
    {
     "data": {
      "text/html": [
       "<div>\n",
       "<style scoped>\n",
       "    .dataframe tbody tr th:only-of-type {\n",
       "        vertical-align: middle;\n",
       "    }\n",
       "\n",
       "    .dataframe tbody tr th {\n",
       "        vertical-align: top;\n",
       "    }\n",
       "\n",
       "    .dataframe thead th {\n",
       "        text-align: right;\n",
       "    }\n",
       "</style>\n",
       "<table border=\"1\" class=\"dataframe\">\n",
       "  <thead>\n",
       "    <tr style=\"text-align: right;\">\n",
       "      <th></th>\n",
       "      <th>mean</th>\n",
       "      <th>sd</th>\n",
       "      <th>hdi_5.5%</th>\n",
       "      <th>hdi_94.5%</th>\n",
       "      <th>mcse_mean</th>\n",
       "      <th>mcse_sd</th>\n",
       "      <th>ess_bulk</th>\n",
       "      <th>ess_tail</th>\n",
       "      <th>r_hat</th>\n",
       "    </tr>\n",
       "  </thead>\n",
       "  <tbody>\n",
       "    <tr>\n",
       "      <th>alpha[0]</th>\n",
       "      <td>2.120</td>\n",
       "      <td>0.878</td>\n",
       "      <td>0.638</td>\n",
       "      <td>3.364</td>\n",
       "      <td>0.013</td>\n",
       "      <td>0.011</td>\n",
       "      <td>5103.0</td>\n",
       "      <td>2774.0</td>\n",
       "      <td>1.0</td>\n",
       "    </tr>\n",
       "    <tr>\n",
       "      <th>alpha[1]</th>\n",
       "      <td>3.042</td>\n",
       "      <td>1.090</td>\n",
       "      <td>1.234</td>\n",
       "      <td>4.649</td>\n",
       "      <td>0.017</td>\n",
       "      <td>0.013</td>\n",
       "      <td>4432.0</td>\n",
       "      <td>3020.0</td>\n",
       "      <td>1.0</td>\n",
       "    </tr>\n",
       "    <tr>\n",
       "      <th>alpha[2]</th>\n",
       "      <td>1.012</td>\n",
       "      <td>0.678</td>\n",
       "      <td>-0.009</td>\n",
       "      <td>2.145</td>\n",
       "      <td>0.009</td>\n",
       "      <td>0.008</td>\n",
       "      <td>5420.0</td>\n",
       "      <td>2781.0</td>\n",
       "      <td>1.0</td>\n",
       "    </tr>\n",
       "    <tr>\n",
       "      <th>alpha[3]</th>\n",
       "      <td>3.067</td>\n",
       "      <td>1.134</td>\n",
       "      <td>1.212</td>\n",
       "      <td>4.680</td>\n",
       "      <td>0.020</td>\n",
       "      <td>0.017</td>\n",
       "      <td>3701.0</td>\n",
       "      <td>2066.0</td>\n",
       "      <td>1.0</td>\n",
       "    </tr>\n",
       "    <tr>\n",
       "      <th>alpha[4]</th>\n",
       "      <td>2.143</td>\n",
       "      <td>0.887</td>\n",
       "      <td>0.787</td>\n",
       "      <td>3.555</td>\n",
       "      <td>0.013</td>\n",
       "      <td>0.011</td>\n",
       "      <td>5244.0</td>\n",
       "      <td>2510.0</td>\n",
       "      <td>1.0</td>\n",
       "    </tr>\n",
       "    <tr>\n",
       "      <th>alpha[5]</th>\n",
       "      <td>2.122</td>\n",
       "      <td>0.864</td>\n",
       "      <td>0.782</td>\n",
       "      <td>3.457</td>\n",
       "      <td>0.012</td>\n",
       "      <td>0.010</td>\n",
       "      <td>5285.0</td>\n",
       "      <td>2885.0</td>\n",
       "      <td>1.0</td>\n",
       "    </tr>\n",
       "    <tr>\n",
       "      <th>alpha[6]</th>\n",
       "      <td>3.076</td>\n",
       "      <td>1.122</td>\n",
       "      <td>1.159</td>\n",
       "      <td>4.666</td>\n",
       "      <td>0.017</td>\n",
       "      <td>0.014</td>\n",
       "      <td>5095.0</td>\n",
       "      <td>2384.0</td>\n",
       "      <td>1.0</td>\n",
       "    </tr>\n",
       "    <tr>\n",
       "      <th>alpha[7]</th>\n",
       "      <td>2.134</td>\n",
       "      <td>0.871</td>\n",
       "      <td>0.681</td>\n",
       "      <td>3.370</td>\n",
       "      <td>0.013</td>\n",
       "      <td>0.010</td>\n",
       "      <td>4979.0</td>\n",
       "      <td>2943.0</td>\n",
       "      <td>1.0</td>\n",
       "    </tr>\n",
       "    <tr>\n",
       "      <th>alpha[8]</th>\n",
       "      <td>-0.176</td>\n",
       "      <td>0.624</td>\n",
       "      <td>-1.097</td>\n",
       "      <td>0.884</td>\n",
       "      <td>0.009</td>\n",
       "      <td>0.010</td>\n",
       "      <td>4791.0</td>\n",
       "      <td>2630.0</td>\n",
       "      <td>1.0</td>\n",
       "    </tr>\n",
       "    <tr>\n",
       "      <th>alpha[9]</th>\n",
       "      <td>2.131</td>\n",
       "      <td>0.856</td>\n",
       "      <td>0.870</td>\n",
       "      <td>3.516</td>\n",
       "      <td>0.012</td>\n",
       "      <td>0.010</td>\n",
       "      <td>5257.0</td>\n",
       "      <td>2688.0</td>\n",
       "      <td>1.0</td>\n",
       "    </tr>\n",
       "    <tr>\n",
       "      <th>alpha[10]</th>\n",
       "      <td>1.009</td>\n",
       "      <td>0.657</td>\n",
       "      <td>-0.059</td>\n",
       "      <td>2.031</td>\n",
       "      <td>0.009</td>\n",
       "      <td>0.008</td>\n",
       "      <td>5011.0</td>\n",
       "      <td>2379.0</td>\n",
       "      <td>1.0</td>\n",
       "    </tr>\n",
       "    <tr>\n",
       "      <th>alpha[11]</th>\n",
       "      <td>0.578</td>\n",
       "      <td>0.643</td>\n",
       "      <td>-0.410</td>\n",
       "      <td>1.625</td>\n",
       "      <td>0.009</td>\n",
       "      <td>0.008</td>\n",
       "      <td>5160.0</td>\n",
       "      <td>3014.0</td>\n",
       "      <td>1.0</td>\n",
       "    </tr>\n",
       "    <tr>\n",
       "      <th>alpha[12]</th>\n",
       "      <td>1.002</td>\n",
       "      <td>0.643</td>\n",
       "      <td>0.018</td>\n",
       "      <td>2.031</td>\n",
       "      <td>0.009</td>\n",
       "      <td>0.007</td>\n",
       "      <td>5615.0</td>\n",
       "      <td>3058.0</td>\n",
       "      <td>1.0</td>\n",
       "    </tr>\n",
       "    <tr>\n",
       "      <th>alpha[13]</th>\n",
       "      <td>0.205</td>\n",
       "      <td>0.619</td>\n",
       "      <td>-0.818</td>\n",
       "      <td>1.132</td>\n",
       "      <td>0.008</td>\n",
       "      <td>0.010</td>\n",
       "      <td>5383.0</td>\n",
       "      <td>2795.0</td>\n",
       "      <td>1.0</td>\n",
       "    </tr>\n",
       "    <tr>\n",
       "      <th>alpha[14]</th>\n",
       "      <td>2.144</td>\n",
       "      <td>0.850</td>\n",
       "      <td>0.811</td>\n",
       "      <td>3.456</td>\n",
       "      <td>0.013</td>\n",
       "      <td>0.011</td>\n",
       "      <td>4588.0</td>\n",
       "      <td>2692.0</td>\n",
       "      <td>1.0</td>\n",
       "    </tr>\n",
       "    <tr>\n",
       "      <th>alpha[15]</th>\n",
       "      <td>2.130</td>\n",
       "      <td>0.888</td>\n",
       "      <td>0.742</td>\n",
       "      <td>3.503</td>\n",
       "      <td>0.013</td>\n",
       "      <td>0.011</td>\n",
       "      <td>5481.0</td>\n",
       "      <td>2815.0</td>\n",
       "      <td>1.0</td>\n",
       "    </tr>\n",
       "    <tr>\n",
       "      <th>alpha[16]</th>\n",
       "      <td>2.930</td>\n",
       "      <td>0.808</td>\n",
       "      <td>1.772</td>\n",
       "      <td>4.282</td>\n",
       "      <td>0.012</td>\n",
       "      <td>0.009</td>\n",
       "      <td>5486.0</td>\n",
       "      <td>2837.0</td>\n",
       "      <td>1.0</td>\n",
       "    </tr>\n",
       "    <tr>\n",
       "      <th>alpha[17]</th>\n",
       "      <td>2.414</td>\n",
       "      <td>0.673</td>\n",
       "      <td>1.351</td>\n",
       "      <td>3.467</td>\n",
       "      <td>0.010</td>\n",
       "      <td>0.008</td>\n",
       "      <td>4980.0</td>\n",
       "      <td>2624.0</td>\n",
       "      <td>1.0</td>\n",
       "    </tr>\n",
       "    <tr>\n",
       "      <th>alpha[18]</th>\n",
       "      <td>2.029</td>\n",
       "      <td>0.596</td>\n",
       "      <td>1.078</td>\n",
       "      <td>2.965</td>\n",
       "      <td>0.010</td>\n",
       "      <td>0.008</td>\n",
       "      <td>3769.0</td>\n",
       "      <td>2496.0</td>\n",
       "      <td>1.0</td>\n",
       "    </tr>\n",
       "    <tr>\n",
       "      <th>alpha[19]</th>\n",
       "      <td>3.668</td>\n",
       "      <td>0.998</td>\n",
       "      <td>2.060</td>\n",
       "      <td>5.129</td>\n",
       "      <td>0.015</td>\n",
       "      <td>0.012</td>\n",
       "      <td>4742.0</td>\n",
       "      <td>2956.0</td>\n",
       "      <td>1.0</td>\n",
       "    </tr>\n",
       "    <tr>\n",
       "      <th>alpha[20]</th>\n",
       "      <td>2.401</td>\n",
       "      <td>0.696</td>\n",
       "      <td>1.294</td>\n",
       "      <td>3.475</td>\n",
       "      <td>0.010</td>\n",
       "      <td>0.008</td>\n",
       "      <td>5393.0</td>\n",
       "      <td>2721.0</td>\n",
       "      <td>1.0</td>\n",
       "    </tr>\n",
       "    <tr>\n",
       "      <th>alpha[21]</th>\n",
       "      <td>2.400</td>\n",
       "      <td>0.652</td>\n",
       "      <td>1.354</td>\n",
       "      <td>3.378</td>\n",
       "      <td>0.010</td>\n",
       "      <td>0.008</td>\n",
       "      <td>4742.0</td>\n",
       "      <td>2220.0</td>\n",
       "      <td>1.0</td>\n",
       "    </tr>\n",
       "    <tr>\n",
       "      <th>alpha[22]</th>\n",
       "      <td>2.402</td>\n",
       "      <td>0.657</td>\n",
       "      <td>1.379</td>\n",
       "      <td>3.436</td>\n",
       "      <td>0.011</td>\n",
       "      <td>0.008</td>\n",
       "      <td>4170.0</td>\n",
       "      <td>2524.0</td>\n",
       "      <td>1.0</td>\n",
       "    </tr>\n",
       "    <tr>\n",
       "      <th>alpha[23]</th>\n",
       "      <td>1.705</td>\n",
       "      <td>0.540</td>\n",
       "      <td>0.862</td>\n",
       "      <td>2.557</td>\n",
       "      <td>0.008</td>\n",
       "      <td>0.006</td>\n",
       "      <td>4555.0</td>\n",
       "      <td>2817.0</td>\n",
       "      <td>1.0</td>\n",
       "    </tr>\n",
       "    <tr>\n",
       "      <th>alpha[24]</th>\n",
       "      <td>-0.999</td>\n",
       "      <td>0.449</td>\n",
       "      <td>-1.655</td>\n",
       "      <td>-0.244</td>\n",
       "      <td>0.006</td>\n",
       "      <td>0.005</td>\n",
       "      <td>5423.0</td>\n",
       "      <td>2412.0</td>\n",
       "      <td>1.0</td>\n",
       "    </tr>\n",
       "    <tr>\n",
       "      <th>alpha[25]</th>\n",
       "      <td>0.163</td>\n",
       "      <td>0.400</td>\n",
       "      <td>-0.491</td>\n",
       "      <td>0.800</td>\n",
       "      <td>0.005</td>\n",
       "      <td>0.006</td>\n",
       "      <td>5549.0</td>\n",
       "      <td>2698.0</td>\n",
       "      <td>1.0</td>\n",
       "    </tr>\n",
       "    <tr>\n",
       "      <th>alpha[26]</th>\n",
       "      <td>-1.429</td>\n",
       "      <td>0.503</td>\n",
       "      <td>-2.269</td>\n",
       "      <td>-0.687</td>\n",
       "      <td>0.008</td>\n",
       "      <td>0.006</td>\n",
       "      <td>4286.0</td>\n",
       "      <td>2894.0</td>\n",
       "      <td>1.0</td>\n",
       "    </tr>\n",
       "    <tr>\n",
       "      <th>alpha[27]</th>\n",
       "      <td>-0.483</td>\n",
       "      <td>0.410</td>\n",
       "      <td>-1.148</td>\n",
       "      <td>0.160</td>\n",
       "      <td>0.006</td>\n",
       "      <td>0.005</td>\n",
       "      <td>5325.0</td>\n",
       "      <td>3363.0</td>\n",
       "      <td>1.0</td>\n",
       "    </tr>\n",
       "    <tr>\n",
       "      <th>alpha[28]</th>\n",
       "      <td>0.157</td>\n",
       "      <td>0.388</td>\n",
       "      <td>-0.489</td>\n",
       "      <td>0.743</td>\n",
       "      <td>0.006</td>\n",
       "      <td>0.005</td>\n",
       "      <td>4797.0</td>\n",
       "      <td>2966.0</td>\n",
       "      <td>1.0</td>\n",
       "    </tr>\n",
       "    <tr>\n",
       "      <th>alpha[29]</th>\n",
       "      <td>1.438</td>\n",
       "      <td>0.479</td>\n",
       "      <td>0.657</td>\n",
       "      <td>2.166</td>\n",
       "      <td>0.006</td>\n",
       "      <td>0.005</td>\n",
       "      <td>5631.0</td>\n",
       "      <td>3250.0</td>\n",
       "      <td>1.0</td>\n",
       "    </tr>\n",
       "    <tr>\n",
       "      <th>alpha[30]</th>\n",
       "      <td>-0.637</td>\n",
       "      <td>0.412</td>\n",
       "      <td>-1.259</td>\n",
       "      <td>0.053</td>\n",
       "      <td>0.006</td>\n",
       "      <td>0.005</td>\n",
       "      <td>5600.0</td>\n",
       "      <td>2739.0</td>\n",
       "      <td>1.0</td>\n",
       "    </tr>\n",
       "    <tr>\n",
       "      <th>alpha[31]</th>\n",
       "      <td>-0.317</td>\n",
       "      <td>0.395</td>\n",
       "      <td>-1.002</td>\n",
       "      <td>0.256</td>\n",
       "      <td>0.006</td>\n",
       "      <td>0.006</td>\n",
       "      <td>5105.0</td>\n",
       "      <td>2842.0</td>\n",
       "      <td>1.0</td>\n",
       "    </tr>\n",
       "    <tr>\n",
       "      <th>alpha[32]</th>\n",
       "      <td>3.188</td>\n",
       "      <td>0.771</td>\n",
       "      <td>1.963</td>\n",
       "      <td>4.334</td>\n",
       "      <td>0.012</td>\n",
       "      <td>0.009</td>\n",
       "      <td>4968.0</td>\n",
       "      <td>2644.0</td>\n",
       "      <td>1.0</td>\n",
       "    </tr>\n",
       "    <tr>\n",
       "      <th>alpha[33]</th>\n",
       "      <td>2.714</td>\n",
       "      <td>0.639</td>\n",
       "      <td>1.685</td>\n",
       "      <td>3.693</td>\n",
       "      <td>0.009</td>\n",
       "      <td>0.007</td>\n",
       "      <td>4885.0</td>\n",
       "      <td>3002.0</td>\n",
       "      <td>1.0</td>\n",
       "    </tr>\n",
       "    <tr>\n",
       "      <th>alpha[34]</th>\n",
       "      <td>2.715</td>\n",
       "      <td>0.657</td>\n",
       "      <td>1.705</td>\n",
       "      <td>3.773</td>\n",
       "      <td>0.010</td>\n",
       "      <td>0.008</td>\n",
       "      <td>4591.0</td>\n",
       "      <td>2027.0</td>\n",
       "      <td>1.0</td>\n",
       "    </tr>\n",
       "    <tr>\n",
       "      <th>alpha[35]</th>\n",
       "      <td>2.072</td>\n",
       "      <td>0.519</td>\n",
       "      <td>1.255</td>\n",
       "      <td>2.887</td>\n",
       "      <td>0.008</td>\n",
       "      <td>0.006</td>\n",
       "      <td>4743.0</td>\n",
       "      <td>2557.0</td>\n",
       "      <td>1.0</td>\n",
       "    </tr>\n",
       "    <tr>\n",
       "      <th>alpha[36]</th>\n",
       "      <td>2.061</td>\n",
       "      <td>0.514</td>\n",
       "      <td>1.291</td>\n",
       "      <td>2.909</td>\n",
       "      <td>0.008</td>\n",
       "      <td>0.006</td>\n",
       "      <td>4889.0</td>\n",
       "      <td>2645.0</td>\n",
       "      <td>1.0</td>\n",
       "    </tr>\n",
       "    <tr>\n",
       "      <th>alpha[37]</th>\n",
       "      <td>3.893</td>\n",
       "      <td>0.955</td>\n",
       "      <td>2.436</td>\n",
       "      <td>5.387</td>\n",
       "      <td>0.015</td>\n",
       "      <td>0.012</td>\n",
       "      <td>4467.0</td>\n",
       "      <td>2872.0</td>\n",
       "      <td>1.0</td>\n",
       "    </tr>\n",
       "    <tr>\n",
       "      <th>alpha[38]</th>\n",
       "      <td>2.702</td>\n",
       "      <td>0.641</td>\n",
       "      <td>1.767</td>\n",
       "      <td>3.752</td>\n",
       "      <td>0.010</td>\n",
       "      <td>0.008</td>\n",
       "      <td>4560.0</td>\n",
       "      <td>2247.0</td>\n",
       "      <td>1.0</td>\n",
       "    </tr>\n",
       "    <tr>\n",
       "      <th>alpha[39]</th>\n",
       "      <td>2.354</td>\n",
       "      <td>0.562</td>\n",
       "      <td>1.433</td>\n",
       "      <td>3.187</td>\n",
       "      <td>0.009</td>\n",
       "      <td>0.007</td>\n",
       "      <td>4042.0</td>\n",
       "      <td>2801.0</td>\n",
       "      <td>1.0</td>\n",
       "    </tr>\n",
       "    <tr>\n",
       "      <th>alpha[40]</th>\n",
       "      <td>-1.799</td>\n",
       "      <td>0.474</td>\n",
       "      <td>-2.528</td>\n",
       "      <td>-1.032</td>\n",
       "      <td>0.007</td>\n",
       "      <td>0.005</td>\n",
       "      <td>4750.0</td>\n",
       "      <td>2938.0</td>\n",
       "      <td>1.0</td>\n",
       "    </tr>\n",
       "    <tr>\n",
       "      <th>alpha[41]</th>\n",
       "      <td>-0.573</td>\n",
       "      <td>0.355</td>\n",
       "      <td>-1.133</td>\n",
       "      <td>-0.006</td>\n",
       "      <td>0.005</td>\n",
       "      <td>0.004</td>\n",
       "      <td>4697.0</td>\n",
       "      <td>2564.0</td>\n",
       "      <td>1.0</td>\n",
       "    </tr>\n",
       "    <tr>\n",
       "      <th>alpha[42]</th>\n",
       "      <td>-0.456</td>\n",
       "      <td>0.345</td>\n",
       "      <td>-1.001</td>\n",
       "      <td>0.096</td>\n",
       "      <td>0.005</td>\n",
       "      <td>0.004</td>\n",
       "      <td>5231.0</td>\n",
       "      <td>3157.0</td>\n",
       "      <td>1.0</td>\n",
       "    </tr>\n",
       "    <tr>\n",
       "      <th>alpha[43]</th>\n",
       "      <td>-0.334</td>\n",
       "      <td>0.343</td>\n",
       "      <td>-0.872</td>\n",
       "      <td>0.226</td>\n",
       "      <td>0.005</td>\n",
       "      <td>0.004</td>\n",
       "      <td>4927.0</td>\n",
       "      <td>3032.0</td>\n",
       "      <td>1.0</td>\n",
       "    </tr>\n",
       "    <tr>\n",
       "      <th>alpha[44]</th>\n",
       "      <td>0.582</td>\n",
       "      <td>0.345</td>\n",
       "      <td>0.041</td>\n",
       "      <td>1.143</td>\n",
       "      <td>0.005</td>\n",
       "      <td>0.004</td>\n",
       "      <td>4770.0</td>\n",
       "      <td>3146.0</td>\n",
       "      <td>1.0</td>\n",
       "    </tr>\n",
       "    <tr>\n",
       "      <th>alpha[45]</th>\n",
       "      <td>-0.573</td>\n",
       "      <td>0.366</td>\n",
       "      <td>-1.163</td>\n",
       "      <td>0.008</td>\n",
       "      <td>0.005</td>\n",
       "      <td>0.004</td>\n",
       "      <td>5334.0</td>\n",
       "      <td>3158.0</td>\n",
       "      <td>1.0</td>\n",
       "    </tr>\n",
       "    <tr>\n",
       "      <th>alpha[46]</th>\n",
       "      <td>2.069</td>\n",
       "      <td>0.522</td>\n",
       "      <td>1.285</td>\n",
       "      <td>2.919</td>\n",
       "      <td>0.008</td>\n",
       "      <td>0.006</td>\n",
       "      <td>4822.0</td>\n",
       "      <td>2614.0</td>\n",
       "      <td>1.0</td>\n",
       "    </tr>\n",
       "    <tr>\n",
       "      <th>alpha[47]</th>\n",
       "      <td>-0.000</td>\n",
       "      <td>0.340</td>\n",
       "      <td>-0.524</td>\n",
       "      <td>0.552</td>\n",
       "      <td>0.005</td>\n",
       "      <td>0.006</td>\n",
       "      <td>5063.0</td>\n",
       "      <td>2720.0</td>\n",
       "      <td>1.0</td>\n",
       "    </tr>\n",
       "    <tr>\n",
       "      <th>bar_alpha</th>\n",
       "      <td>1.346</td>\n",
       "      <td>0.260</td>\n",
       "      <td>0.940</td>\n",
       "      <td>1.758</td>\n",
       "      <td>0.005</td>\n",
       "      <td>0.003</td>\n",
       "      <td>3131.0</td>\n",
       "      <td>2923.0</td>\n",
       "      <td>1.0</td>\n",
       "    </tr>\n",
       "    <tr>\n",
       "      <th>sigma</th>\n",
       "      <td>1.618</td>\n",
       "      <td>0.216</td>\n",
       "      <td>1.263</td>\n",
       "      <td>1.940</td>\n",
       "      <td>0.004</td>\n",
       "      <td>0.003</td>\n",
       "      <td>2491.0</td>\n",
       "      <td>3083.0</td>\n",
       "      <td>1.0</td>\n",
       "    </tr>\n",
       "  </tbody>\n",
       "</table>\n",
       "</div>"
      ],
      "text/plain": [
       "            mean     sd  hdi_5.5%  hdi_94.5%  mcse_mean  mcse_sd  ess_bulk  \\\n",
       "alpha[0]   2.120  0.878     0.638      3.364      0.013    0.011    5103.0   \n",
       "alpha[1]   3.042  1.090     1.234      4.649      0.017    0.013    4432.0   \n",
       "alpha[2]   1.012  0.678    -0.009      2.145      0.009    0.008    5420.0   \n",
       "alpha[3]   3.067  1.134     1.212      4.680      0.020    0.017    3701.0   \n",
       "alpha[4]   2.143  0.887     0.787      3.555      0.013    0.011    5244.0   \n",
       "alpha[5]   2.122  0.864     0.782      3.457      0.012    0.010    5285.0   \n",
       "alpha[6]   3.076  1.122     1.159      4.666      0.017    0.014    5095.0   \n",
       "alpha[7]   2.134  0.871     0.681      3.370      0.013    0.010    4979.0   \n",
       "alpha[8]  -0.176  0.624    -1.097      0.884      0.009    0.010    4791.0   \n",
       "alpha[9]   2.131  0.856     0.870      3.516      0.012    0.010    5257.0   \n",
       "alpha[10]  1.009  0.657    -0.059      2.031      0.009    0.008    5011.0   \n",
       "alpha[11]  0.578  0.643    -0.410      1.625      0.009    0.008    5160.0   \n",
       "alpha[12]  1.002  0.643     0.018      2.031      0.009    0.007    5615.0   \n",
       "alpha[13]  0.205  0.619    -0.818      1.132      0.008    0.010    5383.0   \n",
       "alpha[14]  2.144  0.850     0.811      3.456      0.013    0.011    4588.0   \n",
       "alpha[15]  2.130  0.888     0.742      3.503      0.013    0.011    5481.0   \n",
       "alpha[16]  2.930  0.808     1.772      4.282      0.012    0.009    5486.0   \n",
       "alpha[17]  2.414  0.673     1.351      3.467      0.010    0.008    4980.0   \n",
       "alpha[18]  2.029  0.596     1.078      2.965      0.010    0.008    3769.0   \n",
       "alpha[19]  3.668  0.998     2.060      5.129      0.015    0.012    4742.0   \n",
       "alpha[20]  2.401  0.696     1.294      3.475      0.010    0.008    5393.0   \n",
       "alpha[21]  2.400  0.652     1.354      3.378      0.010    0.008    4742.0   \n",
       "alpha[22]  2.402  0.657     1.379      3.436      0.011    0.008    4170.0   \n",
       "alpha[23]  1.705  0.540     0.862      2.557      0.008    0.006    4555.0   \n",
       "alpha[24] -0.999  0.449    -1.655     -0.244      0.006    0.005    5423.0   \n",
       "alpha[25]  0.163  0.400    -0.491      0.800      0.005    0.006    5549.0   \n",
       "alpha[26] -1.429  0.503    -2.269     -0.687      0.008    0.006    4286.0   \n",
       "alpha[27] -0.483  0.410    -1.148      0.160      0.006    0.005    5325.0   \n",
       "alpha[28]  0.157  0.388    -0.489      0.743      0.006    0.005    4797.0   \n",
       "alpha[29]  1.438  0.479     0.657      2.166      0.006    0.005    5631.0   \n",
       "alpha[30] -0.637  0.412    -1.259      0.053      0.006    0.005    5600.0   \n",
       "alpha[31] -0.317  0.395    -1.002      0.256      0.006    0.006    5105.0   \n",
       "alpha[32]  3.188  0.771     1.963      4.334      0.012    0.009    4968.0   \n",
       "alpha[33]  2.714  0.639     1.685      3.693      0.009    0.007    4885.0   \n",
       "alpha[34]  2.715  0.657     1.705      3.773      0.010    0.008    4591.0   \n",
       "alpha[35]  2.072  0.519     1.255      2.887      0.008    0.006    4743.0   \n",
       "alpha[36]  2.061  0.514     1.291      2.909      0.008    0.006    4889.0   \n",
       "alpha[37]  3.893  0.955     2.436      5.387      0.015    0.012    4467.0   \n",
       "alpha[38]  2.702  0.641     1.767      3.752      0.010    0.008    4560.0   \n",
       "alpha[39]  2.354  0.562     1.433      3.187      0.009    0.007    4042.0   \n",
       "alpha[40] -1.799  0.474    -2.528     -1.032      0.007    0.005    4750.0   \n",
       "alpha[41] -0.573  0.355    -1.133     -0.006      0.005    0.004    4697.0   \n",
       "alpha[42] -0.456  0.345    -1.001      0.096      0.005    0.004    5231.0   \n",
       "alpha[43] -0.334  0.343    -0.872      0.226      0.005    0.004    4927.0   \n",
       "alpha[44]  0.582  0.345     0.041      1.143      0.005    0.004    4770.0   \n",
       "alpha[45] -0.573  0.366    -1.163      0.008      0.005    0.004    5334.0   \n",
       "alpha[46]  2.069  0.522     1.285      2.919      0.008    0.006    4822.0   \n",
       "alpha[47] -0.000  0.340    -0.524      0.552      0.005    0.006    5063.0   \n",
       "bar_alpha  1.346  0.260     0.940      1.758      0.005    0.003    3131.0   \n",
       "sigma      1.618  0.216     1.263      1.940      0.004    0.003    2491.0   \n",
       "\n",
       "           ess_tail  r_hat  \n",
       "alpha[0]     2774.0    1.0  \n",
       "alpha[1]     3020.0    1.0  \n",
       "alpha[2]     2781.0    1.0  \n",
       "alpha[3]     2066.0    1.0  \n",
       "alpha[4]     2510.0    1.0  \n",
       "alpha[5]     2885.0    1.0  \n",
       "alpha[6]     2384.0    1.0  \n",
       "alpha[7]     2943.0    1.0  \n",
       "alpha[8]     2630.0    1.0  \n",
       "alpha[9]     2688.0    1.0  \n",
       "alpha[10]    2379.0    1.0  \n",
       "alpha[11]    3014.0    1.0  \n",
       "alpha[12]    3058.0    1.0  \n",
       "alpha[13]    2795.0    1.0  \n",
       "alpha[14]    2692.0    1.0  \n",
       "alpha[15]    2815.0    1.0  \n",
       "alpha[16]    2837.0    1.0  \n",
       "alpha[17]    2624.0    1.0  \n",
       "alpha[18]    2496.0    1.0  \n",
       "alpha[19]    2956.0    1.0  \n",
       "alpha[20]    2721.0    1.0  \n",
       "alpha[21]    2220.0    1.0  \n",
       "alpha[22]    2524.0    1.0  \n",
       "alpha[23]    2817.0    1.0  \n",
       "alpha[24]    2412.0    1.0  \n",
       "alpha[25]    2698.0    1.0  \n",
       "alpha[26]    2894.0    1.0  \n",
       "alpha[27]    3363.0    1.0  \n",
       "alpha[28]    2966.0    1.0  \n",
       "alpha[29]    3250.0    1.0  \n",
       "alpha[30]    2739.0    1.0  \n",
       "alpha[31]    2842.0    1.0  \n",
       "alpha[32]    2644.0    1.0  \n",
       "alpha[33]    3002.0    1.0  \n",
       "alpha[34]    2027.0    1.0  \n",
       "alpha[35]    2557.0    1.0  \n",
       "alpha[36]    2645.0    1.0  \n",
       "alpha[37]    2872.0    1.0  \n",
       "alpha[38]    2247.0    1.0  \n",
       "alpha[39]    2801.0    1.0  \n",
       "alpha[40]    2938.0    1.0  \n",
       "alpha[41]    2564.0    1.0  \n",
       "alpha[42]    3157.0    1.0  \n",
       "alpha[43]    3032.0    1.0  \n",
       "alpha[44]    3146.0    1.0  \n",
       "alpha[45]    3158.0    1.0  \n",
       "alpha[46]    2614.0    1.0  \n",
       "alpha[47]    2720.0    1.0  \n",
       "bar_alpha    2923.0    1.0  \n",
       "sigma        3083.0    1.0  "
      ]
     },
     "execution_count": 14,
     "metadata": {},
     "output_type": "execute_result"
    }
   ],
   "source": [
    "az.summary(model_13_2, hdi_prob=0.89)"
   ]
  },
  {
   "cell_type": "code",
   "execution_count": 15,
   "id": "29c63ab3",
   "metadata": {},
   "outputs": [
    {
     "data": {
      "image/png": "[encoded data removed]",
      "text/plain": [
       "<Figure size 1224x1440 with 1 Axes>"
      ]
     },
     "metadata": {
      "filenames": {
       "image/png": "/home/rodolpho/Projects/bayesian/rethinking/statistical_rethinking_pt_BR/_build/jupyter_execute/parte_13_22_0.png"
      },
      "needs_background": "light"
     },
     "output_type": "display_data"
    }
   ],
   "source": [
    "az.plot_forest(model_13_2, hdi_prob=0.89, combined=True, figsize=(17, 20))\n",
    "\n",
    "plt.grid(axis='y', color='white', alpha=0.3)\n",
    "plt.show()"
   ]
  },
  {
   "cell_type": "markdown",
   "id": "c81d27cd",
   "metadata": {},
   "source": [
    "### R Code 13.4"
   ]
  },
  {
   "cell_type": "code",
   "execution_count": 16,
   "id": "b2f99ea1",
   "metadata": {},
   "outputs": [],
   "source": [
    "# az.compare(model_13_1, model_13_2)"
   ]
  },
  {
   "cell_type": "markdown",
   "id": "122be960",
   "metadata": {},
   "source": [
    "### R Code 13.5"
   ]
  },
  {
   "cell_type": "code",
   "execution_count": 17,
   "id": "fe08dff6",
   "metadata": {},
   "outputs": [],
   "source": [
    "means = [ model_13_2.posterior.alpha.sel(alpha_dim_0=(i-1)).values.flatten().mean() for i in df.tank ]\n",
    "means = inv_logit(means)"
   ]
  },
  {
   "cell_type": "code",
   "execution_count": 18,
   "id": "32f09207",
   "metadata": {},
   "outputs": [],
   "source": [
    "# My test, this is not originaly in book\n",
    "means_13_1 = [ model_13_1.posterior.alpha.sel(alpha_dim_0=(i-1)).values.flatten().mean() for i in df.tank ]\n",
    "means_13_1 = inv_logit(means_13_1)"
   ]
  },
  {
   "cell_type": "code",
   "execution_count": 19,
   "id": "ce91f00b",
   "metadata": {},
   "outputs": [],
   "source": [
    "bar_alpha_log = model_13_2.posterior.bar_alpha.values.flatten()\n",
    "bar_alpha = inv_logit(bar_alpha_log)\n",
    "bar_alpha_mean = bar_alpha.mean() \n",
    "\n",
    "sigma_log = model_13_2.posterior.sigma.values.flatten()\n",
    "sigma = inv_logit(sigma_log)\n",
    "sigma_mean = sigma.mean()"
   ]
  },
  {
   "cell_type": "code",
   "execution_count": 20,
   "id": "60f9bf96",
   "metadata": {},
   "outputs": [
    {
     "data": {
      "image/png": "[encoded data removed]",
      "text/plain": [
       "<Figure size 1224x432 with 1 Axes>"
      ]
     },
     "metadata": {
      "filenames": {
       "image/png": "/home/rodolpho/Projects/bayesian/rethinking/statistical_rethinking_pt_BR/_build/jupyter_execute/parte_13_29_0.png"
      },
      "needs_background": "light"
     },
     "output_type": "display_data"
    }
   ],
   "source": [
    "plt.figure(figsize=(17, 6))\n",
    "plt.ylim = ([0, 1])\n",
    "\n",
    "plt.scatter(df.tank, means, edgecolors='black', c='lightgray', s=100)\n",
    "plt.scatter(df.tank, means_13_1, edgecolors='yellow', c='lightgray', s=100, alpha=0.4)\n",
    "plt.scatter(df.tank, df.propsurv, c='blue')\n",
    "\n",
    "\n",
    "plt.axvline(x=15.5, ls='--', color='white', alpha=0.3)\n",
    "plt.axvline(x=31.5, ls='--', color='white', alpha=0.3)\n",
    "\n",
    "plt.axhline(y=bar_alpha_mean, ls='--', c='black', alpha=0.7)\n",
    "\n",
    "plt.text(4, 0.05, 'Small Tank', size=12)\n",
    "plt.text(22, 0.05, 'Medium Tank', size=12)\n",
    "plt.text(40, 0.05, 'Large Tank', size=12)\n",
    "\n",
    "plt.gca().set_ylim(0.0, 1.05)\n",
    "\n",
    "plt.title('Tadpole survival Tanks')\n",
    "plt.xlabel('Tank Index')\n",
    "plt.ylabel('Porportion Survival')\n",
    "\n",
    "plt.show()"
   ]
  },
  {
   "cell_type": "markdown",
   "id": "3e064bb2",
   "metadata": {},
   "source": [
    "- **Blue dot**: Proportion survival s_i/N_i\n",
    "\n",
    "- **Black circle**: Multilevel model estimative\n",
    "\n",
    "- **Light Yellow**: No-pooling estimative"
   ]
  },
  {
   "cell_type": "markdown",
   "id": "1fb23838",
   "metadata": {},
   "source": [
    "### R Code 13.6"
   ]
  },
  {
   "cell_type": "code",
   "execution_count": 21,
   "id": "086fcc9f",
   "metadata": {
    "scrolled": false
   },
   "outputs": [
    {
     "data": {
      "image/png": "[encoded data removed]",
      "text/plain": [
       "<Figure size 1224x432 with 2 Axes>"
      ]
     },
     "metadata": {
      "filenames": {
       "image/png": "/home/rodolpho/Projects/bayesian/rethinking/statistical_rethinking_pt_BR/_build/jupyter_execute/parte_13_32_0.png"
      },
      "needs_background": "light"
     },
     "output_type": "display_data"
    }
   ],
   "source": [
    "fig = plt.figure(figsize=(17, 6))\n",
    "gs = GridSpec(1, 2)\n",
    "\n",
    "x = np.linspace(-3, 4)\n",
    "\n",
    "s_sampled = 500\n",
    "\n",
    "ax1 = fig.add_subplot(gs[0, 0])\n",
    "log_odds_survival = []\n",
    "log_odds_sampled_index = np.random.choice(len(bar_alpha_log) ,size=s_sampled, replace=False)\n",
    "\n",
    "for i in log_odds_sampled_index:\n",
    "    log_odds_survival.append(stats.norm.pdf(x, bar_alpha_log[i], sigma_log[i]))\n",
    "\n",
    "for i in range(s_sampled):\n",
    "    ax1.plot(x, log_odds_survival[i], c='darkblue', linewidth=0.05)\n",
    "ax1.set_title('Survival across Tank')\n",
    "ax1.set_xlabel('log_odds survival')\n",
    "ax1.set_ylabel('Density')\n",
    "    \n",
    "\n",
    "ax2 = fig.add_subplot(gs[0, 1])\n",
    "samples_log = np.random.normal(bar_alpha_log, sigma_log)\n",
    "ax2.hist(inv_logit(samples_log), rwidth=0.9, color='darkblue', density=True)\n",
    "ax2.axvline(x=np.mean(inv_logit(samples_log)), c='black', ls='--')\n",
    "ax2.text(np.mean(inv_logit(samples_log))+0.01, 2.5, 'Mean')\n",
    "\n",
    "ax2.set_title('Survival probabilities simulations')\n",
    "ax2.set_xlabel('Probability survival')\n",
    "ax2.set_ylabel('Density')\n",
    "\n",
    "plt.show()"
   ]
  },
  {
   "cell_type": "markdown",
   "id": "81b96139",
   "metadata": {},
   "source": [
    "## 13.2 Varing effects  and underfitting/overfitting trade-off"
   ]
  },
  {
   "cell_type": "markdown",
   "id": "72b22cfa",
   "metadata": {},
   "source": [
    "The model\n",
    "\n",
    "$$ S_i \\sim Binomial(N_i, p_i) $$\n",
    "\n",
    "$$ logit(p_i) = \\alpha_{POND[i]} $$\n",
    "\n",
    "$$ \\alpha_j \\sim Normal(\\bar{\\alpha}, \\sigma) $$\n",
    "\n",
    "$$ \\bar{\\alpha} \\sim Normal(0, 1.5) $$\n",
    "\n",
    "$$ \\sigma \\sim Exponential(1) $$"
   ]
  },
  {
   "cell_type": "markdown",
   "id": "a6fef872",
   "metadata": {},
   "source": [
    "$\\bar{\\alpha} := $ the avegare log-oods fo survival in the entire population of ponds\n",
    "\n",
    "$\\sigma := $ the standard deviation of the distribution of log-oods of survivial among ponds\n",
    "\n",
    "$\\alpha := $ a vector of individual pond intercepts, one for each pond"
   ]
  },
  {
   "cell_type": "markdown",
   "id": "1ebf32aa",
   "metadata": {},
   "source": [
    "### R Code 13.7"
   ]
  },
  {
   "cell_type": "code",
   "execution_count": 22,
   "id": "4279f35b",
   "metadata": {},
   "outputs": [],
   "source": [
    "a_bar = 1.5\n",
    "sigma = 1.5\n",
    "nponds = 60\n",
    "\n",
    "repeats = 15\n",
    "\n",
    "Ni = np.repeat([5, 10, 25, 35], repeats=repeats)"
   ]
  },
  {
   "cell_type": "markdown",
   "id": "646a770c",
   "metadata": {},
   "source": [
    "### R Code 13.8"
   ]
  },
  {
   "cell_type": "code",
   "execution_count": 23,
   "id": "7d9ecd3d",
   "metadata": {},
   "outputs": [],
   "source": [
    "a_pond = np.random.normal(loc=a_bar, scale=sigma, size=nponds)"
   ]
  },
  {
   "cell_type": "markdown",
   "id": "ef39008e",
   "metadata": {},
   "source": [
    "### R Code 13.9"
   ]
  },
  {
   "cell_type": "code",
   "execution_count": 24,
   "id": "c9614282",
   "metadata": {},
   "outputs": [
    {
     "data": {
      "text/html": [
       "<div>\n",
       "<style scoped>\n",
       "    .dataframe tbody tr th:only-of-type {\n",
       "        vertical-align: middle;\n",
       "    }\n",
       "\n",
       "    .dataframe tbody tr th {\n",
       "        vertical-align: top;\n",
       "    }\n",
       "\n",
       "    .dataframe thead th {\n",
       "        text-align: right;\n",
       "    }\n",
       "</style>\n",
       "<table border=\"1\" class=\"dataframe\">\n",
       "  <thead>\n",
       "    <tr style=\"text-align: right;\">\n",
       "      <th></th>\n",
       "      <th>pond</th>\n",
       "      <th>Ni</th>\n",
       "      <th>true_a</th>\n",
       "    </tr>\n",
       "  </thead>\n",
       "  <tbody>\n",
       "    <tr>\n",
       "      <th>0</th>\n",
       "      <td>1</td>\n",
       "      <td>5</td>\n",
       "      <td>1.812547</td>\n",
       "    </tr>\n",
       "    <tr>\n",
       "      <th>1</th>\n",
       "      <td>2</td>\n",
       "      <td>5</td>\n",
       "      <td>0.484266</td>\n",
       "    </tr>\n",
       "    <tr>\n",
       "      <th>2</th>\n",
       "      <td>3</td>\n",
       "      <td>5</td>\n",
       "      <td>2.273773</td>\n",
       "    </tr>\n",
       "    <tr>\n",
       "      <th>3</th>\n",
       "      <td>4</td>\n",
       "      <td>5</td>\n",
       "      <td>1.495332</td>\n",
       "    </tr>\n",
       "    <tr>\n",
       "      <th>4</th>\n",
       "      <td>5</td>\n",
       "      <td>5</td>\n",
       "      <td>1.674099</td>\n",
       "    </tr>\n",
       "  </tbody>\n",
       "</table>\n",
       "</div>"
      ],
      "text/plain": [
       "   pond  Ni    true_a\n",
       "0     1   5  1.812547\n",
       "1     2   5  0.484266\n",
       "2     3   5  2.273773\n",
       "3     4   5  1.495332\n",
       "4     5   5  1.674099"
      ]
     },
     "execution_count": 24,
     "metadata": {},
     "output_type": "execute_result"
    }
   ],
   "source": [
    "d = {\n",
    "    'pond': np.arange(nponds) + 1,\n",
    "    'Ni':Ni,\n",
    "    'true_a': a_pond,\n",
    "}\n",
    "\n",
    "dsim = pd.DataFrame(data=d)\n",
    "dsim.head()"
   ]
  },
  {
   "cell_type": "markdown",
   "id": "bdfe8ced",
   "metadata": {},
   "source": [
    "### R Code 13.10"
   ]
  },
  {
   "cell_type": "code",
   "execution_count": 25,
   "id": "6ac31a70",
   "metadata": {},
   "outputs": [],
   "source": [
    "# Code in R -> integer vs numeric"
   ]
  },
  {
   "cell_type": "markdown",
   "id": "f6abedc7",
   "metadata": {},
   "source": [
    "### R Code 13.11"
   ]
  },
  {
   "cell_type": "code",
   "execution_count": 26,
   "id": "624e38f2",
   "metadata": {},
   "outputs": [
    {
     "data": {
      "text/html": [
       "<div>\n",
       "<style scoped>\n",
       "    .dataframe tbody tr th:only-of-type {\n",
       "        vertical-align: middle;\n",
       "    }\n",
       "\n",
       "    .dataframe tbody tr th {\n",
       "        vertical-align: top;\n",
       "    }\n",
       "\n",
       "    .dataframe thead th {\n",
       "        text-align: right;\n",
       "    }\n",
       "</style>\n",
       "<table border=\"1\" class=\"dataframe\">\n",
       "  <thead>\n",
       "    <tr style=\"text-align: right;\">\n",
       "      <th></th>\n",
       "      <th>pond</th>\n",
       "      <th>Ni</th>\n",
       "      <th>true_a</th>\n",
       "      <th>Si</th>\n",
       "    </tr>\n",
       "  </thead>\n",
       "  <tbody>\n",
       "    <tr>\n",
       "      <th>0</th>\n",
       "      <td>1</td>\n",
       "      <td>5</td>\n",
       "      <td>1.812547</td>\n",
       "      <td>5</td>\n",
       "    </tr>\n",
       "    <tr>\n",
       "      <th>1</th>\n",
       "      <td>2</td>\n",
       "      <td>5</td>\n",
       "      <td>0.484266</td>\n",
       "      <td>4</td>\n",
       "    </tr>\n",
       "    <tr>\n",
       "      <th>2</th>\n",
       "      <td>3</td>\n",
       "      <td>5</td>\n",
       "      <td>2.273773</td>\n",
       "      <td>3</td>\n",
       "    </tr>\n",
       "    <tr>\n",
       "      <th>3</th>\n",
       "      <td>4</td>\n",
       "      <td>5</td>\n",
       "      <td>1.495332</td>\n",
       "      <td>3</td>\n",
       "    </tr>\n",
       "    <tr>\n",
       "      <th>4</th>\n",
       "      <td>5</td>\n",
       "      <td>5</td>\n",
       "      <td>1.674099</td>\n",
       "      <td>5</td>\n",
       "    </tr>\n",
       "  </tbody>\n",
       "</table>\n",
       "</div>"
      ],
      "text/plain": [
       "   pond  Ni    true_a  Si\n",
       "0     1   5  1.812547   5\n",
       "1     2   5  0.484266   4\n",
       "2     3   5  2.273773   3\n",
       "3     4   5  1.495332   3\n",
       "4     5   5  1.674099   5"
      ]
     },
     "execution_count": 26,
     "metadata": {},
     "output_type": "execute_result"
    }
   ],
   "source": [
    "dsim['Si'] = np.random.binomial(n=dsim['Ni'], p=inv_logit(dsim['true_a']))\n",
    "dsim.head()"
   ]
  },
  {
   "cell_type": "markdown",
   "id": "1039fcb5",
   "metadata": {},
   "source": [
    "### R Code 13.12"
   ]
  },
  {
   "cell_type": "markdown",
   "id": "8b394277",
   "metadata": {},
   "source": [
    "#### 13.2.4 Compute the no-pooling estimates"
   ]
  },
  {
   "cell_type": "code",
   "execution_count": 27,
   "id": "27491eda",
   "metadata": {},
   "outputs": [
    {
     "data": {
      "text/html": [
       "<div>\n",
       "<style scoped>\n",
       "    .dataframe tbody tr th:only-of-type {\n",
       "        vertical-align: middle;\n",
       "    }\n",
       "\n",
       "    .dataframe tbody tr th {\n",
       "        vertical-align: top;\n",
       "    }\n",
       "\n",
       "    .dataframe thead th {\n",
       "        text-align: right;\n",
       "    }\n",
       "</style>\n",
       "<table border=\"1\" class=\"dataframe\">\n",
       "  <thead>\n",
       "    <tr style=\"text-align: right;\">\n",
       "      <th></th>\n",
       "      <th>pond</th>\n",
       "      <th>Ni</th>\n",
       "      <th>true_a</th>\n",
       "      <th>Si</th>\n",
       "      <th>p_nopool</th>\n",
       "    </tr>\n",
       "  </thead>\n",
       "  <tbody>\n",
       "    <tr>\n",
       "      <th>0</th>\n",
       "      <td>1</td>\n",
       "      <td>5</td>\n",
       "      <td>1.812547</td>\n",
       "      <td>5</td>\n",
       "      <td>1.0</td>\n",
       "    </tr>\n",
       "    <tr>\n",
       "      <th>1</th>\n",
       "      <td>2</td>\n",
       "      <td>5</td>\n",
       "      <td>0.484266</td>\n",
       "      <td>4</td>\n",
       "      <td>0.8</td>\n",
       "    </tr>\n",
       "    <tr>\n",
       "      <th>2</th>\n",
       "      <td>3</td>\n",
       "      <td>5</td>\n",
       "      <td>2.273773</td>\n",
       "      <td>3</td>\n",
       "      <td>0.6</td>\n",
       "    </tr>\n",
       "    <tr>\n",
       "      <th>3</th>\n",
       "      <td>4</td>\n",
       "      <td>5</td>\n",
       "      <td>1.495332</td>\n",
       "      <td>3</td>\n",
       "      <td>0.6</td>\n",
       "    </tr>\n",
       "    <tr>\n",
       "      <th>4</th>\n",
       "      <td>5</td>\n",
       "      <td>5</td>\n",
       "      <td>1.674099</td>\n",
       "      <td>5</td>\n",
       "      <td>1.0</td>\n",
       "    </tr>\n",
       "  </tbody>\n",
       "</table>\n",
       "</div>"
      ],
      "text/plain": [
       "   pond  Ni    true_a  Si  p_nopool\n",
       "0     1   5  1.812547   5       1.0\n",
       "1     2   5  0.484266   4       0.8\n",
       "2     3   5  2.273773   3       0.6\n",
       "3     4   5  1.495332   3       0.6\n",
       "4     5   5  1.674099   5       1.0"
      ]
     },
     "execution_count": 27,
     "metadata": {},
     "output_type": "execute_result"
    }
   ],
   "source": [
    "dsim['p_nopool'] = dsim['Si'] / dsim['Ni']\n",
    "dsim.head()"
   ]
  },
  {
   "cell_type": "markdown",
   "id": "99d028cf",
   "metadata": {},
   "source": [
    "### R Code 13.13"
   ]
  },
  {
   "cell_type": "markdown",
   "id": "99ccaee8",
   "metadata": {},
   "source": [
    "#### 13.2.5 Compute the partial-pooling estimates"
   ]
  },
  {
   "cell_type": "code",
   "execution_count": 28,
   "id": "2681a744",
   "metadata": {
    "tags": [
     "remove_output"
    ]
   },
   "outputs": [
    {
     "name": "stderr",
     "output_type": "stream",
     "text": [
      "\u001b[32mBuilding:\u001b[0m found in cache, done.\n"
     ]
    },
    {
     "name": "stderr",
     "output_type": "stream",
     "text": [
      "\u001b[36mSampling:\u001b[0m   0%\n"
     ]
    },
    {
     "name": "stderr",
     "output_type": "stream",
     "text": [
      "\u001b[1A"
     ]
    },
    {
     "name": "stderr",
     "output_type": "stream",
     "text": [
      "\u001b[0J"
     ]
    },
    {
     "name": "stderr",
     "output_type": "stream",
     "text": [
      "\u001b[36mSampling:\u001b[0m  25% (2000/8000)\n"
     ]
    },
    {
     "name": "stderr",
     "output_type": "stream",
     "text": [
      "\u001b[1A"
     ]
    },
    {
     "name": "stderr",
     "output_type": "stream",
     "text": [
      "\u001b[0J"
     ]
    },
    {
     "name": "stderr",
     "output_type": "stream",
     "text": [
      "\u001b[36mSampling:\u001b[0m  50% (4000/8000)\n"
     ]
    },
    {
     "name": "stderr",
     "output_type": "stream",
     "text": [
      "\u001b[1A"
     ]
    },
    {
     "name": "stderr",
     "output_type": "stream",
     "text": [
      "\u001b[0J"
     ]
    },
    {
     "name": "stderr",
     "output_type": "stream",
     "text": [
      "\u001b[36mSampling:\u001b[0m  75% (6000/8000)\n"
     ]
    },
    {
     "name": "stderr",
     "output_type": "stream",
     "text": [
      "\u001b[1A"
     ]
    },
    {
     "name": "stderr",
     "output_type": "stream",
     "text": [
      "\u001b[0J"
     ]
    },
    {
     "name": "stderr",
     "output_type": "stream",
     "text": [
      "\u001b[36mSampling:\u001b[0m 100% (8000/8000)\n"
     ]
    },
    {
     "name": "stderr",
     "output_type": "stream",
     "text": [
      "\u001b[1A"
     ]
    },
    {
     "name": "stderr",
     "output_type": "stream",
     "text": [
      "\u001b[0J"
     ]
    },
    {
     "name": "stderr",
     "output_type": "stream",
     "text": [
      "\u001b[32mSampling:\u001b[0m 100% (8000/8000), done.\n"
     ]
    },
    {
     "name": "stderr",
     "output_type": "stream",
     "text": [
      "\u001b[36mMessages received during sampling:\u001b[0m\n"
     ]
    },
    {
     "name": "stderr",
     "output_type": "stream",
     "text": [
      "  Gradient evaluation took 4.9e-05 seconds\n"
     ]
    },
    {
     "name": "stderr",
     "output_type": "stream",
     "text": [
      "  1000 transitions using 10 leapfrog steps per transition would take 0.49 seconds.\n"
     ]
    },
    {
     "name": "stderr",
     "output_type": "stream",
     "text": [
      "  Adjust your expectations accordingly!\n"
     ]
    },
    {
     "name": "stderr",
     "output_type": "stream",
     "text": [
      "  Gradient evaluation took 9.3e-05 seconds\n"
     ]
    },
    {
     "name": "stderr",
     "output_type": "stream",
     "text": [
      "  1000 transitions using 10 leapfrog steps per transition would take 0.93 seconds.\n"
     ]
    },
    {
     "name": "stderr",
     "output_type": "stream",
     "text": [
      "  Adjust your expectations accordingly!\n"
     ]
    },
    {
     "name": "stderr",
     "output_type": "stream",
     "text": [
      "  Gradient evaluation took 5.8e-05 seconds\n"
     ]
    },
    {
     "name": "stderr",
     "output_type": "stream",
     "text": [
      "  1000 transitions using 10 leapfrog steps per transition would take 0.58 seconds.\n"
     ]
    },
    {
     "name": "stderr",
     "output_type": "stream",
     "text": [
      "  Adjust your expectations accordingly!\n"
     ]
    },
    {
     "name": "stderr",
     "output_type": "stream",
     "text": [
      "  Gradient evaluation took 8.6e-05 seconds\n"
     ]
    },
    {
     "name": "stderr",
     "output_type": "stream",
     "text": [
      "  1000 transitions using 10 leapfrog steps per transition would take 0.86 seconds.\n"
     ]
    },
    {
     "name": "stderr",
     "output_type": "stream",
     "text": [
      "  Adjust your expectations accordingly!\n"
     ]
    }
   ],
   "source": [
    "model = \"\"\"\n",
    "    data {\n",
    "        int N;\n",
    "        array[N] int pond;  // Pond index\n",
    "        array[N] int Ni;  // Population in pond[i]\n",
    "        array[N] int Si;  // Survivals from Ni pond\n",
    "    }\n",
    "    \n",
    "    parameters {\n",
    "        vector[N] alpha;\n",
    "        real bar_alpha;\n",
    "        real<lower=0> sigma;\n",
    "    }\n",
    "    \n",
    "    model {\n",
    "        vector[N] pi;\n",
    "        \n",
    "        // Link\n",
    "            for (i in 1:N) {\n",
    "                pi[i] = alpha[ pond[i] ];\n",
    "                pi[i] = inv_logit(pi[i]);\n",
    "            }\n",
    "        \n",
    "        // Prior\n",
    "        alpha ~ normal(bar_alpha, sigma);\n",
    "        \n",
    "        // Hyper Prior\n",
    "        bar_alpha ~ normal(0, 1.5);\n",
    "        sigma ~ exponential(1);\n",
    "    \n",
    "        // Likelihood\n",
    "        Si ~ binomial(Ni, pi);\n",
    "    }\n",
    "\"\"\"\n",
    "\n",
    "\n",
    "dat_list = {\n",
    "    'N': len(dsim),\n",
    "    'Ni': dsim['Ni'].to_list(),\n",
    "    'pond': dsim['pond'].to_list(),\n",
    "    'Si': dsim['Si'].to_list(),\n",
    "}\n",
    "\n",
    "posteriori = stan.build(model, data=dat_list)\n",
    "samples = posteriori.sample(num_chains=4, num_samples=1000)"
   ]
  },
  {
   "cell_type": "markdown",
   "id": "cb5b2d66",
   "metadata": {},
   "source": [
    "### R Code 13.14"
   ]
  },
  {
   "cell_type": "code",
   "execution_count": 29,
   "id": "7eb8e89c",
   "metadata": {},
   "outputs": [],
   "source": [
    "model_13_3 = az.from_pystan(\n",
    "    posterior=samples,\n",
    "    posterior_model=posteriori,\n",
    "    observed_data=dat_list\n",
    ")"
   ]
  },
  {
   "cell_type": "code",
   "execution_count": 30,
   "id": "8dd12db9",
   "metadata": {},
   "outputs": [
    {
     "data": {
      "text/html": [
       "<div>\n",
       "<style scoped>\n",
       "    .dataframe tbody tr th:only-of-type {\n",
       "        vertical-align: middle;\n",
       "    }\n",
       "\n",
       "    .dataframe tbody tr th {\n",
       "        vertical-align: top;\n",
       "    }\n",
       "\n",
       "    .dataframe thead th {\n",
       "        text-align: right;\n",
       "    }\n",
       "</style>\n",
       "<table border=\"1\" class=\"dataframe\">\n",
       "  <thead>\n",
       "    <tr style=\"text-align: right;\">\n",
       "      <th></th>\n",
       "      <th>mean</th>\n",
       "      <th>sd</th>\n",
       "      <th>hdi_5.5%</th>\n",
       "      <th>hdi_94.5%</th>\n",
       "      <th>mcse_mean</th>\n",
       "      <th>mcse_sd</th>\n",
       "      <th>ess_bulk</th>\n",
       "      <th>ess_tail</th>\n",
       "      <th>r_hat</th>\n",
       "    </tr>\n",
       "  </thead>\n",
       "  <tbody>\n",
       "    <tr>\n",
       "      <th>alpha[0]</th>\n",
       "      <td>2.787</td>\n",
       "      <td>1.241</td>\n",
       "      <td>0.919</td>\n",
       "      <td>4.799</td>\n",
       "      <td>0.019</td>\n",
       "      <td>0.016</td>\n",
       "      <td>4867.0</td>\n",
       "      <td>2442.0</td>\n",
       "      <td>1.0</td>\n",
       "    </tr>\n",
       "    <tr>\n",
       "      <th>alpha[1]</th>\n",
       "      <td>1.562</td>\n",
       "      <td>0.969</td>\n",
       "      <td>-0.034</td>\n",
       "      <td>3.021</td>\n",
       "      <td>0.014</td>\n",
       "      <td>0.012</td>\n",
       "      <td>5222.0</td>\n",
       "      <td>2609.0</td>\n",
       "      <td>1.0</td>\n",
       "    </tr>\n",
       "    <tr>\n",
       "      <th>alpha[2]</th>\n",
       "      <td>0.721</td>\n",
       "      <td>0.865</td>\n",
       "      <td>-0.728</td>\n",
       "      <td>2.038</td>\n",
       "      <td>0.012</td>\n",
       "      <td>0.012</td>\n",
       "      <td>5554.0</td>\n",
       "      <td>2651.0</td>\n",
       "      <td>1.0</td>\n",
       "    </tr>\n",
       "    <tr>\n",
       "      <th>alpha[3]</th>\n",
       "      <td>0.728</td>\n",
       "      <td>0.854</td>\n",
       "      <td>-0.587</td>\n",
       "      <td>2.118</td>\n",
       "      <td>0.013</td>\n",
       "      <td>0.012</td>\n",
       "      <td>4619.0</td>\n",
       "      <td>2732.0</td>\n",
       "      <td>1.0</td>\n",
       "    </tr>\n",
       "    <tr>\n",
       "      <th>alpha[4]</th>\n",
       "      <td>2.759</td>\n",
       "      <td>1.252</td>\n",
       "      <td>0.761</td>\n",
       "      <td>4.686</td>\n",
       "      <td>0.019</td>\n",
       "      <td>0.015</td>\n",
       "      <td>4595.0</td>\n",
       "      <td>2736.0</td>\n",
       "      <td>1.0</td>\n",
       "    </tr>\n",
       "    <tr>\n",
       "      <th>...</th>\n",
       "      <td>...</td>\n",
       "      <td>...</td>\n",
       "      <td>...</td>\n",
       "      <td>...</td>\n",
       "      <td>...</td>\n",
       "      <td>...</td>\n",
       "      <td>...</td>\n",
       "      <td>...</td>\n",
       "      <td>...</td>\n",
       "    </tr>\n",
       "    <tr>\n",
       "      <th>alpha[57]</th>\n",
       "      <td>4.017</td>\n",
       "      <td>1.033</td>\n",
       "      <td>2.446</td>\n",
       "      <td>5.569</td>\n",
       "      <td>0.017</td>\n",
       "      <td>0.014</td>\n",
       "      <td>4304.0</td>\n",
       "      <td>2100.0</td>\n",
       "      <td>1.0</td>\n",
       "    </tr>\n",
       "    <tr>\n",
       "      <th>alpha[58]</th>\n",
       "      <td>1.430</td>\n",
       "      <td>0.410</td>\n",
       "      <td>0.782</td>\n",
       "      <td>2.105</td>\n",
       "      <td>0.006</td>\n",
       "      <td>0.004</td>\n",
       "      <td>5454.0</td>\n",
       "      <td>3090.0</td>\n",
       "      <td>1.0</td>\n",
       "    </tr>\n",
       "    <tr>\n",
       "      <th>alpha[59]</th>\n",
       "      <td>1.115</td>\n",
       "      <td>0.384</td>\n",
       "      <td>0.451</td>\n",
       "      <td>1.690</td>\n",
       "      <td>0.005</td>\n",
       "      <td>0.004</td>\n",
       "      <td>5327.0</td>\n",
       "      <td>3270.0</td>\n",
       "      <td>1.0</td>\n",
       "    </tr>\n",
       "    <tr>\n",
       "      <th>bar_alpha</th>\n",
       "      <td>1.442</td>\n",
       "      <td>0.254</td>\n",
       "      <td>1.026</td>\n",
       "      <td>1.835</td>\n",
       "      <td>0.004</td>\n",
       "      <td>0.003</td>\n",
       "      <td>3741.0</td>\n",
       "      <td>2961.0</td>\n",
       "      <td>1.0</td>\n",
       "    </tr>\n",
       "    <tr>\n",
       "      <th>sigma</th>\n",
       "      <td>1.700</td>\n",
       "      <td>0.236</td>\n",
       "      <td>1.320</td>\n",
       "      <td>2.046</td>\n",
       "      <td>0.006</td>\n",
       "      <td>0.004</td>\n",
       "      <td>1522.0</td>\n",
       "      <td>2025.0</td>\n",
       "      <td>1.0</td>\n",
       "    </tr>\n",
       "  </tbody>\n",
       "</table>\n",
       "<p>62 rows × 9 columns</p>\n",
       "</div>"
      ],
      "text/plain": [
       "            mean     sd  hdi_5.5%  hdi_94.5%  mcse_mean  mcse_sd  ess_bulk  \\\n",
       "alpha[0]   2.787  1.241     0.919      4.799      0.019    0.016    4867.0   \n",
       "alpha[1]   1.562  0.969    -0.034      3.021      0.014    0.012    5222.0   \n",
       "alpha[2]   0.721  0.865    -0.728      2.038      0.012    0.012    5554.0   \n",
       "alpha[3]   0.728  0.854    -0.587      2.118      0.013    0.012    4619.0   \n",
       "alpha[4]   2.759  1.252     0.761      4.686      0.019    0.015    4595.0   \n",
       "...          ...    ...       ...        ...        ...      ...       ...   \n",
       "alpha[57]  4.017  1.033     2.446      5.569      0.017    0.014    4304.0   \n",
       "alpha[58]  1.430  0.410     0.782      2.105      0.006    0.004    5454.0   \n",
       "alpha[59]  1.115  0.384     0.451      1.690      0.005    0.004    5327.0   \n",
       "bar_alpha  1.442  0.254     1.026      1.835      0.004    0.003    3741.0   \n",
       "sigma      1.700  0.236     1.320      2.046      0.006    0.004    1522.0   \n",
       "\n",
       "           ess_tail  r_hat  \n",
       "alpha[0]     2442.0    1.0  \n",
       "alpha[1]     2609.0    1.0  \n",
       "alpha[2]     2651.0    1.0  \n",
       "alpha[3]     2732.0    1.0  \n",
       "alpha[4]     2736.0    1.0  \n",
       "...             ...    ...  \n",
       "alpha[57]    2100.0    1.0  \n",
       "alpha[58]    3090.0    1.0  \n",
       "alpha[59]    3270.0    1.0  \n",
       "bar_alpha    2961.0    1.0  \n",
       "sigma        2025.0    1.0  \n",
       "\n",
       "[62 rows x 9 columns]"
      ]
     },
     "execution_count": 30,
     "metadata": {},
     "output_type": "execute_result"
    }
   ],
   "source": [
    "az.summary(model_13_3, hdi_prob=0.89)"
   ]
  },
  {
   "cell_type": "markdown",
   "id": "999a0658",
   "metadata": {},
   "source": [
    "### R Code 13.15"
   ]
  },
  {
   "cell_type": "code",
   "execution_count": 31,
   "id": "07042ce0",
   "metadata": {},
   "outputs": [
    {
     "data": {
      "text/html": [
       "<div>\n",
       "<style scoped>\n",
       "    .dataframe tbody tr th:only-of-type {\n",
       "        vertical-align: middle;\n",
       "    }\n",
       "\n",
       "    .dataframe tbody tr th {\n",
       "        vertical-align: top;\n",
       "    }\n",
       "\n",
       "    .dataframe thead th {\n",
       "        text-align: right;\n",
       "    }\n",
       "</style>\n",
       "<table border=\"1\" class=\"dataframe\">\n",
       "  <thead>\n",
       "    <tr style=\"text-align: right;\">\n",
       "      <th></th>\n",
       "      <th>pond</th>\n",
       "      <th>Ni</th>\n",
       "      <th>true_a</th>\n",
       "      <th>Si</th>\n",
       "      <th>p_nopool</th>\n",
       "      <th>p_partpool</th>\n",
       "    </tr>\n",
       "  </thead>\n",
       "  <tbody>\n",
       "    <tr>\n",
       "      <th>0</th>\n",
       "      <td>1</td>\n",
       "      <td>5</td>\n",
       "      <td>1.812547</td>\n",
       "      <td>5</td>\n",
       "      <td>1.0</td>\n",
       "      <td>0.941987</td>\n",
       "    </tr>\n",
       "    <tr>\n",
       "      <th>1</th>\n",
       "      <td>2</td>\n",
       "      <td>5</td>\n",
       "      <td>0.484266</td>\n",
       "      <td>4</td>\n",
       "      <td>0.8</td>\n",
       "      <td>0.826685</td>\n",
       "    </tr>\n",
       "    <tr>\n",
       "      <th>2</th>\n",
       "      <td>3</td>\n",
       "      <td>5</td>\n",
       "      <td>2.273773</td>\n",
       "      <td>3</td>\n",
       "      <td>0.6</td>\n",
       "      <td>0.672823</td>\n",
       "    </tr>\n",
       "    <tr>\n",
       "      <th>3</th>\n",
       "      <td>4</td>\n",
       "      <td>5</td>\n",
       "      <td>1.495332</td>\n",
       "      <td>3</td>\n",
       "      <td>0.6</td>\n",
       "      <td>0.674364</td>\n",
       "    </tr>\n",
       "    <tr>\n",
       "      <th>4</th>\n",
       "      <td>5</td>\n",
       "      <td>5</td>\n",
       "      <td>1.674099</td>\n",
       "      <td>5</td>\n",
       "      <td>1.0</td>\n",
       "      <td>0.940440</td>\n",
       "    </tr>\n",
       "  </tbody>\n",
       "</table>\n",
       "</div>"
      ],
      "text/plain": [
       "   pond  Ni    true_a  Si  p_nopool  p_partpool\n",
       "0     1   5  1.812547   5       1.0    0.941987\n",
       "1     2   5  0.484266   4       0.8    0.826685\n",
       "2     3   5  2.273773   3       0.6    0.672823\n",
       "3     4   5  1.495332   3       0.6    0.674364\n",
       "4     5   5  1.674099   5       1.0    0.940440"
      ]
     },
     "execution_count": 31,
     "metadata": {},
     "output_type": "execute_result"
    }
   ],
   "source": [
    "dsim['p_partpool'] = [inv_logit(model_13_3.posterior.alpha.sel(alpha_dim_0=i).values.mean()) for i in range(len(dsim))]\n",
    "dsim.head()"
   ]
  },
  {
   "cell_type": "markdown",
   "id": "3413ccee",
   "metadata": {},
   "source": [
    "### R Code 13.16"
   ]
  },
  {
   "cell_type": "code",
   "execution_count": 32,
   "id": "9a6fd6bb",
   "metadata": {},
   "outputs": [
    {
     "data": {
      "text/html": [
       "<div>\n",
       "<style scoped>\n",
       "    .dataframe tbody tr th:only-of-type {\n",
       "        vertical-align: middle;\n",
       "    }\n",
       "\n",
       "    .dataframe tbody tr th {\n",
       "        vertical-align: top;\n",
       "    }\n",
       "\n",
       "    .dataframe thead th {\n",
       "        text-align: right;\n",
       "    }\n",
       "</style>\n",
       "<table border=\"1\" class=\"dataframe\">\n",
       "  <thead>\n",
       "    <tr style=\"text-align: right;\">\n",
       "      <th></th>\n",
       "      <th>pond</th>\n",
       "      <th>Ni</th>\n",
       "      <th>true_a</th>\n",
       "      <th>Si</th>\n",
       "      <th>p_nopool</th>\n",
       "      <th>p_partpool</th>\n",
       "      <th>p_true</th>\n",
       "    </tr>\n",
       "  </thead>\n",
       "  <tbody>\n",
       "    <tr>\n",
       "      <th>0</th>\n",
       "      <td>1</td>\n",
       "      <td>5</td>\n",
       "      <td>1.812547</td>\n",
       "      <td>5</td>\n",
       "      <td>1.0</td>\n",
       "      <td>0.941987</td>\n",
       "      <td>0.859669</td>\n",
       "    </tr>\n",
       "    <tr>\n",
       "      <th>1</th>\n",
       "      <td>2</td>\n",
       "      <td>5</td>\n",
       "      <td>0.484266</td>\n",
       "      <td>4</td>\n",
       "      <td>0.8</td>\n",
       "      <td>0.826685</td>\n",
       "      <td>0.618755</td>\n",
       "    </tr>\n",
       "    <tr>\n",
       "      <th>2</th>\n",
       "      <td>3</td>\n",
       "      <td>5</td>\n",
       "      <td>2.273773</td>\n",
       "      <td>3</td>\n",
       "      <td>0.6</td>\n",
       "      <td>0.672823</td>\n",
       "      <td>0.906681</td>\n",
       "    </tr>\n",
       "    <tr>\n",
       "      <th>3</th>\n",
       "      <td>4</td>\n",
       "      <td>5</td>\n",
       "      <td>1.495332</td>\n",
       "      <td>3</td>\n",
       "      <td>0.6</td>\n",
       "      <td>0.674364</td>\n",
       "      <td>0.816877</td>\n",
       "    </tr>\n",
       "    <tr>\n",
       "      <th>4</th>\n",
       "      <td>5</td>\n",
       "      <td>5</td>\n",
       "      <td>1.674099</td>\n",
       "      <td>5</td>\n",
       "      <td>1.0</td>\n",
       "      <td>0.940440</td>\n",
       "      <td>0.842122</td>\n",
       "    </tr>\n",
       "  </tbody>\n",
       "</table>\n",
       "</div>"
      ],
      "text/plain": [
       "   pond  Ni    true_a  Si  p_nopool  p_partpool    p_true\n",
       "0     1   5  1.812547   5       1.0    0.941987  0.859669\n",
       "1     2   5  0.484266   4       0.8    0.826685  0.618755\n",
       "2     3   5  2.273773   3       0.6    0.672823  0.906681\n",
       "3     4   5  1.495332   3       0.6    0.674364  0.816877\n",
       "4     5   5  1.674099   5       1.0    0.940440  0.842122"
      ]
     },
     "execution_count": 32,
     "metadata": {},
     "output_type": "execute_result"
    }
   ],
   "source": [
    "dsim['p_true'] = inv_logit(dsim['true_a'])\n",
    "dsim.head()"
   ]
  },
  {
   "cell_type": "markdown",
   "id": "a8170cd3",
   "metadata": {},
   "source": [
    "### R Code 13.17"
   ]
  },
  {
   "cell_type": "code",
   "execution_count": 33,
   "id": "c78e65a9",
   "metadata": {},
   "outputs": [],
   "source": [
    "no_pool_error = np.abs(dsim['p_nopool'] - dsim['p_true'])\n",
    "partpool_error = np.abs(dsim['p_partpool'] - dsim['p_true'])"
   ]
  },
  {
   "cell_type": "markdown",
   "id": "340feedc",
   "metadata": {},
   "source": [
    "### R Code 13.18"
   ]
  },
  {
   "cell_type": "code",
   "execution_count": 34,
   "id": "f6734480",
   "metadata": {},
   "outputs": [
    {
     "data": {
      "image/png": "[encoded data removed]",
      "text/plain": [
       "<Figure size 1224x576 with 1 Axes>"
      ]
     },
     "metadata": {
      "filenames": {
       "image/png": "/home/rodolpho/Projects/bayesian/rethinking/statistical_rethinking_pt_BR/_build/jupyter_execute/parte_13_62_0.png"
      },
      "needs_background": "light"
     },
     "output_type": "display_data"
    }
   ],
   "source": [
    "plt.figure(figsize=(17, 8))\n",
    "plt.ylim = ([0, 1])\n",
    "max_lim_graph = 0.3\n",
    "\n",
    "plt.scatter(dsim.pond, partpool_error, edgecolors='black', c='lightgray', s=100)\n",
    "plt.scatter(dsim.pond, no_pool_error, c='blue')\n",
    "\n",
    "qty_unique_ponds = len(dsim['Ni'].unique())\n",
    "qty_each_ponds = repeats  # The number of repetitions for each element in each pond.\n",
    "\n",
    "\n",
    "# Vertical lines\n",
    "for i in range(qty_unique_ponds):\n",
    "    plt.axvline(x=qty_each_ponds*(i+1) + 0.5, ls='--', color='white', alpha=0.3)\n",
    "    \n",
    "    partpool_error_mean = np.mean(partpool_error[(qty_each_ponds*i):(qty_each_ponds*(i+1))])\n",
    "    no_pool_error_mean = np.mean(no_pool_error[(qty_each_ponds*i):(qty_each_ponds*(i+1))])\n",
    "    \n",
    "    plt.hlines(y=partpool_error_mean, xmin=1+(qty_each_ponds*i), xmax=qty_each_ponds+(qty_each_ponds*i), ls='--', colors='black', alpha=0.7)\n",
    "    plt.hlines(y=no_pool_error_mean, xmin=1+(qty_each_ponds*i), xmax=qty_each_ponds+(qty_each_ponds*i), ls='-', colors='blue', alpha=0.7)\n",
    "\n",
    "score_no_pooling = 0\n",
    "score_partial_pooling = 0\n",
    "    \n",
    "for i in dsim.pond:\n",
    "    if no_pool_error[i-1] >= partpool_error[i-1]:  # partial polling is better\n",
    "        plt.vlines(x=i, ymin=no_pool_error[i-1], ymax=partpool_error[i-1], ls='--', colors='green', alpha=0.3)\n",
    "        score_partial_pooling += no_pool_error[i-1] - partpool_error[i-1]  # How partial pooling is better\n",
    "        \n",
    "    else:  # no pooling is better\n",
    "        plt.vlines(x=i, ymin=no_pool_error[i-1], ymax=partpool_error[i-1], ls='--', colors='red', alpha=0.3)\n",
    "        score_no_pooling += partpool_error[i-1] - no_pool_error[i-1]  # How no pooling is better\n",
    "\n",
    "plt.text(7, max_lim_graph, 'Tiny Ponds ($5$)', size=12)\n",
    "plt.text(21, max_lim_graph, 'Small Ponds ($10$)', size=12)\n",
    "plt.text(35, max_lim_graph, 'Medium Ponds ($25$)', size=12)\n",
    "plt.text(50, max_lim_graph, 'Large Ponds ($35$)', size=12)\n",
    "\n",
    "plt.text(47, 0.25, f'Partial pooling is better by = {round(score_partial_pooling, 2)}')\n",
    "plt.text(47, 0.24, f'No pooling is better by = {round(score_no_pooling, 2)}')\n",
    "plt.text(47, 0.23, f'Partial Polling/No polling = {round((score_partial_pooling/score_no_pooling)*100, 2)}%')\n",
    "\n",
    "\n",
    "plt.gca().set_ylim(-0.01, max_lim_graph + 0.05)\n",
    "\n",
    "plt.title('Pond survival error absolute \\n\\n Black dash line = partial pooling \\n Blue line = no pooling')\n",
    "plt.xlabel('Pond Index')\n",
    "plt.ylabel('Absolute Error')\n",
    "\n",
    "plt.show()"
   ]
  },
  {
   "cell_type": "markdown",
   "id": "3d528d29",
   "metadata": {},
   "source": [
    "### R Code 13.20"
   ]
  },
  {
   "cell_type": "code",
   "execution_count": 35,
   "id": "2d7bc2cf",
   "metadata": {},
   "outputs": [],
   "source": [
    "# Reuse code in using Rethinking packages in R, here is automatically reuse!\n",
    "# Just re-run from R Code 13.7"
   ]
  },
  {
   "cell_type": "markdown",
   "id": "0de0e34d",
   "metadata": {},
   "source": [
    "## 13.3 More than one type of cluster"
   ]
  },
  {
   "cell_type": "markdown",
   "id": "e0133bfc",
   "metadata": {},
   "source": [
    "#### Multilevel Chimpanzees\n",
    "\n",
    "$$ L_i \\sim Binomial(1, p_i) $$\n",
    "\n",
    "$$ logit(p_i) = \\alpha_{ACTOR[i]} + \\gamma_{BLOCK[i]} + \\beta_{TREATMENT[i]} $$\n",
    "\n",
    "$$ \\beta_j \\sim Normal(0, 0.5) \\mbox{  , } j \\in \\{1, ... ,4\\} $$\n",
    "\n",
    "$$ \\alpha_j \\sim Normal(\\bar{\\alpha}, \\sigma_\\alpha) \\mbox{  , } j \\in \\{1, ... ,7\\} $$\n",
    "\n",
    "$$ \\gamma_j \\sim Normal(0, \\sigma_\\gamma) \\mbox{  , } j \\in \\{1, ... ,6\\} $$\n",
    "\n",
    "$$ \\bar{\\alpha} \\sim Normal(0, 1.5) $$\n",
    "\n",
    "$$ \\sigma_{\\alpha} \\sim Exponential(1) $$\n",
    "\n",
    "$$ \\sigma_{\\gamma} \\sim Exponential(1) $$"
   ]
  },
  {
   "cell_type": "markdown",
   "id": "7fadb95d",
   "metadata": {},
   "source": [
    "### R Code 13.21"
   ]
  },
  {
   "cell_type": "code",
   "execution_count": 36,
   "id": "be447731",
   "metadata": {},
   "outputs": [
    {
     "data": {
      "text/html": [
       "<div>\n",
       "<style scoped>\n",
       "    .dataframe tbody tr th:only-of-type {\n",
       "        vertical-align: middle;\n",
       "    }\n",
       "\n",
       "    .dataframe tbody tr th {\n",
       "        vertical-align: top;\n",
       "    }\n",
       "\n",
       "    .dataframe thead th {\n",
       "        text-align: right;\n",
       "    }\n",
       "</style>\n",
       "<table border=\"1\" class=\"dataframe\">\n",
       "  <thead>\n",
       "    <tr style=\"text-align: right;\">\n",
       "      <th></th>\n",
       "      <th>actor</th>\n",
       "      <th>recipient</th>\n",
       "      <th>condition</th>\n",
       "      <th>block</th>\n",
       "      <th>trial</th>\n",
       "      <th>prosoc_left</th>\n",
       "      <th>chose_prosoc</th>\n",
       "      <th>pulled_left</th>\n",
       "    </tr>\n",
       "  </thead>\n",
       "  <tbody>\n",
       "    <tr>\n",
       "      <th>0</th>\n",
       "      <td>1</td>\n",
       "      <td>NaN</td>\n",
       "      <td>0</td>\n",
       "      <td>1</td>\n",
       "      <td>2</td>\n",
       "      <td>0</td>\n",
       "      <td>1</td>\n",
       "      <td>0</td>\n",
       "    </tr>\n",
       "    <tr>\n",
       "      <th>1</th>\n",
       "      <td>1</td>\n",
       "      <td>NaN</td>\n",
       "      <td>0</td>\n",
       "      <td>1</td>\n",
       "      <td>4</td>\n",
       "      <td>0</td>\n",
       "      <td>0</td>\n",
       "      <td>1</td>\n",
       "    </tr>\n",
       "    <tr>\n",
       "      <th>2</th>\n",
       "      <td>1</td>\n",
       "      <td>NaN</td>\n",
       "      <td>0</td>\n",
       "      <td>1</td>\n",
       "      <td>6</td>\n",
       "      <td>1</td>\n",
       "      <td>0</td>\n",
       "      <td>0</td>\n",
       "    </tr>\n",
       "    <tr>\n",
       "      <th>3</th>\n",
       "      <td>1</td>\n",
       "      <td>NaN</td>\n",
       "      <td>0</td>\n",
       "      <td>1</td>\n",
       "      <td>8</td>\n",
       "      <td>0</td>\n",
       "      <td>1</td>\n",
       "      <td>0</td>\n",
       "    </tr>\n",
       "    <tr>\n",
       "      <th>4</th>\n",
       "      <td>1</td>\n",
       "      <td>NaN</td>\n",
       "      <td>0</td>\n",
       "      <td>1</td>\n",
       "      <td>10</td>\n",
       "      <td>1</td>\n",
       "      <td>1</td>\n",
       "      <td>1</td>\n",
       "    </tr>\n",
       "  </tbody>\n",
       "</table>\n",
       "</div>"
      ],
      "text/plain": [
       "   actor  recipient  condition  block  trial  prosoc_left  chose_prosoc  \\\n",
       "0      1        NaN          0      1      2            0             1   \n",
       "1      1        NaN          0      1      4            0             0   \n",
       "2      1        NaN          0      1      6            1             0   \n",
       "3      1        NaN          0      1      8            0             1   \n",
       "4      1        NaN          0      1     10            1             1   \n",
       "\n",
       "   pulled_left  \n",
       "0            0  \n",
       "1            1  \n",
       "2            0  \n",
       "3            0  \n",
       "4            1  "
      ]
     },
     "execution_count": 36,
     "metadata": {},
     "output_type": "execute_result"
    }
   ],
   "source": [
    "# Previous chimpanzees models is in chapter 11\n",
    "\n",
    "df = pd.read_csv('./data/chimpanzees.csv', sep=';')\n",
    "df.head()"
   ]
  },
  {
   "cell_type": "code",
   "execution_count": 37,
   "id": "f0597ffa",
   "metadata": {},
   "outputs": [
    {
     "data": {
      "text/html": [
       "<div>\n",
       "<style scoped>\n",
       "    .dataframe tbody tr th:only-of-type {\n",
       "        vertical-align: middle;\n",
       "    }\n",
       "\n",
       "    .dataframe tbody tr th {\n",
       "        vertical-align: top;\n",
       "    }\n",
       "\n",
       "    .dataframe thead th {\n",
       "        text-align: right;\n",
       "    }\n",
       "</style>\n",
       "<table border=\"1\" class=\"dataframe\">\n",
       "  <thead>\n",
       "    <tr style=\"text-align: right;\">\n",
       "      <th></th>\n",
       "      <th>actor</th>\n",
       "      <th>recipient</th>\n",
       "      <th>condition</th>\n",
       "      <th>block</th>\n",
       "      <th>trial</th>\n",
       "      <th>prosoc_left</th>\n",
       "      <th>chose_prosoc</th>\n",
       "      <th>pulled_left</th>\n",
       "      <th>treatment</th>\n",
       "    </tr>\n",
       "  </thead>\n",
       "  <tbody>\n",
       "    <tr>\n",
       "      <th>0</th>\n",
       "      <td>1</td>\n",
       "      <td>NaN</td>\n",
       "      <td>0</td>\n",
       "      <td>1</td>\n",
       "      <td>2</td>\n",
       "      <td>0</td>\n",
       "      <td>1</td>\n",
       "      <td>0</td>\n",
       "      <td>1</td>\n",
       "    </tr>\n",
       "    <tr>\n",
       "      <th>1</th>\n",
       "      <td>1</td>\n",
       "      <td>NaN</td>\n",
       "      <td>0</td>\n",
       "      <td>1</td>\n",
       "      <td>4</td>\n",
       "      <td>0</td>\n",
       "      <td>0</td>\n",
       "      <td>1</td>\n",
       "      <td>1</td>\n",
       "    </tr>\n",
       "    <tr>\n",
       "      <th>2</th>\n",
       "      <td>1</td>\n",
       "      <td>NaN</td>\n",
       "      <td>0</td>\n",
       "      <td>1</td>\n",
       "      <td>6</td>\n",
       "      <td>1</td>\n",
       "      <td>0</td>\n",
       "      <td>0</td>\n",
       "      <td>2</td>\n",
       "    </tr>\n",
       "    <tr>\n",
       "      <th>3</th>\n",
       "      <td>1</td>\n",
       "      <td>NaN</td>\n",
       "      <td>0</td>\n",
       "      <td>1</td>\n",
       "      <td>8</td>\n",
       "      <td>0</td>\n",
       "      <td>1</td>\n",
       "      <td>0</td>\n",
       "      <td>1</td>\n",
       "    </tr>\n",
       "    <tr>\n",
       "      <th>4</th>\n",
       "      <td>1</td>\n",
       "      <td>NaN</td>\n",
       "      <td>0</td>\n",
       "      <td>1</td>\n",
       "      <td>10</td>\n",
       "      <td>1</td>\n",
       "      <td>1</td>\n",
       "      <td>1</td>\n",
       "      <td>2</td>\n",
       "    </tr>\n",
       "  </tbody>\n",
       "</table>\n",
       "</div>"
      ],
      "text/plain": [
       "   actor  recipient  condition  block  trial  prosoc_left  chose_prosoc  \\\n",
       "0      1        NaN          0      1      2            0             1   \n",
       "1      1        NaN          0      1      4            0             0   \n",
       "2      1        NaN          0      1      6            1             0   \n",
       "3      1        NaN          0      1      8            0             1   \n",
       "4      1        NaN          0      1     10            1             1   \n",
       "\n",
       "   pulled_left  treatment  \n",
       "0            0          1  \n",
       "1            1          1  \n",
       "2            0          2  \n",
       "3            0          1  \n",
       "4            1          2  "
      ]
     },
     "execution_count": 37,
     "metadata": {},
     "output_type": "execute_result"
    }
   ],
   "source": [
    "df['treatment'] = 1 + df['prosoc_left'] + 2 * df['condition']\n",
    "df.head()"
   ]
  },
  {
   "cell_type": "code",
   "execution_count": 38,
   "id": "c340e064",
   "metadata": {
    "tags": [
     "remove_output"
    ]
   },
   "outputs": [
    {
     "name": "stdout",
     "output_type": "stream",
     "text": [
      "\u001b[36mBuilding:\u001b[0m 0.2s\n"
     ]
    },
    {
     "name": "stdout",
     "output_type": "stream",
     "text": [
      "\u001b[1A"
     ]
    },
    {
     "name": "stdout",
     "output_type": "stream",
     "text": [
      "\u001b[0J"
     ]
    },
    {
     "name": "stdout",
     "output_type": "stream",
     "text": [
      "\u001b[36mBuilding:\u001b[0m 0.3s\n"
     ]
    },
    {
     "name": "stdout",
     "output_type": "stream",
     "text": [
      "\u001b[1A"
     ]
    },
    {
     "name": "stdout",
     "output_type": "stream",
     "text": [
      "\u001b[0J"
     ]
    },
    {
     "name": "stdout",
     "output_type": "stream",
     "text": [
      "\u001b[36mBuilding:\u001b[0m 0.4s\n"
     ]
    },
    {
     "name": "stdout",
     "output_type": "stream",
     "text": [
      "\u001b[1A"
     ]
    },
    {
     "name": "stdout",
     "output_type": "stream",
     "text": [
      "\u001b[0J"
     ]
    },
    {
     "name": "stdout",
     "output_type": "stream",
     "text": [
      "\u001b[36mBuilding:\u001b[0m 0.5s\n"
     ]
    },
    {
     "name": "stdout",
     "output_type": "stream",
     "text": [
      "\u001b[1A"
     ]
    },
    {
     "name": "stdout",
     "output_type": "stream",
     "text": [
      "\u001b[0J"
     ]
    },
    {
     "name": "stdout",
     "output_type": "stream",
     "text": [
      "\u001b[36mBuilding:\u001b[0m 0.6s\n"
     ]
    },
    {
     "name": "stdout",
     "output_type": "stream",
     "text": [
      "\u001b[1A"
     ]
    },
    {
     "name": "stdout",
     "output_type": "stream",
     "text": [
      "\u001b[0J"
     ]
    },
    {
     "name": "stdout",
     "output_type": "stream",
     "text": [
      "\u001b[36mBuilding:\u001b[0m 0.7s\n"
     ]
    },
    {
     "name": "stdout",
     "output_type": "stream",
     "text": [
      "\u001b[1A"
     ]
    },
    {
     "name": "stdout",
     "output_type": "stream",
     "text": [
      "\u001b[0J"
     ]
    },
    {
     "name": "stdout",
     "output_type": "stream",
     "text": [
      "\u001b[36mBuilding:\u001b[0m 0.8s\n"
     ]
    },
    {
     "name": "stdout",
     "output_type": "stream",
     "text": [
      "\u001b[1A"
     ]
    },
    {
     "name": "stdout",
     "output_type": "stream",
     "text": [
      "\u001b[0J"
     ]
    },
    {
     "name": "stdout",
     "output_type": "stream",
     "text": [
      "\u001b[36mBuilding:\u001b[0m 0.9s\n"
     ]
    },
    {
     "name": "stdout",
     "output_type": "stream",
     "text": [
      "\u001b[1A"
     ]
    },
    {
     "name": "stdout",
     "output_type": "stream",
     "text": [
      "\u001b[0J"
     ]
    },
    {
     "name": "stdout",
     "output_type": "stream",
     "text": [
      "\u001b[36mBuilding:\u001b[0m 1.0s\n"
     ]
    },
    {
     "name": "stdout",
     "output_type": "stream",
     "text": [
      "\u001b[1A"
     ]
    },
    {
     "name": "stdout",
     "output_type": "stream",
     "text": [
      "\u001b[0J"
     ]
    },
    {
     "name": "stdout",
     "output_type": "stream",
     "text": [
      "\u001b[36mBuilding:\u001b[0m 1.1s\n"
     ]
    },
    {
     "name": "stdout",
     "output_type": "stream",
     "text": [
      "\u001b[1A"
     ]
    },
    {
     "name": "stdout",
     "output_type": "stream",
     "text": [
      "\u001b[0J"
     ]
    },
    {
     "name": "stdout",
     "output_type": "stream",
     "text": [
      "\u001b[36mBuilding:\u001b[0m 1.2s\n"
     ]
    },
    {
     "name": "stdout",
     "output_type": "stream",
     "text": [
      "\u001b[1A"
     ]
    },
    {
     "name": "stdout",
     "output_type": "stream",
     "text": [
      "\u001b[0J"
     ]
    },
    {
     "name": "stdout",
     "output_type": "stream",
     "text": [
      "\u001b[36mBuilding:\u001b[0m 1.3s\n"
     ]
    },
    {
     "name": "stdout",
     "output_type": "stream",
     "text": [
      "\u001b[1A"
     ]
    },
    {
     "name": "stdout",
     "output_type": "stream",
     "text": [
      "\u001b[0J"
     ]
    },
    {
     "name": "stdout",
     "output_type": "stream",
     "text": [
      "\u001b[36mBuilding:\u001b[0m 1.4s\n"
     ]
    },
    {
     "name": "stdout",
     "output_type": "stream",
     "text": [
      "\u001b[1A"
     ]
    },
    {
     "name": "stdout",
     "output_type": "stream",
     "text": [
      "\u001b[0J"
     ]
    },
    {
     "name": "stdout",
     "output_type": "stream",
     "text": [
      "\u001b[36mBuilding:\u001b[0m 1.5s\n"
     ]
    },
    {
     "name": "stdout",
     "output_type": "stream",
     "text": [
      "\u001b[1A"
     ]
    },
    {
     "name": "stdout",
     "output_type": "stream",
     "text": [
      "\u001b[0J"
     ]
    },
    {
     "name": "stdout",
     "output_type": "stream",
     "text": [
      "\u001b[36mBuilding:\u001b[0m 1.6s\n"
     ]
    },
    {
     "name": "stdout",
     "output_type": "stream",
     "text": [
      "\u001b[1A"
     ]
    },
    {
     "name": "stdout",
     "output_type": "stream",
     "text": [
      "\u001b[0J"
     ]
    },
    {
     "name": "stdout",
     "output_type": "stream",
     "text": [
      "\u001b[36mBuilding:\u001b[0m 1.7s\n"
     ]
    },
    {
     "name": "stdout",
     "output_type": "stream",
     "text": [
      "\u001b[1A"
     ]
    },
    {
     "name": "stdout",
     "output_type": "stream",
     "text": [
      "\u001b[0J"
     ]
    },
    {
     "name": "stdout",
     "output_type": "stream",
     "text": [
      "\u001b[36mBuilding:\u001b[0m 1.8s\n"
     ]
    },
    {
     "name": "stdout",
     "output_type": "stream",
     "text": [
      "\u001b[1A"
     ]
    },
    {
     "name": "stdout",
     "output_type": "stream",
     "text": [
      "\u001b[0J"
     ]
    },
    {
     "name": "stdout",
     "output_type": "stream",
     "text": [
      "\u001b[36mBuilding:\u001b[0m 1.9s\n"
     ]
    },
    {
     "name": "stdout",
     "output_type": "stream",
     "text": [
      "\u001b[1A"
     ]
    },
    {
     "name": "stdout",
     "output_type": "stream",
     "text": [
      "\u001b[0J"
     ]
    },
    {
     "name": "stdout",
     "output_type": "stream",
     "text": [
      "\u001b[36mBuilding:\u001b[0m 2.0s\n"
     ]
    },
    {
     "name": "stdout",
     "output_type": "stream",
     "text": [
      "\u001b[1A"
     ]
    },
    {
     "name": "stdout",
     "output_type": "stream",
     "text": [
      "\u001b[0J"
     ]
    },
    {
     "name": "stdout",
     "output_type": "stream",
     "text": [
      "\u001b[36mBuilding:\u001b[0m 2.1s\n"
     ]
    },
    {
     "name": "stdout",
     "output_type": "stream",
     "text": [
      "\u001b[1A"
     ]
    },
    {
     "name": "stdout",
     "output_type": "stream",
     "text": [
      "\u001b[0J"
     ]
    },
    {
     "name": "stdout",
     "output_type": "stream",
     "text": [
      "\u001b[36mBuilding:\u001b[0m 2.2s\n"
     ]
    },
    {
     "name": "stdout",
     "output_type": "stream",
     "text": [
      "\u001b[1A"
     ]
    },
    {
     "name": "stdout",
     "output_type": "stream",
     "text": [
      "\u001b[0J"
     ]
    },
    {
     "name": "stdout",
     "output_type": "stream",
     "text": [
      "\u001b[36mBuilding:\u001b[0m 2.3s\n"
     ]
    },
    {
     "name": "stdout",
     "output_type": "stream",
     "text": [
      "\u001b[1A"
     ]
    },
    {
     "name": "stdout",
     "output_type": "stream",
     "text": [
      "\u001b[0J"
     ]
    },
    {
     "name": "stdout",
     "output_type": "stream",
     "text": [
      "\u001b[36mBuilding:\u001b[0m 2.4s\n"
     ]
    },
    {
     "name": "stdout",
     "output_type": "stream",
     "text": [
      "\u001b[1A"
     ]
    },
    {
     "name": "stdout",
     "output_type": "stream",
     "text": [
      "\u001b[0J"
     ]
    },
    {
     "name": "stdout",
     "output_type": "stream",
     "text": [
      "\u001b[36mBuilding:\u001b[0m 2.5s\n"
     ]
    },
    {
     "name": "stdout",
     "output_type": "stream",
     "text": [
      "\u001b[1A"
     ]
    },
    {
     "name": "stdout",
     "output_type": "stream",
     "text": [
      "\u001b[0J"
     ]
    },
    {
     "name": "stdout",
     "output_type": "stream",
     "text": [
      "\u001b[36mBuilding:\u001b[0m 2.6s\n"
     ]
    },
    {
     "name": "stdout",
     "output_type": "stream",
     "text": [
      "\u001b[1A"
     ]
    },
    {
     "name": "stdout",
     "output_type": "stream",
     "text": [
      "\u001b[0J"
     ]
    },
    {
     "name": "stdout",
     "output_type": "stream",
     "text": [
      "\u001b[36mBuilding:\u001b[0m 2.7s\n"
     ]
    },
    {
     "name": "stdout",
     "output_type": "stream",
     "text": [
      "\u001b[1A"
     ]
    },
    {
     "name": "stdout",
     "output_type": "stream",
     "text": [
      "\u001b[0J"
     ]
    },
    {
     "name": "stdout",
     "output_type": "stream",
     "text": [
      "\u001b[36mBuilding:\u001b[0m 2.8s\n"
     ]
    },
    {
     "name": "stdout",
     "output_type": "stream",
     "text": [
      "\u001b[1A"
     ]
    },
    {
     "name": "stdout",
     "output_type": "stream",
     "text": [
      "\u001b[0J"
     ]
    },
    {
     "name": "stdout",
     "output_type": "stream",
     "text": [
      "\u001b[36mBuilding:\u001b[0m 2.9s\n"
     ]
    },
    {
     "name": "stdout",
     "output_type": "stream",
     "text": [
      "\u001b[1A"
     ]
    },
    {
     "name": "stdout",
     "output_type": "stream",
     "text": [
      "\u001b[0J"
     ]
    },
    {
     "name": "stdout",
     "output_type": "stream",
     "text": [
      "\u001b[36mBuilding:\u001b[0m 3.0s\n"
     ]
    },
    {
     "name": "stdout",
     "output_type": "stream",
     "text": [
      "\u001b[1A"
     ]
    },
    {
     "name": "stdout",
     "output_type": "stream",
     "text": [
      "\u001b[0J"
     ]
    },
    {
     "name": "stdout",
     "output_type": "stream",
     "text": [
      "\u001b[36mBuilding:\u001b[0m 3.1s\n"
     ]
    },
    {
     "name": "stdout",
     "output_type": "stream",
     "text": [
      "\u001b[1A"
     ]
    },
    {
     "name": "stdout",
     "output_type": "stream",
     "text": [
      "\u001b[0J"
     ]
    },
    {
     "name": "stdout",
     "output_type": "stream",
     "text": [
      "\u001b[36mBuilding:\u001b[0m 3.3s\n"
     ]
    },
    {
     "name": "stdout",
     "output_type": "stream",
     "text": [
      "\u001b[1A"
     ]
    },
    {
     "name": "stdout",
     "output_type": "stream",
     "text": [
      "\u001b[0J"
     ]
    },
    {
     "name": "stdout",
     "output_type": "stream",
     "text": [
      "\u001b[36mBuilding:\u001b[0m 3.4s\n"
     ]
    },
    {
     "name": "stdout",
     "output_type": "stream",
     "text": [
      "\u001b[1A"
     ]
    },
    {
     "name": "stdout",
     "output_type": "stream",
     "text": [
      "\u001b[0J"
     ]
    },
    {
     "name": "stdout",
     "output_type": "stream",
     "text": [
      "\u001b[36mBuilding:\u001b[0m 3.5s\n"
     ]
    },
    {
     "name": "stdout",
     "output_type": "stream",
     "text": [
      "\u001b[1A"
     ]
    },
    {
     "name": "stdout",
     "output_type": "stream",
     "text": [
      "\u001b[0J"
     ]
    },
    {
     "name": "stdout",
     "output_type": "stream",
     "text": [
      "\u001b[36mBuilding:\u001b[0m 3.6s\n"
     ]
    },
    {
     "name": "stdout",
     "output_type": "stream",
     "text": [
      "\u001b[1A"
     ]
    },
    {
     "name": "stdout",
     "output_type": "stream",
     "text": [
      "\u001b[0J"
     ]
    },
    {
     "name": "stdout",
     "output_type": "stream",
     "text": [
      "\u001b[36mBuilding:\u001b[0m 3.7s\n"
     ]
    },
    {
     "name": "stdout",
     "output_type": "stream",
     "text": [
      "\u001b[1A"
     ]
    },
    {
     "name": "stdout",
     "output_type": "stream",
     "text": [
      "\u001b[0J"
     ]
    },
    {
     "name": "stdout",
     "output_type": "stream",
     "text": [
      "\u001b[36mBuilding:\u001b[0m 3.8s\n"
     ]
    },
    {
     "name": "stdout",
     "output_type": "stream",
     "text": [
      "\u001b[1A"
     ]
    },
    {
     "name": "stdout",
     "output_type": "stream",
     "text": [
      "\u001b[0J"
     ]
    },
    {
     "name": "stdout",
     "output_type": "stream",
     "text": [
      "\u001b[36mBuilding:\u001b[0m 3.9s\n"
     ]
    },
    {
     "name": "stdout",
     "output_type": "stream",
     "text": [
      "\u001b[1A"
     ]
    },
    {
     "name": "stdout",
     "output_type": "stream",
     "text": [
      "\u001b[0J"
     ]
    },
    {
     "name": "stdout",
     "output_type": "stream",
     "text": [
      "\u001b[36mBuilding:\u001b[0m 4.0s\n"
     ]
    },
    {
     "name": "stdout",
     "output_type": "stream",
     "text": [
      "\u001b[1A"
     ]
    },
    {
     "name": "stdout",
     "output_type": "stream",
     "text": [
      "\u001b[0J"
     ]
    },
    {
     "name": "stdout",
     "output_type": "stream",
     "text": [
      "\u001b[36mBuilding:\u001b[0m 4.1s\n"
     ]
    },
    {
     "name": "stdout",
     "output_type": "stream",
     "text": [
      "\u001b[1A"
     ]
    },
    {
     "name": "stdout",
     "output_type": "stream",
     "text": [
      "\u001b[0J"
     ]
    },
    {
     "name": "stdout",
     "output_type": "stream",
     "text": [
      "\u001b[36mBuilding:\u001b[0m 4.2s\n"
     ]
    },
    {
     "name": "stdout",
     "output_type": "stream",
     "text": [
      "\u001b[1A"
     ]
    },
    {
     "name": "stdout",
     "output_type": "stream",
     "text": [
      "\u001b[0J"
     ]
    },
    {
     "name": "stdout",
     "output_type": "stream",
     "text": [
      "\u001b[36mBuilding:\u001b[0m 4.3s\n"
     ]
    },
    {
     "name": "stdout",
     "output_type": "stream",
     "text": [
      "\u001b[1A"
     ]
    },
    {
     "name": "stdout",
     "output_type": "stream",
     "text": [
      "\u001b[0J"
     ]
    },
    {
     "name": "stdout",
     "output_type": "stream",
     "text": [
      "\u001b[36mBuilding:\u001b[0m 4.4s\n"
     ]
    },
    {
     "name": "stdout",
     "output_type": "stream",
     "text": [
      "\u001b[1A"
     ]
    },
    {
     "name": "stdout",
     "output_type": "stream",
     "text": [
      "\u001b[0J"
     ]
    },
    {
     "name": "stdout",
     "output_type": "stream",
     "text": [
      "\u001b[36mBuilding:\u001b[0m 4.5s\n"
     ]
    },
    {
     "name": "stdout",
     "output_type": "stream",
     "text": [
      "\u001b[1A"
     ]
    },
    {
     "name": "stdout",
     "output_type": "stream",
     "text": [
      "\u001b[0J"
     ]
    },
    {
     "name": "stdout",
     "output_type": "stream",
     "text": [
      "\u001b[36mBuilding:\u001b[0m 4.6s\n"
     ]
    },
    {
     "name": "stdout",
     "output_type": "stream",
     "text": [
      "\u001b[1A"
     ]
    },
    {
     "name": "stdout",
     "output_type": "stream",
     "text": [
      "\u001b[0J"
     ]
    },
    {
     "name": "stdout",
     "output_type": "stream",
     "text": [
      "\u001b[36mBuilding:\u001b[0m 4.7s\n"
     ]
    },
    {
     "name": "stdout",
     "output_type": "stream",
     "text": [
      "\u001b[1A"
     ]
    },
    {
     "name": "stdout",
     "output_type": "stream",
     "text": [
      "\u001b[0J"
     ]
    },
    {
     "name": "stdout",
     "output_type": "stream",
     "text": [
      "\u001b[36mBuilding:\u001b[0m 4.8s\n"
     ]
    },
    {
     "name": "stdout",
     "output_type": "stream",
     "text": [
      "\u001b[1A"
     ]
    },
    {
     "name": "stdout",
     "output_type": "stream",
     "text": [
      "\u001b[0J"
     ]
    },
    {
     "name": "stdout",
     "output_type": "stream",
     "text": [
      "\u001b[36mBuilding:\u001b[0m 4.9s\n"
     ]
    },
    {
     "name": "stdout",
     "output_type": "stream",
     "text": [
      "\u001b[1A"
     ]
    },
    {
     "name": "stdout",
     "output_type": "stream",
     "text": [
      "\u001b[0J"
     ]
    },
    {
     "name": "stdout",
     "output_type": "stream",
     "text": [
      "\u001b[36mBuilding:\u001b[0m 5.0s\n"
     ]
    },
    {
     "name": "stdout",
     "output_type": "stream",
     "text": [
      "\u001b[1A"
     ]
    },
    {
     "name": "stdout",
     "output_type": "stream",
     "text": [
      "\u001b[0J"
     ]
    },
    {
     "name": "stdout",
     "output_type": "stream",
     "text": [
      "\u001b[36mBuilding:\u001b[0m 5.1s\n"
     ]
    },
    {
     "name": "stdout",
     "output_type": "stream",
     "text": [
      "\u001b[1A"
     ]
    },
    {
     "name": "stdout",
     "output_type": "stream",
     "text": [
      "\u001b[0J"
     ]
    },
    {
     "name": "stdout",
     "output_type": "stream",
     "text": [
      "\u001b[36mBuilding:\u001b[0m 5.2s\n"
     ]
    },
    {
     "name": "stdout",
     "output_type": "stream",
     "text": [
      "\u001b[1A"
     ]
    },
    {
     "name": "stdout",
     "output_type": "stream",
     "text": [
      "\u001b[0J"
     ]
    },
    {
     "name": "stdout",
     "output_type": "stream",
     "text": [
      "\u001b[36mBuilding:\u001b[0m 5.3s\n"
     ]
    },
    {
     "name": "stdout",
     "output_type": "stream",
     "text": [
      "\u001b[1A"
     ]
    },
    {
     "name": "stdout",
     "output_type": "stream",
     "text": [
      "\u001b[0J"
     ]
    },
    {
     "name": "stdout",
     "output_type": "stream",
     "text": [
      "\u001b[36mBuilding:\u001b[0m 5.4s\n"
     ]
    },
    {
     "name": "stdout",
     "output_type": "stream",
     "text": [
      "\u001b[1A"
     ]
    },
    {
     "name": "stdout",
     "output_type": "stream",
     "text": [
      "\u001b[0J"
     ]
    },
    {
     "name": "stdout",
     "output_type": "stream",
     "text": [
      "\u001b[36mBuilding:\u001b[0m 5.5s\n"
     ]
    },
    {
     "name": "stdout",
     "output_type": "stream",
     "text": [
      "\u001b[1A"
     ]
    },
    {
     "name": "stdout",
     "output_type": "stream",
     "text": [
      "\u001b[0J"
     ]
    },
    {
     "name": "stdout",
     "output_type": "stream",
     "text": [
      "\u001b[36mBuilding:\u001b[0m 5.6s\n"
     ]
    },
    {
     "name": "stdout",
     "output_type": "stream",
     "text": [
      "\u001b[1A"
     ]
    },
    {
     "name": "stdout",
     "output_type": "stream",
     "text": [
      "\u001b[0J"
     ]
    },
    {
     "name": "stdout",
     "output_type": "stream",
     "text": [
      "\u001b[36mBuilding:\u001b[0m 5.7s\n"
     ]
    },
    {
     "name": "stdout",
     "output_type": "stream",
     "text": [
      "\u001b[1A"
     ]
    },
    {
     "name": "stdout",
     "output_type": "stream",
     "text": [
      "\u001b[0J"
     ]
    },
    {
     "name": "stdout",
     "output_type": "stream",
     "text": [
      "\u001b[36mBuilding:\u001b[0m 5.8s\n"
     ]
    },
    {
     "name": "stdout",
     "output_type": "stream",
     "text": [
      "\u001b[1A"
     ]
    },
    {
     "name": "stdout",
     "output_type": "stream",
     "text": [
      "\u001b[0J"
     ]
    },
    {
     "name": "stdout",
     "output_type": "stream",
     "text": [
      "\u001b[36mBuilding:\u001b[0m 5.9s\n"
     ]
    },
    {
     "name": "stdout",
     "output_type": "stream",
     "text": [
      "\u001b[1A"
     ]
    },
    {
     "name": "stdout",
     "output_type": "stream",
     "text": [
      "\u001b[0J"
     ]
    },
    {
     "name": "stdout",
     "output_type": "stream",
     "text": [
      "\u001b[36mBuilding:\u001b[0m 6.0s\n"
     ]
    },
    {
     "name": "stdout",
     "output_type": "stream",
     "text": [
      "\u001b[1A"
     ]
    },
    {
     "name": "stdout",
     "output_type": "stream",
     "text": [
      "\u001b[0J"
     ]
    },
    {
     "name": "stdout",
     "output_type": "stream",
     "text": [
      "\u001b[36mBuilding:\u001b[0m 6.1s\n"
     ]
    },
    {
     "name": "stdout",
     "output_type": "stream",
     "text": [
      "\u001b[1A"
     ]
    },
    {
     "name": "stdout",
     "output_type": "stream",
     "text": [
      "\u001b[0J"
     ]
    },
    {
     "name": "stdout",
     "output_type": "stream",
     "text": [
      "\u001b[36mBuilding:\u001b[0m 6.2s\n"
     ]
    },
    {
     "name": "stdout",
     "output_type": "stream",
     "text": [
      "\u001b[1A"
     ]
    },
    {
     "name": "stdout",
     "output_type": "stream",
     "text": [
      "\u001b[0J"
     ]
    },
    {
     "name": "stdout",
     "output_type": "stream",
     "text": [
      "\u001b[36mBuilding:\u001b[0m 6.3s\n"
     ]
    },
    {
     "name": "stdout",
     "output_type": "stream",
     "text": [
      "\u001b[1A"
     ]
    },
    {
     "name": "stdout",
     "output_type": "stream",
     "text": [
      "\u001b[0J"
     ]
    },
    {
     "name": "stdout",
     "output_type": "stream",
     "text": [
      "\u001b[36mBuilding:\u001b[0m 6.4s\n"
     ]
    },
    {
     "name": "stdout",
     "output_type": "stream",
     "text": [
      "\u001b[1A"
     ]
    },
    {
     "name": "stdout",
     "output_type": "stream",
     "text": [
      "\u001b[0J"
     ]
    },
    {
     "name": "stdout",
     "output_type": "stream",
     "text": [
      "\u001b[36mBuilding:\u001b[0m 6.5s\n"
     ]
    },
    {
     "name": "stdout",
     "output_type": "stream",
     "text": [
      "\u001b[1A"
     ]
    },
    {
     "name": "stdout",
     "output_type": "stream",
     "text": [
      "\u001b[0J"
     ]
    },
    {
     "name": "stdout",
     "output_type": "stream",
     "text": [
      "\u001b[36mBuilding:\u001b[0m 6.6s\n"
     ]
    },
    {
     "name": "stdout",
     "output_type": "stream",
     "text": [
      "\u001b[1A"
     ]
    },
    {
     "name": "stdout",
     "output_type": "stream",
     "text": [
      "\u001b[0J"
     ]
    },
    {
     "name": "stdout",
     "output_type": "stream",
     "text": [
      "\u001b[36mBuilding:\u001b[0m 6.8s\n"
     ]
    },
    {
     "name": "stdout",
     "output_type": "stream",
     "text": [
      "\u001b[1A"
     ]
    },
    {
     "name": "stdout",
     "output_type": "stream",
     "text": [
      "\u001b[0J"
     ]
    },
    {
     "name": "stdout",
     "output_type": "stream",
     "text": [
      "\u001b[36mBuilding:\u001b[0m 6.9s\n"
     ]
    },
    {
     "name": "stdout",
     "output_type": "stream",
     "text": [
      "\u001b[1A"
     ]
    },
    {
     "name": "stdout",
     "output_type": "stream",
     "text": [
      "\u001b[0J"
     ]
    },
    {
     "name": "stdout",
     "output_type": "stream",
     "text": [
      "\u001b[36mBuilding:\u001b[0m 7.0s\n"
     ]
    },
    {
     "name": "stdout",
     "output_type": "stream",
     "text": [
      "\u001b[1A"
     ]
    },
    {
     "name": "stdout",
     "output_type": "stream",
     "text": [
      "\u001b[0J"
     ]
    },
    {
     "name": "stdout",
     "output_type": "stream",
     "text": [
      "\u001b[36mBuilding:\u001b[0m 7.1s\n"
     ]
    },
    {
     "name": "stdout",
     "output_type": "stream",
     "text": [
      "\u001b[1A"
     ]
    },
    {
     "name": "stdout",
     "output_type": "stream",
     "text": [
      "\u001b[0J"
     ]
    },
    {
     "name": "stdout",
     "output_type": "stream",
     "text": [
      "\u001b[36mBuilding:\u001b[0m 7.2s\n"
     ]
    },
    {
     "name": "stdout",
     "output_type": "stream",
     "text": [
      "\u001b[1A"
     ]
    },
    {
     "name": "stdout",
     "output_type": "stream",
     "text": [
      "\u001b[0J"
     ]
    },
    {
     "name": "stdout",
     "output_type": "stream",
     "text": [
      "\u001b[36mBuilding:\u001b[0m 7.3s\n"
     ]
    },
    {
     "name": "stdout",
     "output_type": "stream",
     "text": [
      "\u001b[1A"
     ]
    },
    {
     "name": "stdout",
     "output_type": "stream",
     "text": [
      "\u001b[0J"
     ]
    },
    {
     "name": "stdout",
     "output_type": "stream",
     "text": [
      "\u001b[36mBuilding:\u001b[0m 7.4s\n"
     ]
    },
    {
     "name": "stdout",
     "output_type": "stream",
     "text": [
      "\u001b[1A"
     ]
    },
    {
     "name": "stdout",
     "output_type": "stream",
     "text": [
      "\u001b[0J"
     ]
    },
    {
     "name": "stdout",
     "output_type": "stream",
     "text": [
      "\u001b[36mBuilding:\u001b[0m 7.5s\n"
     ]
    },
    {
     "name": "stdout",
     "output_type": "stream",
     "text": [
      "\u001b[1A"
     ]
    },
    {
     "name": "stdout",
     "output_type": "stream",
     "text": [
      "\u001b[0J"
     ]
    },
    {
     "name": "stdout",
     "output_type": "stream",
     "text": [
      "\u001b[36mBuilding:\u001b[0m 7.6s\n"
     ]
    },
    {
     "name": "stdout",
     "output_type": "stream",
     "text": [
      "\u001b[1A"
     ]
    },
    {
     "name": "stdout",
     "output_type": "stream",
     "text": [
      "\u001b[0J"
     ]
    },
    {
     "name": "stdout",
     "output_type": "stream",
     "text": [
      "\u001b[36mBuilding:\u001b[0m 7.7s\n"
     ]
    },
    {
     "name": "stdout",
     "output_type": "stream",
     "text": [
      "\u001b[1A"
     ]
    },
    {
     "name": "stdout",
     "output_type": "stream",
     "text": [
      "\u001b[0J"
     ]
    },
    {
     "name": "stdout",
     "output_type": "stream",
     "text": [
      "\u001b[36mBuilding:\u001b[0m 7.8s\n"
     ]
    },
    {
     "name": "stdout",
     "output_type": "stream",
     "text": [
      "\u001b[1A"
     ]
    },
    {
     "name": "stdout",
     "output_type": "stream",
     "text": [
      "\u001b[0J"
     ]
    },
    {
     "name": "stdout",
     "output_type": "stream",
     "text": [
      "\u001b[36mBuilding:\u001b[0m 7.9s\n"
     ]
    },
    {
     "name": "stdout",
     "output_type": "stream",
     "text": [
      "\u001b[1A"
     ]
    },
    {
     "name": "stdout",
     "output_type": "stream",
     "text": [
      "\u001b[0J"
     ]
    },
    {
     "name": "stdout",
     "output_type": "stream",
     "text": [
      "\u001b[36mBuilding:\u001b[0m 8.0s\n"
     ]
    },
    {
     "name": "stdout",
     "output_type": "stream",
     "text": [
      "\u001b[1A"
     ]
    },
    {
     "name": "stdout",
     "output_type": "stream",
     "text": [
      "\u001b[0J"
     ]
    },
    {
     "name": "stdout",
     "output_type": "stream",
     "text": [
      "\u001b[36mBuilding:\u001b[0m 8.1s\n"
     ]
    },
    {
     "name": "stdout",
     "output_type": "stream",
     "text": [
      "\u001b[1A"
     ]
    },
    {
     "name": "stdout",
     "output_type": "stream",
     "text": [
      "\u001b[0J"
     ]
    },
    {
     "name": "stdout",
     "output_type": "stream",
     "text": [
      "\u001b[36mBuilding:\u001b[0m 8.2s\n"
     ]
    },
    {
     "name": "stdout",
     "output_type": "stream",
     "text": [
      "\u001b[1A"
     ]
    },
    {
     "name": "stdout",
     "output_type": "stream",
     "text": [
      "\u001b[0J"
     ]
    },
    {
     "name": "stdout",
     "output_type": "stream",
     "text": [
      "\u001b[36mBuilding:\u001b[0m 8.3s\n"
     ]
    },
    {
     "name": "stdout",
     "output_type": "stream",
     "text": [
      "\u001b[1A"
     ]
    },
    {
     "name": "stdout",
     "output_type": "stream",
     "text": [
      "\u001b[0J"
     ]
    },
    {
     "name": "stdout",
     "output_type": "stream",
     "text": [
      "\u001b[36mBuilding:\u001b[0m 8.4s\n"
     ]
    },
    {
     "name": "stdout",
     "output_type": "stream",
     "text": [
      "\u001b[1A"
     ]
    },
    {
     "name": "stdout",
     "output_type": "stream",
     "text": [
      "\u001b[0J"
     ]
    },
    {
     "name": "stdout",
     "output_type": "stream",
     "text": [
      "\u001b[36mBuilding:\u001b[0m 8.5s\n"
     ]
    },
    {
     "name": "stdout",
     "output_type": "stream",
     "text": [
      "\u001b[1A"
     ]
    },
    {
     "name": "stdout",
     "output_type": "stream",
     "text": [
      "\u001b[0J"
     ]
    },
    {
     "name": "stdout",
     "output_type": "stream",
     "text": [
      "\u001b[36mBuilding:\u001b[0m 8.6s\n"
     ]
    },
    {
     "name": "stdout",
     "output_type": "stream",
     "text": [
      "\u001b[1A"
     ]
    },
    {
     "name": "stdout",
     "output_type": "stream",
     "text": [
      "\u001b[0J"
     ]
    },
    {
     "name": "stdout",
     "output_type": "stream",
     "text": [
      "\u001b[36mBuilding:\u001b[0m 8.7s\n"
     ]
    },
    {
     "name": "stdout",
     "output_type": "stream",
     "text": [
      "\u001b[1A"
     ]
    },
    {
     "name": "stdout",
     "output_type": "stream",
     "text": [
      "\u001b[0J"
     ]
    },
    {
     "name": "stdout",
     "output_type": "stream",
     "text": [
      "\u001b[36mBuilding:\u001b[0m 8.8s\n"
     ]
    },
    {
     "name": "stdout",
     "output_type": "stream",
     "text": [
      "\u001b[1A"
     ]
    },
    {
     "name": "stdout",
     "output_type": "stream",
     "text": [
      "\u001b[0J"
     ]
    },
    {
     "name": "stdout",
     "output_type": "stream",
     "text": [
      "\u001b[36mBuilding:\u001b[0m 8.9s\n"
     ]
    },
    {
     "name": "stdout",
     "output_type": "stream",
     "text": [
      "\u001b[1A"
     ]
    },
    {
     "name": "stdout",
     "output_type": "stream",
     "text": [
      "\u001b[0J"
     ]
    },
    {
     "name": "stdout",
     "output_type": "stream",
     "text": [
      "\u001b[36mBuilding:\u001b[0m 9.0s\n"
     ]
    },
    {
     "name": "stdout",
     "output_type": "stream",
     "text": [
      "\u001b[1A"
     ]
    },
    {
     "name": "stdout",
     "output_type": "stream",
     "text": [
      "\u001b[0J"
     ]
    },
    {
     "name": "stdout",
     "output_type": "stream",
     "text": [
      "\u001b[36mBuilding:\u001b[0m 9.1s\n"
     ]
    },
    {
     "name": "stdout",
     "output_type": "stream",
     "text": [
      "\u001b[1A"
     ]
    },
    {
     "name": "stdout",
     "output_type": "stream",
     "text": [
      "\u001b[0J"
     ]
    },
    {
     "name": "stdout",
     "output_type": "stream",
     "text": [
      "\u001b[36mBuilding:\u001b[0m 9.2s\n"
     ]
    },
    {
     "name": "stdout",
     "output_type": "stream",
     "text": [
      "\u001b[1A"
     ]
    },
    {
     "name": "stdout",
     "output_type": "stream",
     "text": [
      "\u001b[0J"
     ]
    },
    {
     "name": "stdout",
     "output_type": "stream",
     "text": [
      "\u001b[36mBuilding:\u001b[0m 9.3s\n"
     ]
    },
    {
     "name": "stdout",
     "output_type": "stream",
     "text": [
      "\u001b[1A"
     ]
    },
    {
     "name": "stdout",
     "output_type": "stream",
     "text": [
      "\u001b[0J"
     ]
    },
    {
     "name": "stdout",
     "output_type": "stream",
     "text": [
      "\u001b[36mBuilding:\u001b[0m 9.4s\n"
     ]
    },
    {
     "name": "stdout",
     "output_type": "stream",
     "text": [
      "\u001b[1A"
     ]
    },
    {
     "name": "stdout",
     "output_type": "stream",
     "text": [
      "\u001b[0J"
     ]
    },
    {
     "name": "stdout",
     "output_type": "stream",
     "text": [
      "\u001b[36mBuilding:\u001b[0m 9.5s\n"
     ]
    },
    {
     "name": "stdout",
     "output_type": "stream",
     "text": [
      "\u001b[1A"
     ]
    },
    {
     "name": "stdout",
     "output_type": "stream",
     "text": [
      "\u001b[0J"
     ]
    },
    {
     "name": "stdout",
     "output_type": "stream",
     "text": [
      "\u001b[36mBuilding:\u001b[0m 9.6s\n"
     ]
    },
    {
     "name": "stdout",
     "output_type": "stream",
     "text": [
      "\u001b[1A"
     ]
    },
    {
     "name": "stdout",
     "output_type": "stream",
     "text": [
      "\u001b[0J"
     ]
    },
    {
     "name": "stdout",
     "output_type": "stream",
     "text": [
      "\u001b[36mBuilding:\u001b[0m 9.7s\n"
     ]
    },
    {
     "name": "stdout",
     "output_type": "stream",
     "text": [
      "\u001b[1A"
     ]
    },
    {
     "name": "stdout",
     "output_type": "stream",
     "text": [
      "\u001b[0J"
     ]
    },
    {
     "name": "stdout",
     "output_type": "stream",
     "text": [
      "\u001b[36mBuilding:\u001b[0m 9.8s\n"
     ]
    },
    {
     "name": "stdout",
     "output_type": "stream",
     "text": [
      "\u001b[1A"
     ]
    },
    {
     "name": "stdout",
     "output_type": "stream",
     "text": [
      "\u001b[0J"
     ]
    },
    {
     "name": "stdout",
     "output_type": "stream",
     "text": [
      "\u001b[36mBuilding:\u001b[0m 9.9s\n"
     ]
    },
    {
     "name": "stdout",
     "output_type": "stream",
     "text": [
      "\u001b[1A"
     ]
    },
    {
     "name": "stdout",
     "output_type": "stream",
     "text": [
      "\u001b[0J"
     ]
    },
    {
     "name": "stdout",
     "output_type": "stream",
     "text": [
      "\u001b[36mBuilding:\u001b[0m 10.0s\n"
     ]
    },
    {
     "name": "stdout",
     "output_type": "stream",
     "text": [
      "\u001b[1A"
     ]
    },
    {
     "name": "stdout",
     "output_type": "stream",
     "text": [
      "\u001b[0J"
     ]
    },
    {
     "name": "stdout",
     "output_type": "stream",
     "text": [
      "\u001b[36mBuilding:\u001b[0m 10.1s\n"
     ]
    },
    {
     "name": "stdout",
     "output_type": "stream",
     "text": [
      "\u001b[1A"
     ]
    },
    {
     "name": "stdout",
     "output_type": "stream",
     "text": [
      "\u001b[0J"
     ]
    },
    {
     "name": "stdout",
     "output_type": "stream",
     "text": [
      "\u001b[36mBuilding:\u001b[0m 10.2s\n"
     ]
    },
    {
     "name": "stdout",
     "output_type": "stream",
     "text": [
      "\u001b[1A"
     ]
    },
    {
     "name": "stdout",
     "output_type": "stream",
     "text": [
      "\u001b[0J"
     ]
    },
    {
     "name": "stdout",
     "output_type": "stream",
     "text": [
      "\u001b[36mBuilding:\u001b[0m 10.3s\n"
     ]
    },
    {
     "name": "stdout",
     "output_type": "stream",
     "text": [
      "\u001b[1A"
     ]
    },
    {
     "name": "stdout",
     "output_type": "stream",
     "text": [
      "\u001b[0J"
     ]
    },
    {
     "name": "stdout",
     "output_type": "stream",
     "text": [
      "\u001b[36mBuilding:\u001b[0m 10.4s\n"
     ]
    },
    {
     "name": "stdout",
     "output_type": "stream",
     "text": [
      "\u001b[1A"
     ]
    },
    {
     "name": "stdout",
     "output_type": "stream",
     "text": [
      "\u001b[0J"
     ]
    },
    {
     "name": "stdout",
     "output_type": "stream",
     "text": [
      "\u001b[36mBuilding:\u001b[0m 10.6s\n"
     ]
    },
    {
     "name": "stdout",
     "output_type": "stream",
     "text": [
      "\u001b[1A"
     ]
    },
    {
     "name": "stdout",
     "output_type": "stream",
     "text": [
      "\u001b[0J"
     ]
    },
    {
     "name": "stdout",
     "output_type": "stream",
     "text": [
      "\u001b[36mBuilding:\u001b[0m 10.7s\n"
     ]
    },
    {
     "name": "stdout",
     "output_type": "stream",
     "text": [
      "\u001b[1A"
     ]
    },
    {
     "name": "stdout",
     "output_type": "stream",
     "text": [
      "\u001b[0J"
     ]
    },
    {
     "name": "stdout",
     "output_type": "stream",
     "text": [
      "\u001b[36mBuilding:\u001b[0m 10.8s\n"
     ]
    },
    {
     "name": "stdout",
     "output_type": "stream",
     "text": [
      "\u001b[1A"
     ]
    },
    {
     "name": "stdout",
     "output_type": "stream",
     "text": [
      "\u001b[0J"
     ]
    },
    {
     "name": "stdout",
     "output_type": "stream",
     "text": [
      "\u001b[36mBuilding:\u001b[0m 10.9s\n"
     ]
    },
    {
     "name": "stdout",
     "output_type": "stream",
     "text": [
      "\u001b[1A"
     ]
    },
    {
     "name": "stdout",
     "output_type": "stream",
     "text": [
      "\u001b[0J"
     ]
    },
    {
     "name": "stdout",
     "output_type": "stream",
     "text": [
      "\u001b[36mBuilding:\u001b[0m 11.0s\n"
     ]
    },
    {
     "name": "stdout",
     "output_type": "stream",
     "text": [
      "\u001b[1A"
     ]
    },
    {
     "name": "stdout",
     "output_type": "stream",
     "text": [
      "\u001b[0J"
     ]
    },
    {
     "name": "stdout",
     "output_type": "stream",
     "text": [
      "\u001b[36mBuilding:\u001b[0m 11.1s\n"
     ]
    },
    {
     "name": "stdout",
     "output_type": "stream",
     "text": [
      "\u001b[1A"
     ]
    },
    {
     "name": "stdout",
     "output_type": "stream",
     "text": [
      "\u001b[0J"
     ]
    },
    {
     "name": "stdout",
     "output_type": "stream",
     "text": [
      "\u001b[36mBuilding:\u001b[0m 11.2s\n"
     ]
    },
    {
     "name": "stdout",
     "output_type": "stream",
     "text": [
      "\u001b[1A"
     ]
    },
    {
     "name": "stdout",
     "output_type": "stream",
     "text": [
      "\u001b[0J"
     ]
    },
    {
     "name": "stdout",
     "output_type": "stream",
     "text": [
      "\u001b[36mBuilding:\u001b[0m 11.3s\n"
     ]
    },
    {
     "name": "stdout",
     "output_type": "stream",
     "text": [
      "\u001b[1A"
     ]
    },
    {
     "name": "stdout",
     "output_type": "stream",
     "text": [
      "\u001b[0J"
     ]
    },
    {
     "name": "stdout",
     "output_type": "stream",
     "text": [
      "\u001b[36mBuilding:\u001b[0m 11.4s\n"
     ]
    },
    {
     "name": "stdout",
     "output_type": "stream",
     "text": [
      "\u001b[1A"
     ]
    },
    {
     "name": "stdout",
     "output_type": "stream",
     "text": [
      "\u001b[0J"
     ]
    },
    {
     "name": "stdout",
     "output_type": "stream",
     "text": [
      "\u001b[36mBuilding:\u001b[0m 11.5s\n"
     ]
    },
    {
     "name": "stdout",
     "output_type": "stream",
     "text": [
      "\u001b[1A"
     ]
    },
    {
     "name": "stdout",
     "output_type": "stream",
     "text": [
      "\u001b[0J"
     ]
    },
    {
     "name": "stdout",
     "output_type": "stream",
     "text": [
      "\u001b[36mBuilding:\u001b[0m 11.6s\n"
     ]
    },
    {
     "name": "stdout",
     "output_type": "stream",
     "text": [
      "\u001b[1A"
     ]
    },
    {
     "name": "stdout",
     "output_type": "stream",
     "text": [
      "\u001b[0J"
     ]
    },
    {
     "name": "stdout",
     "output_type": "stream",
     "text": [
      "\u001b[36mBuilding:\u001b[0m 11.7s\n"
     ]
    },
    {
     "name": "stderr",
     "output_type": "stream",
     "text": [
      "/home/rodolpho/.cache/httpstan/4.10.1/models/7ygnnama/model_7ygnnama.cpp: In constructor ‘model_7ygnnama_namespace::model_7ygnnama::model_7ygnnama(stan::io::var_context&, unsigned int, std::ostream*)’:\n",
      "/home/rodolpho/.cache/httpstan/4.10.1/models/7ygnnama/model_7ygnnama.cpp:72:11: warning: variable ‘pos__’ set but not used [-Wunused-but-set-variable]\n",
      "   72 |       int pos__ = std::numeric_limits<int>::min();\n",
      "      |           ^~~~~\n"
     ]
    },
    {
     "name": "stdout",
     "output_type": "stream",
     "text": [
      "\u001b[1A"
     ]
    },
    {
     "name": "stdout",
     "output_type": "stream",
     "text": [
      "\u001b[0J"
     ]
    },
    {
     "name": "stdout",
     "output_type": "stream",
     "text": [
      "\u001b[36mBuilding:\u001b[0m 11.8s\n"
     ]
    },
    {
     "name": "stdout",
     "output_type": "stream",
     "text": [
      "\u001b[1A"
     ]
    },
    {
     "name": "stdout",
     "output_type": "stream",
     "text": [
      "\u001b[0J"
     ]
    },
    {
     "name": "stdout",
     "output_type": "stream",
     "text": [
      "\u001b[36mBuilding:\u001b[0m 11.9s\n"
     ]
    },
    {
     "name": "stderr",
     "output_type": "stream",
     "text": [
      "In file included from /home/rodolpho/Projects/bayesian/BAYES/lib/python3.8/site-packages/httpstan/include/stan/math/prim/fun.hpp:124,\n",
      "                 from /home/rodolpho/Projects/bayesian/BAYES/lib/python3.8/site-packages/httpstan/include/stan/math/rev/fun/multiply.hpp:7,\n",
      "                 from /home/rodolpho/Projects/bayesian/BAYES/lib/python3.8/site-packages/httpstan/include/stan/math/rev/fun/elt_multiply.hpp:9,\n",
      "                 from /home/rodolpho/Projects/bayesian/BAYES/lib/python3.8/site-packages/httpstan/include/stan/math/rev/fun.hpp:55,\n",
      "                 from /home/rodolpho/Projects/bayesian/BAYES/lib/python3.8/site-packages/httpstan/include/stan/math/rev.hpp:10,\n",
      "                 from /home/rodolpho/Projects/bayesian/BAYES/lib/python3.8/site-packages/httpstan/include/stan/math.hpp:19,\n",
      "                 from /home/rodolpho/Projects/bayesian/BAYES/lib/python3.8/site-packages/httpstan/include/stan/model/model_header.hpp:4,\n",
      "                 from /home/rodolpho/.cache/httpstan/4.10.1/models/7ygnnama/model_7ygnnama.cpp:2:\n",
      "/home/rodolpho/Projects/bayesian/BAYES/lib/python3.8/site-packages/httpstan/include/stan/math/prim/fun/grad_2F1.hpp: In instantiation of ‘TupleT stan::math::internal::grad_2F1_impl(const T1&, const T2&, const T3&, const T_z&, double, int) [with bool calc_a1 = true; bool calc_a2 = true; bool calc_b1 = true; bool calc_z = true; T1 = double; T2 = double; T3 = double; T_z = double; ScalarT = double; TupleT = std::tuple<double, double, double, double>]’:\n",
      "/home/rodolpho/Projects/bayesian/BAYES/lib/python3.8/site-packages/httpstan/include/stan/math/prim/fun/grad_2F1.hpp:307:57:   required from ‘auto stan::math::grad_2F1(const T1&, const T2&, const T3&, const T_z&, double, int) [with bool ReturnSameT = true; T1 = double; T2 = double; T3 = double; T_z = double; stan::require_t<std::integral_constant<bool, __v> >* <anonymous> = 0]’\n",
      "/home/rodolpho/Projects/bayesian/BAYES/lib/python3.8/site-packages/httpstan/include/stan/math/prim/fun/grad_inc_beta.hpp:37:46:   required from here\n",
      "/home/rodolpho/Projects/bayesian/BAYES/lib/python3.8/site-packages/httpstan/include/stan/math/prim/fun/grad_2F1.hpp:192:12: warning: unused variable ‘pre_mult’ [-Wunused-variable]\n",
      "  192 |       auto pre_mult = a2 * pow(1 - z, -1 - a2);\n",
      "      |            ^~~~~~~~\n",
      "/home/rodolpho/Projects/bayesian/BAYES/lib/python3.8/site-packages/httpstan/include/stan/math/prim/fun/grad_2F1.hpp: In instantiation of ‘TupleT stan::math::internal::grad_2F1_impl(const T1&, const T2&, const T3&, const T_z&, double, int) [with bool calc_a1 = true; bool calc_a2 = true; bool calc_b1 = true; bool calc_z = true; T1 = stan::math::var_value<double>; T2 = stan::math::var_value<double>; T3 = stan::math::var_value<double>; T_z = stan::math::var_value<double>; ScalarT = stan::math::var_value<double>; TupleT = std::tuple<stan::math::var_value<double, void>, stan::math::var_value<double, void>, stan::math::var_value<double, void>, stan::math::var_value<double, void> >]’:\n",
      "/home/rodolpho/Projects/bayesian/BAYES/lib/python3.8/site-packages/httpstan/include/stan/math/prim/fun/grad_2F1.hpp:307:57:   required from ‘auto stan::math::grad_2F1(const T1&, const T2&, const T3&, const T_z&, double, int) [with bool ReturnSameT = true; T1 = stan::math::var_value<double>; T2 = stan::math::var_value<double>; T3 = stan::math::var_value<double>; T_z = stan::math::var_value<double>; stan::require_t<std::integral_constant<bool, __v> >* <anonymous> = 0]’\n",
      "/home/rodolpho/Projects/bayesian/BAYES/lib/python3.8/site-packages/httpstan/include/stan/math/rev/fun/grad_inc_beta.hpp:49:51:   required from here\n",
      "/home/rodolpho/Projects/bayesian/BAYES/lib/python3.8/site-packages/httpstan/include/stan/math/prim/fun/grad_2F1.hpp:192:12: warning: variable ‘pre_mult’ set but not used [-Wunused-but-set-variable]\n"
     ]
    },
    {
     "name": "stdout",
     "output_type": "stream",
     "text": [
      "\u001b[1A"
     ]
    },
    {
     "name": "stdout",
     "output_type": "stream",
     "text": [
      "\u001b[0J"
     ]
    },
    {
     "name": "stdout",
     "output_type": "stream",
     "text": [
      "\u001b[36mBuilding:\u001b[0m 12.0s\n"
     ]
    },
    {
     "name": "stdout",
     "output_type": "stream",
     "text": [
      "\u001b[1A"
     ]
    },
    {
     "name": "stdout",
     "output_type": "stream",
     "text": [
      "\u001b[0J"
     ]
    },
    {
     "name": "stdout",
     "output_type": "stream",
     "text": [
      "\u001b[36mBuilding:\u001b[0m 12.1s\n"
     ]
    },
    {
     "name": "stdout",
     "output_type": "stream",
     "text": [
      "\u001b[1A"
     ]
    },
    {
     "name": "stdout",
     "output_type": "stream",
     "text": [
      "\u001b[0J"
     ]
    },
    {
     "name": "stdout",
     "output_type": "stream",
     "text": [
      "\u001b[36mBuilding:\u001b[0m 12.2s\n"
     ]
    },
    {
     "name": "stdout",
     "output_type": "stream",
     "text": [
      "\u001b[1A"
     ]
    },
    {
     "name": "stdout",
     "output_type": "stream",
     "text": [
      "\u001b[0J"
     ]
    },
    {
     "name": "stdout",
     "output_type": "stream",
     "text": [
      "\u001b[36mBuilding:\u001b[0m 12.3s\n"
     ]
    },
    {
     "name": "stdout",
     "output_type": "stream",
     "text": [
      "\u001b[1A"
     ]
    },
    {
     "name": "stdout",
     "output_type": "stream",
     "text": [
      "\u001b[0J"
     ]
    },
    {
     "name": "stdout",
     "output_type": "stream",
     "text": [
      "\u001b[36mBuilding:\u001b[0m 12.4s\n"
     ]
    },
    {
     "name": "stdout",
     "output_type": "stream",
     "text": [
      "\u001b[1A"
     ]
    },
    {
     "name": "stdout",
     "output_type": "stream",
     "text": [
      "\u001b[0J"
     ]
    },
    {
     "name": "stdout",
     "output_type": "stream",
     "text": [
      "\u001b[36mBuilding:\u001b[0m 12.5s\n"
     ]
    },
    {
     "name": "stderr",
     "output_type": "stream",
     "text": [
      "/home/rodolpho/.cache/httpstan/4.10.1/models/7ygnnama/model_7ygnnama.cpp: In instantiation of ‘void model_7ygnnama_namespace::model_7ygnnama::unconstrain_array_impl(const VecVar&, const VecI&, VecVar&, std::ostream*) const [with VecVar = std::vector<double, std::allocator<double> >; VecI = std::vector<int>; stan::require_vector_t<T_y>* <anonymous> = 0; stan::require_vector_like_vt<std::is_integral, VecI>* <anonymous> = 0; std::ostream = std::basic_ostream<char>]’:\n",
      "/home/rodolpho/.cache/httpstan/4.10.1/models/7ygnnama/model_7ygnnama.cpp:634:36:   required from here\n",
      "/home/rodolpho/.cache/httpstan/4.10.1/models/7ygnnama/model_7ygnnama.cpp:344:11: warning: variable ‘pos__’ set but not used [-Wunused-but-set-variable]\n",
      "  344 |       int pos__ = std::numeric_limits<int>::min();\n",
      "      |           ^~~~~\n",
      "/home/rodolpho/.cache/httpstan/4.10.1/models/7ygnnama/model_7ygnnama.cpp: In instantiation of ‘void model_7ygnnama_namespace::model_7ygnnama::unconstrain_array_impl(const VecVar&, const VecI&, VecVar&, std::ostream*) const [with VecVar = Eigen::Matrix<double, -1, 1>; VecI = std::vector<int>; stan::require_vector_t<T_y>* <anonymous> = 0; stan::require_vector_like_vt<std::is_integral, VecI>* <anonymous> = 0; std::ostream = std::basic_ostream<char>]’:\n",
      "/home/rodolpho/.cache/httpstan/4.10.1/models/7ygnnama/model_7ygnnama.cpp:644:36:   required from here\n",
      "/home/rodolpho/.cache/httpstan/4.10.1/models/7ygnnama/model_7ygnnama.cpp:344:11: warning: variable ‘pos__’ set but not used [-Wunused-but-set-variable]\n",
      "In file included from /home/rodolpho/Projects/bayesian/BAYES/lib/python3.8/site-packages/httpstan/include/stan/math/prim/fun.hpp:124,\n",
      "                 from /home/rodolpho/Projects/bayesian/BAYES/lib/python3.8/site-packages/httpstan/include/stan/math/rev/fun/multiply.hpp:7,\n",
      "                 from /home/rodolpho/Projects/bayesian/BAYES/lib/python3.8/site-packages/httpstan/include/stan/math/rev/fun/elt_multiply.hpp:9,\n",
      "                 from /home/rodolpho/Projects/bayesian/BAYES/lib/python3.8/site-packages/httpstan/include/stan/math/rev/fun.hpp:55,\n",
      "                 from /home/rodolpho/Projects/bayesian/BAYES/lib/python3.8/site-packages/httpstan/include/stan/math/rev.hpp:10,\n",
      "                 from /home/rodolpho/Projects/bayesian/BAYES/lib/python3.8/site-packages/httpstan/include/stan/math.hpp:19,\n",
      "                 from /home/rodolpho/Projects/bayesian/BAYES/lib/python3.8/site-packages/httpstan/include/stan/model/model_header.hpp:4,\n",
      "                 from /home/rodolpho/.cache/httpstan/4.10.1/models/7ygnnama/model_7ygnnama.cpp:2:\n",
      "/home/rodolpho/Projects/bayesian/BAYES/lib/python3.8/site-packages/httpstan/include/stan/math/prim/fun/grad_2F1.hpp: In instantiation of ‘TupleT stan::math::internal::grad_2F1_impl_ab(const T1&, const T2&, const T3&, const T_z&, double, int) [with bool calc_a1 = true; bool calc_a2 = true; bool calc_b1 = true; T1 = double; T2 = double; T3 = double; T_z = double; ScalarT = double; TupleT = std::tuple<double, double, double>]’:\n",
      "/home/rodolpho/Projects/bayesian/BAYES/lib/python3.8/site-packages/httpstan/include/stan/math/prim/fun/grad_2F1.hpp:205:78:   required from ‘TupleT stan::math::internal::grad_2F1_impl(const T1&, const T2&, const T3&, const T_z&, double, int) [with bool calc_a1 = true; bool calc_a2 = true; bool calc_b1 = true; bool calc_z = true; T1 = double; T2 = double; T3 = double; T_z = double; ScalarT = double; TupleT = std::tuple<double, double, double, double>]’\n",
      "/home/rodolpho/Projects/bayesian/BAYES/lib/python3.8/site-packages/httpstan/include/stan/math/prim/fun/grad_2F1.hpp:307:57:   required from ‘auto stan::math::grad_2F1(const T1&, const T2&, const T3&, const T_z&, double, int) [with bool ReturnSameT = true; T1 = double; T2 = double; T3 = double; T_z = double; stan::require_t<std::integral_constant<bool, __v> >* <anonymous> = 0]’\n",
      "/home/rodolpho/Projects/bayesian/BAYES/lib/python3.8/site-packages/httpstan/include/stan/math/prim/fun/grad_inc_beta.hpp:37:46:   required from here\n",
      "/home/rodolpho/Projects/bayesian/BAYES/lib/python3.8/site-packages/httpstan/include/stan/math/prim/fun/grad_2F1.hpp:68:10: warning: unused variable ‘log_precision’ [-Wunused-variable]\n",
      "   68 |   double log_precision = log(precision);\n",
      "      |          ^~~~~~~~~~~~~\n"
     ]
    },
    {
     "name": "stdout",
     "output_type": "stream",
     "text": [
      "\u001b[1A"
     ]
    },
    {
     "name": "stdout",
     "output_type": "stream",
     "text": [
      "\u001b[0J"
     ]
    },
    {
     "name": "stdout",
     "output_type": "stream",
     "text": [
      "\u001b[36mBuilding:\u001b[0m 12.6s\n"
     ]
    },
    {
     "name": "stdout",
     "output_type": "stream",
     "text": [
      "\u001b[1A"
     ]
    },
    {
     "name": "stdout",
     "output_type": "stream",
     "text": [
      "\u001b[0J"
     ]
    },
    {
     "name": "stdout",
     "output_type": "stream",
     "text": [
      "\u001b[36mBuilding:\u001b[0m 12.7s\n"
     ]
    },
    {
     "name": "stdout",
     "output_type": "stream",
     "text": [
      "\u001b[1A"
     ]
    },
    {
     "name": "stdout",
     "output_type": "stream",
     "text": [
      "\u001b[0J"
     ]
    },
    {
     "name": "stdout",
     "output_type": "stream",
     "text": [
      "\u001b[36mBuilding:\u001b[0m 12.8s\n"
     ]
    },
    {
     "name": "stderr",
     "output_type": "stream",
     "text": [
      "/home/rodolpho/Projects/bayesian/BAYES/lib/python3.8/site-packages/httpstan/include/stan/math/prim/fun/grad_2F1.hpp: In instantiation of ‘TupleT stan::math::internal::grad_2F1_impl_ab(const T1&, const T2&, const T3&, const T_z&, double, int) [with bool calc_a1 = true; bool calc_a2 = true; bool calc_b1 = true; T1 = stan::math::var_value<double>; T2 = stan::math::var_value<double>; T3 = stan::math::var_value<double>; T_z = stan::math::var_value<double>; ScalarT = stan::math::var_value<double>; TupleT = std::tuple<stan::math::var_value<double, void>, stan::math::var_value<double, void>, stan::math::var_value<double, void> >]’:\n",
      "/home/rodolpho/Projects/bayesian/BAYES/lib/python3.8/site-packages/httpstan/include/stan/math/prim/fun/grad_2F1.hpp:205:78:   required from ‘TupleT stan::math::internal::grad_2F1_impl(const T1&, const T2&, const T3&, const T_z&, double, int) [with bool calc_a1 = true; bool calc_a2 = true; bool calc_b1 = true; bool calc_z = true; T1 = stan::math::var_value<double>; T2 = stan::math::var_value<double>; T3 = stan::math::var_value<double>; T_z = stan::math::var_value<double>; ScalarT = stan::math::var_value<double>; TupleT = std::tuple<stan::math::var_value<double, void>, stan::math::var_value<double, void>, stan::math::var_value<double, void>, stan::math::var_value<double, void> >]’\n",
      "/home/rodolpho/Projects/bayesian/BAYES/lib/python3.8/site-packages/httpstan/include/stan/math/prim/fun/grad_2F1.hpp:307:57:   required from ‘auto stan::math::grad_2F1(const T1&, const T2&, const T3&, const T_z&, double, int) [with bool ReturnSameT = true; T1 = stan::math::var_value<double>; T2 = stan::math::var_value<double>; T3 = stan::math::var_value<double>; T_z = stan::math::var_value<double>; stan::require_t<std::integral_constant<bool, __v> >* <anonymous> = 0]’\n",
      "/home/rodolpho/Projects/bayesian/BAYES/lib/python3.8/site-packages/httpstan/include/stan/math/rev/fun/grad_inc_beta.hpp:49:51:   required from here\n",
      "/home/rodolpho/Projects/bayesian/BAYES/lib/python3.8/site-packages/httpstan/include/stan/math/prim/fun/grad_2F1.hpp:68:10: warning: unused variable ‘log_precision’ [-Wunused-variable]\n"
     ]
    },
    {
     "name": "stdout",
     "output_type": "stream",
     "text": [
      "\u001b[1A"
     ]
    },
    {
     "name": "stdout",
     "output_type": "stream",
     "text": [
      "\u001b[0J"
     ]
    },
    {
     "name": "stdout",
     "output_type": "stream",
     "text": [
      "\u001b[36mBuilding:\u001b[0m 12.9s\n"
     ]
    },
    {
     "name": "stdout",
     "output_type": "stream",
     "text": [
      "\u001b[1A"
     ]
    },
    {
     "name": "stdout",
     "output_type": "stream",
     "text": [
      "\u001b[0J"
     ]
    },
    {
     "name": "stdout",
     "output_type": "stream",
     "text": [
      "\u001b[36mBuilding:\u001b[0m 13.0s\n"
     ]
    },
    {
     "name": "stdout",
     "output_type": "stream",
     "text": [
      "\u001b[1A"
     ]
    },
    {
     "name": "stdout",
     "output_type": "stream",
     "text": [
      "\u001b[0J"
     ]
    },
    {
     "name": "stdout",
     "output_type": "stream",
     "text": [
      "\u001b[36mBuilding:\u001b[0m 13.1s\n"
     ]
    },
    {
     "name": "stdout",
     "output_type": "stream",
     "text": [
      "\u001b[1A"
     ]
    },
    {
     "name": "stdout",
     "output_type": "stream",
     "text": [
      "\u001b[0J"
     ]
    },
    {
     "name": "stdout",
     "output_type": "stream",
     "text": [
      "\u001b[36mBuilding:\u001b[0m 13.2s\n"
     ]
    },
    {
     "name": "stdout",
     "output_type": "stream",
     "text": [
      "\u001b[1A"
     ]
    },
    {
     "name": "stdout",
     "output_type": "stream",
     "text": [
      "\u001b[0J"
     ]
    },
    {
     "name": "stdout",
     "output_type": "stream",
     "text": [
      "\u001b[36mBuilding:\u001b[0m 13.3s\n"
     ]
    },
    {
     "name": "stdout",
     "output_type": "stream",
     "text": [
      "\u001b[1A"
     ]
    },
    {
     "name": "stdout",
     "output_type": "stream",
     "text": [
      "\u001b[0J"
     ]
    },
    {
     "name": "stdout",
     "output_type": "stream",
     "text": [
      "\u001b[36mBuilding:\u001b[0m 13.4s\n"
     ]
    },
    {
     "name": "stdout",
     "output_type": "stream",
     "text": [
      "\u001b[1A"
     ]
    },
    {
     "name": "stdout",
     "output_type": "stream",
     "text": [
      "\u001b[0J"
     ]
    },
    {
     "name": "stdout",
     "output_type": "stream",
     "text": [
      "\u001b[36mBuilding:\u001b[0m 13.5s\n"
     ]
    },
    {
     "name": "stdout",
     "output_type": "stream",
     "text": [
      "\u001b[1A"
     ]
    },
    {
     "name": "stdout",
     "output_type": "stream",
     "text": [
      "\u001b[0J"
     ]
    },
    {
     "name": "stdout",
     "output_type": "stream",
     "text": [
      "\u001b[36mBuilding:\u001b[0m 13.6s\n"
     ]
    },
    {
     "name": "stdout",
     "output_type": "stream",
     "text": [
      "\u001b[1A"
     ]
    },
    {
     "name": "stdout",
     "output_type": "stream",
     "text": [
      "\u001b[0J"
     ]
    },
    {
     "name": "stdout",
     "output_type": "stream",
     "text": [
      "\u001b[36mBuilding:\u001b[0m 13.7s\n"
     ]
    },
    {
     "name": "stdout",
     "output_type": "stream",
     "text": [
      "\u001b[1A"
     ]
    },
    {
     "name": "stdout",
     "output_type": "stream",
     "text": [
      "\u001b[0J"
     ]
    },
    {
     "name": "stdout",
     "output_type": "stream",
     "text": [
      "\u001b[36mBuilding:\u001b[0m 13.8s\n"
     ]
    },
    {
     "name": "stdout",
     "output_type": "stream",
     "text": [
      "\u001b[1A"
     ]
    },
    {
     "name": "stdout",
     "output_type": "stream",
     "text": [
      "\u001b[0J"
     ]
    },
    {
     "name": "stdout",
     "output_type": "stream",
     "text": [
      "\u001b[36mBuilding:\u001b[0m 13.9s\n"
     ]
    },
    {
     "name": "stdout",
     "output_type": "stream",
     "text": [
      "\u001b[1A"
     ]
    },
    {
     "name": "stdout",
     "output_type": "stream",
     "text": [
      "\u001b[0J"
     ]
    },
    {
     "name": "stdout",
     "output_type": "stream",
     "text": [
      "\u001b[36mBuilding:\u001b[0m 14.0s\n"
     ]
    },
    {
     "name": "stdout",
     "output_type": "stream",
     "text": [
      "\u001b[1A"
     ]
    },
    {
     "name": "stdout",
     "output_type": "stream",
     "text": [
      "\u001b[0J"
     ]
    },
    {
     "name": "stdout",
     "output_type": "stream",
     "text": [
      "\u001b[36mBuilding:\u001b[0m 14.1s\n"
     ]
    },
    {
     "name": "stdout",
     "output_type": "stream",
     "text": [
      "\u001b[1A"
     ]
    },
    {
     "name": "stdout",
     "output_type": "stream",
     "text": [
      "\u001b[0J"
     ]
    },
    {
     "name": "stdout",
     "output_type": "stream",
     "text": [
      "\u001b[36mBuilding:\u001b[0m 14.2s\n"
     ]
    },
    {
     "name": "stdout",
     "output_type": "stream",
     "text": [
      "\u001b[1A"
     ]
    },
    {
     "name": "stdout",
     "output_type": "stream",
     "text": [
      "\u001b[0J"
     ]
    },
    {
     "name": "stdout",
     "output_type": "stream",
     "text": [
      "\u001b[36mBuilding:\u001b[0m 14.4s\n"
     ]
    },
    {
     "name": "stdout",
     "output_type": "stream",
     "text": [
      "\u001b[1A"
     ]
    },
    {
     "name": "stdout",
     "output_type": "stream",
     "text": [
      "\u001b[0J"
     ]
    },
    {
     "name": "stdout",
     "output_type": "stream",
     "text": [
      "\u001b[36mBuilding:\u001b[0m 14.5s\n"
     ]
    },
    {
     "name": "stdout",
     "output_type": "stream",
     "text": [
      "\u001b[1A"
     ]
    },
    {
     "name": "stdout",
     "output_type": "stream",
     "text": [
      "\u001b[0J"
     ]
    },
    {
     "name": "stdout",
     "output_type": "stream",
     "text": [
      "\u001b[36mBuilding:\u001b[0m 14.6s\n"
     ]
    },
    {
     "name": "stdout",
     "output_type": "stream",
     "text": [
      "\u001b[1A"
     ]
    },
    {
     "name": "stdout",
     "output_type": "stream",
     "text": [
      "\u001b[0J"
     ]
    },
    {
     "name": "stdout",
     "output_type": "stream",
     "text": [
      "\u001b[36mBuilding:\u001b[0m 14.7s\n"
     ]
    },
    {
     "name": "stdout",
     "output_type": "stream",
     "text": [
      "\u001b[1A"
     ]
    },
    {
     "name": "stdout",
     "output_type": "stream",
     "text": [
      "\u001b[0J"
     ]
    },
    {
     "name": "stdout",
     "output_type": "stream",
     "text": [
      "\u001b[36mBuilding:\u001b[0m 14.8s\n"
     ]
    },
    {
     "name": "stdout",
     "output_type": "stream",
     "text": [
      "\u001b[1A"
     ]
    },
    {
     "name": "stdout",
     "output_type": "stream",
     "text": [
      "\u001b[0J"
     ]
    },
    {
     "name": "stdout",
     "output_type": "stream",
     "text": [
      "\u001b[36mBuilding:\u001b[0m 14.9s\n"
     ]
    },
    {
     "name": "stdout",
     "output_type": "stream",
     "text": [
      "\u001b[1A"
     ]
    },
    {
     "name": "stdout",
     "output_type": "stream",
     "text": [
      "\u001b[0J"
     ]
    },
    {
     "name": "stdout",
     "output_type": "stream",
     "text": [
      "\u001b[36mBuilding:\u001b[0m 15.0s\n"
     ]
    },
    {
     "name": "stdout",
     "output_type": "stream",
     "text": [
      "\u001b[1A"
     ]
    },
    {
     "name": "stdout",
     "output_type": "stream",
     "text": [
      "\u001b[0J"
     ]
    },
    {
     "name": "stdout",
     "output_type": "stream",
     "text": [
      "\u001b[36mBuilding:\u001b[0m 15.1s\n"
     ]
    },
    {
     "name": "stdout",
     "output_type": "stream",
     "text": [
      "\u001b[1A"
     ]
    },
    {
     "name": "stdout",
     "output_type": "stream",
     "text": [
      "\u001b[0J"
     ]
    },
    {
     "name": "stdout",
     "output_type": "stream",
     "text": [
      "\u001b[36mBuilding:\u001b[0m 15.2s\n"
     ]
    },
    {
     "name": "stdout",
     "output_type": "stream",
     "text": [
      "\u001b[1A"
     ]
    },
    {
     "name": "stdout",
     "output_type": "stream",
     "text": [
      "\u001b[0J"
     ]
    },
    {
     "name": "stdout",
     "output_type": "stream",
     "text": [
      "\u001b[36mBuilding:\u001b[0m 15.3s\n"
     ]
    },
    {
     "name": "stdout",
     "output_type": "stream",
     "text": [
      "\u001b[1A"
     ]
    },
    {
     "name": "stdout",
     "output_type": "stream",
     "text": [
      "\u001b[0J"
     ]
    },
    {
     "name": "stdout",
     "output_type": "stream",
     "text": [
      "\u001b[36mBuilding:\u001b[0m 15.4s\n"
     ]
    },
    {
     "name": "stdout",
     "output_type": "stream",
     "text": [
      "\u001b[1A"
     ]
    },
    {
     "name": "stdout",
     "output_type": "stream",
     "text": [
      "\u001b[0J"
     ]
    },
    {
     "name": "stdout",
     "output_type": "stream",
     "text": [
      "\u001b[36mBuilding:\u001b[0m 15.5s\n"
     ]
    },
    {
     "name": "stdout",
     "output_type": "stream",
     "text": [
      "\u001b[1A"
     ]
    },
    {
     "name": "stdout",
     "output_type": "stream",
     "text": [
      "\u001b[0J"
     ]
    },
    {
     "name": "stdout",
     "output_type": "stream",
     "text": [
      "\u001b[36mBuilding:\u001b[0m 15.6s\n"
     ]
    },
    {
     "name": "stdout",
     "output_type": "stream",
     "text": [
      "\u001b[1A"
     ]
    },
    {
     "name": "stdout",
     "output_type": "stream",
     "text": [
      "\u001b[0J"
     ]
    },
    {
     "name": "stdout",
     "output_type": "stream",
     "text": [
      "\u001b[36mBuilding:\u001b[0m 15.7s\n"
     ]
    },
    {
     "name": "stdout",
     "output_type": "stream",
     "text": [
      "\u001b[1A"
     ]
    },
    {
     "name": "stdout",
     "output_type": "stream",
     "text": [
      "\u001b[0J"
     ]
    },
    {
     "name": "stdout",
     "output_type": "stream",
     "text": [
      "\u001b[36mBuilding:\u001b[0m 15.8s\n"
     ]
    },
    {
     "name": "stdout",
     "output_type": "stream",
     "text": [
      "\u001b[1A"
     ]
    },
    {
     "name": "stdout",
     "output_type": "stream",
     "text": [
      "\u001b[0J"
     ]
    },
    {
     "name": "stdout",
     "output_type": "stream",
     "text": [
      "\u001b[36mBuilding:\u001b[0m 15.9s\n"
     ]
    },
    {
     "name": "stdout",
     "output_type": "stream",
     "text": [
      "\u001b[1A"
     ]
    },
    {
     "name": "stdout",
     "output_type": "stream",
     "text": [
      "\u001b[0J"
     ]
    },
    {
     "name": "stdout",
     "output_type": "stream",
     "text": [
      "\u001b[36mBuilding:\u001b[0m 16.0s\n"
     ]
    },
    {
     "name": "stdout",
     "output_type": "stream",
     "text": [
      "\u001b[1A"
     ]
    },
    {
     "name": "stdout",
     "output_type": "stream",
     "text": [
      "\u001b[0J"
     ]
    },
    {
     "name": "stdout",
     "output_type": "stream",
     "text": [
      "\u001b[36mBuilding:\u001b[0m 16.1s\n"
     ]
    },
    {
     "name": "stdout",
     "output_type": "stream",
     "text": [
      "\u001b[1A"
     ]
    },
    {
     "name": "stdout",
     "output_type": "stream",
     "text": [
      "\u001b[0J"
     ]
    },
    {
     "name": "stdout",
     "output_type": "stream",
     "text": [
      "\u001b[36mBuilding:\u001b[0m 16.2s\n"
     ]
    },
    {
     "name": "stdout",
     "output_type": "stream",
     "text": [
      "\u001b[1A"
     ]
    },
    {
     "name": "stdout",
     "output_type": "stream",
     "text": [
      "\u001b[0J"
     ]
    },
    {
     "name": "stdout",
     "output_type": "stream",
     "text": [
      "\u001b[36mBuilding:\u001b[0m 16.3s\n"
     ]
    },
    {
     "name": "stdout",
     "output_type": "stream",
     "text": [
      "\u001b[1A"
     ]
    },
    {
     "name": "stdout",
     "output_type": "stream",
     "text": [
      "\u001b[0J"
     ]
    },
    {
     "name": "stdout",
     "output_type": "stream",
     "text": [
      "\u001b[36mBuilding:\u001b[0m 16.4s\n"
     ]
    },
    {
     "name": "stdout",
     "output_type": "stream",
     "text": [
      "\u001b[1A"
     ]
    },
    {
     "name": "stdout",
     "output_type": "stream",
     "text": [
      "\u001b[0J"
     ]
    },
    {
     "name": "stdout",
     "output_type": "stream",
     "text": [
      "\u001b[36mBuilding:\u001b[0m 16.5s\n"
     ]
    },
    {
     "name": "stdout",
     "output_type": "stream",
     "text": [
      "\u001b[1A"
     ]
    },
    {
     "name": "stdout",
     "output_type": "stream",
     "text": [
      "\u001b[0J"
     ]
    },
    {
     "name": "stdout",
     "output_type": "stream",
     "text": [
      "\u001b[36mBuilding:\u001b[0m 16.6s\n"
     ]
    },
    {
     "name": "stdout",
     "output_type": "stream",
     "text": [
      "\u001b[1A"
     ]
    },
    {
     "name": "stdout",
     "output_type": "stream",
     "text": [
      "\u001b[0J"
     ]
    },
    {
     "name": "stdout",
     "output_type": "stream",
     "text": [
      "\u001b[36mBuilding:\u001b[0m 16.7s\n"
     ]
    },
    {
     "name": "stdout",
     "output_type": "stream",
     "text": [
      "\u001b[1A"
     ]
    },
    {
     "name": "stdout",
     "output_type": "stream",
     "text": [
      "\u001b[0J"
     ]
    },
    {
     "name": "stdout",
     "output_type": "stream",
     "text": [
      "\u001b[36mBuilding:\u001b[0m 16.8s\n"
     ]
    },
    {
     "name": "stdout",
     "output_type": "stream",
     "text": [
      "\u001b[1A"
     ]
    },
    {
     "name": "stdout",
     "output_type": "stream",
     "text": [
      "\u001b[0J"
     ]
    },
    {
     "name": "stdout",
     "output_type": "stream",
     "text": [
      "\u001b[36mBuilding:\u001b[0m 16.9s\n"
     ]
    },
    {
     "name": "stdout",
     "output_type": "stream",
     "text": [
      "\u001b[1A"
     ]
    },
    {
     "name": "stdout",
     "output_type": "stream",
     "text": [
      "\u001b[0J"
     ]
    },
    {
     "name": "stdout",
     "output_type": "stream",
     "text": [
      "\u001b[36mBuilding:\u001b[0m 17.0s\n"
     ]
    },
    {
     "name": "stdout",
     "output_type": "stream",
     "text": [
      "\u001b[1A"
     ]
    },
    {
     "name": "stdout",
     "output_type": "stream",
     "text": [
      "\u001b[0J"
     ]
    },
    {
     "name": "stdout",
     "output_type": "stream",
     "text": [
      "\u001b[36mBuilding:\u001b[0m 17.1s\n"
     ]
    },
    {
     "name": "stdout",
     "output_type": "stream",
     "text": [
      "\u001b[1A"
     ]
    },
    {
     "name": "stdout",
     "output_type": "stream",
     "text": [
      "\u001b[0J"
     ]
    },
    {
     "name": "stdout",
     "output_type": "stream",
     "text": [
      "\u001b[36mBuilding:\u001b[0m 17.2s\n"
     ]
    },
    {
     "name": "stdout",
     "output_type": "stream",
     "text": [
      "\u001b[1A"
     ]
    },
    {
     "name": "stdout",
     "output_type": "stream",
     "text": [
      "\u001b[0J"
     ]
    },
    {
     "name": "stdout",
     "output_type": "stream",
     "text": [
      "\u001b[36mBuilding:\u001b[0m 17.3s\n"
     ]
    },
    {
     "name": "stdout",
     "output_type": "stream",
     "text": [
      "\u001b[1A"
     ]
    },
    {
     "name": "stdout",
     "output_type": "stream",
     "text": [
      "\u001b[0J"
     ]
    },
    {
     "name": "stdout",
     "output_type": "stream",
     "text": [
      "\u001b[36mBuilding:\u001b[0m 17.4s\n"
     ]
    },
    {
     "name": "stdout",
     "output_type": "stream",
     "text": [
      "\u001b[1A"
     ]
    },
    {
     "name": "stdout",
     "output_type": "stream",
     "text": [
      "\u001b[0J"
     ]
    },
    {
     "name": "stdout",
     "output_type": "stream",
     "text": [
      "\u001b[36mBuilding:\u001b[0m 17.5s\n"
     ]
    },
    {
     "name": "stdout",
     "output_type": "stream",
     "text": [
      "\u001b[1A"
     ]
    },
    {
     "name": "stdout",
     "output_type": "stream",
     "text": [
      "\u001b[0J"
     ]
    },
    {
     "name": "stdout",
     "output_type": "stream",
     "text": [
      "\u001b[36mBuilding:\u001b[0m 17.6s\n"
     ]
    },
    {
     "name": "stdout",
     "output_type": "stream",
     "text": [
      "\u001b[1A"
     ]
    },
    {
     "name": "stdout",
     "output_type": "stream",
     "text": [
      "\u001b[0J"
     ]
    },
    {
     "name": "stdout",
     "output_type": "stream",
     "text": [
      "\u001b[36mBuilding:\u001b[0m 17.7s\n"
     ]
    },
    {
     "name": "stdout",
     "output_type": "stream",
     "text": [
      "\u001b[1A"
     ]
    },
    {
     "name": "stdout",
     "output_type": "stream",
     "text": [
      "\u001b[0J"
     ]
    },
    {
     "name": "stdout",
     "output_type": "stream",
     "text": [
      "\u001b[36mBuilding:\u001b[0m 17.8s\n"
     ]
    },
    {
     "name": "stdout",
     "output_type": "stream",
     "text": [
      "\u001b[1A"
     ]
    },
    {
     "name": "stdout",
     "output_type": "stream",
     "text": [
      "\u001b[0J"
     ]
    },
    {
     "name": "stdout",
     "output_type": "stream",
     "text": [
      "\u001b[36mBuilding:\u001b[0m 17.9s\n"
     ]
    },
    {
     "name": "stdout",
     "output_type": "stream",
     "text": [
      "\u001b[1A"
     ]
    },
    {
     "name": "stdout",
     "output_type": "stream",
     "text": [
      "\u001b[0J"
     ]
    },
    {
     "name": "stdout",
     "output_type": "stream",
     "text": [
      "\u001b[36mBuilding:\u001b[0m 18.0s\n"
     ]
    },
    {
     "name": "stdout",
     "output_type": "stream",
     "text": [
      "\u001b[1A"
     ]
    },
    {
     "name": "stdout",
     "output_type": "stream",
     "text": [
      "\u001b[0J"
     ]
    },
    {
     "name": "stdout",
     "output_type": "stream",
     "text": [
      "\u001b[36mBuilding:\u001b[0m 18.2s\n"
     ]
    },
    {
     "name": "stdout",
     "output_type": "stream",
     "text": [
      "\u001b[1A"
     ]
    },
    {
     "name": "stdout",
     "output_type": "stream",
     "text": [
      "\u001b[0J"
     ]
    },
    {
     "name": "stdout",
     "output_type": "stream",
     "text": [
      "\u001b[36mBuilding:\u001b[0m 18.3s\n"
     ]
    },
    {
     "name": "stdout",
     "output_type": "stream",
     "text": [
      "\u001b[1A"
     ]
    },
    {
     "name": "stdout",
     "output_type": "stream",
     "text": [
      "\u001b[0J"
     ]
    },
    {
     "name": "stdout",
     "output_type": "stream",
     "text": [
      "\u001b[36mBuilding:\u001b[0m 18.4s\n"
     ]
    },
    {
     "name": "stdout",
     "output_type": "stream",
     "text": [
      "\u001b[1A"
     ]
    },
    {
     "name": "stdout",
     "output_type": "stream",
     "text": [
      "\u001b[0J"
     ]
    },
    {
     "name": "stdout",
     "output_type": "stream",
     "text": [
      "\u001b[36mBuilding:\u001b[0m 18.5s\n"
     ]
    },
    {
     "name": "stdout",
     "output_type": "stream",
     "text": [
      "\u001b[1A"
     ]
    },
    {
     "name": "stdout",
     "output_type": "stream",
     "text": [
      "\u001b[0J"
     ]
    },
    {
     "name": "stdout",
     "output_type": "stream",
     "text": [
      "\u001b[36mBuilding:\u001b[0m 18.6s\n"
     ]
    },
    {
     "name": "stdout",
     "output_type": "stream",
     "text": [
      "\u001b[1A"
     ]
    },
    {
     "name": "stdout",
     "output_type": "stream",
     "text": [
      "\u001b[0J"
     ]
    },
    {
     "name": "stdout",
     "output_type": "stream",
     "text": [
      "\u001b[36mBuilding:\u001b[0m 18.7s\n"
     ]
    },
    {
     "name": "stdout",
     "output_type": "stream",
     "text": [
      "\u001b[1A"
     ]
    },
    {
     "name": "stdout",
     "output_type": "stream",
     "text": [
      "\u001b[0J"
     ]
    },
    {
     "name": "stdout",
     "output_type": "stream",
     "text": [
      "\u001b[36mBuilding:\u001b[0m 18.8s\n"
     ]
    },
    {
     "name": "stdout",
     "output_type": "stream",
     "text": [
      "\u001b[1A"
     ]
    },
    {
     "name": "stdout",
     "output_type": "stream",
     "text": [
      "\u001b[0J"
     ]
    },
    {
     "name": "stdout",
     "output_type": "stream",
     "text": [
      "\u001b[36mBuilding:\u001b[0m 18.9s\n"
     ]
    },
    {
     "name": "stdout",
     "output_type": "stream",
     "text": [
      "\u001b[1A"
     ]
    },
    {
     "name": "stdout",
     "output_type": "stream",
     "text": [
      "\u001b[0J"
     ]
    },
    {
     "name": "stdout",
     "output_type": "stream",
     "text": [
      "\u001b[36mBuilding:\u001b[0m 19.0s\n"
     ]
    },
    {
     "name": "stdout",
     "output_type": "stream",
     "text": [
      "\u001b[1A"
     ]
    },
    {
     "name": "stdout",
     "output_type": "stream",
     "text": [
      "\u001b[0J"
     ]
    },
    {
     "name": "stdout",
     "output_type": "stream",
     "text": [
      "\u001b[36mBuilding:\u001b[0m 19.1s\n"
     ]
    },
    {
     "name": "stdout",
     "output_type": "stream",
     "text": [
      "\u001b[1A"
     ]
    },
    {
     "name": "stdout",
     "output_type": "stream",
     "text": [
      "\u001b[0J"
     ]
    },
    {
     "name": "stdout",
     "output_type": "stream",
     "text": [
      "\u001b[36mBuilding:\u001b[0m 19.2s\n"
     ]
    },
    {
     "name": "stdout",
     "output_type": "stream",
     "text": [
      "\u001b[1A"
     ]
    },
    {
     "name": "stdout",
     "output_type": "stream",
     "text": [
      "\u001b[0J"
     ]
    },
    {
     "name": "stdout",
     "output_type": "stream",
     "text": [
      "\u001b[36mBuilding:\u001b[0m 19.3s\n"
     ]
    },
    {
     "name": "stdout",
     "output_type": "stream",
     "text": [
      "\u001b[1A"
     ]
    },
    {
     "name": "stdout",
     "output_type": "stream",
     "text": [
      "\u001b[0J"
     ]
    },
    {
     "name": "stdout",
     "output_type": "stream",
     "text": [
      "\u001b[36mBuilding:\u001b[0m 19.4s\n"
     ]
    },
    {
     "name": "stdout",
     "output_type": "stream",
     "text": [
      "\u001b[1A"
     ]
    },
    {
     "name": "stdout",
     "output_type": "stream",
     "text": [
      "\u001b[0J"
     ]
    },
    {
     "name": "stdout",
     "output_type": "stream",
     "text": [
      "\u001b[36mBuilding:\u001b[0m 19.5s\n"
     ]
    },
    {
     "name": "stdout",
     "output_type": "stream",
     "text": [
      "\u001b[1A"
     ]
    },
    {
     "name": "stdout",
     "output_type": "stream",
     "text": [
      "\u001b[0J"
     ]
    },
    {
     "name": "stdout",
     "output_type": "stream",
     "text": [
      "\u001b[36mBuilding:\u001b[0m 19.6s\n"
     ]
    },
    {
     "name": "stdout",
     "output_type": "stream",
     "text": [
      "\u001b[1A"
     ]
    },
    {
     "name": "stdout",
     "output_type": "stream",
     "text": [
      "\u001b[0J"
     ]
    },
    {
     "name": "stdout",
     "output_type": "stream",
     "text": [
      "\u001b[36mBuilding:\u001b[0m 19.7s\n"
     ]
    },
    {
     "name": "stdout",
     "output_type": "stream",
     "text": [
      "\u001b[1A"
     ]
    },
    {
     "name": "stdout",
     "output_type": "stream",
     "text": [
      "\u001b[0J"
     ]
    },
    {
     "name": "stdout",
     "output_type": "stream",
     "text": [
      "\u001b[36mBuilding:\u001b[0m 19.8s\n"
     ]
    },
    {
     "name": "stdout",
     "output_type": "stream",
     "text": [
      "\u001b[1A"
     ]
    },
    {
     "name": "stdout",
     "output_type": "stream",
     "text": [
      "\u001b[0J"
     ]
    },
    {
     "name": "stdout",
     "output_type": "stream",
     "text": [
      "\u001b[36mBuilding:\u001b[0m 19.9s\n"
     ]
    },
    {
     "name": "stdout",
     "output_type": "stream",
     "text": [
      "\u001b[1A"
     ]
    },
    {
     "name": "stdout",
     "output_type": "stream",
     "text": [
      "\u001b[0J"
     ]
    },
    {
     "name": "stdout",
     "output_type": "stream",
     "text": [
      "\u001b[36mBuilding:\u001b[0m 20.0s\n"
     ]
    },
    {
     "name": "stdout",
     "output_type": "stream",
     "text": [
      "\u001b[1A"
     ]
    },
    {
     "name": "stdout",
     "output_type": "stream",
     "text": [
      "\u001b[0J"
     ]
    },
    {
     "name": "stdout",
     "output_type": "stream",
     "text": [
      "\u001b[36mBuilding:\u001b[0m 20.1s\n"
     ]
    },
    {
     "name": "stdout",
     "output_type": "stream",
     "text": [
      "\u001b[1A"
     ]
    },
    {
     "name": "stdout",
     "output_type": "stream",
     "text": [
      "\u001b[0J"
     ]
    },
    {
     "name": "stdout",
     "output_type": "stream",
     "text": [
      "\u001b[36mBuilding:\u001b[0m 20.2s\n"
     ]
    },
    {
     "name": "stdout",
     "output_type": "stream",
     "text": [
      "\u001b[1A"
     ]
    },
    {
     "name": "stdout",
     "output_type": "stream",
     "text": [
      "\u001b[0J"
     ]
    },
    {
     "name": "stdout",
     "output_type": "stream",
     "text": [
      "\u001b[36mBuilding:\u001b[0m 20.3s\n"
     ]
    },
    {
     "name": "stdout",
     "output_type": "stream",
     "text": [
      "\u001b[1A"
     ]
    },
    {
     "name": "stdout",
     "output_type": "stream",
     "text": [
      "\u001b[0J"
     ]
    },
    {
     "name": "stdout",
     "output_type": "stream",
     "text": [
      "\u001b[36mBuilding:\u001b[0m 20.4s\n"
     ]
    },
    {
     "name": "stdout",
     "output_type": "stream",
     "text": [
      "\u001b[1A"
     ]
    },
    {
     "name": "stdout",
     "output_type": "stream",
     "text": [
      "\u001b[0J"
     ]
    },
    {
     "name": "stdout",
     "output_type": "stream",
     "text": [
      "\u001b[36mBuilding:\u001b[0m 20.5s\n"
     ]
    },
    {
     "name": "stdout",
     "output_type": "stream",
     "text": [
      "\u001b[1A"
     ]
    },
    {
     "name": "stdout",
     "output_type": "stream",
     "text": [
      "\u001b[0J"
     ]
    },
    {
     "name": "stdout",
     "output_type": "stream",
     "text": [
      "\u001b[36mBuilding:\u001b[0m 20.6s\n"
     ]
    },
    {
     "name": "stdout",
     "output_type": "stream",
     "text": [
      "\u001b[1A"
     ]
    },
    {
     "name": "stdout",
     "output_type": "stream",
     "text": [
      "\u001b[0J"
     ]
    },
    {
     "name": "stdout",
     "output_type": "stream",
     "text": [
      "\u001b[36mBuilding:\u001b[0m 20.7s\n"
     ]
    },
    {
     "name": "stdout",
     "output_type": "stream",
     "text": [
      "\u001b[1A"
     ]
    },
    {
     "name": "stdout",
     "output_type": "stream",
     "text": [
      "\u001b[0J"
     ]
    },
    {
     "name": "stdout",
     "output_type": "stream",
     "text": [
      "\u001b[36mBuilding:\u001b[0m 20.8s\n"
     ]
    },
    {
     "name": "stdout",
     "output_type": "stream",
     "text": [
      "\u001b[1A"
     ]
    },
    {
     "name": "stdout",
     "output_type": "stream",
     "text": [
      "\u001b[0J"
     ]
    },
    {
     "name": "stdout",
     "output_type": "stream",
     "text": [
      "\u001b[36mBuilding:\u001b[0m 20.9s\n"
     ]
    },
    {
     "name": "stdout",
     "output_type": "stream",
     "text": [
      "\u001b[1A"
     ]
    },
    {
     "name": "stdout",
     "output_type": "stream",
     "text": [
      "\u001b[0J"
     ]
    },
    {
     "name": "stdout",
     "output_type": "stream",
     "text": [
      "\u001b[36mBuilding:\u001b[0m 21.0s\n"
     ]
    },
    {
     "name": "stdout",
     "output_type": "stream",
     "text": [
      "\u001b[1A"
     ]
    },
    {
     "name": "stdout",
     "output_type": "stream",
     "text": [
      "\u001b[0J"
     ]
    },
    {
     "name": "stdout",
     "output_type": "stream",
     "text": [
      "\u001b[36mBuilding:\u001b[0m 21.1s\n"
     ]
    },
    {
     "name": "stdout",
     "output_type": "stream",
     "text": [
      "\u001b[1A"
     ]
    },
    {
     "name": "stdout",
     "output_type": "stream",
     "text": [
      "\u001b[0J"
     ]
    },
    {
     "name": "stdout",
     "output_type": "stream",
     "text": [
      "\u001b[36mBuilding:\u001b[0m 21.2s\n"
     ]
    },
    {
     "name": "stdout",
     "output_type": "stream",
     "text": [
      "\u001b[1A"
     ]
    },
    {
     "name": "stdout",
     "output_type": "stream",
     "text": [
      "\u001b[0J"
     ]
    },
    {
     "name": "stdout",
     "output_type": "stream",
     "text": [
      "\u001b[36mBuilding:\u001b[0m 21.3s\n"
     ]
    },
    {
     "name": "stdout",
     "output_type": "stream",
     "text": [
      "\u001b[1A"
     ]
    },
    {
     "name": "stdout",
     "output_type": "stream",
     "text": [
      "\u001b[0J"
     ]
    },
    {
     "name": "stdout",
     "output_type": "stream",
     "text": [
      "\u001b[36mBuilding:\u001b[0m 21.4s\n"
     ]
    },
    {
     "name": "stdout",
     "output_type": "stream",
     "text": [
      "\u001b[1A"
     ]
    },
    {
     "name": "stdout",
     "output_type": "stream",
     "text": [
      "\u001b[0J"
     ]
    },
    {
     "name": "stdout",
     "output_type": "stream",
     "text": [
      "\u001b[36mBuilding:\u001b[0m 21.5s\n"
     ]
    },
    {
     "name": "stdout",
     "output_type": "stream",
     "text": [
      "\u001b[1A"
     ]
    },
    {
     "name": "stdout",
     "output_type": "stream",
     "text": [
      "\u001b[0J"
     ]
    },
    {
     "name": "stdout",
     "output_type": "stream",
     "text": [
      "\u001b[36mBuilding:\u001b[0m 21.6s\n"
     ]
    },
    {
     "name": "stdout",
     "output_type": "stream",
     "text": [
      "\u001b[1A"
     ]
    },
    {
     "name": "stdout",
     "output_type": "stream",
     "text": [
      "\u001b[0J"
     ]
    },
    {
     "name": "stdout",
     "output_type": "stream",
     "text": [
      "\u001b[36mBuilding:\u001b[0m 21.7s\n"
     ]
    },
    {
     "name": "stdout",
     "output_type": "stream",
     "text": [
      "\u001b[1A"
     ]
    },
    {
     "name": "stdout",
     "output_type": "stream",
     "text": [
      "\u001b[0J"
     ]
    },
    {
     "name": "stdout",
     "output_type": "stream",
     "text": [
      "\u001b[36mBuilding:\u001b[0m 21.9s\n"
     ]
    },
    {
     "name": "stdout",
     "output_type": "stream",
     "text": [
      "\u001b[1A"
     ]
    },
    {
     "name": "stdout",
     "output_type": "stream",
     "text": [
      "\u001b[0J"
     ]
    },
    {
     "name": "stdout",
     "output_type": "stream",
     "text": [
      "\u001b[36mBuilding:\u001b[0m 22.0s\n"
     ]
    },
    {
     "name": "stdout",
     "output_type": "stream",
     "text": [
      "\u001b[1A"
     ]
    },
    {
     "name": "stdout",
     "output_type": "stream",
     "text": [
      "\u001b[0J"
     ]
    },
    {
     "name": "stdout",
     "output_type": "stream",
     "text": [
      "\u001b[36mBuilding:\u001b[0m 22.1s\n"
     ]
    },
    {
     "name": "stdout",
     "output_type": "stream",
     "text": [
      "\u001b[1A"
     ]
    },
    {
     "name": "stdout",
     "output_type": "stream",
     "text": [
      "\u001b[0J"
     ]
    },
    {
     "name": "stdout",
     "output_type": "stream",
     "text": [
      "\u001b[36mBuilding:\u001b[0m 22.2s\n"
     ]
    },
    {
     "name": "stdout",
     "output_type": "stream",
     "text": [
      "\u001b[1A"
     ]
    },
    {
     "name": "stdout",
     "output_type": "stream",
     "text": [
      "\u001b[0J"
     ]
    },
    {
     "name": "stdout",
     "output_type": "stream",
     "text": [
      "\u001b[36mBuilding:\u001b[0m 22.3s\n"
     ]
    },
    {
     "name": "stdout",
     "output_type": "stream",
     "text": [
      "\u001b[1A"
     ]
    },
    {
     "name": "stdout",
     "output_type": "stream",
     "text": [
      "\u001b[0J"
     ]
    },
    {
     "name": "stdout",
     "output_type": "stream",
     "text": [
      "\u001b[36mBuilding:\u001b[0m 22.4s\n"
     ]
    },
    {
     "name": "stdout",
     "output_type": "stream",
     "text": [
      "\u001b[1A"
     ]
    },
    {
     "name": "stdout",
     "output_type": "stream",
     "text": [
      "\u001b[0J"
     ]
    },
    {
     "name": "stdout",
     "output_type": "stream",
     "text": [
      "\u001b[36mBuilding:\u001b[0m 22.5s\n"
     ]
    },
    {
     "name": "stdout",
     "output_type": "stream",
     "text": [
      "\u001b[1A"
     ]
    },
    {
     "name": "stdout",
     "output_type": "stream",
     "text": [
      "\u001b[0J"
     ]
    },
    {
     "name": "stdout",
     "output_type": "stream",
     "text": [
      "\u001b[36mBuilding:\u001b[0m 22.6s\n"
     ]
    },
    {
     "name": "stdout",
     "output_type": "stream",
     "text": [
      "\u001b[1A"
     ]
    },
    {
     "name": "stdout",
     "output_type": "stream",
     "text": [
      "\u001b[0J"
     ]
    },
    {
     "name": "stdout",
     "output_type": "stream",
     "text": [
      "\u001b[36mBuilding:\u001b[0m 22.7s\n"
     ]
    },
    {
     "name": "stdout",
     "output_type": "stream",
     "text": [
      "\u001b[1A"
     ]
    },
    {
     "name": "stdout",
     "output_type": "stream",
     "text": [
      "\u001b[0J"
     ]
    },
    {
     "name": "stdout",
     "output_type": "stream",
     "text": [
      "\u001b[36mBuilding:\u001b[0m 22.8s\n"
     ]
    },
    {
     "name": "stdout",
     "output_type": "stream",
     "text": [
      "\u001b[1A"
     ]
    },
    {
     "name": "stdout",
     "output_type": "stream",
     "text": [
      "\u001b[0J"
     ]
    },
    {
     "name": "stdout",
     "output_type": "stream",
     "text": [
      "\u001b[36mBuilding:\u001b[0m 22.9s\n"
     ]
    },
    {
     "name": "stdout",
     "output_type": "stream",
     "text": [
      "\u001b[1A"
     ]
    },
    {
     "name": "stdout",
     "output_type": "stream",
     "text": [
      "\u001b[0J"
     ]
    },
    {
     "name": "stdout",
     "output_type": "stream",
     "text": [
      "\u001b[36mBuilding:\u001b[0m 23.0s\n"
     ]
    },
    {
     "name": "stdout",
     "output_type": "stream",
     "text": [
      "\u001b[1A"
     ]
    },
    {
     "name": "stdout",
     "output_type": "stream",
     "text": [
      "\u001b[0J"
     ]
    },
    {
     "name": "stdout",
     "output_type": "stream",
     "text": [
      "\u001b[36mBuilding:\u001b[0m 23.1s\n"
     ]
    },
    {
     "name": "stdout",
     "output_type": "stream",
     "text": [
      "\u001b[1A"
     ]
    },
    {
     "name": "stdout",
     "output_type": "stream",
     "text": [
      "\u001b[0J"
     ]
    },
    {
     "name": "stdout",
     "output_type": "stream",
     "text": [
      "\u001b[36mBuilding:\u001b[0m 23.2s\n"
     ]
    },
    {
     "name": "stdout",
     "output_type": "stream",
     "text": [
      "\u001b[1A"
     ]
    },
    {
     "name": "stdout",
     "output_type": "stream",
     "text": [
      "\u001b[0J"
     ]
    },
    {
     "name": "stdout",
     "output_type": "stream",
     "text": [
      "\u001b[36mBuilding:\u001b[0m 23.3s\n"
     ]
    },
    {
     "name": "stdout",
     "output_type": "stream",
     "text": [
      "\u001b[1A"
     ]
    },
    {
     "name": "stdout",
     "output_type": "stream",
     "text": [
      "\u001b[0J"
     ]
    },
    {
     "name": "stdout",
     "output_type": "stream",
     "text": [
      "\u001b[36mBuilding:\u001b[0m 23.4s\n"
     ]
    },
    {
     "name": "stdout",
     "output_type": "stream",
     "text": [
      "\u001b[1A"
     ]
    },
    {
     "name": "stdout",
     "output_type": "stream",
     "text": [
      "\u001b[0J"
     ]
    },
    {
     "name": "stdout",
     "output_type": "stream",
     "text": [
      "\u001b[36mBuilding:\u001b[0m 23.5s\n"
     ]
    },
    {
     "name": "stdout",
     "output_type": "stream",
     "text": [
      "\u001b[1A"
     ]
    },
    {
     "name": "stdout",
     "output_type": "stream",
     "text": [
      "\u001b[0J"
     ]
    },
    {
     "name": "stdout",
     "output_type": "stream",
     "text": [
      "\u001b[36mBuilding:\u001b[0m 23.6s\n"
     ]
    },
    {
     "name": "stdout",
     "output_type": "stream",
     "text": [
      "\u001b[1A"
     ]
    },
    {
     "name": "stdout",
     "output_type": "stream",
     "text": [
      "\u001b[0J"
     ]
    },
    {
     "name": "stdout",
     "output_type": "stream",
     "text": [
      "\u001b[36mBuilding:\u001b[0m 23.7s\n"
     ]
    },
    {
     "name": "stdout",
     "output_type": "stream",
     "text": [
      "\u001b[1A"
     ]
    },
    {
     "name": "stdout",
     "output_type": "stream",
     "text": [
      "\u001b[0J"
     ]
    },
    {
     "name": "stdout",
     "output_type": "stream",
     "text": [
      "\u001b[36mBuilding:\u001b[0m 23.8s\n"
     ]
    },
    {
     "name": "stdout",
     "output_type": "stream",
     "text": [
      "\u001b[1A"
     ]
    },
    {
     "name": "stdout",
     "output_type": "stream",
     "text": [
      "\u001b[0J"
     ]
    },
    {
     "name": "stdout",
     "output_type": "stream",
     "text": [
      "\u001b[36mBuilding:\u001b[0m 23.9s\n"
     ]
    },
    {
     "name": "stdout",
     "output_type": "stream",
     "text": [
      "\u001b[1A"
     ]
    },
    {
     "name": "stdout",
     "output_type": "stream",
     "text": [
      "\u001b[0J"
     ]
    },
    {
     "name": "stdout",
     "output_type": "stream",
     "text": [
      "\u001b[36mBuilding:\u001b[0m 24.0s\n"
     ]
    },
    {
     "name": "stdout",
     "output_type": "stream",
     "text": [
      "\u001b[1A"
     ]
    },
    {
     "name": "stdout",
     "output_type": "stream",
     "text": [
      "\u001b[0J"
     ]
    },
    {
     "name": "stdout",
     "output_type": "stream",
     "text": [
      "\u001b[36mBuilding:\u001b[0m 24.1s\n"
     ]
    },
    {
     "name": "stdout",
     "output_type": "stream",
     "text": [
      "\u001b[1A"
     ]
    },
    {
     "name": "stdout",
     "output_type": "stream",
     "text": [
      "\u001b[0J"
     ]
    },
    {
     "name": "stdout",
     "output_type": "stream",
     "text": [
      "\u001b[36mBuilding:\u001b[0m 24.2s\n"
     ]
    },
    {
     "name": "stdout",
     "output_type": "stream",
     "text": [
      "\u001b[1A"
     ]
    },
    {
     "name": "stdout",
     "output_type": "stream",
     "text": [
      "\u001b[0J"
     ]
    },
    {
     "name": "stdout",
     "output_type": "stream",
     "text": [
      "\u001b[36mBuilding:\u001b[0m 24.3s\n"
     ]
    },
    {
     "name": "stdout",
     "output_type": "stream",
     "text": [
      "\u001b[1A"
     ]
    },
    {
     "name": "stdout",
     "output_type": "stream",
     "text": [
      "\u001b[0J"
     ]
    },
    {
     "name": "stdout",
     "output_type": "stream",
     "text": [
      "\u001b[36mBuilding:\u001b[0m 24.4s\n"
     ]
    },
    {
     "name": "stdout",
     "output_type": "stream",
     "text": [
      "\u001b[1A"
     ]
    },
    {
     "name": "stdout",
     "output_type": "stream",
     "text": [
      "\u001b[0J"
     ]
    },
    {
     "name": "stdout",
     "output_type": "stream",
     "text": [
      "\u001b[36mBuilding:\u001b[0m 24.5s\n"
     ]
    },
    {
     "name": "stdout",
     "output_type": "stream",
     "text": [
      "\u001b[1A"
     ]
    },
    {
     "name": "stdout",
     "output_type": "stream",
     "text": [
      "\u001b[0J"
     ]
    },
    {
     "name": "stdout",
     "output_type": "stream",
     "text": [
      "\u001b[36mBuilding:\u001b[0m 24.6s\n"
     ]
    },
    {
     "name": "stdout",
     "output_type": "stream",
     "text": [
      "\u001b[1A"
     ]
    },
    {
     "name": "stdout",
     "output_type": "stream",
     "text": [
      "\u001b[0J"
     ]
    },
    {
     "name": "stdout",
     "output_type": "stream",
     "text": [
      "\u001b[36mBuilding:\u001b[0m 24.7s\n"
     ]
    },
    {
     "name": "stdout",
     "output_type": "stream",
     "text": [
      "\u001b[1A"
     ]
    },
    {
     "name": "stdout",
     "output_type": "stream",
     "text": [
      "\u001b[0J"
     ]
    },
    {
     "name": "stdout",
     "output_type": "stream",
     "text": [
      "\u001b[36mBuilding:\u001b[0m 24.8s\n"
     ]
    },
    {
     "name": "stdout",
     "output_type": "stream",
     "text": [
      "\u001b[1A"
     ]
    },
    {
     "name": "stdout",
     "output_type": "stream",
     "text": [
      "\u001b[0J"
     ]
    },
    {
     "name": "stdout",
     "output_type": "stream",
     "text": [
      "\u001b[36mBuilding:\u001b[0m 24.9s\n"
     ]
    },
    {
     "name": "stdout",
     "output_type": "stream",
     "text": [
      "\u001b[1A"
     ]
    },
    {
     "name": "stdout",
     "output_type": "stream",
     "text": [
      "\u001b[0J"
     ]
    },
    {
     "name": "stdout",
     "output_type": "stream",
     "text": [
      "\u001b[36mBuilding:\u001b[0m 25.0s\n"
     ]
    },
    {
     "name": "stdout",
     "output_type": "stream",
     "text": [
      "\u001b[1A"
     ]
    },
    {
     "name": "stdout",
     "output_type": "stream",
     "text": [
      "\u001b[0J"
     ]
    },
    {
     "name": "stdout",
     "output_type": "stream",
     "text": [
      "\u001b[36mBuilding:\u001b[0m 25.2s\n"
     ]
    },
    {
     "name": "stdout",
     "output_type": "stream",
     "text": [
      "\u001b[1A"
     ]
    },
    {
     "name": "stdout",
     "output_type": "stream",
     "text": [
      "\u001b[0J"
     ]
    },
    {
     "name": "stdout",
     "output_type": "stream",
     "text": [
      "\u001b[36mBuilding:\u001b[0m 25.3s\n"
     ]
    },
    {
     "name": "stdout",
     "output_type": "stream",
     "text": [
      "\u001b[1A"
     ]
    },
    {
     "name": "stdout",
     "output_type": "stream",
     "text": [
      "\u001b[0J"
     ]
    },
    {
     "name": "stdout",
     "output_type": "stream",
     "text": [
      "\u001b[36mBuilding:\u001b[0m 25.4s\n"
     ]
    },
    {
     "name": "stdout",
     "output_type": "stream",
     "text": [
      "\u001b[1A"
     ]
    },
    {
     "name": "stdout",
     "output_type": "stream",
     "text": [
      "\u001b[0J"
     ]
    },
    {
     "name": "stdout",
     "output_type": "stream",
     "text": [
      "\u001b[36mBuilding:\u001b[0m 25.5s\n"
     ]
    },
    {
     "name": "stdout",
     "output_type": "stream",
     "text": [
      "\u001b[1A"
     ]
    },
    {
     "name": "stdout",
     "output_type": "stream",
     "text": [
      "\u001b[0J"
     ]
    },
    {
     "name": "stdout",
     "output_type": "stream",
     "text": [
      "\u001b[36mBuilding:\u001b[0m 25.6s\n"
     ]
    },
    {
     "name": "stdout",
     "output_type": "stream",
     "text": [
      "\u001b[1A"
     ]
    },
    {
     "name": "stdout",
     "output_type": "stream",
     "text": [
      "\u001b[0J"
     ]
    },
    {
     "name": "stdout",
     "output_type": "stream",
     "text": [
      "\u001b[36mBuilding:\u001b[0m 25.7s\n"
     ]
    },
    {
     "name": "stdout",
     "output_type": "stream",
     "text": [
      "\u001b[1A"
     ]
    },
    {
     "name": "stdout",
     "output_type": "stream",
     "text": [
      "\u001b[0J"
     ]
    },
    {
     "name": "stdout",
     "output_type": "stream",
     "text": [
      "\u001b[36mBuilding:\u001b[0m 25.8s\n"
     ]
    },
    {
     "name": "stdout",
     "output_type": "stream",
     "text": [
      "\u001b[1A"
     ]
    },
    {
     "name": "stdout",
     "output_type": "stream",
     "text": [
      "\u001b[0J"
     ]
    },
    {
     "name": "stdout",
     "output_type": "stream",
     "text": [
      "\u001b[36mBuilding:\u001b[0m 25.9s\n"
     ]
    },
    {
     "name": "stdout",
     "output_type": "stream",
     "text": [
      "\u001b[1A"
     ]
    },
    {
     "name": "stdout",
     "output_type": "stream",
     "text": [
      "\u001b[0J"
     ]
    },
    {
     "name": "stdout",
     "output_type": "stream",
     "text": [
      "\u001b[36mBuilding:\u001b[0m 26.0s\n"
     ]
    },
    {
     "name": "stdout",
     "output_type": "stream",
     "text": [
      "\u001b[1A"
     ]
    },
    {
     "name": "stdout",
     "output_type": "stream",
     "text": [
      "\u001b[0J"
     ]
    },
    {
     "name": "stdout",
     "output_type": "stream",
     "text": [
      "\u001b[36mBuilding:\u001b[0m 26.1s\n"
     ]
    },
    {
     "name": "stdout",
     "output_type": "stream",
     "text": [
      "\u001b[1A"
     ]
    },
    {
     "name": "stdout",
     "output_type": "stream",
     "text": [
      "\u001b[0J"
     ]
    },
    {
     "name": "stdout",
     "output_type": "stream",
     "text": [
      "\u001b[36mBuilding:\u001b[0m 26.2s\n"
     ]
    },
    {
     "name": "stdout",
     "output_type": "stream",
     "text": [
      "\u001b[1A"
     ]
    },
    {
     "name": "stdout",
     "output_type": "stream",
     "text": [
      "\u001b[0J"
     ]
    },
    {
     "name": "stdout",
     "output_type": "stream",
     "text": [
      "\u001b[36mBuilding:\u001b[0m 26.3s\n"
     ]
    },
    {
     "name": "stdout",
     "output_type": "stream",
     "text": [
      "\u001b[1A"
     ]
    },
    {
     "name": "stdout",
     "output_type": "stream",
     "text": [
      "\u001b[0J"
     ]
    },
    {
     "name": "stdout",
     "output_type": "stream",
     "text": [
      "\u001b[36mBuilding:\u001b[0m 26.4s\n"
     ]
    },
    {
     "name": "stdout",
     "output_type": "stream",
     "text": [
      "\u001b[1A"
     ]
    },
    {
     "name": "stdout",
     "output_type": "stream",
     "text": [
      "\u001b[0J"
     ]
    },
    {
     "name": "stdout",
     "output_type": "stream",
     "text": [
      "\u001b[36mBuilding:\u001b[0m 26.5s\n"
     ]
    },
    {
     "name": "stdout",
     "output_type": "stream",
     "text": [
      "\u001b[1A"
     ]
    },
    {
     "name": "stdout",
     "output_type": "stream",
     "text": [
      "\u001b[0J"
     ]
    },
    {
     "name": "stdout",
     "output_type": "stream",
     "text": [
      "\u001b[36mBuilding:\u001b[0m 26.6s\n"
     ]
    },
    {
     "name": "stdout",
     "output_type": "stream",
     "text": [
      "\u001b[1A"
     ]
    },
    {
     "name": "stdout",
     "output_type": "stream",
     "text": [
      "\u001b[0J"
     ]
    },
    {
     "name": "stdout",
     "output_type": "stream",
     "text": [
      "\u001b[36mBuilding:\u001b[0m 26.7s\n"
     ]
    },
    {
     "name": "stdout",
     "output_type": "stream",
     "text": [
      "\u001b[1A"
     ]
    },
    {
     "name": "stdout",
     "output_type": "stream",
     "text": [
      "\u001b[0J"
     ]
    },
    {
     "name": "stdout",
     "output_type": "stream",
     "text": [
      "\u001b[36mBuilding:\u001b[0m 26.8s\n"
     ]
    },
    {
     "name": "stdout",
     "output_type": "stream",
     "text": [
      "\u001b[1A"
     ]
    },
    {
     "name": "stdout",
     "output_type": "stream",
     "text": [
      "\u001b[0J"
     ]
    },
    {
     "name": "stdout",
     "output_type": "stream",
     "text": [
      "\u001b[36mBuilding:\u001b[0m 26.9s\n"
     ]
    },
    {
     "name": "stdout",
     "output_type": "stream",
     "text": [
      "\u001b[1A"
     ]
    },
    {
     "name": "stdout",
     "output_type": "stream",
     "text": [
      "\u001b[0J"
     ]
    },
    {
     "name": "stdout",
     "output_type": "stream",
     "text": [
      "\u001b[36mBuilding:\u001b[0m 27.0s\n"
     ]
    },
    {
     "name": "stdout",
     "output_type": "stream",
     "text": [
      "\u001b[1A"
     ]
    },
    {
     "name": "stdout",
     "output_type": "stream",
     "text": [
      "\u001b[0J"
     ]
    },
    {
     "name": "stdout",
     "output_type": "stream",
     "text": [
      "\u001b[36mBuilding:\u001b[0m 27.1s\n"
     ]
    },
    {
     "name": "stdout",
     "output_type": "stream",
     "text": [
      "\u001b[1A"
     ]
    },
    {
     "name": "stdout",
     "output_type": "stream",
     "text": [
      "\u001b[0J"
     ]
    },
    {
     "name": "stdout",
     "output_type": "stream",
     "text": [
      "\u001b[36mBuilding:\u001b[0m 27.2s\n"
     ]
    },
    {
     "name": "stdout",
     "output_type": "stream",
     "text": [
      "\u001b[1A"
     ]
    },
    {
     "name": "stdout",
     "output_type": "stream",
     "text": [
      "\u001b[0J"
     ]
    },
    {
     "name": "stdout",
     "output_type": "stream",
     "text": [
      "\u001b[36mBuilding:\u001b[0m 27.3s\n"
     ]
    },
    {
     "name": "stdout",
     "output_type": "stream",
     "text": [
      "\u001b[1A"
     ]
    },
    {
     "name": "stdout",
     "output_type": "stream",
     "text": [
      "\u001b[0J"
     ]
    },
    {
     "name": "stdout",
     "output_type": "stream",
     "text": [
      "\u001b[36mBuilding:\u001b[0m 27.4s\n"
     ]
    },
    {
     "name": "stdout",
     "output_type": "stream",
     "text": [
      "\u001b[1A"
     ]
    },
    {
     "name": "stdout",
     "output_type": "stream",
     "text": [
      "\u001b[0J"
     ]
    },
    {
     "name": "stdout",
     "output_type": "stream",
     "text": [
      "\u001b[36mBuilding:\u001b[0m 27.5s\n"
     ]
    },
    {
     "name": "stdout",
     "output_type": "stream",
     "text": [
      "\u001b[1A"
     ]
    },
    {
     "name": "stdout",
     "output_type": "stream",
     "text": [
      "\u001b[0J"
     ]
    },
    {
     "name": "stdout",
     "output_type": "stream",
     "text": [
      "\u001b[36mBuilding:\u001b[0m 27.6s\n"
     ]
    },
    {
     "name": "stdout",
     "output_type": "stream",
     "text": [
      "\u001b[1A"
     ]
    },
    {
     "name": "stdout",
     "output_type": "stream",
     "text": [
      "\u001b[0J"
     ]
    },
    {
     "name": "stdout",
     "output_type": "stream",
     "text": [
      "\u001b[36mBuilding:\u001b[0m 27.7s\n"
     ]
    },
    {
     "name": "stdout",
     "output_type": "stream",
     "text": [
      "\u001b[1A"
     ]
    },
    {
     "name": "stdout",
     "output_type": "stream",
     "text": [
      "\u001b[0J"
     ]
    },
    {
     "name": "stdout",
     "output_type": "stream",
     "text": [
      "\u001b[36mBuilding:\u001b[0m 27.8s\n"
     ]
    },
    {
     "name": "stdout",
     "output_type": "stream",
     "text": [
      "\u001b[1A"
     ]
    },
    {
     "name": "stdout",
     "output_type": "stream",
     "text": [
      "\u001b[0J"
     ]
    },
    {
     "name": "stdout",
     "output_type": "stream",
     "text": [
      "\u001b[36mBuilding:\u001b[0m 27.9s\n"
     ]
    },
    {
     "name": "stdout",
     "output_type": "stream",
     "text": [
      "\u001b[1A"
     ]
    },
    {
     "name": "stdout",
     "output_type": "stream",
     "text": [
      "\u001b[0J"
     ]
    },
    {
     "name": "stdout",
     "output_type": "stream",
     "text": [
      "\u001b[36mBuilding:\u001b[0m 28.0s\n"
     ]
    },
    {
     "name": "stdout",
     "output_type": "stream",
     "text": [
      "\u001b[1A"
     ]
    },
    {
     "name": "stdout",
     "output_type": "stream",
     "text": [
      "\u001b[0J"
     ]
    },
    {
     "name": "stdout",
     "output_type": "stream",
     "text": [
      "\u001b[36mBuilding:\u001b[0m 28.1s\n"
     ]
    },
    {
     "name": "stdout",
     "output_type": "stream",
     "text": [
      "\u001b[1A"
     ]
    },
    {
     "name": "stdout",
     "output_type": "stream",
     "text": [
      "\u001b[0J"
     ]
    },
    {
     "name": "stdout",
     "output_type": "stream",
     "text": [
      "\u001b[36mBuilding:\u001b[0m 28.2s\n"
     ]
    },
    {
     "name": "stdout",
     "output_type": "stream",
     "text": [
      "\u001b[1A"
     ]
    },
    {
     "name": "stdout",
     "output_type": "stream",
     "text": [
      "\u001b[0J"
     ]
    },
    {
     "name": "stdout",
     "output_type": "stream",
     "text": [
      "\u001b[36mBuilding:\u001b[0m 28.3s\n"
     ]
    },
    {
     "name": "stdout",
     "output_type": "stream",
     "text": [
      "\u001b[1A"
     ]
    },
    {
     "name": "stdout",
     "output_type": "stream",
     "text": [
      "\u001b[0J"
     ]
    },
    {
     "name": "stdout",
     "output_type": "stream",
     "text": [
      "\u001b[36mBuilding:\u001b[0m 28.4s\n"
     ]
    },
    {
     "name": "stdout",
     "output_type": "stream",
     "text": [
      "\u001b[1A"
     ]
    },
    {
     "name": "stdout",
     "output_type": "stream",
     "text": [
      "\u001b[0J"
     ]
    },
    {
     "name": "stdout",
     "output_type": "stream",
     "text": [
      "\u001b[36mBuilding:\u001b[0m 28.5s\n"
     ]
    },
    {
     "name": "stdout",
     "output_type": "stream",
     "text": [
      "\u001b[1A"
     ]
    },
    {
     "name": "stdout",
     "output_type": "stream",
     "text": [
      "\u001b[0J"
     ]
    },
    {
     "name": "stdout",
     "output_type": "stream",
     "text": [
      "\u001b[36mBuilding:\u001b[0m 28.6s\n"
     ]
    },
    {
     "name": "stdout",
     "output_type": "stream",
     "text": [
      "\u001b[1A"
     ]
    },
    {
     "name": "stdout",
     "output_type": "stream",
     "text": [
      "\u001b[0J"
     ]
    },
    {
     "name": "stdout",
     "output_type": "stream",
     "text": [
      "\u001b[36mBuilding:\u001b[0m 28.7s\n"
     ]
    },
    {
     "name": "stdout",
     "output_type": "stream",
     "text": [
      "\u001b[1A"
     ]
    },
    {
     "name": "stdout",
     "output_type": "stream",
     "text": [
      "\u001b[0J"
     ]
    },
    {
     "name": "stdout",
     "output_type": "stream",
     "text": [
      "\u001b[36mBuilding:\u001b[0m 28.9s\n"
     ]
    },
    {
     "name": "stdout",
     "output_type": "stream",
     "text": [
      "\u001b[1A"
     ]
    },
    {
     "name": "stdout",
     "output_type": "stream",
     "text": [
      "\u001b[0J"
     ]
    },
    {
     "name": "stdout",
     "output_type": "stream",
     "text": [
      "\u001b[36mBuilding:\u001b[0m 29.0s\n"
     ]
    },
    {
     "name": "stdout",
     "output_type": "stream",
     "text": [
      "\u001b[1A"
     ]
    },
    {
     "name": "stdout",
     "output_type": "stream",
     "text": [
      "\u001b[0J"
     ]
    },
    {
     "name": "stdout",
     "output_type": "stream",
     "text": [
      "\u001b[36mBuilding:\u001b[0m 29.1s\n"
     ]
    },
    {
     "name": "stdout",
     "output_type": "stream",
     "text": [
      "\u001b[1A"
     ]
    },
    {
     "name": "stdout",
     "output_type": "stream",
     "text": [
      "\u001b[0J"
     ]
    },
    {
     "name": "stdout",
     "output_type": "stream",
     "text": [
      "\u001b[36mBuilding:\u001b[0m 29.2s\n"
     ]
    },
    {
     "name": "stdout",
     "output_type": "stream",
     "text": [
      "\u001b[1A"
     ]
    },
    {
     "name": "stdout",
     "output_type": "stream",
     "text": [
      "\u001b[0J"
     ]
    },
    {
     "name": "stdout",
     "output_type": "stream",
     "text": [
      "\u001b[36mBuilding:\u001b[0m 29.3s\n"
     ]
    },
    {
     "name": "stdout",
     "output_type": "stream",
     "text": [
      "\u001b[1A"
     ]
    },
    {
     "name": "stdout",
     "output_type": "stream",
     "text": [
      "\u001b[0J"
     ]
    },
    {
     "name": "stdout",
     "output_type": "stream",
     "text": [
      "\u001b[36mBuilding:\u001b[0m 29.4s\n"
     ]
    },
    {
     "name": "stdout",
     "output_type": "stream",
     "text": [
      "\u001b[1A"
     ]
    },
    {
     "name": "stdout",
     "output_type": "stream",
     "text": [
      "\u001b[0J"
     ]
    },
    {
     "name": "stdout",
     "output_type": "stream",
     "text": [
      "\u001b[36mBuilding:\u001b[0m 29.5s\n"
     ]
    },
    {
     "name": "stdout",
     "output_type": "stream",
     "text": [
      "\u001b[1A"
     ]
    },
    {
     "name": "stdout",
     "output_type": "stream",
     "text": [
      "\u001b[0J"
     ]
    },
    {
     "name": "stdout",
     "output_type": "stream",
     "text": [
      "\u001b[36mBuilding:\u001b[0m 29.6s\n"
     ]
    },
    {
     "name": "stdout",
     "output_type": "stream",
     "text": [
      "\u001b[1A"
     ]
    },
    {
     "name": "stdout",
     "output_type": "stream",
     "text": [
      "\u001b[0J"
     ]
    },
    {
     "name": "stdout",
     "output_type": "stream",
     "text": [
      "\u001b[36mBuilding:\u001b[0m 29.7s\n"
     ]
    },
    {
     "name": "stdout",
     "output_type": "stream",
     "text": [
      "\u001b[1A"
     ]
    },
    {
     "name": "stdout",
     "output_type": "stream",
     "text": [
      "\u001b[0J"
     ]
    },
    {
     "name": "stdout",
     "output_type": "stream",
     "text": [
      "\u001b[36mBuilding:\u001b[0m 29.8s\n"
     ]
    },
    {
     "name": "stdout",
     "output_type": "stream",
     "text": [
      "\u001b[1A"
     ]
    },
    {
     "name": "stdout",
     "output_type": "stream",
     "text": [
      "\u001b[0J"
     ]
    },
    {
     "name": "stdout",
     "output_type": "stream",
     "text": [
      "\u001b[36mBuilding:\u001b[0m 29.9s\n"
     ]
    },
    {
     "name": "stdout",
     "output_type": "stream",
     "text": [
      "\u001b[1A"
     ]
    },
    {
     "name": "stdout",
     "output_type": "stream",
     "text": [
      "\u001b[0J"
     ]
    },
    {
     "name": "stdout",
     "output_type": "stream",
     "text": [
      "\u001b[36mBuilding:\u001b[0m 30.0s\n"
     ]
    },
    {
     "ename": "RuntimeError",
     "evalue": "Event loop stopped before Future completed.",
     "output_type": "error",
     "traceback": [
      "\u001b[0;31m---------------------------------------------------------------------------\u001b[0m",
      "\u001b[0;31mKeyboardInterrupt\u001b[0m                         Traceback (most recent call last)",
      "\u001b[0;32m~/Projects/bayesian/BAYES/lib/python3.8/site-packages/nest_asyncio.py\u001b[0m in \u001b[0;36mrun\u001b[0;34m(main, debug)\u001b[0m\n\u001b[1;32m     34\u001b[0m         \u001b[0;32mtry\u001b[0m\u001b[0;34m:\u001b[0m\u001b[0;34m\u001b[0m\u001b[0;34m\u001b[0m\u001b[0m\n\u001b[0;32m---> 35\u001b[0;31m             \u001b[0;32mreturn\u001b[0m \u001b[0mloop\u001b[0m\u001b[0;34m.\u001b[0m\u001b[0mrun_until_complete\u001b[0m\u001b[0;34m(\u001b[0m\u001b[0mtask\u001b[0m\u001b[0;34m)\u001b[0m\u001b[0;34m\u001b[0m\u001b[0;34m\u001b[0m\u001b[0m\n\u001b[0m\u001b[1;32m     36\u001b[0m         \u001b[0;32mfinally\u001b[0m\u001b[0;34m:\u001b[0m\u001b[0;34m\u001b[0m\u001b[0;34m\u001b[0m\u001b[0m\n",
      "\u001b[0;32m~/Projects/bayesian/BAYES/lib/python3.8/site-packages/nest_asyncio.py\u001b[0m in \u001b[0;36mrun_until_complete\u001b[0;34m(self, future)\u001b[0m\n\u001b[1;32m     83\u001b[0m             \u001b[0;32mwhile\u001b[0m \u001b[0;32mnot\u001b[0m \u001b[0mf\u001b[0m\u001b[0;34m.\u001b[0m\u001b[0mdone\u001b[0m\u001b[0;34m(\u001b[0m\u001b[0;34m)\u001b[0m\u001b[0;34m:\u001b[0m\u001b[0;34m\u001b[0m\u001b[0;34m\u001b[0m\u001b[0m\n\u001b[0;32m---> 84\u001b[0;31m                 \u001b[0mself\u001b[0m\u001b[0;34m.\u001b[0m\u001b[0m_run_once\u001b[0m\u001b[0;34m(\u001b[0m\u001b[0;34m)\u001b[0m\u001b[0;34m\u001b[0m\u001b[0;34m\u001b[0m\u001b[0m\n\u001b[0m\u001b[1;32m     85\u001b[0m                 \u001b[0;32mif\u001b[0m \u001b[0mself\u001b[0m\u001b[0;34m.\u001b[0m\u001b[0m_stopping\u001b[0m\u001b[0;34m:\u001b[0m\u001b[0;34m\u001b[0m\u001b[0;34m\u001b[0m\u001b[0m\n",
      "\u001b[0;32m~/Projects/bayesian/BAYES/lib/python3.8/site-packages/nest_asyncio.py\u001b[0m in \u001b[0;36m_run_once\u001b[0;34m(self)\u001b[0m\n\u001b[1;32m    106\u001b[0m             else None)\n\u001b[0;32m--> 107\u001b[0;31m         \u001b[0mevent_list\u001b[0m \u001b[0;34m=\u001b[0m \u001b[0mself\u001b[0m\u001b[0;34m.\u001b[0m\u001b[0m_selector\u001b[0m\u001b[0;34m.\u001b[0m\u001b[0mselect\u001b[0m\u001b[0;34m(\u001b[0m\u001b[0mtimeout\u001b[0m\u001b[0;34m)\u001b[0m\u001b[0;34m\u001b[0m\u001b[0;34m\u001b[0m\u001b[0m\n\u001b[0m\u001b[1;32m    108\u001b[0m         \u001b[0mself\u001b[0m\u001b[0;34m.\u001b[0m\u001b[0m_process_events\u001b[0m\u001b[0;34m(\u001b[0m\u001b[0mevent_list\u001b[0m\u001b[0;34m)\u001b[0m\u001b[0;34m\u001b[0m\u001b[0;34m\u001b[0m\u001b[0m\n",
      "\u001b[0;32m/usr/lib/python3.8/selectors.py\u001b[0m in \u001b[0;36mselect\u001b[0;34m(self, timeout)\u001b[0m\n\u001b[1;32m    467\u001b[0m             \u001b[0;32mtry\u001b[0m\u001b[0;34m:\u001b[0m\u001b[0;34m\u001b[0m\u001b[0;34m\u001b[0m\u001b[0m\n\u001b[0;32m--> 468\u001b[0;31m                 \u001b[0mfd_event_list\u001b[0m \u001b[0;34m=\u001b[0m \u001b[0mself\u001b[0m\u001b[0;34m.\u001b[0m\u001b[0m_selector\u001b[0m\u001b[0;34m.\u001b[0m\u001b[0mpoll\u001b[0m\u001b[0;34m(\u001b[0m\u001b[0mtimeout\u001b[0m\u001b[0;34m,\u001b[0m \u001b[0mmax_ev\u001b[0m\u001b[0;34m)\u001b[0m\u001b[0;34m\u001b[0m\u001b[0;34m\u001b[0m\u001b[0m\n\u001b[0m\u001b[1;32m    469\u001b[0m             \u001b[0;32mexcept\u001b[0m \u001b[0mInterruptedError\u001b[0m\u001b[0;34m:\u001b[0m\u001b[0;34m\u001b[0m\u001b[0;34m\u001b[0m\u001b[0m\n",
      "\u001b[0;31mKeyboardInterrupt\u001b[0m: ",
      "\nDuring handling of the above exception, another exception occurred:\n",
      "\u001b[0;31mRuntimeError\u001b[0m                              Traceback (most recent call last)",
      "\u001b[0;32m/tmp/ipykernel_33960/1540176980.py\u001b[0m in \u001b[0;36m<module>\u001b[0;34m\u001b[0m\n\u001b[1;32m     55\u001b[0m \u001b[0mdat_list\u001b[0m\u001b[0;34m[\u001b[0m\u001b[0;34m'qty_treatments'\u001b[0m\u001b[0;34m]\u001b[0m \u001b[0;34m=\u001b[0m \u001b[0mlen\u001b[0m\u001b[0;34m(\u001b[0m\u001b[0mdf\u001b[0m\u001b[0;34m[\u001b[0m\u001b[0;34m'treatment'\u001b[0m\u001b[0;34m]\u001b[0m\u001b[0;34m.\u001b[0m\u001b[0munique\u001b[0m\u001b[0;34m(\u001b[0m\u001b[0;34m)\u001b[0m\u001b[0;34m)\u001b[0m\u001b[0;34m\u001b[0m\u001b[0;34m\u001b[0m\u001b[0m\n\u001b[1;32m     56\u001b[0m \u001b[0;34m\u001b[0m\u001b[0m\n\u001b[0;32m---> 57\u001b[0;31m \u001b[0mposteriori\u001b[0m \u001b[0;34m=\u001b[0m \u001b[0mstan\u001b[0m\u001b[0;34m.\u001b[0m\u001b[0mbuild\u001b[0m\u001b[0;34m(\u001b[0m\u001b[0mmodel\u001b[0m\u001b[0;34m,\u001b[0m \u001b[0mdata\u001b[0m\u001b[0;34m=\u001b[0m\u001b[0mdat_list\u001b[0m\u001b[0;34m)\u001b[0m\u001b[0;34m\u001b[0m\u001b[0;34m\u001b[0m\u001b[0m\n\u001b[0m\u001b[1;32m     58\u001b[0m \u001b[0msamples\u001b[0m \u001b[0;34m=\u001b[0m \u001b[0mposteriori\u001b[0m\u001b[0;34m.\u001b[0m\u001b[0msample\u001b[0m\u001b[0;34m(\u001b[0m\u001b[0mnum_chains\u001b[0m\u001b[0;34m=\u001b[0m\u001b[0;36m4\u001b[0m\u001b[0;34m,\u001b[0m \u001b[0mnum_samples\u001b[0m\u001b[0;34m=\u001b[0m\u001b[0;36m1000\u001b[0m\u001b[0;34m)\u001b[0m\u001b[0;34m\u001b[0m\u001b[0;34m\u001b[0m\u001b[0m\n",
      "\u001b[0;32m~/Projects/bayesian/BAYES/lib/python3.8/site-packages/stan/model.py\u001b[0m in \u001b[0;36mbuild\u001b[0;34m(program_code, data, random_seed)\u001b[0m\n\u001b[1;32m    517\u001b[0m \u001b[0;34m\u001b[0m\u001b[0m\n\u001b[1;32m    518\u001b[0m     \u001b[0;32mtry\u001b[0m\u001b[0;34m:\u001b[0m\u001b[0;34m\u001b[0m\u001b[0;34m\u001b[0m\u001b[0m\n\u001b[0;32m--> 519\u001b[0;31m         \u001b[0;32mreturn\u001b[0m \u001b[0masyncio\u001b[0m\u001b[0;34m.\u001b[0m\u001b[0mrun\u001b[0m\u001b[0;34m(\u001b[0m\u001b[0mgo\u001b[0m\u001b[0;34m(\u001b[0m\u001b[0;34m)\u001b[0m\u001b[0;34m)\u001b[0m\u001b[0;34m\u001b[0m\u001b[0;34m\u001b[0m\u001b[0m\n\u001b[0m\u001b[1;32m    520\u001b[0m     \u001b[0;32mexcept\u001b[0m \u001b[0mKeyboardInterrupt\u001b[0m\u001b[0;34m:\u001b[0m\u001b[0;34m\u001b[0m\u001b[0;34m\u001b[0m\u001b[0m\n\u001b[1;32m    521\u001b[0m         \u001b[0;32mreturn\u001b[0m  \u001b[0;31m# type: ignore\u001b[0m\u001b[0;34m\u001b[0m\u001b[0;34m\u001b[0m\u001b[0m\n",
      "\u001b[0;32m~/Projects/bayesian/BAYES/lib/python3.8/site-packages/nest_asyncio.py\u001b[0m in \u001b[0;36mrun\u001b[0;34m(main, debug)\u001b[0m\n\u001b[1;32m     38\u001b[0m                 \u001b[0mtask\u001b[0m\u001b[0;34m.\u001b[0m\u001b[0mcancel\u001b[0m\u001b[0;34m(\u001b[0m\u001b[0;34m)\u001b[0m\u001b[0;34m\u001b[0m\u001b[0;34m\u001b[0m\u001b[0m\n\u001b[1;32m     39\u001b[0m                 \u001b[0;32mwith\u001b[0m \u001b[0msuppress\u001b[0m\u001b[0;34m(\u001b[0m\u001b[0masyncio\u001b[0m\u001b[0;34m.\u001b[0m\u001b[0mCancelledError\u001b[0m\u001b[0;34m)\u001b[0m\u001b[0;34m:\u001b[0m\u001b[0;34m\u001b[0m\u001b[0;34m\u001b[0m\u001b[0m\n\u001b[0;32m---> 40\u001b[0;31m                     \u001b[0mloop\u001b[0m\u001b[0;34m.\u001b[0m\u001b[0mrun_until_complete\u001b[0m\u001b[0;34m(\u001b[0m\u001b[0mtask\u001b[0m\u001b[0;34m)\u001b[0m\u001b[0;34m\u001b[0m\u001b[0;34m\u001b[0m\u001b[0m\n\u001b[0m\u001b[1;32m     41\u001b[0m \u001b[0;34m\u001b[0m\u001b[0m\n\u001b[1;32m     42\u001b[0m     \u001b[0;32mdef\u001b[0m \u001b[0m_get_event_loop\u001b[0m\u001b[0;34m(\u001b[0m\u001b[0mstacklevel\u001b[0m\u001b[0;34m=\u001b[0m\u001b[0;36m3\u001b[0m\u001b[0;34m)\u001b[0m\u001b[0;34m:\u001b[0m\u001b[0;34m\u001b[0m\u001b[0;34m\u001b[0m\u001b[0m\n",
      "\u001b[0;32m~/Projects/bayesian/BAYES/lib/python3.8/site-packages/nest_asyncio.py\u001b[0m in \u001b[0;36mrun_until_complete\u001b[0;34m(self, future)\u001b[0m\n\u001b[1;32m     86\u001b[0m                     \u001b[0;32mbreak\u001b[0m\u001b[0;34m\u001b[0m\u001b[0;34m\u001b[0m\u001b[0m\n\u001b[1;32m     87\u001b[0m             \u001b[0;32mif\u001b[0m \u001b[0;32mnot\u001b[0m \u001b[0mf\u001b[0m\u001b[0;34m.\u001b[0m\u001b[0mdone\u001b[0m\u001b[0;34m(\u001b[0m\u001b[0;34m)\u001b[0m\u001b[0;34m:\u001b[0m\u001b[0;34m\u001b[0m\u001b[0;34m\u001b[0m\u001b[0m\n\u001b[0;32m---> 88\u001b[0;31m                 raise RuntimeError(\n\u001b[0m\u001b[1;32m     89\u001b[0m                     'Event loop stopped before Future completed.')\n\u001b[1;32m     90\u001b[0m             \u001b[0;32mreturn\u001b[0m \u001b[0mf\u001b[0m\u001b[0;34m.\u001b[0m\u001b[0mresult\u001b[0m\u001b[0;34m(\u001b[0m\u001b[0;34m)\u001b[0m\u001b[0;34m\u001b[0m\u001b[0;34m\u001b[0m\u001b[0m\n",
      "\u001b[0;31mRuntimeError\u001b[0m: Event loop stopped before Future completed."
     ]
    }
   ],
   "source": [
    "model = \"\"\"\n",
    "    data {\n",
    "        int N;\n",
    "        int qty_chimpanzees;\n",
    "        int qty_blocks;\n",
    "        int qty_treatments;\n",
    "        \n",
    "        array[N] int pulled_left;\n",
    "        array[N] int actor;\n",
    "        array[N] int block;\n",
    "        array[N] int treatment;\n",
    "    }\n",
    "    \n",
    "    parameters {\n",
    "        vector[qty_treatments] beta;\n",
    "        \n",
    "        vector[qty_chimpanzees] alpha;\n",
    "        real bar_alpha;\n",
    "        real<lower=0> sigma_alpha;\n",
    "        \n",
    "        vector[qty_blocks] gamma;\n",
    "        real<lower=0>  sigma_gamma;\n",
    "           \n",
    "    }\n",
    "    \n",
    "    model {\n",
    "        vector[N] p;\n",
    "    \n",
    "        // priors\n",
    "        beta ~ normal(0, 0.5);\n",
    "        \n",
    "        alpha ~ normal(bar_alpha, sigma_alpha);\n",
    "        bar_alpha ~ normal(0, 1.5);\n",
    "        sigma_alpha ~ exponential(1);\n",
    "        \n",
    "        gamma ~ normal(0, sigma_gamma);\n",
    "        sigma_gamma ~ exponential(1);\n",
    "        \n",
    "        // link\n",
    "        for (i in 1:N){\n",
    "            p[i] = alpha[ actor[i] ] + gamma[ block[i] ] + beta[ treatment[i] ];\n",
    "            p[i] = inv_logit(p[i]);\n",
    "        }\n",
    "        \n",
    "        // linkelihood\n",
    "        pulled_left ~ binomial(1, p);\n",
    "    }\n",
    "\n",
    "\"\"\"\n",
    "\n",
    "dat_list = df[['pulled_left', 'actor', 'block', 'treatment']].to_dict('list')\n",
    "dat_list['N'] = len(df)\n",
    "dat_list['qty_chimpanzees'] = len(df['actor'].unique())\n",
    "dat_list['qty_blocks'] = len(df['block'].unique())\n",
    "dat_list['qty_treatments'] = len(df['treatment'].unique())\n",
    "\n",
    "posteriori = stan.build(model, data=dat_list)\n",
    "samples = posteriori.sample(num_chains=4, num_samples=1000)"
   ]
  },
  {
   "cell_type": "markdown",
   "id": "b29208fc",
   "metadata": {},
   "source": [
    "### R Code 13.22"
   ]
  },
  {
   "cell_type": "code",
   "execution_count": 39,
   "id": "1d9fb8ea",
   "metadata": {},
   "outputs": [],
   "source": [
    "model_13_4 = az.from_pystan(\n",
    "    posterior=samples,\n",
    "    posterior_model=posteriori,\n",
    "    observed_data=dat_list\n",
    ")"
   ]
  },
  {
   "cell_type": "code",
   "execution_count": 40,
   "id": "834aa576",
   "metadata": {},
   "outputs": [
    {
     "data": {
      "text/html": [
       "<div>\n",
       "<style scoped>\n",
       "    .dataframe tbody tr th:only-of-type {\n",
       "        vertical-align: middle;\n",
       "    }\n",
       "\n",
       "    .dataframe tbody tr th {\n",
       "        vertical-align: top;\n",
       "    }\n",
       "\n",
       "    .dataframe thead th {\n",
       "        text-align: right;\n",
       "    }\n",
       "</style>\n",
       "<table border=\"1\" class=\"dataframe\">\n",
       "  <thead>\n",
       "    <tr style=\"text-align: right;\">\n",
       "      <th></th>\n",
       "      <th>mean</th>\n",
       "      <th>sd</th>\n",
       "      <th>hdi_5.5%</th>\n",
       "      <th>hdi_94.5%</th>\n",
       "      <th>mcse_mean</th>\n",
       "      <th>mcse_sd</th>\n",
       "      <th>ess_bulk</th>\n",
       "      <th>ess_tail</th>\n",
       "      <th>r_hat</th>\n",
       "    </tr>\n",
       "  </thead>\n",
       "  <tbody>\n",
       "    <tr>\n",
       "      <th>beta[0]</th>\n",
       "      <td>-0.178</td>\n",
       "      <td>0.296</td>\n",
       "      <td>-0.569</td>\n",
       "      <td>0.352</td>\n",
       "      <td>0.042</td>\n",
       "      <td>0.030</td>\n",
       "      <td>54.0</td>\n",
       "      <td>1029.0</td>\n",
       "      <td>1.06</td>\n",
       "    </tr>\n",
       "    <tr>\n",
       "      <th>beta[1]</th>\n",
       "      <td>0.332</td>\n",
       "      <td>0.321</td>\n",
       "      <td>-0.083</td>\n",
       "      <td>0.828</td>\n",
       "      <td>0.077</td>\n",
       "      <td>0.056</td>\n",
       "      <td>20.0</td>\n",
       "      <td>1608.0</td>\n",
       "      <td>1.14</td>\n",
       "    </tr>\n",
       "    <tr>\n",
       "      <th>beta[2]</th>\n",
       "      <td>-0.537</td>\n",
       "      <td>0.308</td>\n",
       "      <td>-0.994</td>\n",
       "      <td>-0.069</td>\n",
       "      <td>0.059</td>\n",
       "      <td>0.043</td>\n",
       "      <td>31.0</td>\n",
       "      <td>1329.0</td>\n",
       "      <td>1.09</td>\n",
       "    </tr>\n",
       "    <tr>\n",
       "      <th>beta[3]</th>\n",
       "      <td>0.232</td>\n",
       "      <td>0.297</td>\n",
       "      <td>-0.221</td>\n",
       "      <td>0.702</td>\n",
       "      <td>0.046</td>\n",
       "      <td>0.033</td>\n",
       "      <td>45.0</td>\n",
       "      <td>1159.0</td>\n",
       "      <td>1.06</td>\n",
       "    </tr>\n",
       "    <tr>\n",
       "      <th>alpha[0]</th>\n",
       "      <td>-0.263</td>\n",
       "      <td>0.405</td>\n",
       "      <td>-0.829</td>\n",
       "      <td>0.320</td>\n",
       "      <td>0.106</td>\n",
       "      <td>0.077</td>\n",
       "      <td>17.0</td>\n",
       "      <td>1605.0</td>\n",
       "      <td>1.17</td>\n",
       "    </tr>\n",
       "    <tr>\n",
       "      <th>alpha[1]</th>\n",
       "      <td>4.763</td>\n",
       "      <td>1.249</td>\n",
       "      <td>2.811</td>\n",
       "      <td>6.460</td>\n",
       "      <td>0.035</td>\n",
       "      <td>0.025</td>\n",
       "      <td>1182.0</td>\n",
       "      <td>1293.0</td>\n",
       "      <td>1.03</td>\n",
       "    </tr>\n",
       "    <tr>\n",
       "      <th>alpha[2]</th>\n",
       "      <td>-0.624</td>\n",
       "      <td>0.347</td>\n",
       "      <td>-1.205</td>\n",
       "      <td>-0.104</td>\n",
       "      <td>0.021</td>\n",
       "      <td>0.024</td>\n",
       "      <td>400.0</td>\n",
       "      <td>1396.0</td>\n",
       "      <td>1.03</td>\n",
       "    </tr>\n",
       "    <tr>\n",
       "      <th>alpha[3]</th>\n",
       "      <td>-0.588</td>\n",
       "      <td>0.393</td>\n",
       "      <td>-1.237</td>\n",
       "      <td>-0.112</td>\n",
       "      <td>0.085</td>\n",
       "      <td>0.061</td>\n",
       "      <td>24.0</td>\n",
       "      <td>1595.0</td>\n",
       "      <td>1.12</td>\n",
       "    </tr>\n",
       "    <tr>\n",
       "      <th>alpha[4]</th>\n",
       "      <td>-0.275</td>\n",
       "      <td>0.387</td>\n",
       "      <td>-0.899</td>\n",
       "      <td>0.220</td>\n",
       "      <td>0.092</td>\n",
       "      <td>0.066</td>\n",
       "      <td>20.0</td>\n",
       "      <td>860.0</td>\n",
       "      <td>1.14</td>\n",
       "    </tr>\n",
       "    <tr>\n",
       "      <th>alpha[5]</th>\n",
       "      <td>0.620</td>\n",
       "      <td>0.353</td>\n",
       "      <td>0.033</td>\n",
       "      <td>1.161</td>\n",
       "      <td>0.016</td>\n",
       "      <td>0.011</td>\n",
       "      <td>507.0</td>\n",
       "      <td>1421.0</td>\n",
       "      <td>1.03</td>\n",
       "    </tr>\n",
       "    <tr>\n",
       "      <th>alpha[6]</th>\n",
       "      <td>2.121</td>\n",
       "      <td>0.437</td>\n",
       "      <td>1.383</td>\n",
       "      <td>2.782</td>\n",
       "      <td>0.013</td>\n",
       "      <td>0.009</td>\n",
       "      <td>1137.0</td>\n",
       "      <td>1182.0</td>\n",
       "      <td>1.26</td>\n",
       "    </tr>\n",
       "    <tr>\n",
       "      <th>bar_alpha</th>\n",
       "      <td>0.678</td>\n",
       "      <td>0.714</td>\n",
       "      <td>-0.443</td>\n",
       "      <td>1.795</td>\n",
       "      <td>0.089</td>\n",
       "      <td>0.063</td>\n",
       "      <td>65.0</td>\n",
       "      <td>1892.0</td>\n",
       "      <td>1.04</td>\n",
       "    </tr>\n",
       "    <tr>\n",
       "      <th>sigma_alpha</th>\n",
       "      <td>2.069</td>\n",
       "      <td>0.624</td>\n",
       "      <td>1.058</td>\n",
       "      <td>2.831</td>\n",
       "      <td>0.036</td>\n",
       "      <td>0.026</td>\n",
       "      <td>135.0</td>\n",
       "      <td>1582.0</td>\n",
       "      <td>1.04</td>\n",
       "    </tr>\n",
       "    <tr>\n",
       "      <th>gamma[0]</th>\n",
       "      <td>-0.154</td>\n",
       "      <td>0.208</td>\n",
       "      <td>-0.471</td>\n",
       "      <td>0.101</td>\n",
       "      <td>0.025</td>\n",
       "      <td>0.018</td>\n",
       "      <td>76.0</td>\n",
       "      <td>1477.0</td>\n",
       "      <td>1.04</td>\n",
       "    </tr>\n",
       "    <tr>\n",
       "      <th>gamma[1]</th>\n",
       "      <td>0.038</td>\n",
       "      <td>0.167</td>\n",
       "      <td>-0.227</td>\n",
       "      <td>0.299</td>\n",
       "      <td>0.004</td>\n",
       "      <td>0.006</td>\n",
       "      <td>2537.0</td>\n",
       "      <td>1366.0</td>\n",
       "      <td>1.27</td>\n",
       "    </tr>\n",
       "    <tr>\n",
       "      <th>gamma[2]</th>\n",
       "      <td>0.043</td>\n",
       "      <td>0.173</td>\n",
       "      <td>-0.214</td>\n",
       "      <td>0.319</td>\n",
       "      <td>0.004</td>\n",
       "      <td>0.006</td>\n",
       "      <td>1370.0</td>\n",
       "      <td>1513.0</td>\n",
       "      <td>1.05</td>\n",
       "    </tr>\n",
       "    <tr>\n",
       "      <th>gamma[3]</th>\n",
       "      <td>0.005</td>\n",
       "      <td>0.164</td>\n",
       "      <td>-0.272</td>\n",
       "      <td>0.248</td>\n",
       "      <td>0.003</td>\n",
       "      <td>0.005</td>\n",
       "      <td>2437.0</td>\n",
       "      <td>1654.0</td>\n",
       "      <td>1.29</td>\n",
       "    </tr>\n",
       "    <tr>\n",
       "      <th>gamma[4]</th>\n",
       "      <td>-0.030</td>\n",
       "      <td>0.172</td>\n",
       "      <td>-0.286</td>\n",
       "      <td>0.246</td>\n",
       "      <td>0.003</td>\n",
       "      <td>0.005</td>\n",
       "      <td>2766.0</td>\n",
       "      <td>1883.0</td>\n",
       "      <td>1.28</td>\n",
       "    </tr>\n",
       "    <tr>\n",
       "      <th>gamma[5]</th>\n",
       "      <td>0.103</td>\n",
       "      <td>0.187</td>\n",
       "      <td>-0.160</td>\n",
       "      <td>0.402</td>\n",
       "      <td>0.014</td>\n",
       "      <td>0.010</td>\n",
       "      <td>395.0</td>\n",
       "      <td>1375.0</td>\n",
       "      <td>1.04</td>\n",
       "    </tr>\n",
       "    <tr>\n",
       "      <th>sigma_gamma</th>\n",
       "      <td>0.196</td>\n",
       "      <td>0.173</td>\n",
       "      <td>0.017</td>\n",
       "      <td>0.405</td>\n",
       "      <td>0.034</td>\n",
       "      <td>0.025</td>\n",
       "      <td>11.0</td>\n",
       "      <td>4.0</td>\n",
       "      <td>1.29</td>\n",
       "    </tr>\n",
       "  </tbody>\n",
       "</table>\n",
       "</div>"
      ],
      "text/plain": [
       "              mean     sd  hdi_5.5%  hdi_94.5%  mcse_mean  mcse_sd  ess_bulk  \\\n",
       "beta[0]     -0.178  0.296    -0.569      0.352      0.042    0.030      54.0   \n",
       "beta[1]      0.332  0.321    -0.083      0.828      0.077    0.056      20.0   \n",
       "beta[2]     -0.537  0.308    -0.994     -0.069      0.059    0.043      31.0   \n",
       "beta[3]      0.232  0.297    -0.221      0.702      0.046    0.033      45.0   \n",
       "alpha[0]    -0.263  0.405    -0.829      0.320      0.106    0.077      17.0   \n",
       "alpha[1]     4.763  1.249     2.811      6.460      0.035    0.025    1182.0   \n",
       "alpha[2]    -0.624  0.347    -1.205     -0.104      0.021    0.024     400.0   \n",
       "alpha[3]    -0.588  0.393    -1.237     -0.112      0.085    0.061      24.0   \n",
       "alpha[4]    -0.275  0.387    -0.899      0.220      0.092    0.066      20.0   \n",
       "alpha[5]     0.620  0.353     0.033      1.161      0.016    0.011     507.0   \n",
       "alpha[6]     2.121  0.437     1.383      2.782      0.013    0.009    1137.0   \n",
       "bar_alpha    0.678  0.714    -0.443      1.795      0.089    0.063      65.0   \n",
       "sigma_alpha  2.069  0.624     1.058      2.831      0.036    0.026     135.0   \n",
       "gamma[0]    -0.154  0.208    -0.471      0.101      0.025    0.018      76.0   \n",
       "gamma[1]     0.038  0.167    -0.227      0.299      0.004    0.006    2537.0   \n",
       "gamma[2]     0.043  0.173    -0.214      0.319      0.004    0.006    1370.0   \n",
       "gamma[3]     0.005  0.164    -0.272      0.248      0.003    0.005    2437.0   \n",
       "gamma[4]    -0.030  0.172    -0.286      0.246      0.003    0.005    2766.0   \n",
       "gamma[5]     0.103  0.187    -0.160      0.402      0.014    0.010     395.0   \n",
       "sigma_gamma  0.196  0.173     0.017      0.405      0.034    0.025      11.0   \n",
       "\n",
       "             ess_tail  r_hat  \n",
       "beta[0]        1029.0   1.06  \n",
       "beta[1]        1608.0   1.14  \n",
       "beta[2]        1329.0   1.09  \n",
       "beta[3]        1159.0   1.06  \n",
       "alpha[0]       1605.0   1.17  \n",
       "alpha[1]       1293.0   1.03  \n",
       "alpha[2]       1396.0   1.03  \n",
       "alpha[3]       1595.0   1.12  \n",
       "alpha[4]        860.0   1.14  \n",
       "alpha[5]       1421.0   1.03  \n",
       "alpha[6]       1182.0   1.26  \n",
       "bar_alpha      1892.0   1.04  \n",
       "sigma_alpha    1582.0   1.04  \n",
       "gamma[0]       1477.0   1.04  \n",
       "gamma[1]       1366.0   1.27  \n",
       "gamma[2]       1513.0   1.05  \n",
       "gamma[3]       1654.0   1.29  \n",
       "gamma[4]       1883.0   1.28  \n",
       "gamma[5]       1375.0   1.04  \n",
       "sigma_gamma       4.0   1.29  "
      ]
     },
     "execution_count": 40,
     "metadata": {},
     "output_type": "execute_result"
    }
   ],
   "source": [
    "az.summary(model_13_4, hdi_prob=0.89)"
   ]
  },
  {
   "cell_type": "code",
   "execution_count": 41,
   "id": "068dc7c7",
   "metadata": {},
   "outputs": [
    {
     "data": {
      "image/png": "[encoded data removed]",
      "text/plain": [
       "<Figure size 1080x576 with 1 Axes>"
      ]
     },
     "metadata": {
      "filenames": {
       "image/png": "/home/rodolpho/Projects/bayesian/rethinking/statistical_rethinking_pt_BR/_build/jupyter_execute/parte_13_74_0.png"
      },
      "needs_background": "light"
     },
     "output_type": "display_data"
    }
   ],
   "source": [
    "az.plot_forest(model_13_4, hdi_prob=0.89, combined=True, figsize=(15, 8))\n",
    "plt.grid('--', color='white', alpha=0.2)\n",
    "plt.axvline(x=0, color='red', alpha=0.5, ls='--')\n",
    "plt.show()"
   ]
  },
  {
   "cell_type": "code",
   "execution_count": 42,
   "id": "f923270b",
   "metadata": {},
   "outputs": [
    {
     "data": {
      "image/png": "[encoded data removed]",
      "text/plain": [
       "<Figure size 1224x432 with 1 Axes>"
      ]
     },
     "metadata": {
      "filenames": {
       "image/png": "/home/rodolpho/Projects/bayesian/rethinking/statistical_rethinking_pt_BR/_build/jupyter_execute/parte_13_75_0.png"
      },
      "needs_background": "light"
     },
     "output_type": "display_data"
    }
   ],
   "source": [
    "plt.figure(figsize=(17, 6))\n",
    "\n",
    "az.plot_dist(\n",
    "    [model_13_4.posterior.sigma_gamma], color='blue', quantiles=[.05, .89]\n",
    ")\n",
    "\n",
    "az.plot_dist(\n",
    "    [model_13_4.posterior.bar_alpha + model_13_4.posterior.sigma_alpha],\n",
    "    color='black', quantiles=[.05, .89]\n",
    ")\n",
    "\n",
    "plt.legend(['Block', 'Actor'])\n",
    "plt.title('Posteioris')\n",
    "plt.ylabel('Density')\n",
    "plt.xlabel('Standard Deviation')\n",
    "plt.show()"
   ]
  },
  {
   "cell_type": "markdown",
   "id": "efa9f1c0",
   "metadata": {},
   "source": [
    "###  R Code 13.23"
   ]
  },
  {
   "cell_type": "code",
   "execution_count": 43,
   "id": "0564b736",
   "metadata": {
    "tags": [
     "remove_output"
    ]
   },
   "outputs": [
    {
     "name": "stderr",
     "output_type": "stream",
     "text": [
      "\u001b[32mBuilding:\u001b[0m found in cache, done.\n",
      "\u001b[36mSampling:\u001b[0m   0%\n",
      "\u001b[1A\u001b[0J\u001b[36mSampling:\u001b[0m   2% (200/8000)\n",
      "\u001b[1A\u001b[0J\u001b[36mSampling:\u001b[0m   9% (700/8000)\n",
      "\u001b[1A\u001b[0J\u001b[36mSampling:\u001b[0m  15% (1200/8000)\n",
      "\u001b[1A\u001b[0J\u001b[36mSampling:\u001b[0m  40% (3200/8000)\n",
      "\u001b[1A\u001b[0J\u001b[36mSampling:\u001b[0m  62% (5000/8000)\n",
      "\u001b[1A\u001b[0J\u001b[36mSampling:\u001b[0m  81% (6500/8000)\n",
      "\u001b[1A\u001b[0J\u001b[36mSampling:\u001b[0m 100% (8000/8000)\n",
      "\u001b[1A\u001b[0J\u001b[32mSampling:\u001b[0m 100% (8000/8000), done.\n",
      "\u001b[36mMessages received during sampling:\u001b[0m\n",
      "  Gradient evaluation took 7.1e-05 seconds\n",
      "  1000 transitions using 10 leapfrog steps per transition would take 0.71 seconds.\n",
      "  Adjust your expectations accordingly!\n",
      "  Gradient evaluation took 0.000102 seconds\n",
      "  1000 transitions using 10 leapfrog steps per transition would take 1.02 seconds.\n",
      "  Adjust your expectations accordingly!\n",
      "  Informational Message: The current Metropolis proposal is about to be rejected because of the following issue:\n",
      "  Exception: normal_lpdf: Scale parameter is 0, but must be positive! (in '/tmp/httpstan_rpq3tyko/model_r7i3x47h.stan', line 28, column 8 to column 47)\n",
      "  If this warning occurs sporadically, such as for highly constrained variable types like covariance matrices, then the sampler is fine,\n",
      "  but if this warning occurs often then your model may be either severely ill-conditioned or misspecified.\n",
      "  Gradient evaluation took 9e-05 seconds\n",
      "  1000 transitions using 10 leapfrog steps per transition would take 0.9 seconds.\n",
      "  Adjust your expectations accordingly!\n",
      "  Gradient evaluation took 6.3e-05 seconds\n",
      "  1000 transitions using 10 leapfrog steps per transition would take 0.63 seconds.\n",
      "  Adjust your expectations accordingly!\n"
     ]
    }
   ],
   "source": [
    "model = \"\"\"\n",
    "    data {\n",
    "        int N;\n",
    "        int qty_chimpanzees;\n",
    "        int qty_blocks;\n",
    "        int qty_treatments;\n",
    "        \n",
    "        array[N] int pulled_left;\n",
    "        array[N] int actor;\n",
    "        array[N] int block;\n",
    "        array[N] int treatment;\n",
    "    }\n",
    "    \n",
    "    parameters {\n",
    "        vector[qty_treatments] beta;\n",
    "        \n",
    "        vector[qty_chimpanzees] alpha;\n",
    "        real bar_alpha;\n",
    "        real<lower=0> sigma_alpha;   \n",
    "    }\n",
    "    \n",
    "    model {\n",
    "        vector[N] p;\n",
    "    \n",
    "        // priors\n",
    "        beta ~ normal(0, 0.5);\n",
    "        \n",
    "        alpha ~ normal(bar_alpha, sigma_alpha);\n",
    "        bar_alpha ~ normal(0, 1.5);\n",
    "        sigma_alpha ~ exponential(1);\n",
    "        \n",
    "        // link\n",
    "        for (i in 1:N){\n",
    "            p[i] = alpha[ actor[i] ] + beta[ treatment[i] ];\n",
    "            p[i] = inv_logit(p[i]);\n",
    "        }\n",
    "        \n",
    "        // linkelihood\n",
    "        pulled_left ~ binomial(1, p);\n",
    "    }\n",
    "\n",
    "\"\"\"\n",
    "\n",
    "dat_list = df[['pulled_left', 'actor', 'block', 'treatment']].to_dict('list')\n",
    "dat_list['N'] = len(df)\n",
    "dat_list['qty_chimpanzees'] = len(df['actor'].unique())\n",
    "dat_list['qty_blocks'] = len(df['block'].unique())\n",
    "dat_list['qty_treatments'] = len(df['treatment'].unique())\n",
    "\n",
    "posteriori = stan.build(model, data=dat_list)\n",
    "samples = posteriori.sample(num_chains=4, num_samples=1000)"
   ]
  },
  {
   "cell_type": "code",
   "execution_count": 44,
   "id": "b029a06d",
   "metadata": {},
   "outputs": [],
   "source": [
    "model_13_5 = az.from_pystan(\n",
    "    posterior=samples,\n",
    "    posterior_model=posteriori,\n",
    "    observed_data=dat_list.keys()\n",
    ")"
   ]
  },
  {
   "cell_type": "markdown",
   "id": "3b11b52a",
   "metadata": {},
   "source": [
    "### R Code 13.24"
   ]
  },
  {
   "cell_type": "code",
   "execution_count": 45,
   "id": "46698673",
   "metadata": {},
   "outputs": [],
   "source": [
    "# az.compare(model_13_4, model_13_5)"
   ]
  },
  {
   "cell_type": "markdown",
   "id": "389b3d40",
   "metadata": {},
   "source": [
    "### R Code 13.25"
   ]
  },
  {
   "cell_type": "code",
   "execution_count": 46,
   "id": "e34bd922",
   "metadata": {
    "tags": [
     "remove_output"
    ]
   },
   "outputs": [
    {
     "name": "stderr",
     "output_type": "stream",
     "text": [
      "\u001b[32mBuilding:\u001b[0m found in cache, done.\n",
      "\u001b[36mSampling:\u001b[0m   0%\n",
      "\u001b[1A\u001b[0J\u001b[36mSampling:\u001b[0m   0% (1/8000)\n",
      "\u001b[1A\u001b[0J\u001b[36mSampling:\u001b[0m   1% (101/8000)\n",
      "\u001b[1A\u001b[0J\u001b[36mSampling:\u001b[0m   3% (201/8000)\n",
      "\u001b[1A\u001b[0J\u001b[36mSampling:\u001b[0m   4% (301/8000)\n",
      "\u001b[1A\u001b[0J\u001b[36mSampling:\u001b[0m   6% (500/8000)\n",
      "\u001b[1A\u001b[0J\u001b[36mSampling:\u001b[0m   9% (700/8000)\n",
      "\u001b[1A\u001b[0J\u001b[36mSampling:\u001b[0m  11% (900/8000)\n",
      "\u001b[1A\u001b[0J\u001b[36mSampling:\u001b[0m  15% (1200/8000)\n",
      "\u001b[1A\u001b[0J\u001b[36mSampling:\u001b[0m  19% (1500/8000)\n",
      "\u001b[1A\u001b[0J\u001b[36mSampling:\u001b[0m  21% (1700/8000)\n",
      "\u001b[1A\u001b[0J\u001b[36mSampling:\u001b[0m  24% (1900/8000)\n",
      "\u001b[1A\u001b[0J\u001b[36mSampling:\u001b[0m  28% (2200/8000)\n",
      "\u001b[1A\u001b[0J\u001b[36mSampling:\u001b[0m  31% (2500/8000)\n",
      "\u001b[1A\u001b[0J\u001b[36mSampling:\u001b[0m  36% (2900/8000)\n",
      "\u001b[1A\u001b[0J\u001b[36mSampling:\u001b[0m  55% (4400/8000)\n",
      "\u001b[1A\u001b[0J\u001b[36mSampling:\u001b[0m  71% (5700/8000)\n",
      "\u001b[1A\u001b[0J\u001b[36mSampling:\u001b[0m  86% (6900/8000)\n",
      "\u001b[1A\u001b[0J\u001b[36mSampling:\u001b[0m 100% (8000/8000)\n",
      "\u001b[1A\u001b[0J\u001b[32mSampling:\u001b[0m 100% (8000/8000), done.\n",
      "\u001b[36mMessages received during sampling:\u001b[0m\n",
      "  Gradient evaluation took 0.000122 seconds\n",
      "  1000 transitions using 10 leapfrog steps per transition would take 1.22 seconds.\n",
      "  Adjust your expectations accordingly!\n",
      "  Informational Message: The current Metropolis proposal is about to be rejected because of the following issue:\n",
      "  Exception: normal_lpdf: Scale parameter is 0, but must be positive! (in '/tmp/httpstan_59n9gjpm/model_ncxzodym.stan', line 31, column 8 to column 37)\n",
      "  If this warning occurs sporadically, such as for highly constrained variable types like covariance matrices, then the sampler is fine,\n",
      "  but if this warning occurs often then your model may be either severely ill-conditioned or misspecified.\n",
      "  Gradient evaluation took 9.1e-05 seconds\n",
      "  1000 transitions using 10 leapfrog steps per transition would take 0.91 seconds.\n",
      "  Adjust your expectations accordingly!\n",
      "  Gradient evaluation took 9.8e-05 seconds\n",
      "  1000 transitions using 10 leapfrog steps per transition would take 0.98 seconds.\n",
      "  Adjust your expectations accordingly!\n",
      "  Informational Message: The current Metropolis proposal is about to be rejected because of the following issue:\n",
      "  Exception: normal_lpdf: Scale parameter is 0, but must be positive! (in '/tmp/httpstan_59n9gjpm/model_ncxzodym.stan', line 34, column 8 to column 47)\n",
      "  If this warning occurs sporadically, such as for highly constrained variable types like covariance matrices, then the sampler is fine,\n",
      "  but if this warning occurs often then your model may be either severely ill-conditioned or misspecified.\n",
      "  Gradient evaluation took 0.000137 seconds\n",
      "  1000 transitions using 10 leapfrog steps per transition would take 1.37 seconds.\n",
      "  Adjust your expectations accordingly!\n"
     ]
    }
   ],
   "source": [
    "model = \"\"\"\n",
    "    data {\n",
    "        int N;\n",
    "        int qty_chimpanzees;\n",
    "        int qty_blocks;\n",
    "        int qty_treatments;\n",
    "        \n",
    "        array[N] int pulled_left;\n",
    "        array[N] int actor;\n",
    "        array[N] int block;\n",
    "        array[N] int treatment;\n",
    "    }\n",
    "    \n",
    "    parameters {\n",
    "        vector[qty_treatments] beta;\n",
    "        real<lower=0>  sigma_beta;\n",
    "\n",
    "        vector[qty_chimpanzees] alpha;\n",
    "        real bar_alpha;\n",
    "        real<lower=0> sigma_alpha;\n",
    "        \n",
    "        vector[qty_blocks] gamma;\n",
    "        real<lower=0>  sigma_gamma;\n",
    "        \n",
    "    }\n",
    "    \n",
    "    model {\n",
    "        vector[N] p;\n",
    "    \n",
    "        // priors\n",
    "        beta ~ normal(0, sigma_beta);\n",
    "        sigma_beta ~ exponential(1);\n",
    "        \n",
    "        alpha ~ normal(bar_alpha, sigma_alpha);\n",
    "        bar_alpha ~ normal(0, 1.5);\n",
    "        sigma_alpha ~ exponential(1);\n",
    "        \n",
    "        gamma ~ normal(0, sigma_gamma);\n",
    "        sigma_gamma ~ exponential(1);\n",
    "        \n",
    "        // link\n",
    "        for (i in 1:N){\n",
    "            p[i] = alpha[ actor[i] ] + gamma[ block[i] ] + beta[ treatment[i] ];\n",
    "            p[i] = inv_logit(p[i]);\n",
    "        }\n",
    "        \n",
    "        // linkelihood\n",
    "        pulled_left ~ binomial(1, p);\n",
    "    }\n",
    "\n",
    "\"\"\"\n",
    "\n",
    "dat_list = df[['pulled_left', 'actor', 'block', 'treatment']].to_dict('list')\n",
    "dat_list['N'] = len(df)\n",
    "dat_list['qty_chimpanzees'] = len(df['actor'].unique())\n",
    "dat_list['qty_blocks'] = len(df['block'].unique())\n",
    "dat_list['qty_treatments'] = len(df['treatment'].unique())\n",
    "\n",
    "posteriori = stan.build(model, data=dat_list)\n",
    "samples = posteriori.sample(num_chains=4, num_samples=1000)"
   ]
  },
  {
   "cell_type": "code",
   "execution_count": 47,
   "id": "051d5432",
   "metadata": {},
   "outputs": [],
   "source": [
    "model_13_6 = az.from_pystan(\n",
    "    posterior=samples,\n",
    "    posterior_model=posteriori,\n",
    "    observed_data=dat_list.keys()\n",
    ")"
   ]
  },
  {
   "cell_type": "code",
   "execution_count": 48,
   "id": "92985ff0",
   "metadata": {},
   "outputs": [
    {
     "data": {
      "image/png": "[encoded data removed]",
      "text/plain": [
       "<Figure size 1224x864 with 1 Axes>"
      ]
     },
     "metadata": {
      "filenames": {
       "image/png": "/home/rodolpho/Projects/bayesian/rethinking/statistical_rethinking_pt_BR/_build/jupyter_execute/parte_13_84_0.png"
      },
      "needs_background": "light"
     },
     "output_type": "display_data"
    }
   ],
   "source": [
    "az.plot_forest([model_13_4, model_13_6], combined=True, figsize=(17,12), hdi_prob=0.89,\n",
    "              model_names = [\"model_13_4\", \"model_13_6\"])\n",
    "plt.show()"
   ]
  },
  {
   "cell_type": "markdown",
   "id": "2c95abbe",
   "metadata": {},
   "source": [
    "## 13.4 Divergent Transitions and non-centered priors"
   ]
  },
  {
   "cell_type": "markdown",
   "id": "1a82b1f4",
   "metadata": {},
   "source": [
    "### R Code 13.26"
   ]
  },
  {
   "cell_type": "code",
   "execution_count": 49,
   "id": "cb1eebc6",
   "metadata": {
    "tags": [
     "remove_output"
    ]
   },
   "outputs": [
    {
     "name": "stderr",
     "output_type": "stream",
     "text": [
      "\u001b[32mBuilding:\u001b[0m found in cache, done.\n",
      "\u001b[36mMessages from \u001b[0m\u001b[36;1mstanc\u001b[0m\u001b[36m:\u001b[0m\n",
      "Warning: The parameter v has 2 priors.\n",
      "\u001b[36mSampling:\u001b[0m   0%\n",
      "\u001b[1A\u001b[0J\u001b[36mSampling:\u001b[0m  25% (2000/8000)\n",
      "\u001b[1A\u001b[0J\u001b[36mSampling:\u001b[0m  50% (4000/8000)\n",
      "\u001b[1A\u001b[0J\u001b[36mSampling:\u001b[0m  75% (6000/8000)\n",
      "\u001b[1A\u001b[0J\u001b[36mSampling:\u001b[0m 100% (8000/8000)\n",
      "\u001b[1A\u001b[0J\u001b[32mSampling:\u001b[0m 100% (8000/8000), done.\n",
      "\u001b[36mMessages received during sampling:\u001b[0m\n",
      "  Gradient evaluation took 3e-06 seconds\n",
      "  1000 transitions using 10 leapfrog steps per transition would take 0.03 seconds.\n",
      "  Adjust your expectations accordingly!\n",
      "  Gradient evaluation took 3e-06 seconds\n",
      "  1000 transitions using 10 leapfrog steps per transition would take 0.03 seconds.\n",
      "  Adjust your expectations accordingly!\n",
      "  Gradient evaluation took 2e-06 seconds\n",
      "  1000 transitions using 10 leapfrog steps per transition would take 0.02 seconds.\n",
      "  Adjust your expectations accordingly!\n",
      "  Gradient evaluation took 3e-06 seconds\n",
      "  1000 transitions using 10 leapfrog steps per transition would take 0.03 seconds.\n",
      "  Adjust your expectations accordingly!\n"
     ]
    }
   ],
   "source": [
    "model = \"\"\"\n",
    "    parameters {\n",
    "        real v;\n",
    "        real x;\n",
    "    }\n",
    "    \n",
    "    model {\n",
    "        v ~ normal(0, 3);\n",
    "        x ~ normal(0, exp(v));\n",
    "    }\n",
    "\"\"\"\n",
    "\n",
    "posteriori = stan.build(model)\n",
    "samples = posteriori.sample(num_chains=4, num_samples=1000)"
   ]
  },
  {
   "cell_type": "code",
   "execution_count": 50,
   "id": "158f472e",
   "metadata": {},
   "outputs": [],
   "source": [
    "model_13_5 = az.from_pystan(\n",
    "    posterior=samples,\n",
    "    posterior_model=posteriori,\n",
    ")"
   ]
  },
  {
   "cell_type": "code",
   "execution_count": 51,
   "id": "b684be8b",
   "metadata": {},
   "outputs": [
    {
     "data": {
      "text/html": [
       "<div>\n",
       "<style scoped>\n",
       "    .dataframe tbody tr th:only-of-type {\n",
       "        vertical-align: middle;\n",
       "    }\n",
       "\n",
       "    .dataframe tbody tr th {\n",
       "        vertical-align: top;\n",
       "    }\n",
       "\n",
       "    .dataframe thead th {\n",
       "        text-align: right;\n",
       "    }\n",
       "</style>\n",
       "<table border=\"1\" class=\"dataframe\">\n",
       "  <thead>\n",
       "    <tr style=\"text-align: right;\">\n",
       "      <th></th>\n",
       "      <th>mean</th>\n",
       "      <th>sd</th>\n",
       "      <th>hdi_5.5%</th>\n",
       "      <th>hdi_94.5%</th>\n",
       "      <th>mcse_mean</th>\n",
       "      <th>mcse_sd</th>\n",
       "      <th>ess_bulk</th>\n",
       "      <th>ess_tail</th>\n",
       "      <th>r_hat</th>\n",
       "    </tr>\n",
       "  </thead>\n",
       "  <tbody>\n",
       "    <tr>\n",
       "      <th>v</th>\n",
       "      <td>3.515</td>\n",
       "      <td>1.508</td>\n",
       "      <td>1.243</td>\n",
       "      <td>5.486</td>\n",
       "      <td>0.208</td>\n",
       "      <td>0.148</td>\n",
       "      <td>37.0</td>\n",
       "      <td>26.0</td>\n",
       "      <td>1.1</td>\n",
       "    </tr>\n",
       "    <tr>\n",
       "      <th>x</th>\n",
       "      <td>-34.371</td>\n",
       "      <td>286.623</td>\n",
       "      <td>-142.353</td>\n",
       "      <td>209.821</td>\n",
       "      <td>20.340</td>\n",
       "      <td>14.404</td>\n",
       "      <td>290.0</td>\n",
       "      <td>232.0</td>\n",
       "      <td>1.1</td>\n",
       "    </tr>\n",
       "  </tbody>\n",
       "</table>\n",
       "</div>"
      ],
      "text/plain": [
       "     mean       sd  hdi_5.5%  hdi_94.5%  mcse_mean  mcse_sd  ess_bulk  \\\n",
       "v   3.515    1.508     1.243      5.486      0.208    0.148      37.0   \n",
       "x -34.371  286.623  -142.353    209.821     20.340   14.404     290.0   \n",
       "\n",
       "   ess_tail  r_hat  \n",
       "v      26.0    1.1  \n",
       "x     232.0    1.1  "
      ]
     },
     "execution_count": 51,
     "metadata": {},
     "output_type": "execute_result"
    }
   ],
   "source": [
    "az.summary(model_13_5, hdi_prob=0.89)"
   ]
  },
  {
   "cell_type": "markdown",
   "id": "077d555e",
   "metadata": {},
   "source": [
    "### R Code 13.27"
   ]
  },
  {
   "cell_type": "code",
   "execution_count": 52,
   "id": "97ee6912",
   "metadata": {
    "tags": [
     "remove_output"
    ]
   },
   "outputs": [
    {
     "name": "stderr",
     "output_type": "stream",
     "text": [
      "\u001b[32mBuilding:\u001b[0m found in cache, done.\n",
      "\u001b[36mSampling:\u001b[0m   0%\n",
      "\u001b[1A\u001b[0J\u001b[36mSampling:\u001b[0m  25% (2000/8000)\n",
      "\u001b[1A\u001b[0J\u001b[36mSampling:\u001b[0m  50% (4000/8000)\n",
      "\u001b[1A\u001b[0J\u001b[36mSampling:\u001b[0m  75% (6000/8000)\n",
      "\u001b[1A\u001b[0J\u001b[36mSampling:\u001b[0m 100% (8000/8000)\n",
      "\u001b[1A\u001b[0J\u001b[32mSampling:\u001b[0m 100% (8000/8000), done.\n",
      "\u001b[36mMessages received during sampling:\u001b[0m\n",
      "  Gradient evaluation took 2e-06 seconds\n",
      "  1000 transitions using 10 leapfrog steps per transition would take 0.02 seconds.\n",
      "  Adjust your expectations accordingly!\n",
      "  Gradient evaluation took 2e-06 seconds\n",
      "  1000 transitions using 10 leapfrog steps per transition would take 0.02 seconds.\n",
      "  Adjust your expectations accordingly!\n",
      "  Gradient evaluation took 3e-06 seconds\n",
      "  1000 transitions using 10 leapfrog steps per transition would take 0.03 seconds.\n",
      "  Adjust your expectations accordingly!\n",
      "  Gradient evaluation took 2e-06 seconds\n",
      "  1000 transitions using 10 leapfrog steps per transition would take 0.02 seconds.\n",
      "  Adjust your expectations accordingly!\n"
     ]
    }
   ],
   "source": [
    "model = \"\"\"\n",
    "    parameters {\n",
    "        real v;\n",
    "        real z;\n",
    "    }\n",
    "    \n",
    "    model {\n",
    "        v ~ normal(0, 3);\n",
    "        z ~ normal(0, 1);\n",
    "    }\n",
    "    \n",
    "    generated quantities {\n",
    "        real x;\n",
    "        \n",
    "        x = z*exp(v);\n",
    "    }\n",
    "\"\"\"\n",
    "\n",
    "posteriori = stan.build(model)\n",
    "samples = posteriori.sample(num_chains=4, num_samples=1000)"
   ]
  },
  {
   "cell_type": "code",
   "execution_count": 53,
   "id": "3a716084",
   "metadata": {},
   "outputs": [],
   "source": [
    "model_13_6 = az.from_pystan(\n",
    "    posterior=samples,\n",
    "    posterior_model=posteriori,\n",
    ")"
   ]
  },
  {
   "cell_type": "code",
   "execution_count": 54,
   "id": "88f77684",
   "metadata": {},
   "outputs": [
    {
     "data": {
      "text/html": [
       "<div>\n",
       "<style scoped>\n",
       "    .dataframe tbody tr th:only-of-type {\n",
       "        vertical-align: middle;\n",
       "    }\n",
       "\n",
       "    .dataframe tbody tr th {\n",
       "        vertical-align: top;\n",
       "    }\n",
       "\n",
       "    .dataframe thead th {\n",
       "        text-align: right;\n",
       "    }\n",
       "</style>\n",
       "<table border=\"1\" class=\"dataframe\">\n",
       "  <thead>\n",
       "    <tr style=\"text-align: right;\">\n",
       "      <th></th>\n",
       "      <th>mean</th>\n",
       "      <th>sd</th>\n",
       "      <th>hdi_5.5%</th>\n",
       "      <th>hdi_94.5%</th>\n",
       "      <th>mcse_mean</th>\n",
       "      <th>mcse_sd</th>\n",
       "      <th>ess_bulk</th>\n",
       "      <th>ess_tail</th>\n",
       "      <th>r_hat</th>\n",
       "    </tr>\n",
       "  </thead>\n",
       "  <tbody>\n",
       "    <tr>\n",
       "      <th>v</th>\n",
       "      <td>0.055</td>\n",
       "      <td>2.991</td>\n",
       "      <td>-4.401</td>\n",
       "      <td>5.018</td>\n",
       "      <td>0.050</td>\n",
       "      <td>0.048</td>\n",
       "      <td>3573.0</td>\n",
       "      <td>2181.0</td>\n",
       "      <td>1.0</td>\n",
       "    </tr>\n",
       "    <tr>\n",
       "      <th>z</th>\n",
       "      <td>0.018</td>\n",
       "      <td>0.998</td>\n",
       "      <td>-1.515</td>\n",
       "      <td>1.663</td>\n",
       "      <td>0.018</td>\n",
       "      <td>0.015</td>\n",
       "      <td>3015.0</td>\n",
       "      <td>2616.0</td>\n",
       "      <td>1.0</td>\n",
       "    </tr>\n",
       "    <tr>\n",
       "      <th>x</th>\n",
       "      <td>4.028</td>\n",
       "      <td>3223.155</td>\n",
       "      <td>-22.220</td>\n",
       "      <td>30.356</td>\n",
       "      <td>50.982</td>\n",
       "      <td>36.052</td>\n",
       "      <td>2943.0</td>\n",
       "      <td>2668.0</td>\n",
       "      <td>1.0</td>\n",
       "    </tr>\n",
       "  </tbody>\n",
       "</table>\n",
       "</div>"
      ],
      "text/plain": [
       "    mean        sd  hdi_5.5%  hdi_94.5%  mcse_mean  mcse_sd  ess_bulk  \\\n",
       "v  0.055     2.991    -4.401      5.018      0.050    0.048    3573.0   \n",
       "z  0.018     0.998    -1.515      1.663      0.018    0.015    3015.0   \n",
       "x  4.028  3223.155   -22.220     30.356     50.982   36.052    2943.0   \n",
       "\n",
       "   ess_tail  r_hat  \n",
       "v    2181.0    1.0  \n",
       "z    2616.0    1.0  \n",
       "x    2668.0    1.0  "
      ]
     },
     "execution_count": 54,
     "metadata": {},
     "output_type": "execute_result"
    }
   ],
   "source": [
    "az.summary(model_13_6, hdi_prob=0.89)"
   ]
  },
  {
   "cell_type": "markdown",
   "id": "7b18d661",
   "metadata": {},
   "source": [
    "#### 13.4.2 Non-centered chimpanzees"
   ]
  },
  {
   "cell_type": "markdown",
   "id": "c3e1f001",
   "metadata": {},
   "source": [
    "### R Code 13.28"
   ]
  },
  {
   "cell_type": "code",
   "execution_count": 55,
   "id": "d719f814",
   "metadata": {},
   "outputs": [],
   "source": [
    "# Don't have apapt_delta in pystan3, until today."
   ]
  },
  {
   "cell_type": "markdown",
   "id": "24a26935",
   "metadata": {},
   "source": [
    "### R Code 13.29"
   ]
  },
  {
   "cell_type": "markdown",
   "id": "75592884",
   "metadata": {},
   "source": [
    "$$ L_i \\sim Binomial(1, p_i) $$\n",
    "\n",
    "$$ logit(p_i) = \\bar{\\alpha} + z_{ACTOR[i]} \\sigma_\\alpha + x_{BLOCK[i]}\\sigma_\\gamma + \\beta_{TREATMENT[i]} $$\n",
    "\n",
    "To Actor:\n",
    "$$ \\bar{\\alpha} \\sim Normal(0, 1.5) $$\n",
    "\n",
    "$$ z_j \\sim Normal(0, 1) $$\n",
    "\n",
    "$$ \\sigma_\\alpha \\sim Exponential(1) $$\n",
    "\n",
    "\n",
    "\n",
    "To Block:\n",
    "\n",
    "$$ x_j \\sim Normal(0, 1) $$\n",
    "\n",
    "$$ \\sigma_\\gamma \\sim Exponential(1) $$\n",
    "\n",
    "\n",
    "To Treatment:\n",
    "\n",
    "$$ \\beta_j \\sim Normal(0, 0.5) $$\n",
    "\n",
    "\n",
    "Where, each actor is defined by:\n",
    "\n",
    "$$ \\alpha_j = \\bar{\\alpha} + z_j\\sigma_\\alpha  $$\n",
    "\n",
    "and, each block is defined by:\n",
    "\n",
    "$$ \\gamma_j = x_j\\sigma_\\gamma $$"
   ]
  },
  {
   "cell_type": "code",
   "execution_count": 56,
   "id": "09f1699e",
   "metadata": {
    "tags": [
     "remove_output"
    ]
   },
   "outputs": [
    {
     "name": "stderr",
     "output_type": "stream",
     "text": [
      "\u001b[32mBuilding:\u001b[0m found in cache, done.\n",
      "\u001b[36mSampling:\u001b[0m   0%\n",
      "\u001b[1A\u001b[0J\u001b[36mSampling:\u001b[0m   0% (1/8000)\n",
      "\u001b[1A\u001b[0J\u001b[36mSampling:\u001b[0m   0% (2/8000)\n",
      "\u001b[1A\u001b[0J\u001b[36mSampling:\u001b[0m   0% (3/8000)\n",
      "\u001b[1A\u001b[0J\u001b[36mSampling:\u001b[0m   0% (4/8000)\n",
      "\u001b[1A\u001b[0J\u001b[36mSampling:\u001b[0m   1% (103/8000)\n",
      "\u001b[1A\u001b[0J\u001b[36mSampling:\u001b[0m   3% (202/8000)\n",
      "\u001b[1A\u001b[0J\u001b[36mSampling:\u001b[0m   4% (301/8000)\n",
      "\u001b[1A\u001b[0J\u001b[36mSampling:\u001b[0m   5% (400/8000)\n",
      "\u001b[1A\u001b[0J\u001b[36mSampling:\u001b[0m   6% (500/8000)\n",
      "\u001b[1A\u001b[0J\u001b[36mSampling:\u001b[0m   8% (600/8000)\n",
      "\u001b[1A\u001b[0J\u001b[36mSampling:\u001b[0m   9% (700/8000)\n",
      "\u001b[1A\u001b[0J\u001b[36mSampling:\u001b[0m  10% (800/8000)\n",
      "\u001b[1A\u001b[0J\u001b[36mSampling:\u001b[0m  11% (900/8000)\n",
      "\u001b[1A\u001b[0J\u001b[36mSampling:\u001b[0m  12% (1000/8000)\n",
      "\u001b[1A\u001b[0J\u001b[36mSampling:\u001b[0m  14% (1100/8000)\n",
      "\u001b[1A\u001b[0J\u001b[36mSampling:\u001b[0m  15% (1200/8000)\n",
      "\u001b[1A\u001b[0J\u001b[36mSampling:\u001b[0m  16% (1300/8000)\n",
      "\u001b[1A\u001b[0J\u001b[36mSampling:\u001b[0m  18% (1400/8000)\n",
      "\u001b[1A\u001b[0J\u001b[36mSampling:\u001b[0m  19% (1500/8000)\n",
      "\u001b[1A\u001b[0J\u001b[36mSampling:\u001b[0m  20% (1600/8000)\n",
      "\u001b[1A\u001b[0J\u001b[36mSampling:\u001b[0m  21% (1700/8000)\n",
      "\u001b[1A\u001b[0J\u001b[36mSampling:\u001b[0m  22% (1800/8000)\n",
      "\u001b[1A\u001b[0J\u001b[36mSampling:\u001b[0m  24% (1900/8000)\n",
      "\u001b[1A\u001b[0J\u001b[36mSampling:\u001b[0m  25% (2000/8000)\n",
      "\u001b[1A\u001b[0J\u001b[36mSampling:\u001b[0m  26% (2100/8000)\n",
      "\u001b[1A\u001b[0J\u001b[36mSampling:\u001b[0m  28% (2200/8000)\n",
      "\u001b[1A\u001b[0J\u001b[36mSampling:\u001b[0m  29% (2300/8000)\n",
      "\u001b[1A\u001b[0J\u001b[36mSampling:\u001b[0m  30% (2400/8000)\n",
      "\u001b[1A\u001b[0J\u001b[36mSampling:\u001b[0m  32% (2600/8000)\n",
      "\u001b[1A\u001b[0J\u001b[36mSampling:\u001b[0m  34% (2700/8000)\n",
      "\u001b[1A\u001b[0J\u001b[36mSampling:\u001b[0m  35% (2800/8000)\n",
      "\u001b[1A\u001b[0J\u001b[36mSampling:\u001b[0m  38% (3000/8000)\n",
      "\u001b[1A\u001b[0J\u001b[36mSampling:\u001b[0m  39% (3100/8000)\n",
      "\u001b[1A\u001b[0J\u001b[36mSampling:\u001b[0m  40% (3200/8000)\n",
      "\u001b[1A\u001b[0J\u001b[36mSampling:\u001b[0m  42% (3400/8000)\n",
      "\u001b[1A\u001b[0J\u001b[36mSampling:\u001b[0m  56% (4500/8000)\n",
      "\u001b[1A\u001b[0J\u001b[36mSampling:\u001b[0m  70% (5600/8000)\n",
      "\u001b[1A\u001b[0J\u001b[36mSampling:\u001b[0m  86% (6900/8000)\n",
      "\u001b[1A\u001b[0J\u001b[36mSampling:\u001b[0m 100% (8000/8000)\n",
      "\u001b[1A\u001b[0J\u001b[32mSampling:\u001b[0m 100% (8000/8000), done.\n",
      "\u001b[36mMessages received during sampling:\u001b[0m\n",
      "  Gradient evaluation took 0.000171 seconds\n",
      "  1000 transitions using 10 leapfrog steps per transition would take 1.71 seconds.\n",
      "  Adjust your expectations accordingly!\n",
      "  Gradient evaluation took 0.000152 seconds\n",
      "  1000 transitions using 10 leapfrog steps per transition would take 1.52 seconds.\n",
      "  Adjust your expectations accordingly!\n",
      "  Gradient evaluation took 0.000158 seconds\n",
      "  1000 transitions using 10 leapfrog steps per transition would take 1.58 seconds.\n",
      "  Adjust your expectations accordingly!\n",
      "  Gradient evaluation took 0.000234 seconds\n",
      "  1000 transitions using 10 leapfrog steps per transition would take 2.34 seconds.\n",
      "  Adjust your expectations accordingly!\n"
     ]
    }
   ],
   "source": [
    "model = \"\"\"\n",
    "    data {\n",
    "        int N;\n",
    "        int qty_chimpanzees;\n",
    "        int qty_blocks;\n",
    "        int qty_treatments;\n",
    "        \n",
    "        array[N] int pulled_left;\n",
    "        array[N] int actor;\n",
    "        array[N] int block;\n",
    "        array[N] int treatment;\n",
    "    }\n",
    "    \n",
    "    parameters {\n",
    "        // To treatments\n",
    "        vector[qty_treatments] beta;\n",
    "        \n",
    "        // To actors\n",
    "        real bar_alpha;\n",
    "        vector[qty_chimpanzees] z;\n",
    "        real<lower=0> sigma_alpha;\n",
    "        \n",
    "        // To block\n",
    "        vector[qty_blocks] x;\n",
    "        real<lower=0>  sigma_gamma;\n",
    "    }\n",
    "    \n",
    "    model {\n",
    "        vector[N] p;\n",
    "    \n",
    "        // priors\n",
    "        beta ~ normal(0, 0.5);  // treatment\n",
    "        z ~ normal(0, 1);  // actor\n",
    "        x ~ normal(0, 1);  // block \n",
    "        \n",
    "        bar_alpha ~ normal(0, 1.5);  // Intercept to alpha (actor)\n",
    "        \n",
    "        sigma_alpha ~ exponential(1);\n",
    "        sigma_gamma ~ exponential(1);\n",
    "        \n",
    "        // Link\n",
    "        for (i in 1:N){\n",
    "            p[i] = bar_alpha  + z[ actor[i] ]*sigma_alpha +  x[ block[i] ]*sigma_gamma + beta[ treatment[i] ];\n",
    "            p[i] = inv_logit(p[i]);\n",
    "        }\n",
    "        \n",
    "        // Linkelihood\n",
    "        pulled_left ~ binomial(1, p);\n",
    "    }\n",
    "    \n",
    "    generated quantities {\n",
    "        vector[qty_chimpanzees] alpha;\n",
    "        vector[qty_blocks] gamma;\n",
    "        \n",
    "        alpha = bar_alpha + z*sigma_alpha;\n",
    "        gamma = x*sigma_gamma;\n",
    "    }\n",
    "\n",
    "\"\"\"\n",
    "\n",
    "dat_list = df[['pulled_left', 'actor', 'block', 'treatment']].to_dict('list')\n",
    "dat_list['N'] = len(df)\n",
    "dat_list['qty_chimpanzees'] = len(df['actor'].unique())\n",
    "dat_list['qty_blocks'] = len(df['block'].unique())\n",
    "dat_list['qty_treatments'] = len(df['treatment'].unique())\n",
    "\n",
    "posteriori = stan.build(model, data=dat_list)\n",
    "samples = posteriori.sample(num_chains=4, num_samples=1000)"
   ]
  },
  {
   "cell_type": "code",
   "execution_count": 57,
   "id": "3f1be292",
   "metadata": {},
   "outputs": [],
   "source": [
    "model_13_4_nc = az.from_pystan(\n",
    "    posterior=samples,\n",
    "    posterior_model=posteriori,\n",
    "    observed_data=dat_list.keys()\n",
    ")"
   ]
  },
  {
   "cell_type": "code",
   "execution_count": 58,
   "id": "adb86a60",
   "metadata": {},
   "outputs": [
    {
     "data": {
      "image/png": "[encoded data removed]",
      "text/plain": [
       "<Figure size 1224x936 with 1 Axes>"
      ]
     },
     "metadata": {
      "filenames": {
       "image/png": "/home/rodolpho/Projects/bayesian/rethinking/statistical_rethinking_pt_BR/_build/jupyter_execute/parte_13_101_0.png"
      },
      "needs_background": "light"
     },
     "output_type": "display_data"
    }
   ],
   "source": [
    "az.plot_forest(model_13_4_nc, hdi_prob=0.89, combined=True, figsize=(17, 13))\n",
    "\n",
    "plt.axvline(x=0, ls='--', color='red')\n",
    "plt.grid(axis='y', color='white', ls='--', alpha=0.5)\n",
    "plt.show()"
   ]
  },
  {
   "cell_type": "markdown",
   "id": "755cc932",
   "metadata": {},
   "source": [
    "### R Code 13.30"
   ]
  },
  {
   "cell_type": "code",
   "execution_count": 59,
   "id": "cfebc789",
   "metadata": {},
   "outputs": [],
   "source": [
    "# Extract features from ess\n",
    "\n",
    "# non-centered\n",
    "ess_nc = np.array(az.ess(model_13_4_nc, var_names=['alpha']).alpha.values)\n",
    "ess_nc = np.append(ess_nc, az.ess(model_13_4_nc, var_names=['beta']).beta.values)\n",
    "ess_nc = np.append(ess_nc, az.ess(model_13_4_nc, var_names=['gamma']).gamma.values)\n",
    "ess_nc = np.append(ess_nc, az.ess(model_13_4_nc, var_names=['bar_alpha']).bar_alpha.values)\n",
    "ess_nc = np.append(ess_nc, az.ess(model_13_4_nc, var_names=['sigma_alpha']).sigma_alpha.values)\n",
    "ess_nc = np.append(ess_nc, az.ess(model_13_4_nc, var_names=['sigma_gamma']).sigma_gamma.values)\n",
    "\n",
    "# centered\n",
    "ess_c = np.array(az.ess(model_13_4, var_names=['alpha']).alpha.values)\n",
    "ess_c = np.append(ess_c, az.ess(model_13_4, var_names=['beta']).beta.values)\n",
    "ess_c = np.append(ess_c, az.ess(model_13_4, var_names=['gamma']).gamma.values)\n",
    "ess_c = np.append(ess_c, az.ess(model_13_4, var_names=['bar_alpha']).bar_alpha.values)\n",
    "ess_c = np.append(ess_c, az.ess(model_13_4, var_names=['sigma_alpha']).sigma_alpha.values)\n",
    "ess_c = np.append(ess_c, az.ess(model_13_4, var_names=['sigma_gamma']).sigma_gamma.values)"
   ]
  },
  {
   "cell_type": "code",
   "execution_count": 60,
   "id": "e4762b69",
   "metadata": {},
   "outputs": [
    {
     "data": {
      "image/png": "[encoded data removed]",
      "text/plain": [
       "<Figure size 1224x576 with 1 Axes>"
      ]
     },
     "metadata": {
      "filenames": {
       "image/png": "/home/rodolpho/Projects/bayesian/rethinking/statistical_rethinking_pt_BR/_build/jupyter_execute/parte_13_104_0.png"
      },
      "needs_background": "light"
     },
     "output_type": "display_data"
    }
   ],
   "source": [
    "plt.figure(figsize=(17, 8))\n",
    "\n",
    "plt.scatter(ess_c, ess_nc)\n",
    "\n",
    "plt.plot([0, 2500], [0, 2500], ls='--', c='k', alpha=0.4)\n",
    "plt.text(650, 500, 'Identity line ($x=y$)')\n",
    "\n",
    "plt.title('Effective number samples')\n",
    "plt.xlabel('n_eff(centered)')\n",
    "plt.ylabel('n_eff(non-centered)')\n",
    "\n",
    "plt.show()"
   ]
  }
 ],
 "metadata": {
  "celltoolbar": "Tags",
  "kernelspec": {
   "display_name": "Python 3 (ipykernel)",
   "language": "python",
   "name": "python3"
  },
  "language_info": {
   "codemirror_mode": {
    "name": "ipython",
    "version": 3
   },
   "file_extension": ".py",
   "mimetype": "text/x-python",
   "name": "python",
   "nbconvert_exporter": "python",
   "pygments_lexer": "ipython3",
   "version": "3.8.0"
  }
 },
 "nbformat": 4,
 "nbformat_minor": 5
}