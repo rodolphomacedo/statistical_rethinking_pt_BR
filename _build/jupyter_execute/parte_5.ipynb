{
 "cells": [
  {
   "cell_type": "markdown",
   "id": "9dead36b",
   "metadata": {},
   "source": [
    "# 5 - Muitas Variáveis e os Waffles Espúrios"
   ]
  },
  {
   "cell_type": "markdown",
   "id": "0f33deab",
   "metadata": {},
   "source": [
    "Nosso objetivo nessa parte é começar o processo da construção de modelos de regressões múltiplas e, assim, também começaremos a criar as bases para o `framework de inferências causais`.\n",
    "\n",
    "Para iniciarmos a discussão iremos introduzir um exemplo empírico, ou seja, um exemplo baseado na experiência e observações, sejam elas baseadas em algum método (*metódicas*) ou não."
   ]
  },
  {
   "cell_type": "markdown",
   "id": "bdc2ade6",
   "metadata": {},
   "source": [
    "<img src=\"./images/waffle_house.jpeg\" alt=\"Waffle House\" width=1000 />\n",
    "\n",
    "[Fonte](https://br.linkedin.com/company/waffle-house)"
   ]
  },
  {
   "cell_type": "markdown",
   "id": "c8461aa5",
   "metadata": {},
   "source": [
    "\n",
    "[Aula - Statistical Rethinking Winter 2019 Lecture 05](https://www.youtube.com/watch?v=e0tO64mtYMU)"
   ]
  },
  {
   "cell_type": "markdown",
   "id": "94811484",
   "metadata": {},
   "source": [
    "A *waffle house* é uma cadeia de restaurantes com mais de $2000$ locais em $25$ estados nos EUA (mapa amarelo abaixo). A maioria das suas localizações está no Sul do país e é um item da cultural e regional norte americana. (*[wikipedia](https://en.wikipedia.org/wiki/Waffle_House)*). Uma das particularidades dessa rede de restaurantes é que eles trabalham 24 horas. Nunca fecham! Essa é a proposta de negócio deles.\n",
    "\n",
    "Um outro fato importante e desagradável que se surge no sul dos EUA são os *Furacões*. Esses são causados pelas depressões tropicais climáticas do pais. Os restaurantes da rede Waffles são um dos únicos estabelecimentos que continuam abertos nesses períodos turbulentos. *Exceto quando esses furacões atingem uma de suas lojas.*\n",
    "\n",
    "A rede é tão confiável que governadores dos EUA criaram o `waffle house index`, internamente na FEMA (*agência federal de gestão de emergências*). Usada como uma métrica informal com o nome da rede de restaurantes, pretendem  determinar o efeito das tempestades, como uma escala auxíliar para o planejamento de recuperação de um desastre. (*[waffle house index](https://en.wikipedia.org/wiki/Waffle_House_Index)*)"
   ]
  },
  {
   "cell_type": "markdown",
   "id": "4dd3415d",
   "metadata": {},
   "source": [
    "<img src=\"./images/WH_per_people.png\" alt=\"waffle house map\" width=900 />\n",
    "\n",
    "Imagem - https://www.scottareynhout.com/blog/2017/10/7/waffle-house-map"
   ]
  },
  {
   "cell_type": "markdown",
   "id": "204b6b8d",
   "metadata": {},
   "source": [
    "Além dos desastres naturais, existem também muitas outras coisas acontecendo em grande escala no sul dos EUA, tal como **divórcios**!\n",
    "\n",
    "No gráfico abaixo temos a indicação da quantidade de divórcios nos EUA. Observe o sul do país e compare com o mapa acima."
   ]
  },
  {
   "cell_type": "markdown",
   "id": "87eff182",
   "metadata": {},
   "source": [
    "<img src=\"./images/WH_per_divorce.png\" alt=\"Waffle House contry-level-marriage-divorce-data-2010\" width=900 />\n",
    "\n",
    "Imagem - https://www.bgsu.edu/ncfmr/resources/data/original-data/county-level-marriage-divorce-data-2010.html"
   ]
  },
  {
   "cell_type": "markdown",
   "id": "3b2f4436",
   "metadata": {},
   "source": [
    "Percebeu? \n",
    "\n",
    "Em ambos os mapas existem uma grande concentração, no extremo do sul do mapa, de restaurantes da rede Waffle House e, subindo mais ao norte do país, temos quantidades cada vez menores. O mesmo ocorre no mapa das *taxas de divórcios*, quando olhamos para os mesmos locais no mapa.\n",
    "\n",
    "Podemos então fazer uma estimativa: `esses dados estão correlacionados entre si`. E podemos nos ser levados a pensar que quanto maior a concentração de restaurantes na região maior seria seria a taxa de divórcios.\n",
    "\n",
    "E por que isso acontece? \n",
    "\n",
    "Pelo seguinte motivo: `Por nada`! \n",
    "\n",
    "Isso mesmo, nada!!!\n",
    "\n",
    "Não existe nada que tenha uma relação direta na qual a quantidade de restaurantes da rede em alguma determinada região influencie casais a brigarem e tomarem a decisão de se separar! \n",
    "\n",
    "É estranho. É cômico. É intrigante. Isso é uma `Correlação Espúria`!"
   ]
  },
  {
   "cell_type": "markdown",
   "id": "d7265e13",
   "metadata": {},
   "source": [
    "# Correlações Espúrias\n",
    "\n",
    "Essas são as `correlações espúrias`, ou seja, `correlações sem certeza`; que não é verdadeira nem real; é hipotética!\n",
    "\n",
    "Muita coisa está relacionada com as outras no mundo real. `Isso é a Natureza`!\n",
    "\n",
    "Por exemplo, se quisermos, por qualquer motivo que seja, arrumar um \"argumento\" para enfraquecer a imagem da rede Waffle House, \"podemos\" usar essas correlações espúrias com um dos argumentos. Assim, nós iriamos expor na mídia a seguinte manchete: \n",
    "\n",
    "```{admonition} Breaking News:\n",
    "Pesquisadores [da universidade xyz] indicam que: o aumento do número de restaurantes da rede Waffle House \n",
    "na região implica num aumento assustador no número de divórcios nessa mesma região!\n",
    "```\n",
    "\n",
    "\n",
    "Isso soa estranho, eu sei! Esse é apenas um exemplo extremo.\n",
    "\n",
    "Mas, lá no fundo, esse tipo de pensamento não soa tão estranho no dia-a-dia..."
   ]
  },
  {
   "cell_type": "markdown",
   "id": "fb253cb8",
   "metadata": {},
   "source": [
    "Existem diversas correlações espúrias no mundo. Muita coisa tem correlação com muitas outras coisas.\n",
    "\n",
    "\n",
    "```{admonition} Entretanto:\n",
    "Essas correlações não implicam causalidade.\n",
    "```"
   ]
  },
  {
   "cell_type": "markdown",
   "id": "5865d9e4",
   "metadata": {},
   "source": [
    "Mas para entendermos melhor, vamos ver mais alguns exemplos sobre essas correlações espúrias:\n",
    "\n",
    "\n",
    "- O consumo de queijo tem uma correlação de $94.7\\%$ com os acidentes fatais com o emaranhado do lençol de cama. \n",
    "\n",
    "\n",
    "- O consumo per capita de frango apresenta uma correlação de $89\\%$ com a importação de petróleo.\n",
    "\n",
    "\n",
    "- Os acidentes por afogamentos em piscina tem a correlação de $66\\%$ com o número de filmes lançados pelo Nicolas Cage, por ano. Veja graficamente essa correlação abaixo:\n",
    "\n",
    "\n",
    "<img src=\"./images/chart.jpeg\" alt=\"Tyler Vigen spurious correlations\" width=1000>\n",
    "\n",
    "\n",
    "\n",
    "\n",
    "Percebeu?\n",
    "\n",
    "Se o consumo de frango diminuísse, a importação provavelmente não sofreria nenhum impacto por essa causa. E, caso o consumo de queijo diminuir, também não haverá uma diminuição nos acidentes fatais das pessoas que estão dormindo em suas camas. E, como é esperado, se o Nicolas Cage se aposentar dos cinemas, os acidentes por afogamento continuarão constantes. \n",
    "\n",
    "```{tip}\n",
    "Correlação não implica causalidade!\n",
    "```\n",
    "\n",
    "\n",
    "\n",
    "Por fim, ter mais lojas da rede Waffle House não `causa` mais divórcios na região.\n",
    "\n",
    "\n",
    "\n",
    "----\n",
    "Mais correlações espúrias, tais como essas acima, podem ser encontradas no site do [Tyler Vigen](https://www.tylervigen.com/spurious-correlations).\n",
    "\n",
    "\n",
    "-----\n",
    "\n",
    "Entendido essa parte, vamos ao objetivo desse capítulo.\n"
   ]
  },
  {
   "cell_type": "markdown",
   "id": "ffb6154f",
   "metadata": {},
   "source": [
    "# Regressão Múltiplas\n",
    "\n",
    "Vamos ver como construir um modelo de regressão linear novamente. Mas dessa vez iremos ver também como se faz com  `múltiplas variáveis` e quais são suas implicações. \n",
    "\n",
    "## Prós e contras das múltiplas variáveis:\n",
    "\n",
    "- A parte boa desse tipo de modelo é que as regressões múltiplas podem não só revelar correlações espúrias como também podem revelar associações escondidas que nós não faríamos normalmente, ou seja, não teríamos visto essas associações usando o modelo com uma simples variável preditora.\n",
    "\n",
    "\n",
    "- Mas, por outro lado, podemos também adicionar variáveis explicativas aos modelos que contenham correlações espúrias à regressão múltipla e, podem também, esconder as algumas das reais associações que existem.\n",
    "\n",
    "\n",
    "Então, como essas coisas geralmente não são bem explicadas, vamos detalhar todo o processo de construção de uma regressão múltipla, a seguir.\n",
    "\n",
    "Quando construímos um modelo usando uma regressão múltipla, nós devemos ter uma estrutura mais profusa para pensar sobre as nossas decisões. Apenas *jogar* todas as variáveis explicativas dentro da regressão múltipla, como usualmente é feito, é o segredo para o fracasso da análise e nós não queremos fazer isso!\n",
    "\n",
    "Para isso precisamos de uma estrutura mais ampla e rica para conseguirmos pensar e tomar melhores decisões. Essa estrutura é o `framework de inferência casual`.\n",
    "\n",
    "Nessa parte iremos aprender do básico sobre inferência casual:\n",
    "\n",
    "- Grafos acíclicos direcionados (DAGs - *Directed acyclic graphs*)\n",
    "\n",
    "\n",
    "- Fork, pipes, colliders...\n",
    "\n",
    "\n",
    "- Critério de Backdoor."
   ]
  },
  {
   "cell_type": "markdown",
   "id": "4d2ada43",
   "metadata": {},
   "source": [
    "Já sabemos que o Waffle House não causa os divórcios. Mas o que causa os divórcios?\n",
    "\n",
    "Já vimos no mapa acima que divórcios do sul do país tem uma taxa bem mais alta do que no restante mais ao norte. Existem muitos esforços para tentar identificar as causas e as taxas de divórcios. Sabemos que no sul tem uma predominância religiosa quando comparada ao restante do país. Isso deixa os cientistas com certas desconfianças."
   ]
  },
  {
   "cell_type": "markdown",
   "id": "6f013fe6",
   "metadata": {},
   "source": [
    "Existem assim muitas coisas que estão correlacionadas com a taxa de divórcios. Uma delas é a `taxa de casamentos`. Também podemos usar essas informações para cada um dos outros $50$ estados do país. Todos eles têm uma `correlação positiva` da taxa de casamentos com a taxa de divórcios.\n",
    "\n",
    "Um ponto importante nessa correlação é que *só pode acontecer um divórcio se houver o casamento*! \n",
    "\n",
    "Mas a correlação entre essas taxas podem ser também `correlações espúrias`. Assim como a correlação entre homicídos e divórcios são uma correlação espúria.\n",
    "\n",
    "Pois uma taxa alta de casamentos pode indicar que a sociedade vê o casamento de modo favorável e isso pode significar taxas de divórcios mais baixas. Não necessariamente faz sentido, mas pode ser que as taxas de casamentos e de divórcios sejam correlações espúrias também. \n",
    "\n",
    "```{note}\n",
    "- Correlação não implica Causalidade\n",
    "\n",
    "\n",
    "- Causalidade não implica Correlação\n",
    "\n",
    "\n",
    "- Causalidade implica em correlação condicional\n",
    "```\n",
    "\n",
    "\n",
    "Assim, precisamos mais do que apenas simples modelos! É necessário um estrutura mais robusta.\n",
    "\n",
    "\n",
    "Mas, o que causa os divórcios? \n",
    "\n",
    "Vamos descobrir isso..."
   ]
  },
  {
   "cell_type": "markdown",
   "id": "a9b4d584",
   "metadata": {},
   "source": [
    "Existe outra variável que também é correlacionada com a variável `taxa de divórcio`, é a variável `idade mediana das pessoas que se casam, em cada estado`. Mas diferente da `taxa de casamento`, essa variável apresenta uma *correlação negativa*."
   ]
  },
  {
   "cell_type": "code",
   "execution_count": 1,
   "id": "4bfb6c84",
   "metadata": {},
   "outputs": [],
   "source": [
    "import numpy as np\n",
    "import pandas as pd\n",
    "import stan\n",
    "import nest_asyncio\n",
    "import matplotlib.pyplot as plt"
   ]
  },
  {
   "cell_type": "code",
   "execution_count": 2,
   "id": "e010d9d0",
   "metadata": {},
   "outputs": [],
   "source": [
    "# Definindo o plano de fundo cinza claro para todos os gráficos feitos no matplotlib\n",
    "plt.rcParams['axes.facecolor'] = 'lightgray'"
   ]
  },
  {
   "cell_type": "code",
   "execution_count": 3,
   "id": "fabffa1e",
   "metadata": {},
   "outputs": [],
   "source": [
    "# Desbloqueio do asyncIO do jupyter\n",
    "nest_asyncio.apply()"
   ]
  },
  {
   "cell_type": "code",
   "execution_count": 4,
   "id": "2d3e3314",
   "metadata": {},
   "outputs": [
    {
     "data": {
      "text/html": [
       "<div>\n",
       "<style scoped>\n",
       "    .dataframe tbody tr th:only-of-type {\n",
       "        vertical-align: middle;\n",
       "    }\n",
       "\n",
       "    .dataframe tbody tr th {\n",
       "        vertical-align: top;\n",
       "    }\n",
       "\n",
       "    .dataframe thead th {\n",
       "        text-align: right;\n",
       "    }\n",
       "</style>\n",
       "<table border=\"1\" class=\"dataframe\">\n",
       "  <thead>\n",
       "    <tr style=\"text-align: right;\">\n",
       "      <th></th>\n",
       "      <th>Location</th>\n",
       "      <th>Loc</th>\n",
       "      <th>Population</th>\n",
       "      <th>MedianAgeMarriage</th>\n",
       "      <th>Marriage</th>\n",
       "      <th>Marriage SE</th>\n",
       "      <th>Divorce</th>\n",
       "      <th>Divorce SE</th>\n",
       "      <th>WaffleHouses</th>\n",
       "      <th>South</th>\n",
       "      <th>Slaves1860</th>\n",
       "      <th>Population1860</th>\n",
       "      <th>PropSlaves1860</th>\n",
       "    </tr>\n",
       "  </thead>\n",
       "  <tbody>\n",
       "    <tr>\n",
       "      <th>0</th>\n",
       "      <td>Alabama</td>\n",
       "      <td>AL</td>\n",
       "      <td>4.78</td>\n",
       "      <td>25.3</td>\n",
       "      <td>20.2</td>\n",
       "      <td>1.27</td>\n",
       "      <td>12.7</td>\n",
       "      <td>0.79</td>\n",
       "      <td>128</td>\n",
       "      <td>1</td>\n",
       "      <td>435080</td>\n",
       "      <td>964201</td>\n",
       "      <td>0.45</td>\n",
       "    </tr>\n",
       "    <tr>\n",
       "      <th>1</th>\n",
       "      <td>Alaska</td>\n",
       "      <td>AK</td>\n",
       "      <td>0.71</td>\n",
       "      <td>25.2</td>\n",
       "      <td>26.0</td>\n",
       "      <td>2.93</td>\n",
       "      <td>12.5</td>\n",
       "      <td>2.05</td>\n",
       "      <td>0</td>\n",
       "      <td>0</td>\n",
       "      <td>0</td>\n",
       "      <td>0</td>\n",
       "      <td>0.00</td>\n",
       "    </tr>\n",
       "    <tr>\n",
       "      <th>2</th>\n",
       "      <td>Arizona</td>\n",
       "      <td>AZ</td>\n",
       "      <td>6.33</td>\n",
       "      <td>25.8</td>\n",
       "      <td>20.3</td>\n",
       "      <td>0.98</td>\n",
       "      <td>10.8</td>\n",
       "      <td>0.74</td>\n",
       "      <td>18</td>\n",
       "      <td>0</td>\n",
       "      <td>0</td>\n",
       "      <td>0</td>\n",
       "      <td>0.00</td>\n",
       "    </tr>\n",
       "    <tr>\n",
       "      <th>3</th>\n",
       "      <td>Arkansas</td>\n",
       "      <td>AR</td>\n",
       "      <td>2.92</td>\n",
       "      <td>24.3</td>\n",
       "      <td>26.4</td>\n",
       "      <td>1.70</td>\n",
       "      <td>13.5</td>\n",
       "      <td>1.22</td>\n",
       "      <td>41</td>\n",
       "      <td>1</td>\n",
       "      <td>111115</td>\n",
       "      <td>435450</td>\n",
       "      <td>0.26</td>\n",
       "    </tr>\n",
       "    <tr>\n",
       "      <th>4</th>\n",
       "      <td>California</td>\n",
       "      <td>CA</td>\n",
       "      <td>37.25</td>\n",
       "      <td>26.8</td>\n",
       "      <td>19.1</td>\n",
       "      <td>0.39</td>\n",
       "      <td>8.0</td>\n",
       "      <td>0.24</td>\n",
       "      <td>0</td>\n",
       "      <td>0</td>\n",
       "      <td>0</td>\n",
       "      <td>379994</td>\n",
       "      <td>0.00</td>\n",
       "    </tr>\n",
       "  </tbody>\n",
       "</table>\n",
       "</div>"
      ],
      "text/plain": [
       "     Location Loc  Population  MedianAgeMarriage  Marriage  Marriage SE  \\\n",
       "0     Alabama  AL        4.78               25.3      20.2         1.27   \n",
       "1      Alaska  AK        0.71               25.2      26.0         2.93   \n",
       "2     Arizona  AZ        6.33               25.8      20.3         0.98   \n",
       "3    Arkansas  AR        2.92               24.3      26.4         1.70   \n",
       "4  California  CA       37.25               26.8      19.1         0.39   \n",
       "\n",
       "   Divorce  Divorce SE  WaffleHouses  South  Slaves1860  Population1860  \\\n",
       "0     12.7        0.79           128      1      435080          964201   \n",
       "1     12.5        2.05             0      0           0               0   \n",
       "2     10.8        0.74            18      0           0               0   \n",
       "3     13.5        1.22            41      1      111115          435450   \n",
       "4      8.0        0.24             0      0           0          379994   \n",
       "\n",
       "   PropSlaves1860  \n",
       "0            0.45  \n",
       "1            0.00  \n",
       "2            0.00  \n",
       "3            0.26  \n",
       "4            0.00  "
      ]
     },
     "execution_count": 4,
     "metadata": {},
     "output_type": "execute_result"
    }
   ],
   "source": [
    "# Lendo os dados\n",
    "\n",
    "df = pd.read_csv('./data/WaffleDivorce.csv', sep=';')\n",
    "df.head()"
   ]
  },
  {
   "cell_type": "code",
   "execution_count": 5,
   "id": "e67e5d8e",
   "metadata": {},
   "outputs": [
    {
     "data": {
      "image/png": "[encoded data removed]",
      "text/plain": [
       "<Figure size 1224x648 with 2 Axes>"
      ]
     },
     "metadata": {
      "filenames": {
       "image/png": "/home/rodolpho/Projects/bayesian/rethinking/statistical_rethinking_pt_BR/_build/jupyter_execute/parte_5_20_0.png"
      },
      "needs_background": "light"
     },
     "output_type": "display_data"
    }
   ],
   "source": [
    "# ============================================\n",
    "#  Plotando os dados das taxas de divórcios\n",
    "# ============================================\n",
    "fig, [ax1, ax2] = plt.subplots(1, 2, figsize=(17, 9))\n",
    "\n",
    "plt.suptitle('Associações Espúrias?')\n",
    "\n",
    "ax1.scatter(df.Marriage.values ,df.Divorce.values)\n",
    "ax1.grid(ls='--', color='white', linewidth=0.4)\n",
    "ax1.set_xlabel('Taxa de Casamento')\n",
    "ax1.set_ylabel('Taxa de Divórcio')\n",
    "\n",
    "ax2.scatter(df.MedianAgeMarriage.values ,df.Divorce.values)\n",
    "ax2.grid(ls='--', color='white', linewidth=0.4)\n",
    "ax2.set_xlabel('Mediana da Idade dos Noivos')\n",
    "ax2.set_ylabel('Taxa de Divórcio')\n",
    "\n",
    "plt.show()"
   ]
  },
  {
   "cell_type": "markdown",
   "id": "c3a2accf",
   "metadata": {},
   "source": [
    "Vamos construir modelos lineares simples para os dois gráficos acima."
   ]
  },
  {
   "cell_type": "code",
   "execution_count": 6,
   "id": "2c44817e",
   "metadata": {
    "collapsed": true,
    "tags": [
     "remove_output"
    ]
   },
   "outputs": [
    {
     "name": "stderr",
     "output_type": "stream",
     "text": [
      "\u001b[32mBuilding:\u001b[0m found in cache, done.\n"
     ]
    },
    {
     "name": "stderr",
     "output_type": "stream",
     "text": [
      "\u001b[36mMessages from \u001b[0m\u001b[36;1mstanc\u001b[0m\u001b[36m:\u001b[0m\n"
     ]
    },
    {
     "name": "stderr",
     "output_type": "stream",
     "text": [
      "Warning: Your Stan program has a parameter sigma with a lower and upper bound in its declaration. These hard constraints are not recommended, for two reasons: (a) Except when there are logical or physical constraints, it is very unusual for you to be sure that a parameter will fall inside a specified range, and (b) The infinite gradient induced by a hard constraint can cause difficulties for Stan's sampling algorithm. As a consequence, we recommend soft constraints rather than hard constraints; for example, instead of constraining an elasticity parameter to fall between 0, and 1, leave it unconstrained and give it a normal(0.5,0.5) prior distribution.\n",
      "Warning: The parameter sigma has no priors.\n",
      "Warning: The parameter beta has no priors.\n",
      "Warning: The parameter alpha has no priors.\n"
     ]
    },
    {
     "name": "stderr",
     "output_type": "stream",
     "text": [
      "\u001b[36mSampling:\u001b[0m   0%\n"
     ]
    },
    {
     "name": "stderr",
     "output_type": "stream",
     "text": [
      "\u001b[1A"
     ]
    },
    {
     "name": "stderr",
     "output_type": "stream",
     "text": [
      "\u001b[0J"
     ]
    },
    {
     "name": "stderr",
     "output_type": "stream",
     "text": [
      "\u001b[36mSampling:\u001b[0m  25% (2000/8000)\n"
     ]
    },
    {
     "name": "stderr",
     "output_type": "stream",
     "text": [
      "\u001b[1A"
     ]
    },
    {
     "name": "stderr",
     "output_type": "stream",
     "text": [
      "\u001b[0J"
     ]
    },
    {
     "name": "stderr",
     "output_type": "stream",
     "text": [
      "\u001b[36mSampling:\u001b[0m  50% (4000/8000)\n"
     ]
    },
    {
     "name": "stderr",
     "output_type": "stream",
     "text": [
      "\u001b[1A"
     ]
    },
    {
     "name": "stderr",
     "output_type": "stream",
     "text": [
      "\u001b[0J"
     ]
    },
    {
     "name": "stderr",
     "output_type": "stream",
     "text": [
      "\u001b[36mSampling:\u001b[0m  75% (6000/8000)\n"
     ]
    },
    {
     "name": "stderr",
     "output_type": "stream",
     "text": [
      "\u001b[1A"
     ]
    },
    {
     "name": "stderr",
     "output_type": "stream",
     "text": [
      "\u001b[0J"
     ]
    },
    {
     "name": "stderr",
     "output_type": "stream",
     "text": [
      "\u001b[36mSampling:\u001b[0m 100% (8000/8000)\n"
     ]
    },
    {
     "name": "stderr",
     "output_type": "stream",
     "text": [
      "\u001b[1A"
     ]
    },
    {
     "name": "stderr",
     "output_type": "stream",
     "text": [
      "\u001b[0J"
     ]
    },
    {
     "name": "stderr",
     "output_type": "stream",
     "text": [
      "\u001b[32mSampling:\u001b[0m 100% (8000/8000), done.\n"
     ]
    },
    {
     "name": "stderr",
     "output_type": "stream",
     "text": [
      "\u001b[36mMessages received during sampling:\u001b[0m\n"
     ]
    },
    {
     "name": "stderr",
     "output_type": "stream",
     "text": [
      "  Gradient evaluation took 4.3e-05 seconds\n"
     ]
    },
    {
     "name": "stderr",
     "output_type": "stream",
     "text": [
      "  1000 transitions using 10 leapfrog steps per transition would take 0.43 seconds.\n"
     ]
    },
    {
     "name": "stderr",
     "output_type": "stream",
     "text": [
      "  Adjust your expectations accordingly!\n"
     ]
    },
    {
     "name": "stderr",
     "output_type": "stream",
     "text": [
      "  Gradient evaluation took 3.6e-05 seconds\n"
     ]
    },
    {
     "name": "stderr",
     "output_type": "stream",
     "text": [
      "  1000 transitions using 10 leapfrog steps per transition would take 0.36 seconds.\n"
     ]
    },
    {
     "name": "stderr",
     "output_type": "stream",
     "text": [
      "  Adjust your expectations accordingly!\n"
     ]
    },
    {
     "name": "stderr",
     "output_type": "stream",
     "text": [
      "  Informational Message: The current Metropolis proposal is about to be rejected because of the following issue:\n"
     ]
    },
    {
     "name": "stderr",
     "output_type": "stream",
     "text": [
      "  Exception: normal_lpdf: Scale parameter is 0, but must be positive! (in '/tmp/httpstan_ofo9jsra/model_ctssozv3.stan', line 15, column 8 to column 67)\n"
     ]
    },
    {
     "name": "stderr",
     "output_type": "stream",
     "text": [
      "  If this warning occurs sporadically, such as for highly constrained variable types like covariance matrices, then the sampler is fine,\n"
     ]
    },
    {
     "name": "stderr",
     "output_type": "stream",
     "text": [
      "  but if this warning occurs often then your model may be either severely ill-conditioned or misspecified.\n"
     ]
    },
    {
     "name": "stderr",
     "output_type": "stream",
     "text": [
      "  Gradient evaluation took 7.8e-05 seconds\n"
     ]
    },
    {
     "name": "stderr",
     "output_type": "stream",
     "text": [
      "  1000 transitions using 10 leapfrog steps per transition would take 0.78 seconds.\n"
     ]
    },
    {
     "name": "stderr",
     "output_type": "stream",
     "text": [
      "  Adjust your expectations accordingly!\n"
     ]
    },
    {
     "name": "stderr",
     "output_type": "stream",
     "text": [
      "  Gradient evaluation took 9.2e-05 seconds\n"
     ]
    },
    {
     "name": "stderr",
     "output_type": "stream",
     "text": [
      "  1000 transitions using 10 leapfrog steps per transition would take 0.92 seconds.\n"
     ]
    },
    {
     "name": "stderr",
     "output_type": "stream",
     "text": [
      "  Adjust your expectations accordingly!\n"
     ]
    }
   ],
   "source": [
    "# =======================================================\n",
    "# Construindo um modelo linear simples:\n",
    "#\n",
    "#  taxa de divórcio ~ alpha + beta * taxa_casamento\n",
    "# ========================================================\n",
    "divorce_model1 = \"\"\"\n",
    "    data {\n",
    "        int N;\n",
    "        vector[N] divorce_rate;\n",
    "        vector[N] marriage_rate;\n",
    "    }\n",
    "    \n",
    "    parameters {\n",
    "        real alpha;\n",
    "        real beta;\n",
    "        real<lower=0, upper=50> sigma;\n",
    "    }\n",
    "    \n",
    "    model {\n",
    "        divorce_rate ~ normal(alpha + beta * marriage_rate, sigma);\n",
    "    }\n",
    "\"\"\"\n",
    "\n",
    "my_data = {\n",
    "    'N': len(df.Divorce),\n",
    "    'marriage_rate': df.Marriage.values,\n",
    "    'divorce_rate': df.Divorce.values,\n",
    "}\n",
    "\n",
    "posteriori1 = stan.build(divorce_model1, data=my_data)\n",
    "fit1 = posteriori1.sample(num_chains=4, num_samples=1000)\n",
    "\n",
    "alpha_1 = fit1['alpha'].flatten()\n",
    "beta_1 = fit1['beta'].flatten()\n",
    "sigma_1 = fit1['sigma'].flatten()"
   ]
  },
  {
   "cell_type": "code",
   "execution_count": 7,
   "id": "bbb2facc",
   "metadata": {
    "collapsed": true,
    "tags": [
     "remove_output"
    ]
   },
   "outputs": [
    {
     "name": "stderr",
     "output_type": "stream",
     "text": [
      "\u001b[32mBuilding:\u001b[0m found in cache, done.\n"
     ]
    },
    {
     "name": "stderr",
     "output_type": "stream",
     "text": [
      "\u001b[36mMessages from \u001b[0m\u001b[36;1mstanc\u001b[0m\u001b[36m:\u001b[0m\n"
     ]
    },
    {
     "name": "stderr",
     "output_type": "stream",
     "text": [
      "Warning: Your Stan program has a parameter sigma with a lower and upper bound in its declaration. These hard constraints are not recommended, for two reasons: (a) Except when there are logical or physical constraints, it is very unusual for you to be sure that a parameter will fall inside a specified range, and (b) The infinite gradient induced by a hard constraint can cause difficulties for Stan's sampling algorithm. As a consequence, we recommend soft constraints rather than hard constraints; for example, instead of constraining an elasticity parameter to fall between 0, and 1, leave it unconstrained and give it a normal(0.5,0.5) prior distribution.\n",
      "Warning: The parameter sigma has no priors.\n",
      "Warning: The parameter beta has no priors.\n",
      "Warning: The parameter alpha has no priors.\n"
     ]
    },
    {
     "name": "stderr",
     "output_type": "stream",
     "text": [
      "\u001b[36mSampling:\u001b[0m   0%\n"
     ]
    },
    {
     "name": "stderr",
     "output_type": "stream",
     "text": [
      "\u001b[1A"
     ]
    },
    {
     "name": "stderr",
     "output_type": "stream",
     "text": [
      "\u001b[0J"
     ]
    },
    {
     "name": "stderr",
     "output_type": "stream",
     "text": [
      "\u001b[36mSampling:\u001b[0m  10% (800/8000)\n"
     ]
    },
    {
     "name": "stderr",
     "output_type": "stream",
     "text": [
      "\u001b[1A"
     ]
    },
    {
     "name": "stderr",
     "output_type": "stream",
     "text": [
      "\u001b[0J"
     ]
    },
    {
     "name": "stderr",
     "output_type": "stream",
     "text": [
      "\u001b[36mSampling:\u001b[0m  35% (2800/8000)\n"
     ]
    },
    {
     "name": "stderr",
     "output_type": "stream",
     "text": [
      "\u001b[1A"
     ]
    },
    {
     "name": "stderr",
     "output_type": "stream",
     "text": [
      "\u001b[0J"
     ]
    },
    {
     "name": "stderr",
     "output_type": "stream",
     "text": [
      "\u001b[36mSampling:\u001b[0m  60% (4800/8000)\n"
     ]
    },
    {
     "name": "stderr",
     "output_type": "stream",
     "text": [
      "\u001b[1A"
     ]
    },
    {
     "name": "stderr",
     "output_type": "stream",
     "text": [
      "\u001b[0J"
     ]
    },
    {
     "name": "stderr",
     "output_type": "stream",
     "text": [
      "\u001b[36mSampling:\u001b[0m  85% (6800/8000)\n"
     ]
    },
    {
     "name": "stderr",
     "output_type": "stream",
     "text": [
      "\u001b[1A"
     ]
    },
    {
     "name": "stderr",
     "output_type": "stream",
     "text": [
      "\u001b[0J"
     ]
    },
    {
     "name": "stderr",
     "output_type": "stream",
     "text": [
      "\u001b[36mSampling:\u001b[0m 100% (8000/8000)\n"
     ]
    },
    {
     "name": "stderr",
     "output_type": "stream",
     "text": [
      "\u001b[1A"
     ]
    },
    {
     "name": "stderr",
     "output_type": "stream",
     "text": [
      "\u001b[0J"
     ]
    },
    {
     "name": "stderr",
     "output_type": "stream",
     "text": [
      "\u001b[32mSampling:\u001b[0m 100% (8000/8000), done.\n"
     ]
    },
    {
     "name": "stderr",
     "output_type": "stream",
     "text": [
      "\u001b[36mMessages received during sampling:\u001b[0m\n"
     ]
    },
    {
     "name": "stderr",
     "output_type": "stream",
     "text": [
      "  Gradient evaluation took 5.9e-05 seconds\n"
     ]
    },
    {
     "name": "stderr",
     "output_type": "stream",
     "text": [
      "  1000 transitions using 10 leapfrog steps per transition would take 0.59 seconds.\n"
     ]
    },
    {
     "name": "stderr",
     "output_type": "stream",
     "text": [
      "  Adjust your expectations accordingly!\n"
     ]
    },
    {
     "name": "stderr",
     "output_type": "stream",
     "text": [
      "  Gradient evaluation took 3.2e-05 seconds\n"
     ]
    },
    {
     "name": "stderr",
     "output_type": "stream",
     "text": [
      "  1000 transitions using 10 leapfrog steps per transition would take 0.32 seconds.\n"
     ]
    },
    {
     "name": "stderr",
     "output_type": "stream",
     "text": [
      "  Adjust your expectations accordingly!\n"
     ]
    },
    {
     "name": "stderr",
     "output_type": "stream",
     "text": [
      "  Informational Message: The current Metropolis proposal is about to be rejected because of the following issue:\n"
     ]
    },
    {
     "name": "stderr",
     "output_type": "stream",
     "text": [
      "  Exception: normal_lpdf: Scale parameter is 0, but must be positive! (in '/tmp/httpstan_88rincga/model_dybmpobs.stan', line 15, column 8 to column 73)\n"
     ]
    },
    {
     "name": "stderr",
     "output_type": "stream",
     "text": [
      "  If this warning occurs sporadically, such as for highly constrained variable types like covariance matrices, then the sampler is fine,\n"
     ]
    },
    {
     "name": "stderr",
     "output_type": "stream",
     "text": [
      "  but if this warning occurs often then your model may be either severely ill-conditioned or misspecified.\n"
     ]
    },
    {
     "name": "stderr",
     "output_type": "stream",
     "text": [
      "  Gradient evaluation took 3.6e-05 seconds\n"
     ]
    },
    {
     "name": "stderr",
     "output_type": "stream",
     "text": [
      "  1000 transitions using 10 leapfrog steps per transition would take 0.36 seconds.\n"
     ]
    },
    {
     "name": "stderr",
     "output_type": "stream",
     "text": [
      "  Adjust your expectations accordingly!\n"
     ]
    },
    {
     "name": "stderr",
     "output_type": "stream",
     "text": [
      "  Informational Message: The current Metropolis proposal is about to be rejected because of the following issue:\n"
     ]
    },
    {
     "name": "stderr",
     "output_type": "stream",
     "text": [
      "  Exception: normal_lpdf: Scale parameter is 0, but must be positive! (in '/tmp/httpstan_88rincga/model_dybmpobs.stan', line 15, column 8 to column 73)\n"
     ]
    },
    {
     "name": "stderr",
     "output_type": "stream",
     "text": [
      "  If this warning occurs sporadically, such as for highly constrained variable types like covariance matrices, then the sampler is fine,\n"
     ]
    },
    {
     "name": "stderr",
     "output_type": "stream",
     "text": [
      "  but if this warning occurs often then your model may be either severely ill-conditioned or misspecified.\n"
     ]
    },
    {
     "name": "stderr",
     "output_type": "stream",
     "text": [
      "  Gradient evaluation took 3.4e-05 seconds\n"
     ]
    },
    {
     "name": "stderr",
     "output_type": "stream",
     "text": [
      "  1000 transitions using 10 leapfrog steps per transition would take 0.34 seconds.\n"
     ]
    },
    {
     "name": "stderr",
     "output_type": "stream",
     "text": [
      "  Adjust your expectations accordingly!\n"
     ]
    }
   ],
   "source": [
    "# ==============================================================\n",
    "# Construindo um modelo linear simples:\n",
    "#\n",
    "#  taxa divorcio ~ alpha + beta * mediana da idade dos noivos\n",
    "# ==============================================================\n",
    "\n",
    "stan_model2 = \"\"\"\n",
    "    data {\n",
    "        int N;\n",
    "        vector[N] divorce_rate;\n",
    "        vector[N] median_age_marriage;\n",
    "    }\n",
    "    \n",
    "    parameters {\n",
    "        real alpha;\n",
    "        real beta;\n",
    "        real<lower=0, upper=50> sigma;\n",
    "    }\n",
    "    \n",
    "    model {\n",
    "        divorce_rate ~ normal(alpha + beta * median_age_marriage, sigma);\n",
    "    }\n",
    "\"\"\"\n",
    "\n",
    "my_data = {\n",
    "    'N': len(df.Divorce),\n",
    "    'divorce_rate': df.Divorce.values,\n",
    "    'median_age_marriage': df.MedianAgeMarriage.values,\n",
    "}\n",
    "\n",
    "posteriori2 = stan.build(stan_model2, data=my_data)\n",
    "fit2 = posteriori2.sample(num_chains=4, num_samples=1000)\n",
    "\n",
    "alpha_2 = fit2['alpha'].flatten()\n",
    "beta_2 = fit2['beta'].flatten()\n",
    "sigma_2 = fit2['sigma'].flatten()"
   ]
  },
  {
   "cell_type": "code",
   "execution_count": 8,
   "id": "af94d779",
   "metadata": {},
   "outputs": [
    {
     "data": {
      "image/png": "[encoded data removed]",
      "text/plain": [
       "<Figure size 1224x648 with 2 Axes>"
      ]
     },
     "metadata": {
      "filenames": {
       "image/png": "/home/rodolpho/Projects/bayesian/rethinking/statistical_rethinking_pt_BR/_build/jupyter_execute/parte_5_24_0.png"
      },
      "needs_background": "light"
     },
     "output_type": "display_data"
    }
   ],
   "source": [
    "# ====================================================================\n",
    "#  Plotando os dados das taxas de divórcios e suas estimativas médias\n",
    "# ====================================================================\n",
    "fig, [ax1, ax2] = plt.subplots(1, 2, figsize=(17, 9))\n",
    "\n",
    "plt.suptitle('Associações Espúrias?')\n",
    "\n",
    "# Gráfico de Divórcio x Casamento\n",
    "ax1.scatter(df.Marriage.values ,df.Divorce.values)\n",
    "ax1.plot(df.Marriage.values, \n",
    "         alpha_1.mean() + beta_1.mean() * df.Marriage.values,\n",
    "         color='black')\n",
    "\n",
    "ax1.grid(ls='--', color='white', linewidth=0.4)\n",
    "ax1.set_xlabel('Taxa de Casamento')\n",
    "ax1.set_ylabel('Taxa de Divórcio')\n",
    "ax1.set_title('Correlação Positiva \\n Espúria?')\n",
    "\n",
    "# Gráfico de Divórcio x Mediana da Idade dos Casamentos\n",
    "ax2.scatter(df.MedianAgeMarriage.values ,df.Divorce.values)\n",
    "ax2.plot(df.MedianAgeMarriage.values, \n",
    "         alpha_2.mean() + beta_2.mean() * df.MedianAgeMarriage.values,\n",
    "         color='black')\n",
    "\n",
    "ax2.grid(ls='--', color='white', linewidth=0.4)\n",
    "ax2.set_xlabel('Mediana da Idade dos Noivos')\n",
    "ax2.set_ylabel('Taxa de Divórcio')\n",
    "ax2.set_title('Correlação Negativa \\n Espúria?')\n",
    "\n",
    "plt.show()"
   ]
  },
  {
   "cell_type": "markdown",
   "id": "637853b4",
   "metadata": {},
   "source": [
    "Observando os dois gráficos acima, quais dessas correlações são `causas plausíveis`? \n",
    "\n",
    "No gráfico da esquerda, sabemos que a `taxa de casamento` tem uma associação com a `taxa de divórcio`, pois para se divorciar é necessário antes ter casado. Mas essa interpretação dos fatos pode estar contaminada pelo nosso senso comum e, assim, uma associação espúria, nos seria válida. Um dos motivos pra isso acontecer é que em locais que possuem maiores incentivos religiosos e incentivos para casamentos, pode não haver uma causalidade direta com o divórcio.\n",
    "\n",
    "Já no gráfico à direita, que a `taxa de divórcio` está associada com `mediana das idades dos noivos`, apresentam uma associação negativa. O que pode nos levar a pensar que jovens, ao se casarem, tomam decisões muito emotivas e que isso também levaria a altas taxas de divórcios. Ou pode ser que essa seja uma associação espúria e nossas hipóteses não tenham sentido."
   ]
  },
  {
   "cell_type": "markdown",
   "id": "790c83b3",
   "metadata": {},
   "source": [
    "Assim, mesmo que nossas justificativas sejam bastante `verossímeis` a respeito do comportamento da Natureza do evento, não podemos afirmar que essas associações não sejam espúrias.\n",
    "\n",
    "Se a identificação de associações espúrias no exemplo de filmes do *Nicolas Cage* `pareciam óbvias` de serem identificadas, agora, essas não parecem ser tão simples de se perceber veracidade.\n",
    "\n",
    "Portanto, é necessário construirmos um ferramental que nos permita identificar com mais facilidade e com um maior grau de certeza se essas associações são reais ou são espúrias.\n",
    "\n",
    "O que queremos fazer agora é colocar essas duas variáveis no mesmo modelo e entender o que isso faz e por que nos revela, quase certamente, que determinada variável é uma impostora."
   ]
  },
  {
   "cell_type": "markdown",
   "id": "6416ddd2",
   "metadata": {},
   "source": [
    "## Múltiplas causas de divórcios"
   ]
  },
  {
   "cell_type": "markdown",
   "id": "361a41a4",
   "metadata": {},
   "source": [
    "O que nós queremos saber é qual o valor de uma `variável preditora`, uma vez que nós conhecemos os valores das outras variáveis preditoras corretamente?\n",
    "\n",
    "Todas variáveis preditoras são ,em alguma extensão, correlacionadas com as outras variáveis preditoras e também com a variável resposta, entretanto, elas têm `correlações parciais` que são reveladoras de informações adicionais dessa estrutura de correlação."
   ]
  },
  {
   "cell_type": "markdown",
   "id": "b974cfed",
   "metadata": {},
   "source": [
    "Para entendermos melhor, vamos exemplificar com nosso exemplo dos divórcios.\n",
    "\n",
    "Gostariamos de aprender mais sobre o valor da `taxa de casamentos` uma vez que já conhecemos a `mediana da idade da taxa dos noivos`. 9:57"
   ]
  }
 ],
 "metadata": {
  "kernelspec": {
   "display_name": "Python 3 (ipykernel)",
   "language": "python",
   "name": "python3"
  },
  "language_info": {
   "codemirror_mode": {
    "name": "ipython",
    "version": 3
   },
   "file_extension": ".py",
   "mimetype": "text/x-python",
   "name": "python",
   "nbconvert_exporter": "python",
   "pygments_lexer": "ipython3",
   "version": "3.8.0"
  }
 },
 "nbformat": 4,
 "nbformat_minor": 5
}