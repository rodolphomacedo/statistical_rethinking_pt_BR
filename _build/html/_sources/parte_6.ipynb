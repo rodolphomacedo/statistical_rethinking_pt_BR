{
 "cells": [
  {
   "cell_type": "markdown",
   "id": "7f0fa330",
   "metadata": {},
   "source": [
    "# 6 - Os DAGs assombrados & O Terror Causal"
   ]
  },
  {
   "cell_type": "code",
   "execution_count": 1,
   "id": "d8ce19a2",
   "metadata": {
    "scrolled": true
   },
   "outputs": [],
   "source": [
    "import numpy as np\n",
    "import matplotlib.pyplot as plt\n",
    "import pandas as pd\n",
    "from videpy import Vide\n",
    "\n",
    "import networkx as nx\n",
    "# from causalgraphicalmodels import CausalGraphicalModel\n",
    "\n",
    "import stan\n",
    "import nest_asyncio\n",
    "\n",
    "plt.style.use('default')\n",
    "\n",
    "plt.rcParams['axes.facecolor'] = 'lightgray'\n",
    "\n",
    "# To DAG's\n",
    "import daft\n",
    "from causalgraphicalmodels import CausalGraphicalModel"
   ]
  },
  {
   "cell_type": "code",
   "execution_count": 2,
   "id": "f8f700da",
   "metadata": {},
   "outputs": [],
   "source": [
    "# To running the stan in jupyter notebook\n",
    "nest_asyncio.apply()"
   ]
  },
  {
   "cell_type": "markdown",
   "id": "a0036b6d",
   "metadata": {},
   "source": [
    "### RCode 6.1 - Pag 162"
   ]
  },
  {
   "cell_type": "code",
   "execution_count": 3,
   "id": "8212db99",
   "metadata": {},
   "outputs": [
    {
     "name": "stdout",
     "output_type": "stream",
     "text": [
      "Noticiabilidade(newsworthiness): \n",
      "\n",
      " [ 0.82456357  1.85614543  0.85556981  1.4066898   1.6026727   1.42256068\n",
      "  0.71166144  1.30222516  0.56454812  3.02039213  0.93879118  1.04202561\n",
      " -0.4640972   0.12272254  1.99579665  1.59807671  1.82853378  1.15394068\n",
      "  1.48966066  1.22640255] \n",
      "\n",
      "\n",
      "Confiabilidade(trustworthiness):\n",
      "\n",
      " [ 1.24510334  1.29709756  2.10293057  0.66088341  1.76728533  0.64448519\n",
      "  1.17598088  0.35356094  1.08805257 -0.72327249  1.31462133  1.54253157\n",
      "  2.8128998   1.51862223  1.18048237  2.31948695 -0.09763283  0.87205345\n",
      "  0.74979249  0.46329186] \n",
      "\n",
      "\n",
      "Correlação:  [19.93737242]\n"
     ]
    }
   ],
   "source": [
    "np.random.seed(1914)\n",
    "\n",
    "N = 200\n",
    "p = 0.1\n",
    "\n",
    "# Não correlacionado noticiabilidade(newsworthiness) e confiabilidade(trustworthiness)\n",
    "nw = np.random.normal(0, 1, N)\n",
    "tw = np.random.normal(0, 1, N)\n",
    "\n",
    "# Selecionando os 10% melhores\n",
    "s = nw + tw  # Score total\n",
    "q = np.quantile(s, 1-p)  # Top 10% \n",
    "selected = [ True if s_i >= q else False for s_i in s ]\n",
    "print('Noticiabilidade(newsworthiness): \\n\\n', nw[selected], '\\n\\n')\n",
    "print('Confiabilidade(trustworthiness):\\n\\n', tw[selected], '\\n\\n')\n",
    "\n",
    "print('Correlação: ', np.correlate(tw[selected], nw[selected]))"
   ]
  },
  {
   "cell_type": "code",
   "execution_count": 4,
   "id": "4b233953",
   "metadata": {},
   "outputs": [
    {
     "data": {
      "image/png": "[encoded data removed]",
      "text/plain": [
       "<Figure size 1224x432 with 1 Axes>"
      ]
     },
     "metadata": {
      "needs_background": "light"
     },
     "output_type": "display_data"
    }
   ],
   "source": [
    "plt.figure(figsize=(17, 6))\n",
    "\n",
    "plt.scatter(tw, nw, s=6, color='gray')\n",
    "plt.scatter(tw[selected], nw[selected], s=7, color='blue')\n",
    "\n",
    "plt.title('Figure 6.1 - Pag162')\n",
    "plt.xlabel('Noticiabilidade ($newsworthiness$)')\n",
    "plt.ylabel('Confiabilidade ($trustworthiness$)')\n",
    "\n",
    "plt.grid(ls='--', color='white', alpha=0.3)"
   ]
  },
  {
   "cell_type": "markdown",
   "id": "57a1c5ce",
   "metadata": {},
   "source": [
    "### RCode 6.2 - pag163\n"
   ]
  },
  {
   "cell_type": "code",
   "execution_count": 5,
   "id": "79a4fa5d",
   "metadata": {},
   "outputs": [
    {
     "data": {
      "text/html": [
       "<div>\n",
       "<style scoped>\n",
       "    .dataframe tbody tr th:only-of-type {\n",
       "        vertical-align: middle;\n",
       "    }\n",
       "\n",
       "    .dataframe tbody tr th {\n",
       "        vertical-align: top;\n",
       "    }\n",
       "\n",
       "    .dataframe thead th {\n",
       "        text-align: right;\n",
       "    }\n",
       "</style>\n",
       "<table border=\"1\" class=\"dataframe\">\n",
       "  <thead>\n",
       "    <tr style=\"text-align: right;\">\n",
       "      <th></th>\n",
       "      <th>height</th>\n",
       "      <th>leg_left</th>\n",
       "      <th>leg_right</th>\n",
       "    </tr>\n",
       "  </thead>\n",
       "  <tbody>\n",
       "    <tr>\n",
       "      <th>0</th>\n",
       "      <td>8.463728</td>\n",
       "      <td>4.094675</td>\n",
       "      <td>4.078446</td>\n",
       "    </tr>\n",
       "    <tr>\n",
       "      <th>1</th>\n",
       "      <td>9.854070</td>\n",
       "      <td>4.776475</td>\n",
       "      <td>4.687749</td>\n",
       "    </tr>\n",
       "    <tr>\n",
       "      <th>2</th>\n",
       "      <td>8.668694</td>\n",
       "      <td>4.192607</td>\n",
       "      <td>4.256472</td>\n",
       "    </tr>\n",
       "    <tr>\n",
       "      <th>3</th>\n",
       "      <td>7.523768</td>\n",
       "      <td>3.088674</td>\n",
       "      <td>3.088206</td>\n",
       "    </tr>\n",
       "    <tr>\n",
       "      <th>4</th>\n",
       "      <td>9.381352</td>\n",
       "      <td>4.093217</td>\n",
       "      <td>4.048181</td>\n",
       "    </tr>\n",
       "  </tbody>\n",
       "</table>\n",
       "</div>"
      ],
      "text/plain": [
       "     height  leg_left  leg_right\n",
       "0  8.463728  4.094675   4.078446\n",
       "1  9.854070  4.776475   4.687749\n",
       "2  8.668694  4.192607   4.256472\n",
       "3  7.523768  3.088674   3.088206\n",
       "4  9.381352  4.093217   4.048181"
      ]
     },
     "execution_count": 5,
     "metadata": {},
     "output_type": "execute_result"
    }
   ],
   "source": [
    "N = 100\n",
    "\n",
    "np.random.seed(909)  # Teste com outras sementes\n",
    "\n",
    "height = np.random.normal(10, 2,  N)\n",
    "\n",
    "leg_proportion = np.random.uniform(0.4, 0.5, N)\n",
    "\n",
    "leg_left  = np.random.left = leg_proportion * height + np.random.normal(0, 0.02, N)\n",
    "leg_right = np.random.left = leg_proportion * height + np.random.normal(0, 0.02, N)\n",
    "\n",
    "\n",
    "df = pd.DataFrame({'height': height, \n",
    "                   'leg_left': leg_left, \n",
    "                   'leg_right': leg_right})\n",
    "df.head()"
   ]
  },
  {
   "cell_type": "code",
   "execution_count": 6,
   "id": "254c1124",
   "metadata": {},
   "outputs": [
    {
     "data": {
      "image/png": "[encoded data removed]",
      "text/plain": [
       "<Figure size 1224x432 with 1 Axes>"
      ]
     },
     "metadata": {
      "needs_background": "light"
     },
     "output_type": "display_data"
    }
   ],
   "source": [
    "plt.figure(figsize=(17, 6))\n",
    "\n",
    "plt.scatter(leg_right, leg_left, s=5, alpha=0.3)\n",
    "\n",
    "plt.title('Dados dos legs')\n",
    "plt.xlabel('Leg Right')\n",
    "plt.ylabel('Leg Left')\n",
    "\n",
    "plt.grid(ls='--', color='white', alpha=0.4)\n",
    "\n",
    "plt.show()"
   ]
  },
  {
   "cell_type": "code",
   "execution_count": 7,
   "id": "c7175e74",
   "metadata": {},
   "outputs": [
    {
     "data": {
      "image/png": "[encoded data removed]",
      "text/plain": [
       "<Figure size 1224x432 with 1 Axes>"
      ]
     },
     "metadata": {
      "needs_background": "light"
     },
     "output_type": "display_data"
    },
    {
     "data": {
      "image/png": "[encoded data removed]",
      "text/plain": [
       "<Figure size 1224x432 with 1 Axes>"
      ]
     },
     "metadata": {
      "needs_background": "light"
     },
     "output_type": "display_data"
    }
   ],
   "source": [
    "plt.figure(figsize=(17, 6))\n",
    "plt.hist(df.height, rwidth=0.9, density=True)\n",
    "plt.grid(ls='--', color='white', alpha=0.4)\n",
    "plt.show()\n",
    "\n",
    "plt.figure(figsize=(17, 6))\n",
    "plt.hist(df.leg_left, rwidth=0.9, density=True, alpha=0.5)\n",
    "plt.hist(df.leg_right, rwidth=0.9, density=True, alpha=0.5)\n",
    "\n",
    "plt.grid(ls='--', color='white', alpha=0.4)\n",
    "plt.show()"
   ]
  },
  {
   "cell_type": "code",
   "execution_count": 8,
   "id": "d5941242",
   "metadata": {
    "tags": [
     "remove_output"
    ]
   },
   "outputs": [
    {
     "name": "stderr",
     "output_type": "stream",
     "text": [
      "\u001b[32mBuilding:\u001b[0m found in cache, done.\n",
      "\u001b[36mMessages from \u001b[0m\u001b[36;1mstanc\u001b[0m\u001b[36m:\u001b[0m\n",
      "Warning in '/tmp/httpstan_724orym0/model_fow2wtab.stan', line 17, column 27: Argument\n",
      "    100 suggests there may be parameters that are not unit scale; consider\n",
      "    rescaling with a multiplier (see manual section 22.12).\n",
      "\u001b[36mSampling:\u001b[0m   0%\n",
      "\u001b[1A\u001b[0J\u001b[36mSampling:\u001b[0m   1% (100/8000)\n",
      "\u001b[1A\u001b[0J\u001b[36mSampling:\u001b[0m   2% (200/8000)\n",
      "\u001b[1A\u001b[0J\u001b[36mSampling:\u001b[0m   4% (300/8000)\n",
      "\u001b[1A\u001b[0J\u001b[36mSampling:\u001b[0m   5% (400/8000)\n",
      "\u001b[1A\u001b[0J\u001b[36mSampling:\u001b[0m   6% (500/8000)\n",
      "\u001b[1A\u001b[0J\u001b[36mSampling:\u001b[0m   8% (600/8000)\n",
      "\u001b[1A\u001b[0J\u001b[36mSampling:\u001b[0m   9% (700/8000)\n",
      "\u001b[1A\u001b[0J\u001b[36mSampling:\u001b[0m  11% (900/8000)\n",
      "\u001b[1A\u001b[0J\u001b[36mSampling:\u001b[0m  14% (1100/8000)\n",
      "\u001b[1A\u001b[0J\u001b[36mSampling:\u001b[0m  16% (1300/8000)\n",
      "\u001b[1A\u001b[0J\u001b[36mSampling:\u001b[0m  19% (1500/8000)\n",
      "\u001b[1A\u001b[0J\u001b[36mSampling:\u001b[0m  20% (1600/8000)\n",
      "\u001b[1A\u001b[0J\u001b[36mSampling:\u001b[0m  21% (1700/8000)\n",
      "\u001b[1A\u001b[0J\u001b[36mSampling:\u001b[0m  22% (1800/8000)\n",
      "\u001b[1A\u001b[0J\u001b[36mSampling:\u001b[0m  24% (1900/8000)\n",
      "\u001b[1A\u001b[0J\u001b[36mSampling:\u001b[0m  26% (2100/8000)\n",
      "\u001b[1A\u001b[0J\u001b[36mSampling:\u001b[0m  28% (2200/8000)\n",
      "\u001b[1A\u001b[0J\u001b[36mSampling:\u001b[0m  30% (2400/8000)\n",
      "\u001b[1A\u001b[0J\u001b[36mSampling:\u001b[0m  32% (2600/8000)\n",
      "\u001b[1A\u001b[0J\u001b[36mSampling:\u001b[0m  35% (2800/8000)\n",
      "\u001b[1A\u001b[0J\u001b[36mSampling:\u001b[0m  38% (3000/8000)\n",
      "\u001b[1A\u001b[0J\u001b[36mSampling:\u001b[0m  39% (3100/8000)\n",
      "\u001b[1A\u001b[0J\u001b[36mSampling:\u001b[0m  41% (3300/8000)\n",
      "\u001b[1A\u001b[0J\u001b[36mSampling:\u001b[0m  42% (3400/8000)\n",
      "\u001b[1A\u001b[0J\u001b[36mSampling:\u001b[0m  58% (4600/8000)\n",
      "\u001b[1A\u001b[0J\u001b[36mSampling:\u001b[0m  72% (5800/8000)\n",
      "\u001b[1A\u001b[0J\u001b[36mSampling:\u001b[0m  86% (6900/8000)\n",
      "\u001b[1A\u001b[0J\u001b[36mSampling:\u001b[0m 100% (8000/8000)\n",
      "\u001b[1A\u001b[0J\u001b[32mSampling:\u001b[0m 100% (8000/8000), done.\n",
      "\u001b[36mMessages received during sampling:\u001b[0m\n",
      "  Gradient evaluation took 3.2e-05 seconds\n",
      "  1000 transitions using 10 leapfrog steps per transition would take 0.32 seconds.\n",
      "  Adjust your expectations accordingly!\n",
      "  Gradient evaluation took 3.2e-05 seconds\n",
      "  1000 transitions using 10 leapfrog steps per transition would take 0.32 seconds.\n",
      "  Adjust your expectations accordingly!\n",
      "  Gradient evaluation took 3e-05 seconds\n",
      "  1000 transitions using 10 leapfrog steps per transition would take 0.3 seconds.\n",
      "  Adjust your expectations accordingly!\n",
      "  Informational Message: The current Metropolis proposal is about to be rejected because of the following issue:\n",
      "  Exception: normal_lpdf: Scale parameter is 0, but must be positive! (in '/tmp/httpstan_39c5vric/model_fow2wtab.stan', line 22, column 8 to column 86)\n",
      "  If this warning occurs sporadically, such as for highly constrained variable types like covariance matrices, then the sampler is fine,\n",
      "  but if this warning occurs often then your model may be either severely ill-conditioned or misspecified.\n",
      "  Gradient evaluation took 4e-05 seconds\n",
      "  1000 transitions using 10 leapfrog steps per transition would take 0.4 seconds.\n",
      "  Adjust your expectations accordingly!\n"
     ]
    }
   ],
   "source": [
    "model = \"\"\"\n",
    "    data {\n",
    "        int<lower=0> N;\n",
    "        vector[N] height;\n",
    "        vector[N] leg_left;\n",
    "        vector[N] leg_right;\n",
    "    }\n",
    "    \n",
    "    parameters {\n",
    "        real alpha;\n",
    "        real beta_left;\n",
    "        real beta_right;\n",
    "        real<lower=0> sigma; \n",
    "    }\n",
    "    \n",
    "    model {\n",
    "        alpha ~ normal(10, 100);\n",
    "        beta_left ~ normal(2, 10);\n",
    "        beta_right ~ normal(2, 10);\n",
    "        sigma ~ exponential(1);\n",
    "        \n",
    "        height ~ normal(alpha + beta_left * leg_left + beta_right * leg_right, sigma);\n",
    "    }\n",
    "\"\"\"\n",
    "\n",
    "data = {\n",
    "    'N': N,\n",
    "    'height': height,\n",
    "    'leg_left': leg_left,\n",
    "    'leg_right': leg_right\n",
    "}\n",
    "\n",
    "posteriori = stan.build(model, data=data)\n",
    "samples = posteriori.sample(num_chains=4, num_samples=1000)\n",
    "\n",
    "alpha = samples['alpha'].flatten()\n",
    "beta_left = samples['beta_left'].flatten()\n",
    "beta_right = samples['beta_right'].flatten()\n",
    "sigma = samples['sigma'].flatten()"
   ]
  },
  {
   "cell_type": "markdown",
   "id": "1c7fb431",
   "metadata": {},
   "source": [
    "### RCode 6.4 - pag164"
   ]
  },
  {
   "cell_type": "code",
   "execution_count": 9,
   "id": "31bd1301",
   "metadata": {},
   "outputs": [
    {
     "data": {
      "text/html": [
       "<div>\n",
       "<style scoped>\n",
       "    .dataframe tbody tr th:only-of-type {\n",
       "        vertical-align: middle;\n",
       "    }\n",
       "\n",
       "    .dataframe tbody tr th {\n",
       "        vertical-align: top;\n",
       "    }\n",
       "\n",
       "    .dataframe thead th {\n",
       "        text-align: right;\n",
       "    }\n",
       "</style>\n",
       "<table border=\"1\" class=\"dataframe\">\n",
       "  <thead>\n",
       "    <tr style=\"text-align: right;\">\n",
       "      <th></th>\n",
       "      <th>mean</th>\n",
       "      <th>std</th>\n",
       "      <th>7.0%</th>\n",
       "      <th>93.0%</th>\n",
       "    </tr>\n",
       "  </thead>\n",
       "  <tbody>\n",
       "    <tr>\n",
       "      <th>alpha</th>\n",
       "      <td>0.94</td>\n",
       "      <td>0.34</td>\n",
       "      <td>0.34</td>\n",
       "      <td>1.54</td>\n",
       "    </tr>\n",
       "    <tr>\n",
       "      <th>beta_left</th>\n",
       "      <td>-1.52</td>\n",
       "      <td>2.04</td>\n",
       "      <td>-5.03</td>\n",
       "      <td>2.40</td>\n",
       "    </tr>\n",
       "    <tr>\n",
       "      <th>beta_right</th>\n",
       "      <td>3.52</td>\n",
       "      <td>2.03</td>\n",
       "      <td>-0.30</td>\n",
       "      <td>7.06</td>\n",
       "    </tr>\n",
       "    <tr>\n",
       "      <th>sigma</th>\n",
       "      <td>0.66</td>\n",
       "      <td>0.05</td>\n",
       "      <td>0.58</td>\n",
       "      <td>0.75</td>\n",
       "    </tr>\n",
       "  </tbody>\n",
       "</table>\n",
       "</div>"
      ],
      "text/plain": [
       "            mean   std  7.0%  93.0%\n",
       "alpha       0.94  0.34  0.34   1.54\n",
       "beta_left  -1.52  2.04 -5.03   2.40\n",
       "beta_right  3.52  2.03 -0.30   7.06\n",
       "sigma       0.66  0.05  0.58   0.75"
      ]
     },
     "execution_count": 9,
     "metadata": {},
     "output_type": "execute_result"
    }
   ],
   "source": [
    "Vide.summary(samples)"
   ]
  },
  {
   "cell_type": "code",
   "execution_count": 10,
   "id": "e44280e7",
   "metadata": {},
   "outputs": [
    {
     "data": {
      "image/png": "[encoded data removed]",
      "text/plain": [
       "<Figure size 1080x360 with 1 Axes>"
      ]
     },
     "metadata": {
      "needs_background": "light"
     },
     "output_type": "display_data"
    }
   ],
   "source": [
    "Vide.plot_forest(samples, title='Leg right & Leg left')"
   ]
  },
  {
   "cell_type": "markdown",
   "id": "f1954153",
   "metadata": {},
   "source": [
    "### RCode 6.5 - pag164"
   ]
  },
  {
   "cell_type": "code",
   "execution_count": 11,
   "id": "06d140e7",
   "metadata": {},
   "outputs": [
    {
     "data": {
      "image/png": "[encoded data removed]",
      "text/plain": [
       "<Figure size 1224x432 with 1 Axes>"
      ]
     },
     "metadata": {
      "needs_background": "light"
     },
     "output_type": "display_data"
    }
   ],
   "source": [
    "plt.figure(figsize=(17, 6))\n",
    "\n",
    "plt.scatter(beta_right, beta_left, s=5, alpha=0.3)\n",
    "\n",
    "plt.title('Posteriori Beta legs')\n",
    "plt.xlabel('Beta Right')\n",
    "plt.ylabel('Beta Left')\n",
    "\n",
    "plt.grid(ls='--', color='white', alpha=0.4)\n",
    "\n",
    "plt.show()"
   ]
  },
  {
   "cell_type": "markdown",
   "id": "e67bc4c5",
   "metadata": {},
   "source": [
    "### RCode 6.6 - pag 165"
   ]
  },
  {
   "cell_type": "code",
   "execution_count": 12,
   "id": "89ba1e67",
   "metadata": {},
   "outputs": [
    {
     "data": {
      "image/png": "[encoded data removed]",
      "text/plain": [
       "<Figure size 1224x432 with 1 Axes>"
      ]
     },
     "metadata": {
      "needs_background": "light"
     },
     "output_type": "display_data"
    }
   ],
   "source": [
    "plt.figure(figsize=(17, 6))\n",
    "\n",
    "plt.hist((beta_left + beta_right), density=True, alpha=0.8, bins=100, rwidth=0.9)\n",
    "\n",
    "plt.title('Posteriori')\n",
    "plt.xlabel('Soma de Beta_left e beta_right')\n",
    "plt.ylabel('Densidade')\n",
    "\n",
    "plt.grid(ls='--', color='white', alpha=0.4)\n",
    "\n",
    "plt.show()"
   ]
  },
  {
   "cell_type": "code",
   "execution_count": 13,
   "id": "740fc814",
   "metadata": {},
   "outputs": [
    {
     "data": {
      "image/png": "[encoded data removed]",
      "text/plain": [
       "<Figure size 1224x432 with 1 Axes>"
      ]
     },
     "metadata": {
      "needs_background": "light"
     },
     "output_type": "display_data"
    }
   ],
   "source": [
    "# Comparação com os beta indivíduais\n",
    "plt.figure(figsize=(17, 6))\n",
    "\n",
    "plt.hist(beta_left, density=True, alpha=0.8, bins=100, rwidth=0.9)  # Beta left\n",
    "\n",
    "plt.hist(beta_right, density=True, alpha=0.8, bins=100, rwidth=0.9)  # Beta Right\n",
    "\n",
    "plt.title('Comparativo entre as Posterioris de Beta Left e Beta Right')\n",
    "plt.xlabel('Betas')\n",
    "plt.ylabel('Densidade')\n",
    "\n",
    "plt.grid(ls='--', color='white', alpha=0.1)\n",
    "\n",
    "plt.show()"
   ]
  },
  {
   "cell_type": "markdown",
   "id": "6ad90f92",
   "metadata": {},
   "source": [
    "### RCode 6.7 - Pag 166"
   ]
  },
  {
   "cell_type": "code",
   "execution_count": 14,
   "id": "01dcbd5a",
   "metadata": {
    "tags": [
     "remove_output"
    ]
   },
   "outputs": [
    {
     "name": "stderr",
     "output_type": "stream",
     "text": [
      "\u001b[32mBuilding:\u001b[0m found in cache, done.\n",
      "\u001b[36mMessages from \u001b[0m\u001b[36;1mstanc\u001b[0m\u001b[36m:\u001b[0m\n",
      "Warning in '/tmp/httpstan_jd5k56to/model_5wzmeslf.stan', line 19, column 54: A\n",
      "    normal distribution is given parameter sigma as a scale parameter\n",
      "    (argument 2), but sigma was not constrained to be strictly positive.\n",
      "Warning in '/tmp/httpstan_jd5k56to/model_5wzmeslf.stan', line 17, column 8: Parameter\n",
      "    sigma is given a exponential distribution, which has strictly positive\n",
      "    support, but sigma was not constrained to be strictly positive.\n",
      "Warning in '/tmp/httpstan_jd5k56to/model_5wzmeslf.stan', line 15, column 27: Argument\n",
      "    100 suggests there may be parameters that are not unit scale; consider\n",
      "    rescaling with a multiplier (see manual section 22.12).\n",
      "\u001b[36mSampling:\u001b[0m   0%\n",
      "\u001b[1A\u001b[0J\u001b[36mSampling:\u001b[0m  25% (2000/8000)\n",
      "\u001b[1A\u001b[0J\u001b[36mSampling:\u001b[0m  50% (4000/8000)\n",
      "\u001b[1A\u001b[0J\u001b[36mSampling:\u001b[0m  75% (6000/8000)\n",
      "\u001b[1A\u001b[0J\u001b[36mSampling:\u001b[0m 100% (8000/8000)\n",
      "\u001b[1A\u001b[0J\u001b[32mSampling:\u001b[0m 100% (8000/8000), done.\n",
      "\u001b[36mMessages received during sampling:\u001b[0m\n",
      "  Rejecting initial value:\n",
      "    Error evaluating the log probability at the initial value.\n",
      "  Exception: exponential_lpdf: Random variable is -0.7425, but must be nonnegative! (in '/tmp/httpstan_xcgeqomu/model_5wzmeslf.stan', line 17, column 8 to column 31)\n",
      "  Gradient evaluation took 1.9e-05 seconds\n",
      "  1000 transitions using 10 leapfrog steps per transition would take 0.19 seconds.\n",
      "  Adjust your expectations accordingly!\n",
      "  Rejecting initial value:\n",
      "    Error evaluating the log probability at the initial value.\n",
      "  Exception: exponential_lpdf: Random variable is -1.61947, but must be nonnegative! (in '/tmp/httpstan_xcgeqomu/model_5wzmeslf.stan', line 17, column 8 to column 31)\n",
      "  Gradient evaluation took 7.2e-05 seconds\n",
      "  1000 transitions using 10 leapfrog steps per transition would take 0.72 seconds.\n",
      "  Adjust your expectations accordingly!\n",
      "  Informational Message: The current Metropolis proposal is about to be rejected because of the following issue:\n",
      "  Exception: exponential_lpdf: Random variable is -0.207287, but must be nonnegative! (in '/tmp/httpstan_xcgeqomu/model_5wzmeslf.stan', line 17, column 8 to column 31)\n",
      "  If this warning occurs sporadically, such as for highly constrained variable types like covariance matrices, then the sampler is fine,\n",
      "  but if this warning occurs often then your model may be either severely ill-conditioned or misspecified.\n",
      "  Rejecting initial value:\n",
      "    Error evaluating the log probability at the initial value.\n",
      "  Exception: exponential_lpdf: Random variable is -0.643273, but must be nonnegative! (in '/tmp/httpstan_xcgeqomu/model_5wzmeslf.stan', line 17, column 8 to column 31)\n",
      "  Rejecting initial value:\n",
      "    Error evaluating the log probability at the initial value.\n",
      "  Exception: exponential_lpdf: Random variable is -1.11551, but must be nonnegative! (in '/tmp/httpstan_xcgeqomu/model_5wzmeslf.stan', line 17, column 8 to column 31)\n",
      "  Gradient evaluation took 2.1e-05 seconds\n",
      "  1000 transitions using 10 leapfrog steps per transition would take 0.21 seconds.\n",
      "  Adjust your expectations accordingly!\n",
      "  Informational Message: The current Metropolis proposal is about to be rejected because of the following issue:\n",
      "  Exception: exponential_lpdf: Random variable is -0.177542, but must be nonnegative! (in '/tmp/httpstan_xcgeqomu/model_5wzmeslf.stan', line 17, column 8 to column 31)\n",
      "  If this warning occurs sporadically, such as for highly constrained variable types like covariance matrices, then the sampler is fine,\n",
      "  but if this warning occurs often then your model may be either severely ill-conditioned or misspecified.\n",
      "  Rejecting initial value:\n",
      "    Error evaluating the log probability at the initial value.\n",
      "  Exception: exponential_lpdf: Random variable is -0.558744, but must be nonnegative! (in '/tmp/httpstan_xcgeqomu/model_5wzmeslf.stan', line 17, column 8 to column 31)\n",
      "  Gradient evaluation took 2e-05 seconds\n",
      "  1000 transitions using 10 leapfrog steps per transition would take 0.2 seconds.\n",
      "  Adjust your expectations accordingly!\n",
      "  Informational Message: The current Metropolis proposal is about to be rejected because of the following issue:\n",
      "  Exception: exponential_lpdf: Random variable is -0.776509, but must be nonnegative! (in '/tmp/httpstan_xcgeqomu/model_5wzmeslf.stan', line 17, column 8 to column 31)\n",
      "  If this warning occurs sporadically, such as for highly constrained variable types like covariance matrices, then the sampler is fine,\n",
      "  but if this warning occurs often then your model may be either severely ill-conditioned or misspecified.\n"
     ]
    }
   ],
   "source": [
    "model = \"\"\"\n",
    "    data {\n",
    "        int N;\n",
    "        vector[N] leg_left;\n",
    "        vector[N] height;\n",
    "    }\n",
    "    \n",
    "    parameters {\n",
    "        real alpha;\n",
    "        real beta_left;\n",
    "        real sigma;\n",
    "    }\n",
    "    \n",
    "    model {\n",
    "        alpha ~ normal(10, 100);\n",
    "        beta_left ~ normal(2, 10);\n",
    "        sigma ~ exponential(1);\n",
    "        \n",
    "        height ~ normal(alpha + beta_left * leg_left, sigma);\n",
    "    }\n",
    "\"\"\"\n",
    "\n",
    "data = {\n",
    "    'N': len(height),\n",
    "    'leg_left': leg_left,\n",
    "    'height': height,\n",
    "}\n",
    "\n",
    "posteriori = stan.build(model, data=data)\n",
    "samples = posteriori.sample(num_chains=4, num_samples=1000)\n",
    "\n",
    "alpha = samples['alpha'].flatten()\n",
    "beta_left = samples['beta_left'].flatten()\n",
    "sigma = samples['sigma'].flatten()"
   ]
  },
  {
   "cell_type": "code",
   "execution_count": 15,
   "id": "8662c085",
   "metadata": {},
   "outputs": [
    {
     "data": {
      "text/html": [
       "<div>\n",
       "<style scoped>\n",
       "    .dataframe tbody tr th:only-of-type {\n",
       "        vertical-align: middle;\n",
       "    }\n",
       "\n",
       "    .dataframe tbody tr th {\n",
       "        vertical-align: top;\n",
       "    }\n",
       "\n",
       "    .dataframe thead th {\n",
       "        text-align: right;\n",
       "    }\n",
       "</style>\n",
       "<table border=\"1\" class=\"dataframe\">\n",
       "  <thead>\n",
       "    <tr style=\"text-align: right;\">\n",
       "      <th></th>\n",
       "      <th>mean</th>\n",
       "      <th>std</th>\n",
       "      <th>7.0%</th>\n",
       "      <th>93.0%</th>\n",
       "    </tr>\n",
       "  </thead>\n",
       "  <tbody>\n",
       "    <tr>\n",
       "      <th>alpha</th>\n",
       "      <td>0.83</td>\n",
       "      <td>0.32</td>\n",
       "      <td>0.25</td>\n",
       "      <td>1.40</td>\n",
       "    </tr>\n",
       "    <tr>\n",
       "      <th>beta_left</th>\n",
       "      <td>2.02</td>\n",
       "      <td>0.07</td>\n",
       "      <td>1.90</td>\n",
       "      <td>2.14</td>\n",
       "    </tr>\n",
       "    <tr>\n",
       "      <th>sigma</th>\n",
       "      <td>0.67</td>\n",
       "      <td>0.05</td>\n",
       "      <td>0.58</td>\n",
       "      <td>0.75</td>\n",
       "    </tr>\n",
       "  </tbody>\n",
       "</table>\n",
       "</div>"
      ],
      "text/plain": [
       "           mean   std  7.0%  93.0%\n",
       "alpha      0.83  0.32  0.25   1.40\n",
       "beta_left  2.02  0.07  1.90   2.14\n",
       "sigma      0.67  0.05  0.58   0.75"
      ]
     },
     "execution_count": 15,
     "metadata": {},
     "output_type": "execute_result"
    }
   ],
   "source": [
    "# RCode 6.7 - Continuação\n",
    "Vide.summary(samples)"
   ]
  },
  {
   "cell_type": "code",
   "execution_count": 16,
   "id": "b0dd7405",
   "metadata": {},
   "outputs": [
    {
     "data": {
      "image/png": "[encoded data removed]",
      "text/plain": [
       "<Figure size 1080x288 with 1 Axes>"
      ]
     },
     "metadata": {
      "needs_background": "light"
     },
     "output_type": "display_data"
    }
   ],
   "source": [
    "Vide.plot_forest(samples, title='Leg Left')"
   ]
  },
  {
   "cell_type": "markdown",
   "id": "5455cb83",
   "metadata": {},
   "source": [
    "### R Code 6.8"
   ]
  },
  {
   "cell_type": "code",
   "execution_count": 17,
   "id": "1dc086a3",
   "metadata": {},
   "outputs": [
    {
     "data": {
      "text/html": [
       "<div>\n",
       "<style scoped>\n",
       "    .dataframe tbody tr th:only-of-type {\n",
       "        vertical-align: middle;\n",
       "    }\n",
       "\n",
       "    .dataframe tbody tr th {\n",
       "        vertical-align: top;\n",
       "    }\n",
       "\n",
       "    .dataframe thead th {\n",
       "        text-align: right;\n",
       "    }\n",
       "</style>\n",
       "<table border=\"1\" class=\"dataframe\">\n",
       "  <thead>\n",
       "    <tr style=\"text-align: right;\">\n",
       "      <th></th>\n",
       "      <th>kcal.per.g</th>\n",
       "      <th>perc.fat</th>\n",
       "      <th>perc.lactose</th>\n",
       "    </tr>\n",
       "  </thead>\n",
       "  <tbody>\n",
       "    <tr>\n",
       "      <th>0</th>\n",
       "      <td>-0.940041</td>\n",
       "      <td>-1.217243</td>\n",
       "      <td>1.307262</td>\n",
       "    </tr>\n",
       "    <tr>\n",
       "      <th>1</th>\n",
       "      <td>-0.816126</td>\n",
       "      <td>-1.030355</td>\n",
       "      <td>1.011285</td>\n",
       "    </tr>\n",
       "    <tr>\n",
       "      <th>2</th>\n",
       "      <td>-1.125913</td>\n",
       "      <td>-1.391531</td>\n",
       "      <td>1.382679</td>\n",
       "    </tr>\n",
       "    <tr>\n",
       "      <th>3</th>\n",
       "      <td>-1.001998</td>\n",
       "      <td>-1.335535</td>\n",
       "      <td>1.586874</td>\n",
       "    </tr>\n",
       "    <tr>\n",
       "      <th>4</th>\n",
       "      <td>-0.258511</td>\n",
       "      <td>-0.469693</td>\n",
       "      <td>0.257115</td>\n",
       "    </tr>\n",
       "  </tbody>\n",
       "</table>\n",
       "</div>"
      ],
      "text/plain": [
       "   kcal.per.g  perc.fat  perc.lactose\n",
       "0   -0.940041 -1.217243      1.307262\n",
       "1   -0.816126 -1.030355      1.011285\n",
       "2   -1.125913 -1.391531      1.382679\n",
       "3   -1.001998 -1.335535      1.586874\n",
       "4   -0.258511 -0.469693      0.257115"
      ]
     },
     "execution_count": 17,
     "metadata": {},
     "output_type": "execute_result"
    }
   ],
   "source": [
    "df = pd.read_csv('data/milk.csv', sep=';')\n",
    "\n",
    "df_std = df[['kcal.per.g', 'perc.fat', 'perc.lactose']].copy()\n",
    "\n",
    "df_std['kcal.per.g'] = (df_std['kcal.per.g'] - df_std['kcal.per.g'].mean()) / df_std['kcal.per.g'].std()\n",
    "df_std['perc.fat'] = (df_std['perc.fat'] - df_std['perc.fat'].mean()) / df_std['perc.fat'].std()\n",
    "df_std['perc.lactose'] = (df_std['perc.lactose'] - df_std['perc.lactose'].mean()) / df_std['perc.lactose'].std()\n",
    "\n",
    "df_std.head()"
   ]
  },
  {
   "cell_type": "code",
   "execution_count": 18,
   "id": "c9a0786c",
   "metadata": {},
   "outputs": [
    {
     "data": {
      "text/plain": [
       "kcal.per.g      0\n",
       "perc.fat        0\n",
       "perc.lactose    0\n",
       "dtype: int64"
      ]
     },
     "execution_count": 18,
     "metadata": {},
     "output_type": "execute_result"
    }
   ],
   "source": [
    "# Não tem nenhum 'missing values'\n",
    "\n",
    "df_std.isna().sum()"
   ]
  },
  {
   "cell_type": "markdown",
   "id": "a2a0a1c7",
   "metadata": {},
   "source": [
    "### R Code 6.9 - Pag 167"
   ]
  },
  {
   "cell_type": "code",
   "execution_count": 19,
   "id": "01800c46",
   "metadata": {
    "tags": [
     "remove_output"
    ]
   },
   "outputs": [
    {
     "name": "stderr",
     "output_type": "stream",
     "text": [
      "\u001b[32mBuilding:\u001b[0m found in cache, done.\n",
      "\u001b[36mSampling:\u001b[0m   0%\n",
      "\u001b[1A\u001b[0J\u001b[36mSampling:\u001b[0m  25% (2000/8000)\n",
      "\u001b[1A\u001b[0J\u001b[36mSampling:\u001b[0m  50% (4000/8000)\n",
      "\u001b[1A\u001b[0J\u001b[36mSampling:\u001b[0m  75% (6000/8000)\n",
      "\u001b[1A\u001b[0J\u001b[36mSampling:\u001b[0m 100% (8000/8000)\n",
      "\u001b[1A\u001b[0J\u001b[32mSampling:\u001b[0m 100% (8000/8000), done.\n",
      "\u001b[36mMessages received during sampling:\u001b[0m\n",
      "  Gradient evaluation took 1.8e-05 seconds\n",
      "  1000 transitions using 10 leapfrog steps per transition would take 0.18 seconds.\n",
      "  Adjust your expectations accordingly!\n",
      "  Gradient evaluation took 1.1e-05 seconds\n",
      "  1000 transitions using 10 leapfrog steps per transition would take 0.11 seconds.\n",
      "  Adjust your expectations accordingly!\n",
      "  Gradient evaluation took 1.3e-05 seconds\n",
      "  1000 transitions using 10 leapfrog steps per transition would take 0.13 seconds.\n",
      "  Adjust your expectations accordingly!\n",
      "  Gradient evaluation took 1.5e-05 seconds\n",
      "  1000 transitions using 10 leapfrog steps per transition would take 0.15 seconds.\n",
      "  Adjust your expectations accordingly!\n"
     ]
    }
   ],
   "source": [
    "# kcal.per.g  regredido em perc.fat\n",
    "\n",
    "model_kf = \"\"\"\n",
    "    data {\n",
    "        int N;\n",
    "        vector[N] outcome;\n",
    "        vector[N] predictor;\n",
    "    }\n",
    "    \n",
    "    parameters {\n",
    "        real alpha;\n",
    "        real beta;\n",
    "        real<lower=0> sigma;\n",
    "    }\n",
    "    \n",
    "    model {\n",
    "        alpha ~ normal(0, 0.2);\n",
    "        beta ~ normal(0, 0.5);\n",
    "        sigma ~ exponential(1);\n",
    "        \n",
    "        outcome ~ normal(alpha + beta * predictor, sigma);\n",
    "    }\n",
    "\"\"\"\n",
    "\n",
    "data_kf = {\n",
    "    'N': len(df_std['kcal.per.g']),\n",
    "    'outcome': list(df_std['kcal.per.g'].values),\n",
    "    'predictor': list(df_std['perc.fat'].values),\n",
    "}\n",
    "\n",
    "posteriori_kf = stan.build(model_kf, data=data_kf)\n",
    "samples_kf = posteriori_kf.sample(num_chains=4, num_samples=1000)"
   ]
  },
  {
   "cell_type": "code",
   "execution_count": 20,
   "id": "4f31f6ca",
   "metadata": {
    "tags": [
     "remove_output"
    ]
   },
   "outputs": [
    {
     "name": "stderr",
     "output_type": "stream",
     "text": [
      "\u001b[32mBuilding:\u001b[0m found in cache, done.\n",
      "\u001b[36mSampling:\u001b[0m   0%\n",
      "\u001b[1A\u001b[0J\u001b[36mSampling:\u001b[0m  25% (2000/8000)\n",
      "\u001b[1A\u001b[0J\u001b[36mSampling:\u001b[0m  50% (4000/8000)\n",
      "\u001b[1A\u001b[0J\u001b[36mSampling:\u001b[0m  75% (6000/8000)\n",
      "\u001b[1A\u001b[0J\u001b[36mSampling:\u001b[0m 100% (8000/8000)\n",
      "\u001b[1A\u001b[0J\u001b[32mSampling:\u001b[0m 100% (8000/8000), done.\n",
      "\u001b[36mMessages received during sampling:\u001b[0m\n",
      "  Gradient evaluation took 1.1e-05 seconds\n",
      "  1000 transitions using 10 leapfrog steps per transition would take 0.11 seconds.\n",
      "  Adjust your expectations accordingly!\n",
      "  Gradient evaluation took 1.6e-05 seconds\n",
      "  1000 transitions using 10 leapfrog steps per transition would take 0.16 seconds.\n",
      "  Adjust your expectations accordingly!\n",
      "  Gradient evaluation took 1.5e-05 seconds\n",
      "  1000 transitions using 10 leapfrog steps per transition would take 0.15 seconds.\n",
      "  Adjust your expectations accordingly!\n",
      "  Gradient evaluation took 1.8e-05 seconds\n",
      "  1000 transitions using 10 leapfrog steps per transition would take 0.18 seconds.\n",
      "  Adjust your expectations accordingly!\n"
     ]
    }
   ],
   "source": [
    "# kcal.per.g  regredido em  perc.lactose\n",
    "\n",
    "model_kl = \"\"\"\n",
    "    data {\n",
    "        int N;\n",
    "        vector[N] outcome;\n",
    "        vector[N] predictor;\n",
    "    }\n",
    "    \n",
    "    parameters {\n",
    "        real alpha;\n",
    "        real beta;\n",
    "        real<lower=0> sigma;\n",
    "    }\n",
    "    \n",
    "    model {\n",
    "        alpha ~ normal(0, 0.2);\n",
    "        beta ~ normal(0, 0.5);\n",
    "        sigma ~ exponential(1);\n",
    "        \n",
    "        outcome ~ normal(alpha + beta * predictor, sigma);\n",
    "    }\n",
    "\"\"\"\n",
    "\n",
    "data_kl = {\n",
    "    'N': len(df_std['kcal.per.g']),\n",
    "    'outcome': df_std['kcal.per.g'].values,\n",
    "    'predictor': df_std['perc.lactose'].values,\n",
    "}\n",
    "\n",
    "posteriori_kl = stan.build(model_kl, data=data_kl)\n",
    "samples_kl = posteriori_kl.sample(num_chains=4, num_samples=1000)"
   ]
  },
  {
   "cell_type": "code",
   "execution_count": 21,
   "id": "cb3ee955",
   "metadata": {},
   "outputs": [
    {
     "data": {
      "text/html": [
       "<div>\n",
       "<style scoped>\n",
       "    .dataframe tbody tr th:only-of-type {\n",
       "        vertical-align: middle;\n",
       "    }\n",
       "\n",
       "    .dataframe tbody tr th {\n",
       "        vertical-align: top;\n",
       "    }\n",
       "\n",
       "    .dataframe thead th {\n",
       "        text-align: right;\n",
       "    }\n",
       "</style>\n",
       "<table border=\"1\" class=\"dataframe\">\n",
       "  <thead>\n",
       "    <tr style=\"text-align: right;\">\n",
       "      <th></th>\n",
       "      <th>mean</th>\n",
       "      <th>std</th>\n",
       "      <th>7.0%</th>\n",
       "      <th>93.0%</th>\n",
       "    </tr>\n",
       "  </thead>\n",
       "  <tbody>\n",
       "    <tr>\n",
       "      <th>alpha</th>\n",
       "      <td>0.00</td>\n",
       "      <td>0.08</td>\n",
       "      <td>-0.15</td>\n",
       "      <td>0.15</td>\n",
       "    </tr>\n",
       "    <tr>\n",
       "      <th>beta</th>\n",
       "      <td>0.86</td>\n",
       "      <td>0.09</td>\n",
       "      <td>0.68</td>\n",
       "      <td>1.02</td>\n",
       "    </tr>\n",
       "    <tr>\n",
       "      <th>sigma</th>\n",
       "      <td>0.49</td>\n",
       "      <td>0.07</td>\n",
       "      <td>0.36</td>\n",
       "      <td>0.61</td>\n",
       "    </tr>\n",
       "  </tbody>\n",
       "</table>\n",
       "</div>"
      ],
      "text/plain": [
       "       mean   std  7.0%  93.0%\n",
       "alpha  0.00  0.08 -0.15   0.15\n",
       "beta   0.86  0.09  0.68   1.02\n",
       "sigma  0.49  0.07  0.36   0.61"
      ]
     },
     "execution_count": 21,
     "metadata": {},
     "output_type": "execute_result"
    }
   ],
   "source": [
    "Vide.summary(samples_kf)"
   ]
  },
  {
   "cell_type": "code",
   "execution_count": 22,
   "id": "3682ce19",
   "metadata": {},
   "outputs": [
    {
     "data": {
      "image/png": "[encoded data removed]",
      "text/plain": [
       "<Figure size 1080x288 with 1 Axes>"
      ]
     },
     "metadata": {
      "needs_background": "light"
     },
     "output_type": "display_data"
    }
   ],
   "source": [
    "Vide.plot_forest(samples_kf, title='perc.fat')"
   ]
  },
  {
   "cell_type": "code",
   "execution_count": 23,
   "id": "dd83e730",
   "metadata": {},
   "outputs": [
    {
     "data": {
      "text/html": [
       "<div>\n",
       "<style scoped>\n",
       "    .dataframe tbody tr th:only-of-type {\n",
       "        vertical-align: middle;\n",
       "    }\n",
       "\n",
       "    .dataframe tbody tr th {\n",
       "        vertical-align: top;\n",
       "    }\n",
       "\n",
       "    .dataframe thead th {\n",
       "        text-align: right;\n",
       "    }\n",
       "</style>\n",
       "<table border=\"1\" class=\"dataframe\">\n",
       "  <thead>\n",
       "    <tr style=\"text-align: right;\">\n",
       "      <th></th>\n",
       "      <th>mean</th>\n",
       "      <th>std</th>\n",
       "      <th>7.0%</th>\n",
       "      <th>93.0%</th>\n",
       "    </tr>\n",
       "  </thead>\n",
       "  <tbody>\n",
       "    <tr>\n",
       "      <th>alpha</th>\n",
       "      <td>0.00</td>\n",
       "      <td>0.07</td>\n",
       "      <td>-0.14</td>\n",
       "      <td>0.12</td>\n",
       "    </tr>\n",
       "    <tr>\n",
       "      <th>beta</th>\n",
       "      <td>-0.90</td>\n",
       "      <td>0.08</td>\n",
       "      <td>-1.04</td>\n",
       "      <td>-0.77</td>\n",
       "    </tr>\n",
       "    <tr>\n",
       "      <th>sigma</th>\n",
       "      <td>0.41</td>\n",
       "      <td>0.06</td>\n",
       "      <td>0.32</td>\n",
       "      <td>0.53</td>\n",
       "    </tr>\n",
       "  </tbody>\n",
       "</table>\n",
       "</div>"
      ],
      "text/plain": [
       "       mean   std  7.0%  93.0%\n",
       "alpha  0.00  0.07 -0.14   0.12\n",
       "beta  -0.90  0.08 -1.04  -0.77\n",
       "sigma  0.41  0.06  0.32   0.53"
      ]
     },
     "execution_count": 23,
     "metadata": {},
     "output_type": "execute_result"
    }
   ],
   "source": [
    "Vide.summary(samples_kl)"
   ]
  },
  {
   "cell_type": "code",
   "execution_count": 24,
   "id": "7eb79bd9",
   "metadata": {},
   "outputs": [
    {
     "data": {
      "image/png": "[encoded data removed]",
      "text/plain": [
       "<Figure size 1080x288 with 1 Axes>"
      ]
     },
     "metadata": {
      "needs_background": "light"
     },
     "output_type": "display_data"
    }
   ],
   "source": [
    "Vide.plot_forest(samples_kl, title='perc.lactose')"
   ]
  },
  {
   "cell_type": "markdown",
   "id": "4c3bd67a",
   "metadata": {},
   "source": [
    "### R Code 6.10  -  pag 167"
   ]
  },
  {
   "cell_type": "code",
   "execution_count": 25,
   "id": "c1d9331b",
   "metadata": {
    "tags": [
     "remove_output"
    ]
   },
   "outputs": [
    {
     "name": "stderr",
     "output_type": "stream",
     "text": [
      "\u001b[32mBuilding:\u001b[0m found in cache, done.\n",
      "\u001b[36mMessages from \u001b[0m\u001b[36;1mstanc\u001b[0m\u001b[36m:\u001b[0m\n",
      "Warning in '/tmp/httpstan_s69tliti/model_r3zhhfk6.stan', line 22, column 40: A\n",
      "    normal distribution is given parameter sigma as a scale parameter\n",
      "    (argument 2), but sigma was not constrained to be strictly positive.\n",
      "Warning in '/tmp/httpstan_s69tliti/model_r3zhhfk6.stan', line 20, column 8: Parameter\n",
      "    sigma is given a exponential distribution, which has strictly positive\n",
      "    support, but sigma was not constrained to be strictly positive.\n",
      "\u001b[36mSampling:\u001b[0m   0%\n",
      "\u001b[1A\u001b[0J\u001b[36mSampling:\u001b[0m  25% (2000/8000)\n",
      "\u001b[1A\u001b[0J\u001b[36mSampling:\u001b[0m  50% (4000/8000)\n",
      "\u001b[1A\u001b[0J\u001b[36mSampling:\u001b[0m  75% (6000/8000)\n",
      "\u001b[1A\u001b[0J\u001b[36mSampling:\u001b[0m 100% (8000/8000)\n",
      "\u001b[1A\u001b[0J\u001b[32mSampling:\u001b[0m 100% (8000/8000), done.\n",
      "\u001b[36mMessages received during sampling:\u001b[0m\n",
      "  Rejecting initial value:\n",
      "    Error evaluating the log probability at the initial value.\n",
      "  Exception: exponential_lpdf: Random variable is -0.444329, but must be nonnegative! (in '/tmp/httpstan_u59ke11e/model_r3zhhfk6.stan', line 20, column 8 to column 31)\n",
      "  Rejecting initial value:\n",
      "    Error evaluating the log probability at the initial value.\n",
      "  Exception: exponential_lpdf: Random variable is -0.0103946, but must be nonnegative! (in '/tmp/httpstan_u59ke11e/model_r3zhhfk6.stan', line 20, column 8 to column 31)\n",
      "  Gradient evaluation took 2.6e-05 seconds\n",
      "  1000 transitions using 10 leapfrog steps per transition would take 0.26 seconds.\n",
      "  Adjust your expectations accordingly!\n",
      "  Informational Message: The current Metropolis proposal is about to be rejected because of the following issue:\n",
      "  Exception: exponential_lpdf: Random variable is -0.0667496, but must be nonnegative! (in '/tmp/httpstan_u59ke11e/model_r3zhhfk6.stan', line 20, column 8 to column 31)\n",
      "  If this warning occurs sporadically, such as for highly constrained variable types like covariance matrices, then the sampler is fine,\n",
      "  but if this warning occurs often then your model may be either severely ill-conditioned or misspecified.\n",
      "  Informational Message: The current Metropolis proposal is about to be rejected because of the following issue:\n",
      "  Exception: exponential_lpdf: Random variable is -0.605486, but must be nonnegative! (in '/tmp/httpstan_u59ke11e/model_r3zhhfk6.stan', line 20, column 8 to column 31)\n",
      "  If this warning occurs sporadically, such as for highly constrained variable types like covariance matrices, then the sampler is fine,\n",
      "  but if this warning occurs often then your model may be either severely ill-conditioned or misspecified.\n",
      "  Gradient evaluation took 5.2e-05 seconds\n",
      "  1000 transitions using 10 leapfrog steps per transition would take 0.52 seconds.\n",
      "  Adjust your expectations accordingly!\n",
      "  Informational Message: The current Metropolis proposal is about to be rejected because of the following issue:\n",
      "  Exception: exponential_lpdf: Random variable is -3.09717, but must be nonnegative! (in '/tmp/httpstan_u59ke11e/model_r3zhhfk6.stan', line 20, column 8 to column 31)\n",
      "  If this warning occurs sporadically, such as for highly constrained variable types like covariance matrices, then the sampler is fine,\n",
      "  but if this warning occurs often then your model may be either severely ill-conditioned or misspecified.\n",
      "  Gradient evaluation took 4.9e-05 seconds\n",
      "  1000 transitions using 10 leapfrog steps per transition would take 0.49 seconds.\n",
      "  Adjust your expectations accordingly!\n",
      "  Informational Message: The current Metropolis proposal is about to be rejected because of the following issue:\n",
      "  Exception: exponential_lpdf: Random variable is -313.877, but must be nonnegative! (in '/tmp/httpstan_u59ke11e/model_r3zhhfk6.stan', line 20, column 8 to column 31)\n",
      "  If this warning occurs sporadically, such as for highly constrained variable types like covariance matrices, then the sampler is fine,\n",
      "  but if this warning occurs often then your model may be either severely ill-conditioned or misspecified.\n",
      "  Informational Message: The current Metropolis proposal is about to be rejected because of the following issue:\n",
      "  Exception: exponential_lpdf: Random variable is -6.18116, but must be nonnegative! (in '/tmp/httpstan_u59ke11e/model_r3zhhfk6.stan', line 20, column 8 to column 31)\n",
      "  If this warning occurs sporadically, such as for highly constrained variable types like covariance matrices, then the sampler is fine,\n",
      "  but if this warning occurs often then your model may be either severely ill-conditioned or misspecified.\n",
      "  Gradient evaluation took 3.3e-05 seconds\n",
      "  1000 transitions using 10 leapfrog steps per transition would take 0.33 seconds.\n",
      "  Adjust your expectations accordingly!\n",
      "  Informational Message: The current Metropolis proposal is about to be rejected because of the following issue:\n",
      "  Exception: exponential_lpdf: Random variable is -0.452598, but must be nonnegative! (in '/tmp/httpstan_u59ke11e/model_r3zhhfk6.stan', line 20, column 8 to column 31)\n",
      "  If this warning occurs sporadically, such as for highly constrained variable types like covariance matrices, then the sampler is fine,\n",
      "  but if this warning occurs often then your model may be either severely ill-conditioned or misspecified.\n"
     ]
    }
   ],
   "source": [
    "model = \"\"\"\n",
    "    data {\n",
    "        int N;\n",
    "        vector[N] F;  // Fat\n",
    "        vector[N] L;  // Lactose\n",
    "        vector[N] K;  // kcal/g\n",
    "    }\n",
    "    \n",
    "    parameters {\n",
    "        real alpha;\n",
    "        real bF;\n",
    "        real bL;\n",
    "        real sigma;\n",
    "    }\n",
    "    \n",
    "    model {\n",
    "        alpha ~ normal(0, 0.2);\n",
    "        bF ~ normal(0, 0.5);\n",
    "        bL ~ normal(0, 0.5);\n",
    "        sigma ~ exponential(1);\n",
    "        \n",
    "        K ~ normal(alpha + bF*F + bL*L, sigma);\n",
    "    }\n",
    "\"\"\"\n",
    "\n",
    "data = {\n",
    "    'N': len(df_std['kcal.per.g']),\n",
    "    'F': df_std['perc.fat'].values,\n",
    "    'L': df_std['perc.lactose'].values,\n",
    "    'K': df_std['kcal.per.g'].values,\n",
    "}\n",
    "\n",
    "posteriori_FL = stan.build(model, data=data)\n",
    "samples_FL = posteriori_FL.sample(num_chains=4, num_samples=1000)"
   ]
  },
  {
   "cell_type": "code",
   "execution_count": 26,
   "id": "2638a212",
   "metadata": {},
   "outputs": [
    {
     "data": {
      "text/html": [
       "<div>\n",
       "<style scoped>\n",
       "    .dataframe tbody tr th:only-of-type {\n",
       "        vertical-align: middle;\n",
       "    }\n",
       "\n",
       "    .dataframe tbody tr th {\n",
       "        vertical-align: top;\n",
       "    }\n",
       "\n",
       "    .dataframe thead th {\n",
       "        text-align: right;\n",
       "    }\n",
       "</style>\n",
       "<table border=\"1\" class=\"dataframe\">\n",
       "  <thead>\n",
       "    <tr style=\"text-align: right;\">\n",
       "      <th></th>\n",
       "      <th>mean</th>\n",
       "      <th>std</th>\n",
       "      <th>7.0%</th>\n",
       "      <th>93.0%</th>\n",
       "    </tr>\n",
       "  </thead>\n",
       "  <tbody>\n",
       "    <tr>\n",
       "      <th>alpha</th>\n",
       "      <td>0.00</td>\n",
       "      <td>0.07</td>\n",
       "      <td>-0.13</td>\n",
       "      <td>0.14</td>\n",
       "    </tr>\n",
       "    <tr>\n",
       "      <th>bF</th>\n",
       "      <td>0.25</td>\n",
       "      <td>0.20</td>\n",
       "      <td>-0.09</td>\n",
       "      <td>0.62</td>\n",
       "    </tr>\n",
       "    <tr>\n",
       "      <th>bL</th>\n",
       "      <td>-0.67</td>\n",
       "      <td>0.20</td>\n",
       "      <td>-1.02</td>\n",
       "      <td>-0.31</td>\n",
       "    </tr>\n",
       "    <tr>\n",
       "      <th>sigma</th>\n",
       "      <td>0.41</td>\n",
       "      <td>0.06</td>\n",
       "      <td>0.31</td>\n",
       "      <td>0.52</td>\n",
       "    </tr>\n",
       "  </tbody>\n",
       "</table>\n",
       "</div>"
      ],
      "text/plain": [
       "       mean   std  7.0%  93.0%\n",
       "alpha  0.00  0.07 -0.13   0.14\n",
       "bF     0.25  0.20 -0.09   0.62\n",
       "bL    -0.67  0.20 -1.02  -0.31\n",
       "sigma  0.41  0.06  0.31   0.52"
      ]
     },
     "execution_count": 26,
     "metadata": {},
     "output_type": "execute_result"
    }
   ],
   "source": [
    "Vide.summary(samples_FL)"
   ]
  },
  {
   "cell_type": "code",
   "execution_count": 27,
   "id": "c1437e49",
   "metadata": {},
   "outputs": [
    {
     "data": {
      "image/png": "[encoded data removed]",
      "text/plain": [
       "<Figure size 1080x360 with 1 Axes>"
      ]
     },
     "metadata": {
      "needs_background": "light"
     },
     "output_type": "display_data"
    }
   ],
   "source": [
    "Vide.plot_forest(samples_FL, title='Perc.Fat & Perc.Lactose')"
   ]
  },
  {
   "cell_type": "markdown",
   "id": "1f157828",
   "metadata": {},
   "source": [
    "### R Code 6.11 - Pag 168 - Figure 6.3"
   ]
  },
  {
   "cell_type": "code",
   "execution_count": 78,
   "id": "871153f9",
   "metadata": {},
   "outputs": [
    {
     "data": {
      "image/png": "[encoded data removed]",
      "text/plain": [
       "<Figure size 1224x432 with 9 Axes>"
      ]
     },
     "metadata": {
      "needs_background": "light"
     },
     "output_type": "display_data"
    }
   ],
   "source": [
    "pd.plotting.scatter_matrix(df_std, diagonal='hist', grid=True, figsize=(17, 6))\n",
    "plt.show()"
   ]
  },
  {
   "cell_type": "markdown",
   "id": "77836161",
   "metadata": {},
   "source": [
    "### R Code 6.12 - Overthinking - Rever"
   ]
  },
  {
   "cell_type": "code",
   "execution_count": 29,
   "id": "1c05e493",
   "metadata": {},
   "outputs": [],
   "source": [
    "model = \"\"\"\n",
    "    data {\n",
    "        int N;\n",
    "        vector[N] kcal_per_g;\n",
    "        vector[N] perc_fat;\n",
    "        vector[N] new_predictor_X;\n",
    "    }\n",
    "    \n",
    "    parameters {\n",
    "        real alpha;\n",
    "        real bF;\n",
    "        real bX;\n",
    "        real<lower=0> sigma;\n",
    "    }\n",
    "    \n",
    "    model {\n",
    "        kcal_per_g ~ normal(alpha + bF * perc_fat + bX * new_predictor_X, sigma);\n",
    "    }\n",
    "\"\"\""
   ]
  },
  {
   "cell_type": "code",
   "execution_count": 30,
   "id": "17f90206",
   "metadata": {},
   "outputs": [],
   "source": [
    "def generate_predictor_x(r=0.9):\n",
    "    N = len(df['perc.fat'].values)\n",
    "    \n",
    "    mean = r * df['perc.fat'].values\n",
    "    sd = np.sqrt((1 - r**2) * np.var(df['perc.fat'].values))\n",
    "    \n",
    "    return np.random.normal(mean, sd, N)  # New Predictor X"
   ]
  },
  {
   "cell_type": "code",
   "execution_count": 31,
   "id": "8855ae68",
   "metadata": {},
   "outputs": [],
   "source": [
    "def generate_data_dict(r=0.9):\n",
    "    data = {\n",
    "        'N': len(df['kcal.per.g']),\n",
    "        'kcal_per_g': df['kcal.per.g'].values,\n",
    "        'perc_fat': df['perc.fat'].values,\n",
    "        'new_predictor_X': generate_predictor_x(r=r),\n",
    "    }\n",
    "    return data"
   ]
  },
  {
   "cell_type": "code",
   "execution_count": 32,
   "id": "258dfb4d",
   "metadata": {},
   "outputs": [],
   "source": [
    "def adjust_model(r=0.9):\n",
    "    \n",
    "    parameter_mean_samples  = []\n",
    "    \n",
    "    for _ in range(1):  # In book running 100x\n",
    "        # Runnning the model\n",
    "        posteriori = stan.build(model, data=generate_data_dict(r=r))\n",
    "        samples = posteriori.sample(num_chains=4, num_samples=1000)\n",
    "        \n",
    "        # Get parameter slope mean\n",
    "        parameter_mean_samples.append(samples['bF'].flatten().mean())\n",
    "            \n",
    "    return parameter_mean_samples"
   ]
  },
  {
   "cell_type": "code",
   "execution_count": 33,
   "id": "51dd0f33",
   "metadata": {
    "tags": [
     "remove_output"
    ]
   },
   "outputs": [
    {
     "name": "stderr",
     "output_type": "stream",
     "text": [
      "\u001b[32mBuilding:\u001b[0m found in cache, done.\n",
      "\u001b[36mMessages from \u001b[0m\u001b[36;1mstanc\u001b[0m\u001b[36m:\u001b[0m\n",
      "Warning: The parameter sigma has no priors. This means either no prior is\n",
      "    provided, or the prior(s) depend on data variables. In the later case,\n",
      "    this may be a false positive.\n",
      "Warning: The parameter bX has no priors. This means either no prior is\n",
      "    provided, or the prior(s) depend on data variables. In the later case,\n",
      "    this may be a false positive.\n",
      "Warning: The parameter bF has no priors. This means either no prior is\n",
      "    provided, or the prior(s) depend on data variables. In the later case,\n",
      "    this may be a false positive.\n",
      "Warning: The parameter alpha has no priors. This means either no prior is\n",
      "    provided, or the prior(s) depend on data variables. In the later case,\n",
      "    this may be a false positive.\n",
      "\u001b[36mSampling:\u001b[0m   0%\n",
      "\u001b[1A\u001b[0J\u001b[36mSampling:\u001b[0m  25% (2000/8000)\n",
      "\u001b[1A\u001b[0J\u001b[36mSampling:\u001b[0m  50% (4000/8000)\n",
      "\u001b[1A\u001b[0J\u001b[36mSampling:\u001b[0m  75% (6000/8000)\n",
      "\u001b[1A\u001b[0J\u001b[36mSampling:\u001b[0m 100% (8000/8000)\n",
      "\u001b[1A\u001b[0J\u001b[32mSampling:\u001b[0m 100% (8000/8000), done.\n",
      "\u001b[36mMessages received during sampling:\u001b[0m\n",
      "  Gradient evaluation took 3e-05 seconds\n",
      "  1000 transitions using 10 leapfrog steps per transition would take 0.3 seconds.\n",
      "  Adjust your expectations accordingly!\n",
      "  Gradient evaluation took 5.4e-05 seconds\n",
      "  1000 transitions using 10 leapfrog steps per transition would take 0.54 seconds.\n",
      "  Adjust your expectations accordingly!\n",
      "  Gradient evaluation took 2.8e-05 seconds\n",
      "  1000 transitions using 10 leapfrog steps per transition would take 0.28 seconds.\n",
      "  Adjust your expectations accordingly!\n",
      "  Gradient evaluation took 3.8e-05 seconds\n",
      "  1000 transitions using 10 leapfrog steps per transition would take 0.38 seconds.\n",
      "  Adjust your expectations accordingly!\n",
      "\u001b[32mBuilding:\u001b[0m found in cache, done.\n",
      "\u001b[36mMessages from \u001b[0m\u001b[36;1mstanc\u001b[0m\u001b[36m:\u001b[0m\n",
      "Warning: The parameter sigma has no priors. This means either no prior is\n",
      "    provided, or the prior(s) depend on data variables. In the later case,\n",
      "    this may be a false positive.\n",
      "Warning: The parameter bX has no priors. This means either no prior is\n",
      "    provided, or the prior(s) depend on data variables. In the later case,\n",
      "    this may be a false positive.\n",
      "Warning: The parameter bF has no priors. This means either no prior is\n",
      "    provided, or the prior(s) depend on data variables. In the later case,\n",
      "    this may be a false positive.\n",
      "Warning: The parameter alpha has no priors. This means either no prior is\n",
      "    provided, or the prior(s) depend on data variables. In the later case,\n",
      "    this may be a false positive.\n",
      "\u001b[36mSampling:\u001b[0m   0%\n",
      "\u001b[1A\u001b[0J\u001b[36mSampling:\u001b[0m  25% (2000/8000)\n",
      "\u001b[1A\u001b[0J\u001b[36mSampling:\u001b[0m  50% (4000/8000)\n",
      "\u001b[1A\u001b[0J\u001b[36mSampling:\u001b[0m  75% (6000/8000)\n",
      "\u001b[1A\u001b[0J\u001b[36mSampling:\u001b[0m  80% (6400/8000)\n",
      "\u001b[1A\u001b[0J\u001b[36mSampling:\u001b[0m 100% (8000/8000)\n",
      "\u001b[1A\u001b[0J\u001b[32mSampling:\u001b[0m 100% (8000/8000), done.\n",
      "\u001b[36mMessages received during sampling:\u001b[0m\n",
      "  Gradient evaluation took 1.2e-05 seconds\n",
      "  1000 transitions using 10 leapfrog steps per transition would take 0.12 seconds.\n",
      "  Adjust your expectations accordingly!\n",
      "  Gradient evaluation took 1.2e-05 seconds\n",
      "  1000 transitions using 10 leapfrog steps per transition would take 0.12 seconds.\n",
      "  Adjust your expectations accordingly!\n",
      "  Gradient evaluation took 1.5e-05 seconds\n",
      "  1000 transitions using 10 leapfrog steps per transition would take 0.15 seconds.\n",
      "  Adjust your expectations accordingly!\n",
      "  Gradient evaluation took 1.4e-05 seconds\n",
      "  1000 transitions using 10 leapfrog steps per transition would take 0.14 seconds.\n",
      "  Adjust your expectations accordingly!\n",
      "\u001b[32mBuilding:\u001b[0m found in cache, done.\n",
      "\u001b[36mMessages from \u001b[0m\u001b[36;1mstanc\u001b[0m\u001b[36m:\u001b[0m\n",
      "Warning: The parameter sigma has no priors. This means either no prior is\n",
      "    provided, or the prior(s) depend on data variables. In the later case,\n",
      "    this may be a false positive.\n",
      "Warning: The parameter bX has no priors. This means either no prior is\n",
      "    provided, or the prior(s) depend on data variables. In the later case,\n",
      "    this may be a false positive.\n",
      "Warning: The parameter bF has no priors. This means either no prior is\n",
      "    provided, or the prior(s) depend on data variables. In the later case,\n",
      "    this may be a false positive.\n",
      "Warning: The parameter alpha has no priors. This means either no prior is\n",
      "    provided, or the prior(s) depend on data variables. In the later case,\n",
      "    this may be a false positive.\n",
      "\u001b[36mSampling:\u001b[0m   0%\n",
      "\u001b[1A\u001b[0J\u001b[36mSampling:\u001b[0m  25% (2000/8000)\n",
      "\u001b[1A\u001b[0J\u001b[36mSampling:\u001b[0m  50% (4000/8000)\n",
      "\u001b[1A\u001b[0J\u001b[36mSampling:\u001b[0m  75% (6000/8000)\n",
      "\u001b[1A\u001b[0J\u001b[36mSampling:\u001b[0m  80% (6400/8000)\n",
      "\u001b[1A\u001b[0J\u001b[36mSampling:\u001b[0m 100% (8000/8000)\n",
      "\u001b[1A\u001b[0J\u001b[32mSampling:\u001b[0m 100% (8000/8000), done.\n",
      "\u001b[36mMessages received during sampling:\u001b[0m\n",
      "  Gradient evaluation took 9e-06 seconds\n",
      "  1000 transitions using 10 leapfrog steps per transition would take 0.09 seconds.\n",
      "  Adjust your expectations accordingly!\n",
      "  Gradient evaluation took 6e-06 seconds\n",
      "  1000 transitions using 10 leapfrog steps per transition would take 0.06 seconds.\n",
      "  Adjust your expectations accordingly!\n",
      "  Gradient evaluation took 5e-06 seconds\n",
      "  1000 transitions using 10 leapfrog steps per transition would take 0.05 seconds.\n",
      "  Adjust your expectations accordingly!\n",
      "  Gradient evaluation took 1.1e-05 seconds\n",
      "  1000 transitions using 10 leapfrog steps per transition would take 0.11 seconds.\n",
      "  Adjust your expectations accordingly!\n",
      "\u001b[32mBuilding:\u001b[0m found in cache, done.\n",
      "\u001b[36mMessages from \u001b[0m\u001b[36;1mstanc\u001b[0m\u001b[36m:\u001b[0m\n",
      "Warning: The parameter sigma has no priors. This means either no prior is\n",
      "    provided, or the prior(s) depend on data variables. In the later case,\n",
      "    this may be a false positive.\n",
      "Warning: The parameter bX has no priors. This means either no prior is\n",
      "    provided, or the prior(s) depend on data variables. In the later case,\n",
      "    this may be a false positive.\n",
      "Warning: The parameter bF has no priors. This means either no prior is\n",
      "    provided, or the prior(s) depend on data variables. In the later case,\n",
      "    this may be a false positive.\n",
      "Warning: The parameter alpha has no priors. This means either no prior is\n",
      "    provided, or the prior(s) depend on data variables. In the later case,\n",
      "    this may be a false positive.\n",
      "\u001b[36mSampling:\u001b[0m   0%\n",
      "\u001b[1A\u001b[0J\u001b[36mSampling:\u001b[0m  25% (2000/8000)\n",
      "\u001b[1A\u001b[0J\u001b[36mSampling:\u001b[0m  50% (4000/8000)\n",
      "\u001b[1A\u001b[0J\u001b[36mSampling:\u001b[0m  75% (6000/8000)\n",
      "\u001b[1A\u001b[0J\u001b[36mSampling:\u001b[0m 100% (8000/8000)\n",
      "\u001b[1A\u001b[0J\u001b[32mSampling:\u001b[0m 100% (8000/8000), done.\n",
      "\u001b[36mMessages received during sampling:\u001b[0m\n",
      "  Gradient evaluation took 8e-06 seconds\n",
      "  1000 transitions using 10 leapfrog steps per transition would take 0.08 seconds.\n",
      "  Adjust your expectations accordingly!\n",
      "  Gradient evaluation took 7e-06 seconds\n",
      "  1000 transitions using 10 leapfrog steps per transition would take 0.07 seconds.\n",
      "  Adjust your expectations accordingly!\n",
      "  Gradient evaluation took 6e-06 seconds\n",
      "  1000 transitions using 10 leapfrog steps per transition would take 0.06 seconds.\n",
      "  Adjust your expectations accordingly!\n",
      "  Gradient evaluation took 8e-06 seconds\n",
      "  1000 transitions using 10 leapfrog steps per transition would take 0.08 seconds.\n",
      "  Adjust your expectations accordingly!\n",
      "\u001b[32mBuilding:\u001b[0m found in cache, done.\n",
      "\u001b[36mMessages from \u001b[0m\u001b[36;1mstanc\u001b[0m\u001b[36m:\u001b[0m\n",
      "Warning: The parameter sigma has no priors. This means either no prior is\n",
      "    provided, or the prior(s) depend on data variables. In the later case,\n",
      "    this may be a false positive.\n",
      "Warning: The parameter bX has no priors. This means either no prior is\n",
      "    provided, or the prior(s) depend on data variables. In the later case,\n",
      "    this may be a false positive.\n",
      "Warning: The parameter bF has no priors. This means either no prior is\n",
      "    provided, or the prior(s) depend on data variables. In the later case,\n",
      "    this may be a false positive.\n",
      "Warning: The parameter alpha has no priors. This means either no prior is\n",
      "    provided, or the prior(s) depend on data variables. In the later case,\n",
      "    this may be a false positive.\n",
      "\u001b[36mSampling:\u001b[0m   0%\n",
      "\u001b[1A\u001b[0J\u001b[36mSampling:\u001b[0m  25% (2000/8000)\n",
      "\u001b[1A\u001b[0J\u001b[36mSampling:\u001b[0m  50% (4000/8000)\n",
      "\u001b[1A\u001b[0J\u001b[36mSampling:\u001b[0m  75% (6000/8000)\n",
      "\u001b[1A\u001b[0J\u001b[36mSampling:\u001b[0m 100% (8000/8000)\n"
     ]
    },
    {
     "name": "stderr",
     "output_type": "stream",
     "text": [
      "\u001b[1A\u001b[0J\u001b[32mSampling:\u001b[0m 100% (8000/8000), done.\n",
      "\u001b[36mMessages received during sampling:\u001b[0m\n",
      "  Gradient evaluation took 8e-06 seconds\n",
      "  1000 transitions using 10 leapfrog steps per transition would take 0.08 seconds.\n",
      "  Adjust your expectations accordingly!\n",
      "  Gradient evaluation took 7e-06 seconds\n",
      "  1000 transitions using 10 leapfrog steps per transition would take 0.07 seconds.\n",
      "  Adjust your expectations accordingly!\n",
      "  Gradient evaluation took 6e-06 seconds\n",
      "  1000 transitions using 10 leapfrog steps per transition would take 0.06 seconds.\n",
      "  Adjust your expectations accordingly!\n",
      "  Gradient evaluation took 9e-06 seconds\n",
      "  1000 transitions using 10 leapfrog steps per transition would take 0.09 seconds.\n",
      "  Adjust your expectations accordingly!\n",
      "\u001b[32mBuilding:\u001b[0m found in cache, done.\n",
      "\u001b[36mMessages from \u001b[0m\u001b[36;1mstanc\u001b[0m\u001b[36m:\u001b[0m\n",
      "Warning: The parameter sigma has no priors. This means either no prior is\n",
      "    provided, or the prior(s) depend on data variables. In the later case,\n",
      "    this may be a false positive.\n",
      "Warning: The parameter bX has no priors. This means either no prior is\n",
      "    provided, or the prior(s) depend on data variables. In the later case,\n",
      "    this may be a false positive.\n",
      "Warning: The parameter bF has no priors. This means either no prior is\n",
      "    provided, or the prior(s) depend on data variables. In the later case,\n",
      "    this may be a false positive.\n",
      "Warning: The parameter alpha has no priors. This means either no prior is\n",
      "    provided, or the prior(s) depend on data variables. In the later case,\n",
      "    this may be a false positive.\n",
      "\u001b[36mSampling:\u001b[0m   0%\n",
      "\u001b[1A\u001b[0J\u001b[36mSampling:\u001b[0m  25% (2000/8000)\n",
      "\u001b[1A\u001b[0J\u001b[36mSampling:\u001b[0m  50% (4000/8000)\n",
      "\u001b[1A\u001b[0J\u001b[36mSampling:\u001b[0m  75% (6000/8000)\n",
      "\u001b[1A\u001b[0J\u001b[36mSampling:\u001b[0m 100% (8000/8000)\n",
      "\u001b[1A\u001b[0J\u001b[32mSampling:\u001b[0m 100% (8000/8000), done.\n",
      "\u001b[36mMessages received during sampling:\u001b[0m\n",
      "  Gradient evaluation took 8e-06 seconds\n",
      "  1000 transitions using 10 leapfrog steps per transition would take 0.08 seconds.\n",
      "  Adjust your expectations accordingly!\n",
      "  Gradient evaluation took 6e-06 seconds\n",
      "  1000 transitions using 10 leapfrog steps per transition would take 0.06 seconds.\n",
      "  Adjust your expectations accordingly!\n",
      "  Gradient evaluation took 6e-06 seconds\n",
      "  1000 transitions using 10 leapfrog steps per transition would take 0.06 seconds.\n",
      "  Adjust your expectations accordingly!\n",
      "  Gradient evaluation took 1e-05 seconds\n",
      "  1000 transitions using 10 leapfrog steps per transition would take 0.1 seconds.\n",
      "  Adjust your expectations accordingly!\n",
      "\u001b[32mBuilding:\u001b[0m found in cache, done.\n",
      "\u001b[36mMessages from \u001b[0m\u001b[36;1mstanc\u001b[0m\u001b[36m:\u001b[0m\n",
      "Warning: The parameter sigma has no priors. This means either no prior is\n",
      "    provided, or the prior(s) depend on data variables. In the later case,\n",
      "    this may be a false positive.\n",
      "Warning: The parameter bX has no priors. This means either no prior is\n",
      "    provided, or the prior(s) depend on data variables. In the later case,\n",
      "    this may be a false positive.\n",
      "Warning: The parameter bF has no priors. This means either no prior is\n",
      "    provided, or the prior(s) depend on data variables. In the later case,\n",
      "    this may be a false positive.\n",
      "Warning: The parameter alpha has no priors. This means either no prior is\n",
      "    provided, or the prior(s) depend on data variables. In the later case,\n",
      "    this may be a false positive.\n",
      "\u001b[36mSampling:\u001b[0m   0%\n",
      "\u001b[1A\u001b[0J\u001b[36mSampling:\u001b[0m  25% (2000/8000)\n",
      "\u001b[1A\u001b[0J\u001b[36mSampling:\u001b[0m  50% (4000/8000)\n",
      "\u001b[1A\u001b[0J\u001b[36mSampling:\u001b[0m  75% (6000/8000)\n",
      "\u001b[1A\u001b[0J\u001b[36mSampling:\u001b[0m  85% (6800/8000)\n",
      "\u001b[1A\u001b[0J\u001b[36mSampling:\u001b[0m 100% (8000/8000)\n",
      "\u001b[1A\u001b[0J\u001b[32mSampling:\u001b[0m 100% (8000/8000), done.\n",
      "\u001b[36mMessages received during sampling:\u001b[0m\n",
      "  Gradient evaluation took 8e-06 seconds\n",
      "  1000 transitions using 10 leapfrog steps per transition would take 0.08 seconds.\n",
      "  Adjust your expectations accordingly!\n",
      "  Gradient evaluation took 7e-06 seconds\n",
      "  1000 transitions using 10 leapfrog steps per transition would take 0.07 seconds.\n",
      "  Adjust your expectations accordingly!\n",
      "  Gradient evaluation took 6e-06 seconds\n",
      "  1000 transitions using 10 leapfrog steps per transition would take 0.06 seconds.\n",
      "  Adjust your expectations accordingly!\n",
      "  Gradient evaluation took 9e-06 seconds\n",
      "  1000 transitions using 10 leapfrog steps per transition would take 0.09 seconds.\n",
      "  Adjust your expectations accordingly!\n",
      "\u001b[32mBuilding:\u001b[0m found in cache, done.\n",
      "\u001b[36mMessages from \u001b[0m\u001b[36;1mstanc\u001b[0m\u001b[36m:\u001b[0m\n",
      "Warning: The parameter sigma has no priors. This means either no prior is\n",
      "    provided, or the prior(s) depend on data variables. In the later case,\n",
      "    this may be a false positive.\n",
      "Warning: The parameter bX has no priors. This means either no prior is\n",
      "    provided, or the prior(s) depend on data variables. In the later case,\n",
      "    this may be a false positive.\n",
      "Warning: The parameter bF has no priors. This means either no prior is\n",
      "    provided, or the prior(s) depend on data variables. In the later case,\n",
      "    this may be a false positive.\n",
      "Warning: The parameter alpha has no priors. This means either no prior is\n",
      "    provided, or the prior(s) depend on data variables. In the later case,\n",
      "    this may be a false positive.\n",
      "\u001b[36mSampling:\u001b[0m   0%\n",
      "\u001b[1A\u001b[0J\u001b[36mSampling:\u001b[0m  25% (2000/8000)\n",
      "\u001b[1A\u001b[0J\u001b[36mSampling:\u001b[0m  50% (4000/8000)\n",
      "\u001b[1A\u001b[0J\u001b[36mSampling:\u001b[0m  75% (6000/8000)\n",
      "\u001b[1A\u001b[0J\u001b[36mSampling:\u001b[0m 100% (8000/8000)\n",
      "\u001b[1A\u001b[0J\u001b[32mSampling:\u001b[0m 100% (8000/8000), done.\n",
      "\u001b[36mMessages received during sampling:\u001b[0m\n",
      "  Gradient evaluation took 9e-06 seconds\n",
      "  1000 transitions using 10 leapfrog steps per transition would take 0.09 seconds.\n",
      "  Adjust your expectations accordingly!\n",
      "  Gradient evaluation took 6e-06 seconds\n",
      "  1000 transitions using 10 leapfrog steps per transition would take 0.06 seconds.\n",
      "  Adjust your expectations accordingly!\n",
      "  Gradient evaluation took 6e-06 seconds\n",
      "  1000 transitions using 10 leapfrog steps per transition would take 0.06 seconds.\n",
      "  Adjust your expectations accordingly!\n",
      "  Gradient evaluation took 1e-05 seconds\n",
      "  1000 transitions using 10 leapfrog steps per transition would take 0.1 seconds.\n",
      "  Adjust your expectations accordingly!\n",
      "\u001b[32mBuilding:\u001b[0m found in cache, done.\n",
      "\u001b[36mMessages from \u001b[0m\u001b[36;1mstanc\u001b[0m\u001b[36m:\u001b[0m\n",
      "Warning: The parameter sigma has no priors. This means either no prior is\n",
      "    provided, or the prior(s) depend on data variables. In the later case,\n",
      "    this may be a false positive.\n",
      "Warning: The parameter bX has no priors. This means either no prior is\n",
      "    provided, or the prior(s) depend on data variables. In the later case,\n",
      "    this may be a false positive.\n",
      "Warning: The parameter bF has no priors. This means either no prior is\n",
      "    provided, or the prior(s) depend on data variables. In the later case,\n",
      "    this may be a false positive.\n",
      "Warning: The parameter alpha has no priors. This means either no prior is\n",
      "    provided, or the prior(s) depend on data variables. In the later case,\n",
      "    this may be a false positive.\n",
      "\u001b[36mSampling:\u001b[0m   0%\n",
      "\u001b[1A\u001b[0J\u001b[36mSampling:\u001b[0m  25% (2000/8000)\n",
      "\u001b[1A\u001b[0J\u001b[36mSampling:\u001b[0m  50% (4000/8000)\n",
      "\u001b[1A\u001b[0J\u001b[36mSampling:\u001b[0m  75% (6000/8000)\n",
      "\u001b[1A\u001b[0J\u001b[36mSampling:\u001b[0m 100% (8000/8000)\n",
      "\u001b[1A\u001b[0J\u001b[32mSampling:\u001b[0m 100% (8000/8000), done.\n",
      "\u001b[36mMessages received during sampling:\u001b[0m\n",
      "  Gradient evaluation took 8e-06 seconds\n",
      "  1000 transitions using 10 leapfrog steps per transition would take 0.08 seconds.\n",
      "  Adjust your expectations accordingly!\n",
      "  Gradient evaluation took 5e-06 seconds\n",
      "  1000 transitions using 10 leapfrog steps per transition would take 0.05 seconds.\n",
      "  Adjust your expectations accordingly!\n",
      "  Gradient evaluation took 7e-06 seconds\n",
      "  1000 transitions using 10 leapfrog steps per transition would take 0.07 seconds.\n",
      "  Adjust your expectations accordingly!\n",
      "  Gradient evaluation took 8e-06 seconds\n",
      "  1000 transitions using 10 leapfrog steps per transition would take 0.08 seconds.\n",
      "  Adjust your expectations accordingly!\n",
      "\u001b[32mBuilding:\u001b[0m found in cache, done.\n",
      "\u001b[36mMessages from \u001b[0m\u001b[36;1mstanc\u001b[0m\u001b[36m:\u001b[0m\n",
      "Warning: The parameter sigma has no priors. This means either no prior is\n",
      "    provided, or the prior(s) depend on data variables. In the later case,\n",
      "    this may be a false positive.\n",
      "Warning: The parameter bX has no priors. This means either no prior is\n",
      "    provided, or the prior(s) depend on data variables. In the later case,\n",
      "    this may be a false positive.\n",
      "Warning: The parameter bF has no priors. This means either no prior is\n",
      "    provided, or the prior(s) depend on data variables. In the later case,\n",
      "    this may be a false positive.\n",
      "Warning: The parameter alpha has no priors. This means either no prior is\n",
      "    provided, or the prior(s) depend on data variables. In the later case,\n",
      "    this may be a false positive.\n"
     ]
    },
    {
     "name": "stderr",
     "output_type": "stream",
     "text": [
      "\u001b[36mSampling:\u001b[0m   0%\n",
      "\u001b[1A\u001b[0J\u001b[36mSampling:\u001b[0m   9% (700/8000)\n",
      "\u001b[1A\u001b[0J\u001b[36mSampling:\u001b[0m  34% (2700/8000)\n",
      "\u001b[1A\u001b[0J\u001b[36mSampling:\u001b[0m  59% (4700/8000)\n",
      "\u001b[1A\u001b[0J\u001b[36mSampling:\u001b[0m  84% (6700/8000)\n",
      "\u001b[1A\u001b[0J\u001b[36mSampling:\u001b[0m 100% (8000/8000)\n",
      "\u001b[1A\u001b[0J\u001b[32mSampling:\u001b[0m 100% (8000/8000), done.\n",
      "\u001b[36mMessages received during sampling:\u001b[0m\n",
      "  Gradient evaluation took 7e-06 seconds\n",
      "  1000 transitions using 10 leapfrog steps per transition would take 0.07 seconds.\n",
      "  Adjust your expectations accordingly!\n",
      "  Gradient evaluation took 6e-06 seconds\n",
      "  1000 transitions using 10 leapfrog steps per transition would take 0.06 seconds.\n",
      "  Adjust your expectations accordingly!\n",
      "  Gradient evaluation took 6e-06 seconds\n",
      "  1000 transitions using 10 leapfrog steps per transition would take 0.06 seconds.\n",
      "  Adjust your expectations accordingly!\n",
      "  Informational Message: The current Metropolis proposal is about to be rejected because of the following issue:\n",
      "  Exception: normal_lpdf: Scale parameter is 0, but must be positive! (in '/tmp/httpstan_8d2sm6wp/model_72hqbwsd.stan', line 17, column 8 to column 81)\n",
      "  If this warning occurs sporadically, such as for highly constrained variable types like covariance matrices, then the sampler is fine,\n",
      "  but if this warning occurs often then your model may be either severely ill-conditioned or misspecified.\n",
      "  Gradient evaluation took 7e-06 seconds\n",
      "  1000 transitions using 10 leapfrog steps per transition would take 0.07 seconds.\n",
      "  Adjust your expectations accordingly!\n"
     ]
    }
   ],
   "source": [
    "stddev = []\n",
    "r_sequence = np.arange(0, 0.99, 0.1)  # In book using 0.01\n",
    "\n",
    "for r in r_sequence:\n",
    "    parameter = adjust_model(r=r)\n",
    "    stddev.append(np.mean(parameter))"
   ]
  },
  {
   "cell_type": "code",
   "execution_count": 34,
   "id": "94bedff6",
   "metadata": {},
   "outputs": [
    {
     "data": {
      "image/png": "[encoded data removed]",
      "text/plain": [
       "<Figure size 1224x432 with 1 Axes>"
      ]
     },
     "metadata": {
      "needs_background": "light"
     },
     "output_type": "display_data"
    }
   ],
   "source": [
    "plt.figure(figsize=(17, 6))\n",
    "\n",
    "plt.plot(r_sequence, stddev)\n",
    "plt.xlabel(\"correlation\", fontsize=14)\n",
    "plt.ylabel(\"stddev\", fontsize=14)\n",
    "plt.show()"
   ]
  },
  {
   "cell_type": "markdown",
   "id": "a2a2d01e",
   "metadata": {},
   "source": [
    "### R Code 6.13"
   ]
  },
  {
   "cell_type": "code",
   "execution_count": 35,
   "id": "08d57d29",
   "metadata": {},
   "outputs": [
    {
     "data": {
      "text/html": [
       "<div>\n",
       "<style scoped>\n",
       "    .dataframe tbody tr th:only-of-type {\n",
       "        vertical-align: middle;\n",
       "    }\n",
       "\n",
       "    .dataframe tbody tr th {\n",
       "        vertical-align: top;\n",
       "    }\n",
       "\n",
       "    .dataframe thead th {\n",
       "        text-align: right;\n",
       "    }\n",
       "</style>\n",
       "<table border=\"1\" class=\"dataframe\">\n",
       "  <thead>\n",
       "    <tr style=\"text-align: right;\">\n",
       "      <th></th>\n",
       "      <th>count</th>\n",
       "      <th>mean</th>\n",
       "      <th>std</th>\n",
       "      <th>min</th>\n",
       "      <th>25%</th>\n",
       "      <th>50%</th>\n",
       "      <th>75%</th>\n",
       "      <th>max</th>\n",
       "    </tr>\n",
       "  </thead>\n",
       "  <tbody>\n",
       "    <tr>\n",
       "      <th>h0</th>\n",
       "      <td>100.0</td>\n",
       "      <td>9.782726</td>\n",
       "      <td>2.138707</td>\n",
       "      <td>4.168524</td>\n",
       "      <td>8.279903</td>\n",
       "      <td>9.642072</td>\n",
       "      <td>11.353860</td>\n",
       "      <td>14.316299</td>\n",
       "    </tr>\n",
       "    <tr>\n",
       "      <th>h1</th>\n",
       "      <td>100.0</td>\n",
       "      <td>14.209396</td>\n",
       "      <td>2.766929</td>\n",
       "      <td>6.881795</td>\n",
       "      <td>12.512818</td>\n",
       "      <td>14.190085</td>\n",
       "      <td>15.688766</td>\n",
       "      <td>20.786965</td>\n",
       "    </tr>\n",
       "    <tr>\n",
       "      <th>treatment</th>\n",
       "      <td>100.0</td>\n",
       "      <td>0.500000</td>\n",
       "      <td>0.502519</td>\n",
       "      <td>0.000000</td>\n",
       "      <td>0.000000</td>\n",
       "      <td>0.500000</td>\n",
       "      <td>1.000000</td>\n",
       "      <td>1.000000</td>\n",
       "    </tr>\n",
       "    <tr>\n",
       "      <th>fungus</th>\n",
       "      <td>100.0</td>\n",
       "      <td>0.270000</td>\n",
       "      <td>0.446196</td>\n",
       "      <td>0.000000</td>\n",
       "      <td>0.000000</td>\n",
       "      <td>0.000000</td>\n",
       "      <td>1.000000</td>\n",
       "      <td>1.000000</td>\n",
       "    </tr>\n",
       "  </tbody>\n",
       "</table>\n",
       "</div>"
      ],
      "text/plain": [
       "           count       mean       std       min        25%        50%  \\\n",
       "h0         100.0   9.782726  2.138707  4.168524   8.279903   9.642072   \n",
       "h1         100.0  14.209396  2.766929  6.881795  12.512818  14.190085   \n",
       "treatment  100.0   0.500000  0.502519  0.000000   0.000000   0.500000   \n",
       "fungus     100.0   0.270000  0.446196  0.000000   0.000000   0.000000   \n",
       "\n",
       "                 75%        max  \n",
       "h0         11.353860  14.316299  \n",
       "h1         15.688766  20.786965  \n",
       "treatment   1.000000   1.000000  \n",
       "fungus      1.000000   1.000000  "
      ]
     },
     "execution_count": 35,
     "metadata": {},
     "output_type": "execute_result"
    }
   ],
   "source": [
    "np.random.seed(3)\n",
    "\n",
    "# Quantidade de plantas\n",
    "N = 100\n",
    "\n",
    "# Simulação inicial das alturas\n",
    "h0 = np.random.normal(10, 2, N)\n",
    "\n",
    "# Atribuindo tratamentos e simulando fungos e tratamentos\n",
    "treatment = np.repeat([0,1], repeats=int(N/2))\n",
    "fungus = np.random.binomial(n=1, p=(0.5 - treatment*0.4), size=N)\n",
    "h1 = h0 + np.random.normal(5 - 3*fungus, 1, N)\n",
    "\n",
    "# Dataframe\n",
    "d = pd.DataFrame.from_dict({'h0': h0, \n",
    "                            'h1': h1, \n",
    "                            'treatment': treatment, \n",
    "                            'fungus': fungus})\n",
    "d.describe().T"
   ]
  },
  {
   "cell_type": "markdown",
   "id": "2b6fd9a7",
   "metadata": {},
   "source": [
    "### R Code 6.14"
   ]
  },
  {
   "cell_type": "code",
   "execution_count": 36,
   "id": "e288a443",
   "metadata": {},
   "outputs": [
    {
     "data": {
      "text/html": [
       "<div>\n",
       "<style scoped>\n",
       "    .dataframe tbody tr th:only-of-type {\n",
       "        vertical-align: middle;\n",
       "    }\n",
       "\n",
       "    .dataframe tbody tr th {\n",
       "        vertical-align: top;\n",
       "    }\n",
       "\n",
       "    .dataframe thead th {\n",
       "        text-align: right;\n",
       "    }\n",
       "</style>\n",
       "<table border=\"1\" class=\"dataframe\">\n",
       "  <thead>\n",
       "    <tr style=\"text-align: right;\">\n",
       "      <th></th>\n",
       "      <th>count</th>\n",
       "      <th>mean</th>\n",
       "      <th>std</th>\n",
       "      <th>min</th>\n",
       "      <th>25%</th>\n",
       "      <th>50%</th>\n",
       "      <th>75%</th>\n",
       "      <th>max</th>\n",
       "    </tr>\n",
       "  </thead>\n",
       "  <tbody>\n",
       "    <tr>\n",
       "      <th>sim_p</th>\n",
       "      <td>10000.0</td>\n",
       "      <td>1.02366</td>\n",
       "      <td>0.259148</td>\n",
       "      <td>0.391611</td>\n",
       "      <td>0.83898</td>\n",
       "      <td>0.993265</td>\n",
       "      <td>1.174575</td>\n",
       "      <td>2.781105</td>\n",
       "    </tr>\n",
       "  </tbody>\n",
       "</table>\n",
       "</div>"
      ],
      "text/plain": [
       "         count     mean       std       min      25%       50%       75%  \\\n",
       "sim_p  10000.0  1.02366  0.259148  0.391611  0.83898  0.993265  1.174575   \n",
       "\n",
       "            max  \n",
       "sim_p  2.781105  "
      ]
     },
     "execution_count": 36,
     "metadata": {},
     "output_type": "execute_result"
    }
   ],
   "source": [
    "sim_p = np.random.lognormal(0, 0.25, int(1e4))\n",
    "pd.DataFrame(sim_p, columns=['sim_p']).describe().T"
   ]
  },
  {
   "cell_type": "markdown",
   "id": "1069b797",
   "metadata": {},
   "source": [
    "### R Code 6.15"
   ]
  },
  {
   "cell_type": "markdown",
   "id": "489bb597",
   "metadata": {},
   "source": [
    "Modelo:\n",
    "\n",
    "$$ h_{1,i} \\sim Normal(\\mu_i, \\sigma) $$\n",
    "\n",
    "$$ \\mu_i = h_{0, i} \\times p $$\n",
    "\n",
    "Prioris: \n",
    "\n",
    "$$ p \\sim LogNormal(0, 0.25) $$\n",
    "\n",
    "$$ sigma \\sim Exponential(1) $$"
   ]
  },
  {
   "cell_type": "code",
   "execution_count": 37,
   "id": "13a32efc",
   "metadata": {
    "tags": [
     "remove_output"
    ]
   },
   "outputs": [
    {
     "name": "stderr",
     "output_type": "stream",
     "text": [
      "\u001b[32mBuilding:\u001b[0m found in cache, done.\n",
      "\u001b[36mSampling:\u001b[0m   0%\n",
      "\u001b[1A\u001b[0J\u001b[36mSampling:\u001b[0m  25% (2000/8000)\n",
      "\u001b[1A\u001b[0J\u001b[36mSampling:\u001b[0m  50% (4000/8000)\n",
      "\u001b[1A\u001b[0J\u001b[36mSampling:\u001b[0m  75% (6000/8000)\n",
      "\u001b[1A\u001b[0J\u001b[36mSampling:\u001b[0m 100% (8000/8000)\n",
      "\u001b[1A\u001b[0J\u001b[32mSampling:\u001b[0m 100% (8000/8000), done.\n",
      "\u001b[36mMessages received during sampling:\u001b[0m\n",
      "  Gradient evaluation took 2.1e-05 seconds\n",
      "  1000 transitions using 10 leapfrog steps per transition would take 0.21 seconds.\n",
      "  Adjust your expectations accordingly!\n",
      "  Informational Message: The current Metropolis proposal is about to be rejected because of the following issue:\n",
      "  Exception: normal_lpdf: Location parameter[1] is inf, but must be finite! (in '/tmp/httpstan_tmv3g7y8/model_jd4qfihi.stan', line 18, column 8 to column 31)\n",
      "  If this warning occurs sporadically, such as for highly constrained variable types like covariance matrices, then the sampler is fine,\n",
      "  but if this warning occurs often then your model may be either severely ill-conditioned or misspecified.\n",
      "  Gradient evaluation took 1.6e-05 seconds\n",
      "  1000 transitions using 10 leapfrog steps per transition would take 0.16 seconds.\n",
      "  Adjust your expectations accordingly!\n",
      "  Informational Message: The current Metropolis proposal is about to be rejected because of the following issue:\n",
      "  Exception: normal_lpdf: Location parameter[1] is inf, but must be finite! (in '/tmp/httpstan_tmv3g7y8/model_jd4qfihi.stan', line 18, column 8 to column 31)\n",
      "  If this warning occurs sporadically, such as for highly constrained variable types like covariance matrices, then the sampler is fine,\n",
      "  but if this warning occurs often then your model may be either severely ill-conditioned or misspecified.\n",
      "  Informational Message: The current Metropolis proposal is about to be rejected because of the following issue:\n",
      "  Exception: normal_lpdf: Location parameter[1] is inf, but must be finite! (in '/tmp/httpstan_tmv3g7y8/model_jd4qfihi.stan', line 18, column 8 to column 31)\n",
      "  If this warning occurs sporadically, such as for highly constrained variable types like covariance matrices, then the sampler is fine,\n",
      "  but if this warning occurs often then your model may be either severely ill-conditioned or misspecified.\n",
      "  Gradient evaluation took 2.7e-05 seconds\n",
      "  1000 transitions using 10 leapfrog steps per transition would take 0.27 seconds.\n",
      "  Adjust your expectations accordingly!\n",
      "  Informational Message: The current Metropolis proposal is about to be rejected because of the following issue:\n",
      "  Exception: normal_lpdf: Location parameter[1] is inf, but must be finite! (in '/tmp/httpstan_tmv3g7y8/model_jd4qfihi.stan', line 18, column 8 to column 31)\n",
      "  If this warning occurs sporadically, such as for highly constrained variable types like covariance matrices, then the sampler is fine,\n",
      "  but if this warning occurs often then your model may be either severely ill-conditioned or misspecified.\n",
      "  Gradient evaluation took 2e-05 seconds\n",
      "  1000 transitions using 10 leapfrog steps per transition would take 0.2 seconds.\n",
      "  Adjust your expectations accordingly!\n",
      "  Informational Message: The current Metropolis proposal is about to be rejected because of the following issue:\n",
      "  Exception: normal_lpdf: Location parameter[1] is inf, but must be finite! (in '/tmp/httpstan_tmv3g7y8/model_jd4qfihi.stan', line 18, column 8 to column 31)\n",
      "  If this warning occurs sporadically, such as for highly constrained variable types like covariance matrices, then the sampler is fine,\n",
      "  but if this warning occurs often then your model may be either severely ill-conditioned or misspecified.\n",
      "  Informational Message: The current Metropolis proposal is about to be rejected because of the following issue:\n",
      "  Exception: normal_lpdf: Location parameter[1] is inf, but must be finite! (in '/tmp/httpstan_tmv3g7y8/model_jd4qfihi.stan', line 18, column 8 to column 31)\n",
      "  If this warning occurs sporadically, such as for highly constrained variable types like covariance matrices, then the sampler is fine,\n",
      "  but if this warning occurs often then your model may be either severely ill-conditioned or misspecified.\n",
      "  Informational Message: The current Metropolis proposal is about to be rejected because of the following issue:\n",
      "  Exception: normal_lpdf: Location parameter[1] is inf, but must be finite! (in '/tmp/httpstan_tmv3g7y8/model_jd4qfihi.stan', line 18, column 8 to column 31)\n",
      "  If this warning occurs sporadically, such as for highly constrained variable types like covariance matrices, then the sampler is fine,\n",
      "  but if this warning occurs often then your model may be either severely ill-conditioned or misspecified.\n",
      "  Informational Message: The current Metropolis proposal is about to be rejected because of the following issue:\n",
      "  Exception: normal_lpdf: Location parameter[1] is inf, but must be finite! (in '/tmp/httpstan_tmv3g7y8/model_jd4qfihi.stan', line 18, column 8 to column 31)\n",
      "  If this warning occurs sporadically, such as for highly constrained variable types like covariance matrices, then the sampler is fine,\n",
      "  but if this warning occurs often then your model may be either severely ill-conditioned or misspecified.\n",
      "  Informational Message: The current Metropolis proposal is about to be rejected because of the following issue:\n",
      "  Exception: normal_lpdf: Location parameter[1] is inf, but must be finite! (in '/tmp/httpstan_tmv3g7y8/model_jd4qfihi.stan', line 18, column 8 to column 31)\n",
      "  If this warning occurs sporadically, such as for highly constrained variable types like covariance matrices, then the sampler is fine,\n",
      "  but if this warning occurs often then your model may be either severely ill-conditioned or misspecified.\n",
      "  Informational Message: The current Metropolis proposal is about to be rejected because of the following issue:\n",
      "  Exception: normal_lpdf: Location parameter[1] is inf, but must be finite! (in '/tmp/httpstan_tmv3g7y8/model_jd4qfihi.stan', line 18, column 8 to column 31)\n",
      "  If this warning occurs sporadically, such as for highly constrained variable types like covariance matrices, then the sampler is fine,\n",
      "  but if this warning occurs often then your model may be either severely ill-conditioned or misspecified.\n",
      "  Informational Message: The current Metropolis proposal is about to be rejected because of the following issue:\n",
      "  Exception: normal_lpdf: Location parameter[1] is inf, but must be finite! (in '/tmp/httpstan_tmv3g7y8/model_jd4qfihi.stan', line 18, column 8 to column 31)\n",
      "  If this warning occurs sporadically, such as for highly constrained variable types like covariance matrices, then the sampler is fine,\n",
      "  but if this warning occurs often then your model may be either severely ill-conditioned or misspecified.\n"
     ]
    }
   ],
   "source": [
    "model = \"\"\"\n",
    "    data {\n",
    "        int N; \n",
    "        vector[N] h1;\n",
    "        vector[N] h0;\n",
    "    }\n",
    "    \n",
    "    parameters {\n",
    "        real<lower=0> p;\n",
    "        real<lower=0> sigma;\n",
    "        \n",
    "    }\n",
    "    \n",
    "    model {\n",
    "        vector[N] mu;\n",
    "        mu = h0 * p;\n",
    "        \n",
    "        h1 ~ normal(mu, sigma);\n",
    "        \n",
    "        // Prioris\n",
    "        p ~ lognormal(0, 0.25);\n",
    "        sigma ~ exponential(1); \n",
    "    }\n",
    "\"\"\"\n",
    "\n",
    "\n",
    "data = {\n",
    "    'N': N,\n",
    "    'h1': h1,\n",
    "    'h0': h0,\n",
    "}\n",
    "\n",
    "posteriori = stan.build(model, data=data)\n",
    "samples = posteriori.sample(num_chains=4, num_samples=1000)"
   ]
  },
  {
   "cell_type": "code",
   "execution_count": 38,
   "id": "4204aa47",
   "metadata": {},
   "outputs": [
    {
     "data": {
      "text/html": [
       "<div>\n",
       "<style scoped>\n",
       "    .dataframe tbody tr th:only-of-type {\n",
       "        vertical-align: middle;\n",
       "    }\n",
       "\n",
       "    .dataframe tbody tr th {\n",
       "        vertical-align: top;\n",
       "    }\n",
       "\n",
       "    .dataframe thead th {\n",
       "        text-align: right;\n",
       "    }\n",
       "</style>\n",
       "<table border=\"1\" class=\"dataframe\">\n",
       "  <thead>\n",
       "    <tr style=\"text-align: right;\">\n",
       "      <th></th>\n",
       "      <th>mean</th>\n",
       "      <th>std</th>\n",
       "      <th>7.0%</th>\n",
       "      <th>93.0%</th>\n",
       "    </tr>\n",
       "  </thead>\n",
       "  <tbody>\n",
       "    <tr>\n",
       "      <th>p</th>\n",
       "      <td>1.43</td>\n",
       "      <td>0.02</td>\n",
       "      <td>1.39</td>\n",
       "      <td>1.46</td>\n",
       "    </tr>\n",
       "    <tr>\n",
       "      <th>sigma</th>\n",
       "      <td>1.98</td>\n",
       "      <td>0.14</td>\n",
       "      <td>1.73</td>\n",
       "      <td>2.23</td>\n",
       "    </tr>\n",
       "  </tbody>\n",
       "</table>\n",
       "</div>"
      ],
      "text/plain": [
       "       mean   std  7.0%  93.0%\n",
       "p      1.43  0.02  1.39   1.46\n",
       "sigma  1.98  0.14  1.73   2.23"
      ]
     },
     "execution_count": 38,
     "metadata": {},
     "output_type": "execute_result"
    }
   ],
   "source": [
    "Vide.summary(samples)"
   ]
  },
  {
   "cell_type": "markdown",
   "id": "89468587",
   "metadata": {},
   "source": [
    "### RCode 6.16"
   ]
  },
  {
   "cell_type": "markdown",
   "id": "59ea7655",
   "metadata": {},
   "source": [
    "Modelo *post-treatment bias*:\n",
    "\n",
    "$$ h_{1, i} \\sim Normal(\\mu_i, \\sigma) $$\n",
    "\n",
    "$$ \\mu_i = h_{0, i} \\times p $$\n",
    "\n",
    "$$ p = \\alpha + \\beta_T T_i + \\beta_F F_i $$\n",
    "\n",
    "prioris:\n",
    "\n",
    "$$ \\alpha \\sim LogNormal(0, 0.25) $$\n",
    "\n",
    "$$ \\beta_T \\sim Normal(0, 0.5) $$\n",
    "\n",
    "$$ \\beta_F \\sim Normal(0, 0.5) $$\n",
    "\n",
    "$$ \\sigma \\sim Exponential(1) $$"
   ]
  },
  {
   "cell_type": "code",
   "execution_count": 39,
   "id": "d1446add",
   "metadata": {
    "tags": [
     "remove_output"
    ]
   },
   "outputs": [
    {
     "name": "stderr",
     "output_type": "stream",
     "text": [
      "\u001b[32mBuilding:\u001b[0m found in cache, done.\n",
      "\u001b[36mMessages from \u001b[0m\u001b[36;1mstanc\u001b[0m\u001b[36m:\u001b[0m\n",
      "Warning in '/tmp/httpstan_3v2pqc1w/model_2uvo3jva.stan', line 28, column 8: Parameter\n",
      "    alpha is given a lognormal distribution, which has strictly positive\n",
      "    support, but alpha was not constrained to be strictly positive.\n",
      "\u001b[36mSampling:\u001b[0m   0%\n",
      "\u001b[1A\u001b[0J\u001b[36mSampling:\u001b[0m  25% (2000/8000)\n",
      "\u001b[1A\u001b[0J\u001b[36mSampling:\u001b[0m  50% (4000/8000)\n",
      "\u001b[1A\u001b[0J\u001b[36mSampling:\u001b[0m  75% (6000/8000)\n",
      "\u001b[1A\u001b[0J\u001b[36mSampling:\u001b[0m 100% (8000/8000)\n",
      "\u001b[1A\u001b[0J\u001b[32mSampling:\u001b[0m 100% (8000/8000), done.\n",
      "\u001b[36mMessages received during sampling:\u001b[0m\n",
      "  Gradient evaluation took 3.1e-05 seconds\n",
      "  1000 transitions using 10 leapfrog steps per transition would take 0.31 seconds.\n",
      "  Adjust your expectations accordingly!\n",
      "  Gradient evaluation took 5.2e-05 seconds\n",
      "  1000 transitions using 10 leapfrog steps per transition would take 0.52 seconds.\n",
      "  Adjust your expectations accordingly!\n",
      "  Informational Message: The current Metropolis proposal is about to be rejected because of the following issue:\n",
      "  Exception: lognormal_lpdf: Random variable is -0.777686, but must be nonnegative! (in '/tmp/httpstan__bvsoudy/model_2uvo3jva.stan', line 28, column 8 to column 35)\n",
      "  If this warning occurs sporadically, such as for highly constrained variable types like covariance matrices, then the sampler is fine,\n",
      "  but if this warning occurs often then your model may be either severely ill-conditioned or misspecified.\n",
      "  Rejecting initial value:\n",
      "    Error evaluating the log probability at the initial value.\n",
      "  Exception: lognormal_lpdf: Random variable is -1.73154, but must be nonnegative! (in '/tmp/httpstan__bvsoudy/model_2uvo3jva.stan', line 28, column 8 to column 35)\n",
      "  Rejecting initial value:\n",
      "    Error evaluating the log probability at the initial value.\n",
      "  Exception: lognormal_lpdf: Random variable is -0.884237, but must be nonnegative! (in '/tmp/httpstan__bvsoudy/model_2uvo3jva.stan', line 28, column 8 to column 35)\n",
      "  Gradient evaluation took 4.7e-05 seconds\n",
      "  1000 transitions using 10 leapfrog steps per transition would take 0.47 seconds.\n",
      "  Adjust your expectations accordingly!\n",
      "  Informational Message: The current Metropolis proposal is about to be rejected because of the following issue:\n",
      "  Exception: lognormal_lpdf: Random variable is -440.313, but must be nonnegative! (in '/tmp/httpstan__bvsoudy/model_2uvo3jva.stan', line 28, column 8 to column 35)\n",
      "  If this warning occurs sporadically, such as for highly constrained variable types like covariance matrices, then the sampler is fine,\n",
      "  but if this warning occurs often then your model may be either severely ill-conditioned or misspecified.\n",
      "  Informational Message: The current Metropolis proposal is about to be rejected because of the following issue:\n",
      "  Exception: lognormal_lpdf: Random variable is -440.044, but must be nonnegative! (in '/tmp/httpstan__bvsoudy/model_2uvo3jva.stan', line 28, column 8 to column 35)\n",
      "  If this warning occurs sporadically, such as for highly constrained variable types like covariance matrices, then the sampler is fine,\n",
      "  but if this warning occurs often then your model may be either severely ill-conditioned or misspecified.\n",
      "  Informational Message: The current Metropolis proposal is about to be rejected because of the following issue:\n",
      "  Exception: lognormal_lpdf: Random variable is -109.303, but must be nonnegative! (in '/tmp/httpstan__bvsoudy/model_2uvo3jva.stan', line 28, column 8 to column 35)\n",
      "  If this warning occurs sporadically, such as for highly constrained variable types like covariance matrices, then the sampler is fine,\n",
      "  but if this warning occurs often then your model may be either severely ill-conditioned or misspecified.\n",
      "  Informational Message: The current Metropolis proposal is about to be rejected because of the following issue:\n",
      "  Exception: lognormal_lpdf: Random variable is -26.7802, but must be nonnegative! (in '/tmp/httpstan__bvsoudy/model_2uvo3jva.stan', line 28, column 8 to column 35)\n",
      "  If this warning occurs sporadically, such as for highly constrained variable types like covariance matrices, then the sampler is fine,\n",
      "  but if this warning occurs often then your model may be either severely ill-conditioned or misspecified.\n",
      "  Informational Message: The current Metropolis proposal is about to be rejected because of the following issue:\n",
      "  Exception: lognormal_lpdf: Random variable is -5.91942, but must be nonnegative! (in '/tmp/httpstan__bvsoudy/model_2uvo3jva.stan', line 28, column 8 to column 35)\n",
      "  If this warning occurs sporadically, such as for highly constrained variable types like covariance matrices, then the sampler is fine,\n",
      "  but if this warning occurs often then your model may be either severely ill-conditioned or misspecified.\n",
      "  Informational Message: The current Metropolis proposal is about to be rejected because of the following issue:\n",
      "  Exception: lognormal_lpdf: Random variable is -0.729029, but must be nonnegative! (in '/tmp/httpstan__bvsoudy/model_2uvo3jva.stan', line 28, column 8 to column 35)\n",
      "  If this warning occurs sporadically, such as for highly constrained variable types like covariance matrices, then the sampler is fine,\n",
      "  but if this warning occurs often then your model may be either severely ill-conditioned or misspecified.\n",
      "  Informational Message: The current Metropolis proposal is about to be rejected because of the following issue:\n",
      "  Exception: lognormal_lpdf: Random variable is -1.22763, but must be nonnegative! (in '/tmp/httpstan__bvsoudy/model_2uvo3jva.stan', line 28, column 8 to column 35)\n",
      "  If this warning occurs sporadically, such as for highly constrained variable types like covariance matrices, then the sampler is fine,\n",
      "  but if this warning occurs often then your model may be either severely ill-conditioned or misspecified.\n",
      "  Rejecting initial value:\n",
      "    Error evaluating the log probability at the initial value.\n",
      "  Exception: lognormal_lpdf: Random variable is -1.22602, but must be nonnegative! (in '/tmp/httpstan__bvsoudy/model_2uvo3jva.stan', line 28, column 8 to column 35)\n",
      "  Rejecting initial value:\n",
      "    Error evaluating the log probability at the initial value.\n",
      "  Exception: lognormal_lpdf: Random variable is -1.0862, but must be nonnegative! (in '/tmp/httpstan__bvsoudy/model_2uvo3jva.stan', line 28, column 8 to column 35)\n",
      "  Gradient evaluation took 4.5e-05 seconds\n",
      "  1000 transitions using 10 leapfrog steps per transition would take 0.45 seconds.\n",
      "  Adjust your expectations accordingly!\n",
      "  Informational Message: The current Metropolis proposal is about to be rejected because of the following issue:\n",
      "  Exception: lognormal_lpdf: Random variable is -2620.37, but must be nonnegative! (in '/tmp/httpstan__bvsoudy/model_2uvo3jva.stan', line 28, column 8 to column 35)\n",
      "  If this warning occurs sporadically, such as for highly constrained variable types like covariance matrices, then the sampler is fine,\n",
      "  but if this warning occurs often then your model may be either severely ill-conditioned or misspecified.\n",
      "  Informational Message: The current Metropolis proposal is about to be rejected because of the following issue:\n",
      "  Exception: lognormal_lpdf: Random variable is -75.8589, but must be nonnegative! (in '/tmp/httpstan__bvsoudy/model_2uvo3jva.stan', line 28, column 8 to column 35)\n",
      "  If this warning occurs sporadically, such as for highly constrained variable types like covariance matrices, then the sampler is fine,\n",
      "  but if this warning occurs often then your model may be either severely ill-conditioned or misspecified.\n",
      "  Informational Message: The current Metropolis proposal is about to be rejected because of the following issue:\n",
      "  Exception: lognormal_lpdf: Random variable is -0.380928, but must be nonnegative! (in '/tmp/httpstan__bvsoudy/model_2uvo3jva.stan', line 28, column 8 to column 35)\n",
      "  If this warning occurs sporadically, such as for highly constrained variable types like covariance matrices, then the sampler is fine,\n",
      "  but if this warning occurs often then your model may be either severely ill-conditioned or misspecified.\n"
     ]
    }
   ],
   "source": [
    "\"\"\"\n",
    "To mu definition below\n",
    "----------------------\n",
    "\n",
    "vector[N] a;\n",
    "vector[N] b;\n",
    "vector[N] c; \n",
    "\n",
    "These operation:\n",
    "c = a .* b;\n",
    "\n",
    "Is the same operation:\n",
    "for (n in 1:N) {\n",
    "  c[n] = a[n] * b[n];\n",
    "}\n",
    "\n",
    "Reference:\n",
    "https://mc-stan.org/docs/reference-manual/arithmetic-expressions.html\n",
    "\"\"\"\n",
    "\n",
    "model = \"\"\"\n",
    "    data {\n",
    "        int N;\n",
    "        vector[N] h0;\n",
    "        vector[N] h1;\n",
    "        vector[N] T;  // Treatment\n",
    "        vector[N] F;  // Fungus\n",
    "    }\n",
    "\n",
    "    parameters {\n",
    "        real alpha;\n",
    "        real bT;\n",
    "        real bF;\n",
    "        real<lower=0> sigma;\n",
    "    }\n",
    "\n",
    "    model {\n",
    "        vector[N] mu;\n",
    "        vector[N] p;\n",
    "        \n",
    "        p = alpha + bT * T + bF * F;\n",
    "        mu = h0 .* p;  \n",
    "    \n",
    "        // likelihood\n",
    "        h1 ~ normal(mu, sigma);\n",
    "    \n",
    "        // prioris\n",
    "        alpha ~ lognormal(0, 0.25);\n",
    "        bT ~ normal(0, 0.5);\n",
    "        bF ~ normal(0, 0.5);\n",
    "        sigma ~ exponential(1);\n",
    "    }\n",
    "\"\"\"\n",
    "\n",
    "data = {\n",
    "    'N': N,\n",
    "    'h0': h0,\n",
    "    'h1': h1,\n",
    "    'T': treatment,\n",
    "    'F': fungus,\n",
    "}\n",
    "\n",
    "posteriori = stan.build(model, data=data)\n",
    "samples = posteriori.sample(num_chains=4, num_samples=1000)"
   ]
  },
  {
   "cell_type": "code",
   "execution_count": 40,
   "id": "219ff496",
   "metadata": {},
   "outputs": [
    {
     "data": {
      "text/html": [
       "<div>\n",
       "<style scoped>\n",
       "    .dataframe tbody tr th:only-of-type {\n",
       "        vertical-align: middle;\n",
       "    }\n",
       "\n",
       "    .dataframe tbody tr th {\n",
       "        vertical-align: top;\n",
       "    }\n",
       "\n",
       "    .dataframe thead th {\n",
       "        text-align: right;\n",
       "    }\n",
       "</style>\n",
       "<table border=\"1\" class=\"dataframe\">\n",
       "  <thead>\n",
       "    <tr style=\"text-align: right;\">\n",
       "      <th></th>\n",
       "      <th>mean</th>\n",
       "      <th>std</th>\n",
       "      <th>7.0%</th>\n",
       "      <th>93.0%</th>\n",
       "    </tr>\n",
       "  </thead>\n",
       "  <tbody>\n",
       "    <tr>\n",
       "      <th>alpha</th>\n",
       "      <td>1.53</td>\n",
       "      <td>0.03</td>\n",
       "      <td>1.48</td>\n",
       "      <td>1.59</td>\n",
       "    </tr>\n",
       "    <tr>\n",
       "      <th>bT</th>\n",
       "      <td>-0.03</td>\n",
       "      <td>0.04</td>\n",
       "      <td>-0.09</td>\n",
       "      <td>0.03</td>\n",
       "    </tr>\n",
       "    <tr>\n",
       "      <th>bF</th>\n",
       "      <td>-0.32</td>\n",
       "      <td>0.04</td>\n",
       "      <td>-0.39</td>\n",
       "      <td>-0.25</td>\n",
       "    </tr>\n",
       "    <tr>\n",
       "      <th>sigma</th>\n",
       "      <td>1.44</td>\n",
       "      <td>0.11</td>\n",
       "      <td>1.26</td>\n",
       "      <td>1.64</td>\n",
       "    </tr>\n",
       "  </tbody>\n",
       "</table>\n",
       "</div>"
      ],
      "text/plain": [
       "       mean   std  7.0%  93.0%\n",
       "alpha  1.53  0.03  1.48   1.59\n",
       "bT    -0.03  0.04 -0.09   0.03\n",
       "bF    -0.32  0.04 -0.39  -0.25\n",
       "sigma  1.44  0.11  1.26   1.64"
      ]
     },
     "execution_count": 40,
     "metadata": {},
     "output_type": "execute_result"
    }
   ],
   "source": [
    "Vide.summary(samples)"
   ]
  },
  {
   "cell_type": "code",
   "execution_count": 41,
   "id": "82e65448",
   "metadata": {},
   "outputs": [
    {
     "data": {
      "image/png": "[encoded data removed]",
      "text/plain": [
       "<Figure size 1080x360 with 1 Axes>"
      ]
     },
     "metadata": {
      "needs_background": "light"
     },
     "output_type": "display_data"
    }
   ],
   "source": [
    "Vide.plot_forest(samples, title='Treatment and Fungus')"
   ]
  },
  {
   "cell_type": "markdown",
   "id": "dc4cabcc",
   "metadata": {},
   "source": [
    "### R Code 6.17"
   ]
  },
  {
   "cell_type": "code",
   "execution_count": 42,
   "id": "9f0f2fc7",
   "metadata": {
    "tags": [
     "remove_output"
    ]
   },
   "outputs": [
    {
     "name": "stderr",
     "output_type": "stream",
     "text": [
      "\u001b[32mBuilding:\u001b[0m found in cache, done.\n",
      "\u001b[36mSampling:\u001b[0m   0%\n",
      "\u001b[1A\u001b[0J\u001b[36mSampling:\u001b[0m  25% (2000/8000)\n",
      "\u001b[1A\u001b[0J\u001b[36mSampling:\u001b[0m  50% (4000/8000)\n",
      "\u001b[1A\u001b[0J\u001b[36mSampling:\u001b[0m  75% (6000/8000)\n",
      "\u001b[1A\u001b[0J\u001b[36mSampling:\u001b[0m 100% (8000/8000)\n",
      "\u001b[1A\u001b[0J\u001b[32mSampling:\u001b[0m 100% (8000/8000), done.\n",
      "\u001b[36mMessages received during sampling:\u001b[0m\n",
      "  Gradient evaluation took 5e-05 seconds\n",
      "  1000 transitions using 10 leapfrog steps per transition would take 0.5 seconds.\n",
      "  Adjust your expectations accordingly!\n",
      "  Informational Message: The current Metropolis proposal is about to be rejected because of the following issue:\n",
      "  Exception: normal_lpdf: Location parameter[1] is inf, but must be finite! (in '/tmp/httpstan_zszojnzt/model_iiartt5i.stan', line 22, column 8 to column 31)\n",
      "  If this warning occurs sporadically, such as for highly constrained variable types like covariance matrices, then the sampler is fine,\n",
      "  but if this warning occurs often then your model may be either severely ill-conditioned or misspecified.\n",
      "  Informational Message: The current Metropolis proposal is about to be rejected because of the following issue:\n",
      "  Exception: normal_lpdf: Location parameter[1] is inf, but must be finite! (in '/tmp/httpstan_zszojnzt/model_iiartt5i.stan', line 22, column 8 to column 31)\n",
      "  If this warning occurs sporadically, such as for highly constrained variable types like covariance matrices, then the sampler is fine,\n",
      "  but if this warning occurs often then your model may be either severely ill-conditioned or misspecified.\n",
      "  Gradient evaluation took 4.7e-05 seconds\n",
      "  1000 transitions using 10 leapfrog steps per transition would take 0.47 seconds.\n",
      "  Adjust your expectations accordingly!\n",
      "  Informational Message: The current Metropolis proposal is about to be rejected because of the following issue:\n",
      "  Exception: normal_lpdf: Location parameter[1] is inf, but must be finite! (in '/tmp/httpstan_zszojnzt/model_iiartt5i.stan', line 22, column 8 to column 31)\n",
      "  If this warning occurs sporadically, such as for highly constrained variable types like covariance matrices, then the sampler is fine,\n",
      "  but if this warning occurs often then your model may be either severely ill-conditioned or misspecified.\n",
      "  Informational Message: The current Metropolis proposal is about to be rejected because of the following issue:\n",
      "  Exception: normal_lpdf: Location parameter[1] is inf, but must be finite! (in '/tmp/httpstan_zszojnzt/model_iiartt5i.stan', line 22, column 8 to column 31)\n",
      "  If this warning occurs sporadically, such as for highly constrained variable types like covariance matrices, then the sampler is fine,\n",
      "  but if this warning occurs often then your model may be either severely ill-conditioned or misspecified.\n",
      "  Informational Message: The current Metropolis proposal is about to be rejected because of the following issue:\n",
      "  Exception: normal_lpdf: Location parameter[1] is inf, but must be finite! (in '/tmp/httpstan_zszojnzt/model_iiartt5i.stan', line 22, column 8 to column 31)\n",
      "  If this warning occurs sporadically, such as for highly constrained variable types like covariance matrices, then the sampler is fine,\n",
      "  but if this warning occurs often then your model may be either severely ill-conditioned or misspecified.\n",
      "  Informational Message: The current Metropolis proposal is about to be rejected because of the following issue:\n",
      "  Exception: normal_lpdf: Location parameter[1] is inf, but must be finite! (in '/tmp/httpstan_zszojnzt/model_iiartt5i.stan', line 22, column 8 to column 31)\n",
      "  If this warning occurs sporadically, such as for highly constrained variable types like covariance matrices, then the sampler is fine,\n",
      "  but if this warning occurs often then your model may be either severely ill-conditioned or misspecified.\n",
      "  Informational Message: The current Metropolis proposal is about to be rejected because of the following issue:\n",
      "  Exception: normal_lpdf: Location parameter[1] is inf, but must be finite! (in '/tmp/httpstan_zszojnzt/model_iiartt5i.stan', line 22, column 8 to column 31)\n",
      "  If this warning occurs sporadically, such as for highly constrained variable types like covariance matrices, then the sampler is fine,\n",
      "  but if this warning occurs often then your model may be either severely ill-conditioned or misspecified.\n",
      "  Gradient evaluation took 2.5e-05 seconds\n",
      "  1000 transitions using 10 leapfrog steps per transition would take 0.25 seconds.\n",
      "  Adjust your expectations accordingly!\n",
      "  Informational Message: The current Metropolis proposal is about to be rejected because of the following issue:\n",
      "  Exception: normal_lpdf: Location parameter[1] is inf, but must be finite! (in '/tmp/httpstan_zszojnzt/model_iiartt5i.stan', line 22, column 8 to column 31)\n",
      "  If this warning occurs sporadically, such as for highly constrained variable types like covariance matrices, then the sampler is fine,\n",
      "  but if this warning occurs often then your model may be either severely ill-conditioned or misspecified.\n",
      "  Informational Message: The current Metropolis proposal is about to be rejected because of the following issue:\n",
      "  Exception: normal_lpdf: Location parameter[1] is inf, but must be finite! (in '/tmp/httpstan_zszojnzt/model_iiartt5i.stan', line 22, column 8 to column 31)\n",
      "  If this warning occurs sporadically, such as for highly constrained variable types like covariance matrices, then the sampler is fine,\n",
      "  but if this warning occurs often then your model may be either severely ill-conditioned or misspecified.\n",
      "  Informational Message: The current Metropolis proposal is about to be rejected because of the following issue:\n",
      "  Exception: normal_lpdf: Location parameter[1] is inf, but must be finite! (in '/tmp/httpstan_zszojnzt/model_iiartt5i.stan', line 22, column 8 to column 31)\n",
      "  If this warning occurs sporadically, such as for highly constrained variable types like covariance matrices, then the sampler is fine,\n",
      "  but if this warning occurs often then your model may be either severely ill-conditioned or misspecified.\n",
      "  Informational Message: The current Metropolis proposal is about to be rejected because of the following issue:\n",
      "  Exception: normal_lpdf: Location parameter[1] is inf, but must be finite! (in '/tmp/httpstan_zszojnzt/model_iiartt5i.stan', line 22, column 8 to column 31)\n",
      "  If this warning occurs sporadically, such as for highly constrained variable types like covariance matrices, then the sampler is fine,\n",
      "  but if this warning occurs often then your model may be either severely ill-conditioned or misspecified.\n",
      "  Gradient evaluation took 3.1e-05 seconds\n",
      "  1000 transitions using 10 leapfrog steps per transition would take 0.31 seconds.\n",
      "  Adjust your expectations accordingly!\n",
      "  Informational Message: The current Metropolis proposal is about to be rejected because of the following issue:\n",
      "  Exception: normal_lpdf: Location parameter[1] is inf, but must be finite! (in '/tmp/httpstan_zszojnzt/model_iiartt5i.stan', line 22, column 8 to column 31)\n",
      "  If this warning occurs sporadically, such as for highly constrained variable types like covariance matrices, then the sampler is fine,\n",
      "  but if this warning occurs often then your model may be either severely ill-conditioned or misspecified.\n",
      "  Informational Message: The current Metropolis proposal is about to be rejected because of the following issue:\n",
      "  Exception: normal_lpdf: Location parameter[1] is inf, but must be finite! (in '/tmp/httpstan_zszojnzt/model_iiartt5i.stan', line 22, column 8 to column 31)\n",
      "  If this warning occurs sporadically, such as for highly constrained variable types like covariance matrices, then the sampler is fine,\n",
      "  but if this warning occurs often then your model may be either severely ill-conditioned or misspecified.\n",
      "  Informational Message: The current Metropolis proposal is about to be rejected because of the following issue:\n",
      "  Exception: normal_lpdf: Location parameter[1] is inf, but must be finite! (in '/tmp/httpstan_zszojnzt/model_iiartt5i.stan', line 22, column 8 to column 31)\n",
      "  If this warning occurs sporadically, such as for highly constrained variable types like covariance matrices, then the sampler is fine,\n",
      "  but if this warning occurs often then your model may be either severely ill-conditioned or misspecified.\n"
     ]
    },
    {
     "name": "stderr",
     "output_type": "stream",
     "text": [
      "  Informational Message: The current Metropolis proposal is about to be rejected because of the following issue:\n",
      "  Exception: normal_lpdf: Location parameter[1] is inf, but must be finite! (in '/tmp/httpstan_zszojnzt/model_iiartt5i.stan', line 22, column 8 to column 31)\n",
      "  If this warning occurs sporadically, such as for highly constrained variable types like covariance matrices, then the sampler is fine,\n",
      "  but if this warning occurs often then your model may be either severely ill-conditioned or misspecified.\n",
      "  Informational Message: The current Metropolis proposal is about to be rejected because of the following issue:\n",
      "  Exception: normal_lpdf: Location parameter[1] is inf, but must be finite! (in '/tmp/httpstan_zszojnzt/model_iiartt5i.stan', line 22, column 8 to column 31)\n",
      "  If this warning occurs sporadically, such as for highly constrained variable types like covariance matrices, then the sampler is fine,\n",
      "  but if this warning occurs often then your model may be either severely ill-conditioned or misspecified.\n"
     ]
    }
   ],
   "source": [
    "model = \"\"\"\n",
    "    data {\n",
    "        int N;\n",
    "        vector[N] h0;\n",
    "        vector[N] h1;\n",
    "        vector[N] T;  // Treatment\n",
    "    }\n",
    "\n",
    "    parameters {\n",
    "        real<lower=0> alpha;\n",
    "        real bT;\n",
    "        real<lower=0> sigma;\n",
    "    }\n",
    "    \n",
    "    model {\n",
    "        vector[N] mu;\n",
    "        vector[N] p;\n",
    "\n",
    "        p = alpha + bT * T;\n",
    "        mu = h0 .* p;\n",
    "\n",
    "        h1 ~ normal(mu, sigma);\n",
    "\n",
    "        alpha ~ lognormal(0, 0.2);\n",
    "        bT ~ normal(0, 0.5);\n",
    "        sigma ~ exponential(1);\n",
    "    }\n",
    "\"\"\"\n",
    "\n",
    "data = {\n",
    "    'N': N,\n",
    "    'h0': h0,\n",
    "    'h1': h1,\n",
    "    'T': treatment,\n",
    "}\n",
    "\n",
    "posteriori = stan.build(model, data=data)\n",
    "samples = posteriori.sample(num_chains=4, num_samples=1000)"
   ]
  },
  {
   "cell_type": "code",
   "execution_count": 43,
   "id": "8ba3cbb6",
   "metadata": {},
   "outputs": [
    {
     "data": {
      "text/html": [
       "<div>\n",
       "<style scoped>\n",
       "    .dataframe tbody tr th:only-of-type {\n",
       "        vertical-align: middle;\n",
       "    }\n",
       "\n",
       "    .dataframe tbody tr th {\n",
       "        vertical-align: top;\n",
       "    }\n",
       "\n",
       "    .dataframe thead th {\n",
       "        text-align: right;\n",
       "    }\n",
       "</style>\n",
       "<table border=\"1\" class=\"dataframe\">\n",
       "  <thead>\n",
       "    <tr style=\"text-align: right;\">\n",
       "      <th></th>\n",
       "      <th>mean</th>\n",
       "      <th>std</th>\n",
       "      <th>7.0%</th>\n",
       "      <th>93.0%</th>\n",
       "    </tr>\n",
       "  </thead>\n",
       "  <tbody>\n",
       "    <tr>\n",
       "      <th>alpha</th>\n",
       "      <td>1.36</td>\n",
       "      <td>0.03</td>\n",
       "      <td>1.31</td>\n",
       "      <td>1.41</td>\n",
       "    </tr>\n",
       "    <tr>\n",
       "      <th>bT</th>\n",
       "      <td>0.13</td>\n",
       "      <td>0.04</td>\n",
       "      <td>0.06</td>\n",
       "      <td>0.20</td>\n",
       "    </tr>\n",
       "    <tr>\n",
       "      <th>sigma</th>\n",
       "      <td>1.89</td>\n",
       "      <td>0.14</td>\n",
       "      <td>1.65</td>\n",
       "      <td>2.14</td>\n",
       "    </tr>\n",
       "  </tbody>\n",
       "</table>\n",
       "</div>"
      ],
      "text/plain": [
       "       mean   std  7.0%  93.0%\n",
       "alpha  1.36  0.03  1.31   1.41\n",
       "bT     0.13  0.04  0.06   0.20\n",
       "sigma  1.89  0.14  1.65   2.14"
      ]
     },
     "execution_count": 43,
     "metadata": {},
     "output_type": "execute_result"
    }
   ],
   "source": [
    "Vide.summary(samples)"
   ]
  },
  {
   "cell_type": "code",
   "execution_count": 44,
   "id": "2427af81",
   "metadata": {},
   "outputs": [
    {
     "data": {
      "image/png": "[encoded data removed]",
      "text/plain": [
       "<Figure size 1080x288 with 1 Axes>"
      ]
     },
     "metadata": {
      "needs_background": "light"
     },
     "output_type": "display_data"
    }
   ],
   "source": [
    "Vide.plot_forest(samples, title='Treatment without fungus')"
   ]
  },
  {
   "cell_type": "markdown",
   "id": "8f248c83",
   "metadata": {},
   "source": [
    "### R Code 6.18"
   ]
  },
  {
   "cell_type": "code",
   "execution_count": 45,
   "id": "0a3add94",
   "metadata": {},
   "outputs": [
    {
     "data": {
      "image/png": "[encoded data removed]",
      "text/plain": [
       "<Figure size 432x288 with 1 Axes>"
      ]
     },
     "metadata": {},
     "output_type": "display_data"
    }
   ],
   "source": [
    "G = nx.DiGraph()\n",
    "\n",
    "nodes = {0: '$H_0$', \n",
    "         1: '$H_1$', \n",
    "         2: 'F', \n",
    "         3: 'T'}\n",
    "\n",
    "for i in nodes:\n",
    "    G.add_node(nodes[i])\n",
    "\n",
    "edges = [(nodes[0], nodes[1]),\n",
    "         (nodes[2], nodes[1]),\n",
    "         (nodes[3], nodes[2])]\n",
    "\n",
    "G.add_edges_from(edges)\n",
    "\n",
    "# explicitly set positions\n",
    "pos = {nodes[0]: (0, 0), \n",
    "       nodes[1]: (1, 0), \n",
    "       nodes[2]: (1.5, 0), \n",
    "       nodes[3]: (2, 0)}\n",
    "\n",
    "options = {\n",
    "    \"font_size\": 15,\n",
    "    \"node_size\": 400,\n",
    "    \"node_color\": \"white\",\n",
    "    \"edgecolors\": \"white\",\n",
    "    \"linewidths\": 1,\n",
    "    \"width\": 1,\n",
    "}\n",
    "\n",
    "nx.draw(G, pos, with_labels=True, **options)\n",
    "\n",
    "# Set margins for the axes so that nodes aren't clipped\n",
    "ax = plt.gca()\n",
    "# ax.margins(0.01)\n",
    "plt.axis(\"off\")\n",
    "plt.show()"
   ]
  },
  {
   "cell_type": "markdown",
   "id": "7d3574ba",
   "metadata": {},
   "source": [
    "### R Code 6.19"
   ]
  },
  {
   "cell_type": "markdown",
   "id": "15741a2d",
   "metadata": {},
   "source": [
    "$$F \\_||\\_ H_0$$\n",
    "\n",
    "$$H_0 \\_||\\_ T$$\n",
    "\n",
    "$$ H_1 \\_||\\_ T | F $$\n"
   ]
  },
  {
   "cell_type": "markdown",
   "id": "493beb12",
   "metadata": {},
   "source": [
    "### R Code 6.20"
   ]
  },
  {
   "cell_type": "code",
   "execution_count": 46,
   "id": "58dc30c7",
   "metadata": {},
   "outputs": [
    {
     "data": {
      "text/html": [
       "<div>\n",
       "<style scoped>\n",
       "    .dataframe tbody tr th:only-of-type {\n",
       "        vertical-align: middle;\n",
       "    }\n",
       "\n",
       "    .dataframe tbody tr th {\n",
       "        vertical-align: top;\n",
       "    }\n",
       "\n",
       "    .dataframe thead th {\n",
       "        text-align: right;\n",
       "    }\n",
       "</style>\n",
       "<table border=\"1\" class=\"dataframe\">\n",
       "  <thead>\n",
       "    <tr style=\"text-align: right;\">\n",
       "      <th></th>\n",
       "      <th>count</th>\n",
       "      <th>mean</th>\n",
       "      <th>std</th>\n",
       "      <th>min</th>\n",
       "      <th>25%</th>\n",
       "      <th>50%</th>\n",
       "      <th>75%</th>\n",
       "      <th>max</th>\n",
       "    </tr>\n",
       "  </thead>\n",
       "  <tbody>\n",
       "    <tr>\n",
       "      <th>h0</th>\n",
       "      <td>100.0</td>\n",
       "      <td>10.091610</td>\n",
       "      <td>1.976358</td>\n",
       "      <td>6.313914</td>\n",
       "      <td>8.850678</td>\n",
       "      <td>10.169278</td>\n",
       "      <td>11.369749</td>\n",
       "      <td>15.273222</td>\n",
       "    </tr>\n",
       "    <tr>\n",
       "      <th>h1</th>\n",
       "      <td>100.0</td>\n",
       "      <td>16.510702</td>\n",
       "      <td>2.715874</td>\n",
       "      <td>10.105379</td>\n",
       "      <td>14.711143</td>\n",
       "      <td>15.899131</td>\n",
       "      <td>18.671828</td>\n",
       "      <td>22.662508</td>\n",
       "    </tr>\n",
       "    <tr>\n",
       "      <th>treatment</th>\n",
       "      <td>100.0</td>\n",
       "      <td>0.500000</td>\n",
       "      <td>0.502519</td>\n",
       "      <td>0.000000</td>\n",
       "      <td>0.000000</td>\n",
       "      <td>0.500000</td>\n",
       "      <td>1.000000</td>\n",
       "      <td>1.000000</td>\n",
       "    </tr>\n",
       "    <tr>\n",
       "      <th>fungus</th>\n",
       "      <td>100.0</td>\n",
       "      <td>0.480000</td>\n",
       "      <td>0.502117</td>\n",
       "      <td>0.000000</td>\n",
       "      <td>0.000000</td>\n",
       "      <td>0.000000</td>\n",
       "      <td>1.000000</td>\n",
       "      <td>1.000000</td>\n",
       "    </tr>\n",
       "  </tbody>\n",
       "</table>\n",
       "</div>"
      ],
      "text/plain": [
       "           count       mean       std        min        25%        50%  \\\n",
       "h0         100.0  10.091610  1.976358   6.313914   8.850678  10.169278   \n",
       "h1         100.0  16.510702  2.715874  10.105379  14.711143  15.899131   \n",
       "treatment  100.0   0.500000  0.502519   0.000000   0.000000   0.500000   \n",
       "fungus     100.0   0.480000  0.502117   0.000000   0.000000   0.000000   \n",
       "\n",
       "                 75%        max  \n",
       "h0         11.369749  15.273222  \n",
       "h1         18.671828  22.662508  \n",
       "treatment   1.000000   1.000000  \n",
       "fungus      1.000000   1.000000  "
      ]
     },
     "execution_count": 46,
     "metadata": {},
     "output_type": "execute_result"
    }
   ],
   "source": [
    "# np.random.seed(3)\n",
    "\n",
    "# Quantidade de plantas\n",
    "N = 100\n",
    "\n",
    "# Simulação inicial das alturas\n",
    "h0 = np.random.normal(10, 2, N)\n",
    "\n",
    "# Atribuindo tratamentos e simulando fungos e tratamentos\n",
    "treatment = np.repeat([0, 1], repeats=int(N/2))\n",
    "\n",
    "M = np.random.binomial(n=1, p=0.5, size=N)  # Moisture -> Bernoulli(p=0.5)\n",
    "\n",
    "fungus = np.random.binomial(n=1, p=(0.5 - treatment * 0.4 + 0.4 * M), size=N)\n",
    "h1 = h0 + np.random.normal((5 + 3 * M), 1, N)\n",
    "\n",
    "# Dataframe\n",
    "d2 = pd.DataFrame.from_dict({'h0': h0, \n",
    "                            'h1': h1, \n",
    "                            'treatment': treatment, \n",
    "                            'fungus': fungus})\n",
    "d2.describe().T "
   ]
  },
  {
   "cell_type": "code",
   "execution_count": 47,
   "id": "50038aa0",
   "metadata": {
    "tags": [
     "remove_output"
    ]
   },
   "outputs": [
    {
     "name": "stderr",
     "output_type": "stream",
     "text": [
      "\u001b[32mBuilding:\u001b[0m found in cache, done.\n",
      "\u001b[36mSampling:\u001b[0m   0%\n",
      "\u001b[1A\u001b[0J\u001b[36mSampling:\u001b[0m  25% (2000/8000)\n",
      "\u001b[1A\u001b[0J\u001b[36mSampling:\u001b[0m  50% (4000/8000)\n",
      "\u001b[1A\u001b[0J\u001b[36mSampling:\u001b[0m  75% (6000/8000)\n",
      "\u001b[1A\u001b[0J\u001b[36mSampling:\u001b[0m 100% (8000/8000)\n",
      "\u001b[1A\u001b[0J\u001b[32mSampling:\u001b[0m 100% (8000/8000), done.\n",
      "\u001b[36mMessages received during sampling:\u001b[0m\n",
      "  Gradient evaluation took 2.6e-05 seconds\n",
      "  1000 transitions using 10 leapfrog steps per transition would take 0.26 seconds.\n",
      "  Adjust your expectations accordingly!\n",
      "  Informational Message: The current Metropolis proposal is about to be rejected because of the following issue:\n",
      "  Exception: normal_lpdf: Location parameter[1] is inf, but must be finite! (in '/tmp/httpstan_zszojnzt/model_iiartt5i.stan', line 22, column 8 to column 31)\n",
      "  If this warning occurs sporadically, such as for highly constrained variable types like covariance matrices, then the sampler is fine,\n",
      "  but if this warning occurs often then your model may be either severely ill-conditioned or misspecified.\n",
      "  Informational Message: The current Metropolis proposal is about to be rejected because of the following issue:\n",
      "  Exception: normal_lpdf: Location parameter[1] is inf, but must be finite! (in '/tmp/httpstan_zszojnzt/model_iiartt5i.stan', line 22, column 8 to column 31)\n",
      "  If this warning occurs sporadically, such as for highly constrained variable types like covariance matrices, then the sampler is fine,\n",
      "  but if this warning occurs often then your model may be either severely ill-conditioned or misspecified.\n",
      "  Gradient evaluation took 2.5e-05 seconds\n",
      "  1000 transitions using 10 leapfrog steps per transition would take 0.25 seconds.\n",
      "  Adjust your expectations accordingly!\n",
      "  Informational Message: The current Metropolis proposal is about to be rejected because of the following issue:\n",
      "  Exception: normal_lpdf: Location parameter[1] is inf, but must be finite! (in '/tmp/httpstan_zszojnzt/model_iiartt5i.stan', line 22, column 8 to column 31)\n",
      "  If this warning occurs sporadically, such as for highly constrained variable types like covariance matrices, then the sampler is fine,\n",
      "  but if this warning occurs often then your model may be either severely ill-conditioned or misspecified.\n",
      "  Informational Message: The current Metropolis proposal is about to be rejected because of the following issue:\n",
      "  Exception: normal_lpdf: Location parameter[1] is inf, but must be finite! (in '/tmp/httpstan_zszojnzt/model_iiartt5i.stan', line 22, column 8 to column 31)\n",
      "  If this warning occurs sporadically, such as for highly constrained variable types like covariance matrices, then the sampler is fine,\n",
      "  but if this warning occurs often then your model may be either severely ill-conditioned or misspecified.\n",
      "  Informational Message: The current Metropolis proposal is about to be rejected because of the following issue:\n",
      "  Exception: normal_lpdf: Location parameter[1] is inf, but must be finite! (in '/tmp/httpstan_zszojnzt/model_iiartt5i.stan', line 22, column 8 to column 31)\n",
      "  If this warning occurs sporadically, such as for highly constrained variable types like covariance matrices, then the sampler is fine,\n",
      "  but if this warning occurs often then your model may be either severely ill-conditioned or misspecified.\n",
      "  Informational Message: The current Metropolis proposal is about to be rejected because of the following issue:\n",
      "  Exception: normal_lpdf: Location parameter[1] is inf, but must be finite! (in '/tmp/httpstan_zszojnzt/model_iiartt5i.stan', line 22, column 8 to column 31)\n",
      "  If this warning occurs sporadically, such as for highly constrained variable types like covariance matrices, then the sampler is fine,\n",
      "  but if this warning occurs often then your model may be either severely ill-conditioned or misspecified.\n",
      "  Informational Message: The current Metropolis proposal is about to be rejected because of the following issue:\n",
      "  Exception: normal_lpdf: Location parameter[1] is inf, but must be finite! (in '/tmp/httpstan_zszojnzt/model_iiartt5i.stan', line 22, column 8 to column 31)\n",
      "  If this warning occurs sporadically, such as for highly constrained variable types like covariance matrices, then the sampler is fine,\n",
      "  but if this warning occurs often then your model may be either severely ill-conditioned or misspecified.\n",
      "  Informational Message: The current Metropolis proposal is about to be rejected because of the following issue:\n",
      "  Exception: normal_lpdf: Location parameter[1] is inf, but must be finite! (in '/tmp/httpstan_zszojnzt/model_iiartt5i.stan', line 22, column 8 to column 31)\n",
      "  If this warning occurs sporadically, such as for highly constrained variable types like covariance matrices, then the sampler is fine,\n",
      "  but if this warning occurs often then your model may be either severely ill-conditioned or misspecified.\n",
      "  Gradient evaluation took 2.2e-05 seconds\n",
      "  1000 transitions using 10 leapfrog steps per transition would take 0.22 seconds.\n",
      "  Adjust your expectations accordingly!\n",
      "  Informational Message: The current Metropolis proposal is about to be rejected because of the following issue:\n",
      "  Exception: normal_lpdf: Location parameter[1] is inf, but must be finite! (in '/tmp/httpstan_zszojnzt/model_iiartt5i.stan', line 22, column 8 to column 31)\n",
      "  If this warning occurs sporadically, such as for highly constrained variable types like covariance matrices, then the sampler is fine,\n",
      "  but if this warning occurs often then your model may be either severely ill-conditioned or misspecified.\n",
      "  Informational Message: The current Metropolis proposal is about to be rejected because of the following issue:\n",
      "  Exception: normal_lpdf: Location parameter[1] is inf, but must be finite! (in '/tmp/httpstan_zszojnzt/model_iiartt5i.stan', line 22, column 8 to column 31)\n",
      "  If this warning occurs sporadically, such as for highly constrained variable types like covariance matrices, then the sampler is fine,\n",
      "  but if this warning occurs often then your model may be either severely ill-conditioned or misspecified.\n",
      "  Informational Message: The current Metropolis proposal is about to be rejected because of the following issue:\n",
      "  Exception: normal_lpdf: Location parameter[1] is inf, but must be finite! (in '/tmp/httpstan_zszojnzt/model_iiartt5i.stan', line 22, column 8 to column 31)\n",
      "  If this warning occurs sporadically, such as for highly constrained variable types like covariance matrices, then the sampler is fine,\n",
      "  but if this warning occurs often then your model may be either severely ill-conditioned or misspecified.\n",
      "  Informational Message: The current Metropolis proposal is about to be rejected because of the following issue:\n",
      "  Exception: normal_lpdf: Location parameter[1] is inf, but must be finite! (in '/tmp/httpstan_zszojnzt/model_iiartt5i.stan', line 22, column 8 to column 31)\n",
      "  If this warning occurs sporadically, such as for highly constrained variable types like covariance matrices, then the sampler is fine,\n",
      "  but if this warning occurs often then your model may be either severely ill-conditioned or misspecified.\n",
      "  Gradient evaluation took 3.1e-05 seconds\n",
      "  1000 transitions using 10 leapfrog steps per transition would take 0.31 seconds.\n",
      "  Adjust your expectations accordingly!\n",
      "  Informational Message: The current Metropolis proposal is about to be rejected because of the following issue:\n",
      "  Exception: normal_lpdf: Location parameter[1] is inf, but must be finite! (in '/tmp/httpstan_zszojnzt/model_iiartt5i.stan', line 22, column 8 to column 31)\n",
      "  If this warning occurs sporadically, such as for highly constrained variable types like covariance matrices, then the sampler is fine,\n",
      "  but if this warning occurs often then your model may be either severely ill-conditioned or misspecified.\n",
      "  Informational Message: The current Metropolis proposal is about to be rejected because of the following issue:\n",
      "  Exception: normal_lpdf: Location parameter[1] is inf, but must be finite! (in '/tmp/httpstan_zszojnzt/model_iiartt5i.stan', line 22, column 8 to column 31)\n",
      "  If this warning occurs sporadically, such as for highly constrained variable types like covariance matrices, then the sampler is fine,\n",
      "  but if this warning occurs often then your model may be either severely ill-conditioned or misspecified.\n"
     ]
    },
    {
     "name": "stderr",
     "output_type": "stream",
     "text": [
      "  Informational Message: The current Metropolis proposal is about to be rejected because of the following issue:\n",
      "  Exception: normal_lpdf: Location parameter[1] is inf, but must be finite! (in '/tmp/httpstan_zszojnzt/model_iiartt5i.stan', line 22, column 8 to column 31)\n",
      "  If this warning occurs sporadically, such as for highly constrained variable types like covariance matrices, then the sampler is fine,\n",
      "  but if this warning occurs often then your model may be either severely ill-conditioned or misspecified.\n",
      "  Informational Message: The current Metropolis proposal is about to be rejected because of the following issue:\n",
      "  Exception: normal_lpdf: Location parameter[1] is inf, but must be finite! (in '/tmp/httpstan_zszojnzt/model_iiartt5i.stan', line 22, column 8 to column 31)\n",
      "  If this warning occurs sporadically, such as for highly constrained variable types like covariance matrices, then the sampler is fine,\n",
      "  but if this warning occurs often then your model may be either severely ill-conditioned or misspecified.\n",
      "  Informational Message: The current Metropolis proposal is about to be rejected because of the following issue:\n",
      "  Exception: normal_lpdf: Location parameter[1] is inf, but must be finite! (in '/tmp/httpstan_zszojnzt/model_iiartt5i.stan', line 22, column 8 to column 31)\n",
      "  If this warning occurs sporadically, such as for highly constrained variable types like covariance matrices, then the sampler is fine,\n",
      "  but if this warning occurs often then your model may be either severely ill-conditioned or misspecified.\n"
     ]
    }
   ],
   "source": [
    "# RCode 6.17 with new database\n",
    "\n",
    "model = \"\"\"\n",
    "    data {\n",
    "        int N;\n",
    "        vector[N] h0;\n",
    "        vector[N] h1;\n",
    "        vector[N] T;  // Treatment\n",
    "    }\n",
    "\n",
    "    parameters {\n",
    "        real<lower=0> alpha;\n",
    "        real bT;\n",
    "        real<lower=0> sigma;\n",
    "    }\n",
    "    \n",
    "    model {\n",
    "        vector[N] mu;\n",
    "        vector[N] p;\n",
    "\n",
    "        p = alpha + bT * T;\n",
    "        mu = h0 .* p;\n",
    "\n",
    "        h1 ~ normal(mu, sigma);\n",
    "\n",
    "        alpha ~ lognormal(0, 0.2);\n",
    "        bT ~ normal(0, 0.5);\n",
    "        sigma ~ exponential(1);\n",
    "    }\n",
    "\"\"\"\n",
    "\n",
    "data = {\n",
    "    'N': N,\n",
    "    'h0': d2.h0.values,\n",
    "    'h1': d2.h1.values,\n",
    "    'T': d2.treatment.values,\n",
    "}\n",
    "\n",
    "posteriori = stan.build(model, data=data)\n",
    "samples = posteriori.sample(num_chains=4, num_samples=1000)"
   ]
  },
  {
   "cell_type": "code",
   "execution_count": 48,
   "id": "da26d068",
   "metadata": {},
   "outputs": [
    {
     "data": {
      "text/html": [
       "<div>\n",
       "<style scoped>\n",
       "    .dataframe tbody tr th:only-of-type {\n",
       "        vertical-align: middle;\n",
       "    }\n",
       "\n",
       "    .dataframe tbody tr th {\n",
       "        vertical-align: top;\n",
       "    }\n",
       "\n",
       "    .dataframe thead th {\n",
       "        text-align: right;\n",
       "    }\n",
       "</style>\n",
       "<table border=\"1\" class=\"dataframe\">\n",
       "  <thead>\n",
       "    <tr style=\"text-align: right;\">\n",
       "      <th></th>\n",
       "      <th>mean</th>\n",
       "      <th>std</th>\n",
       "      <th>7.0%</th>\n",
       "      <th>93.0%</th>\n",
       "    </tr>\n",
       "  </thead>\n",
       "  <tbody>\n",
       "    <tr>\n",
       "      <th>alpha</th>\n",
       "      <td>1.60</td>\n",
       "      <td>0.03</td>\n",
       "      <td>1.55</td>\n",
       "      <td>1.65</td>\n",
       "    </tr>\n",
       "    <tr>\n",
       "      <th>bT</th>\n",
       "      <td>0.02</td>\n",
       "      <td>0.04</td>\n",
       "      <td>-0.05</td>\n",
       "      <td>0.09</td>\n",
       "    </tr>\n",
       "    <tr>\n",
       "      <th>sigma</th>\n",
       "      <td>2.16</td>\n",
       "      <td>0.15</td>\n",
       "      <td>1.87</td>\n",
       "      <td>2.43</td>\n",
       "    </tr>\n",
       "  </tbody>\n",
       "</table>\n",
       "</div>"
      ],
      "text/plain": [
       "       mean   std  7.0%  93.0%\n",
       "alpha  1.60  0.03  1.55   1.65\n",
       "bT     0.02  0.04 -0.05   0.09\n",
       "sigma  2.16  0.15  1.87   2.43"
      ]
     },
     "execution_count": 48,
     "metadata": {},
     "output_type": "execute_result"
    }
   ],
   "source": [
    "Vide.summary(samples)"
   ]
  },
  {
   "cell_type": "code",
   "execution_count": 49,
   "id": "332e7134",
   "metadata": {},
   "outputs": [
    {
     "data": {
      "image/png": "[encoded data removed]",
      "text/plain": [
       "<Figure size 1080x288 with 1 Axes>"
      ]
     },
     "metadata": {
      "needs_background": "light"
     },
     "output_type": "display_data"
    }
   ],
   "source": [
    "Vide.plot_forest(samples, title=\"Only Treatment using d2\")"
   ]
  },
  {
   "cell_type": "code",
   "execution_count": 50,
   "id": "5df00a61",
   "metadata": {
    "tags": [
     "remove_output"
    ]
   },
   "outputs": [
    {
     "name": "stderr",
     "output_type": "stream",
     "text": [
      "\u001b[32mBuilding:\u001b[0m found in cache, done.\n",
      "\u001b[36mMessages from \u001b[0m\u001b[36;1mstanc\u001b[0m\u001b[36m:\u001b[0m\n",
      "Warning in '/tmp/httpstan_3v2pqc1w/model_2uvo3jva.stan', line 28, column 8: Parameter\n",
      "    alpha is given a lognormal distribution, which has strictly positive\n",
      "    support, but alpha was not constrained to be strictly positive.\n",
      "\u001b[36mSampling:\u001b[0m   0%\n",
      "\u001b[1A\u001b[0J\u001b[36mSampling:\u001b[0m  25% (2000/8000)\n",
      "\u001b[1A\u001b[0J\u001b[36mSampling:\u001b[0m  50% (4000/8000)\n",
      "\u001b[1A\u001b[0J\u001b[36mSampling:\u001b[0m  75% (6000/8000)\n",
      "\u001b[1A\u001b[0J\u001b[36mSampling:\u001b[0m 100% (8000/8000)\n",
      "\u001b[1A\u001b[0J\u001b[32mSampling:\u001b[0m 100% (8000/8000), done.\n",
      "\u001b[36mMessages received during sampling:\u001b[0m\n",
      "  Gradient evaluation took 3e-05 seconds\n",
      "  1000 transitions using 10 leapfrog steps per transition would take 0.3 seconds.\n",
      "  Adjust your expectations accordingly!\n",
      "  Informational Message: The current Metropolis proposal is about to be rejected because of the following issue:\n",
      "  Exception: lognormal_lpdf: Random variable is -2.00689, but must be nonnegative! (in '/tmp/httpstan__bvsoudy/model_2uvo3jva.stan', line 28, column 8 to column 35)\n",
      "  If this warning occurs sporadically, such as for highly constrained variable types like covariance matrices, then the sampler is fine,\n",
      "  but if this warning occurs often then your model may be either severely ill-conditioned or misspecified.\n",
      "  Informational Message: The current Metropolis proposal is about to be rejected because of the following issue:\n",
      "  Exception: lognormal_lpdf: Random variable is -0.429399, but must be nonnegative! (in '/tmp/httpstan__bvsoudy/model_2uvo3jva.stan', line 28, column 8 to column 35)\n",
      "  If this warning occurs sporadically, such as for highly constrained variable types like covariance matrices, then the sampler is fine,\n",
      "  but if this warning occurs often then your model may be either severely ill-conditioned or misspecified.\n",
      "  Gradient evaluation took 4.8e-05 seconds\n",
      "  1000 transitions using 10 leapfrog steps per transition would take 0.48 seconds.\n",
      "  Adjust your expectations accordingly!\n",
      "  Informational Message: The current Metropolis proposal is about to be rejected because of the following issue:\n",
      "  Exception: lognormal_lpdf: Random variable is -0.582579, but must be nonnegative! (in '/tmp/httpstan__bvsoudy/model_2uvo3jva.stan', line 28, column 8 to column 35)\n",
      "  If this warning occurs sporadically, such as for highly constrained variable types like covariance matrices, then the sampler is fine,\n",
      "  but if this warning occurs often then your model may be either severely ill-conditioned or misspecified.\n",
      "  Informational Message: The current Metropolis proposal is about to be rejected because of the following issue:\n",
      "  Exception: lognormal_lpdf: Random variable is -2.80035, but must be nonnegative! (in '/tmp/httpstan__bvsoudy/model_2uvo3jva.stan', line 28, column 8 to column 35)\n",
      "  If this warning occurs sporadically, such as for highly constrained variable types like covariance matrices, then the sampler is fine,\n",
      "  but if this warning occurs often then your model may be either severely ill-conditioned or misspecified.\n",
      "  Informational Message: The current Metropolis proposal is about to be rejected because of the following issue:\n",
      "  Exception: lognormal_lpdf: Random variable is -1.22325, but must be nonnegative! (in '/tmp/httpstan__bvsoudy/model_2uvo3jva.stan', line 28, column 8 to column 35)\n",
      "  If this warning occurs sporadically, such as for highly constrained variable types like covariance matrices, then the sampler is fine,\n",
      "  but if this warning occurs often then your model may be either severely ill-conditioned or misspecified.\n",
      "  Rejecting initial value:\n",
      "    Error evaluating the log probability at the initial value.\n",
      "  Exception: lognormal_lpdf: Random variable is -1.73154, but must be nonnegative! (in '/tmp/httpstan__bvsoudy/model_2uvo3jva.stan', line 28, column 8 to column 35)\n",
      "  Rejecting initial value:\n",
      "    Error evaluating the log probability at the initial value.\n",
      "  Exception: lognormal_lpdf: Random variable is -0.884237, but must be nonnegative! (in '/tmp/httpstan__bvsoudy/model_2uvo3jva.stan', line 28, column 8 to column 35)\n",
      "  Gradient evaluation took 5.5e-05 seconds\n",
      "  1000 transitions using 10 leapfrog steps per transition would take 0.55 seconds.\n",
      "  Adjust your expectations accordingly!\n",
      "  Informational Message: The current Metropolis proposal is about to be rejected because of the following issue:\n",
      "  Exception: lognormal_lpdf: Random variable is -314.269, but must be nonnegative! (in '/tmp/httpstan__bvsoudy/model_2uvo3jva.stan', line 28, column 8 to column 35)\n",
      "  If this warning occurs sporadically, such as for highly constrained variable types like covariance matrices, then the sampler is fine,\n",
      "  but if this warning occurs often then your model may be either severely ill-conditioned or misspecified.\n",
      "  Informational Message: The current Metropolis proposal is about to be rejected because of the following issue:\n",
      "  Exception: lognormal_lpdf: Random variable is -314, but must be nonnegative! (in '/tmp/httpstan__bvsoudy/model_2uvo3jva.stan', line 28, column 8 to column 35)\n",
      "  If this warning occurs sporadically, such as for highly constrained variable types like covariance matrices, then the sampler is fine,\n",
      "  but if this warning occurs often then your model may be either severely ill-conditioned or misspecified.\n",
      "  Informational Message: The current Metropolis proposal is about to be rejected because of the following issue:\n",
      "  Exception: lognormal_lpdf: Random variable is -77.7921, but must be nonnegative! (in '/tmp/httpstan__bvsoudy/model_2uvo3jva.stan', line 28, column 8 to column 35)\n",
      "  If this warning occurs sporadically, such as for highly constrained variable types like covariance matrices, then the sampler is fine,\n",
      "  but if this warning occurs often then your model may be either severely ill-conditioned or misspecified.\n",
      "  Informational Message: The current Metropolis proposal is about to be rejected because of the following issue:\n",
      "  Exception: lognormal_lpdf: Random variable is -18.9024, but must be nonnegative! (in '/tmp/httpstan__bvsoudy/model_2uvo3jva.stan', line 28, column 8 to column 35)\n",
      "  If this warning occurs sporadically, such as for highly constrained variable types like covariance matrices, then the sampler is fine,\n",
      "  but if this warning occurs often then your model may be either severely ill-conditioned or misspecified.\n",
      "  Informational Message: The current Metropolis proposal is about to be rejected because of the following issue:\n",
      "  Exception: lognormal_lpdf: Random variable is -3.94998, but must be nonnegative! (in '/tmp/httpstan__bvsoudy/model_2uvo3jva.stan', line 28, column 8 to column 35)\n",
      "  If this warning occurs sporadically, such as for highly constrained variable types like covariance matrices, then the sampler is fine,\n",
      "  but if this warning occurs often then your model may be either severely ill-conditioned or misspecified.\n",
      "  Informational Message: The current Metropolis proposal is about to be rejected because of the following issue:\n",
      "  Exception: lognormal_lpdf: Random variable is -0.236668, but must be nonnegative! (in '/tmp/httpstan__bvsoudy/model_2uvo3jva.stan', line 28, column 8 to column 35)\n",
      "  If this warning occurs sporadically, such as for highly constrained variable types like covariance matrices, then the sampler is fine,\n",
      "  but if this warning occurs often then your model may be either severely ill-conditioned or misspecified.\n",
      "  Rejecting initial value:\n",
      "    Error evaluating the log probability at the initial value.\n",
      "  Exception: lognormal_lpdf: Random variable is -1.22602, but must be nonnegative! (in '/tmp/httpstan__bvsoudy/model_2uvo3jva.stan', line 28, column 8 to column 35)\n",
      "  Rejecting initial value:\n",
      "    Error evaluating the log probability at the initial value.\n",
      "  Exception: lognormal_lpdf: Random variable is -1.0862, but must be nonnegative! (in '/tmp/httpstan__bvsoudy/model_2uvo3jva.stan', line 28, column 8 to column 35)\n",
      "  Gradient evaluation took 7.3e-05 seconds\n",
      "  1000 transitions using 10 leapfrog steps per transition would take 0.73 seconds.\n",
      "  Adjust your expectations accordingly!\n",
      "  Informational Message: The current Metropolis proposal is about to be rejected because of the following issue:\n",
      "  Exception: lognormal_lpdf: Random variable is -2854.35, but must be nonnegative! (in '/tmp/httpstan__bvsoudy/model_2uvo3jva.stan', line 28, column 8 to column 35)\n"
     ]
    },
    {
     "name": "stderr",
     "output_type": "stream",
     "text": [
      "  If this warning occurs sporadically, such as for highly constrained variable types like covariance matrices, then the sampler is fine,\n",
      "  but if this warning occurs often then your model may be either severely ill-conditioned or misspecified.\n",
      "  Informational Message: The current Metropolis proposal is about to be rejected because of the following issue:\n",
      "  Exception: lognormal_lpdf: Random variable is -83.0723, but must be nonnegative! (in '/tmp/httpstan__bvsoudy/model_2uvo3jva.stan', line 28, column 8 to column 35)\n",
      "  If this warning occurs sporadically, such as for highly constrained variable types like covariance matrices, then the sampler is fine,\n",
      "  but if this warning occurs often then your model may be either severely ill-conditioned or misspecified.\n",
      "  Informational Message: The current Metropolis proposal is about to be rejected because of the following issue:\n",
      "  Exception: lognormal_lpdf: Random variable is -0.401537, but must be nonnegative! (in '/tmp/httpstan__bvsoudy/model_2uvo3jva.stan', line 28, column 8 to column 35)\n",
      "  If this warning occurs sporadically, such as for highly constrained variable types like covariance matrices, then the sampler is fine,\n",
      "  but if this warning occurs often then your model may be either severely ill-conditioned or misspecified.\n",
      "  Informational Message: The current Metropolis proposal is about to be rejected because of the following issue:\n",
      "  Exception: lognormal_lpdf: Random variable is -0.176896, but must be nonnegative! (in '/tmp/httpstan__bvsoudy/model_2uvo3jva.stan', line 28, column 8 to column 35)\n",
      "  If this warning occurs sporadically, such as for highly constrained variable types like covariance matrices, then the sampler is fine,\n",
      "  but if this warning occurs often then your model may be either severely ill-conditioned or misspecified.\n",
      "  Informational Message: The current Metropolis proposal is about to be rejected because of the following issue:\n",
      "  Exception: lognormal_lpdf: Random variable is -0.310218, but must be nonnegative! (in '/tmp/httpstan__bvsoudy/model_2uvo3jva.stan', line 28, column 8 to column 35)\n",
      "  If this warning occurs sporadically, such as for highly constrained variable types like covariance matrices, then the sampler is fine,\n",
      "  but if this warning occurs often then your model may be either severely ill-conditioned or misspecified.\n"
     ]
    }
   ],
   "source": [
    "# RCode 6.16 with new database\n",
    "\n",
    "model = \"\"\"\n",
    "    data {\n",
    "        int N;\n",
    "        vector[N] h0;\n",
    "        vector[N] h1;\n",
    "        vector[N] T;  // Treatment\n",
    "        vector[N] F;  // Fungus\n",
    "    }\n",
    "\n",
    "    parameters {\n",
    "        real alpha;\n",
    "        real bT;\n",
    "        real bF;\n",
    "        real<lower=0> sigma;\n",
    "    }\n",
    "\n",
    "    model {\n",
    "        vector[N] mu;\n",
    "        vector[N] p;\n",
    "        \n",
    "        p = alpha + bT * T + bF * F;\n",
    "        mu = h0 .* p;  \n",
    "    \n",
    "        // likelihood\n",
    "        h1 ~ normal(mu, sigma);\n",
    "    \n",
    "        // prioris\n",
    "        alpha ~ lognormal(0, 0.25);\n",
    "        bT ~ normal(0, 0.5);\n",
    "        bF ~ normal(0, 0.5);\n",
    "        sigma ~ exponential(1);\n",
    "    }\n",
    "\"\"\"\n",
    "\n",
    "data = {\n",
    "    'N': N,\n",
    "    'h0': d2.h0.values,\n",
    "    'h1': d2.h1.values,\n",
    "    'T': d2.treatment.values,\n",
    "    'F': d2.fungus.values,\n",
    "}\n",
    "\n",
    "posteriori = stan.build(model, data=data)\n",
    "samples = posteriori.sample(num_chains=4, num_samples=1000)"
   ]
  },
  {
   "cell_type": "code",
   "execution_count": 51,
   "id": "6f42a787",
   "metadata": {},
   "outputs": [
    {
     "data": {
      "text/html": [
       "<div>\n",
       "<style scoped>\n",
       "    .dataframe tbody tr th:only-of-type {\n",
       "        vertical-align: middle;\n",
       "    }\n",
       "\n",
       "    .dataframe tbody tr th {\n",
       "        vertical-align: top;\n",
       "    }\n",
       "\n",
       "    .dataframe thead th {\n",
       "        text-align: right;\n",
       "    }\n",
       "</style>\n",
       "<table border=\"1\" class=\"dataframe\">\n",
       "  <thead>\n",
       "    <tr style=\"text-align: right;\">\n",
       "      <th></th>\n",
       "      <th>mean</th>\n",
       "      <th>std</th>\n",
       "      <th>7.0%</th>\n",
       "      <th>93.0%</th>\n",
       "    </tr>\n",
       "  </thead>\n",
       "  <tbody>\n",
       "    <tr>\n",
       "      <th>alpha</th>\n",
       "      <td>1.53</td>\n",
       "      <td>0.04</td>\n",
       "      <td>1.46</td>\n",
       "      <td>1.60</td>\n",
       "    </tr>\n",
       "    <tr>\n",
       "      <th>bT</th>\n",
       "      <td>0.06</td>\n",
       "      <td>0.04</td>\n",
       "      <td>-0.02</td>\n",
       "      <td>0.14</td>\n",
       "    </tr>\n",
       "    <tr>\n",
       "      <th>bF</th>\n",
       "      <td>0.11</td>\n",
       "      <td>0.04</td>\n",
       "      <td>0.03</td>\n",
       "      <td>0.19</td>\n",
       "    </tr>\n",
       "    <tr>\n",
       "      <th>sigma</th>\n",
       "      <td>2.10</td>\n",
       "      <td>0.15</td>\n",
       "      <td>1.83</td>\n",
       "      <td>2.36</td>\n",
       "    </tr>\n",
       "  </tbody>\n",
       "</table>\n",
       "</div>"
      ],
      "text/plain": [
       "       mean   std  7.0%  93.0%\n",
       "alpha  1.53  0.04  1.46   1.60\n",
       "bT     0.06  0.04 -0.02   0.14\n",
       "bF     0.11  0.04  0.03   0.19\n",
       "sigma  2.10  0.15  1.83   2.36"
      ]
     },
     "execution_count": 51,
     "metadata": {},
     "output_type": "execute_result"
    }
   ],
   "source": [
    "Vide.summary(samples)"
   ]
  },
  {
   "cell_type": "code",
   "execution_count": 52,
   "id": "1d7c4a70",
   "metadata": {},
   "outputs": [
    {
     "data": {
      "image/png": "[encoded data removed]",
      "text/plain": [
       "<Figure size 1080x360 with 1 Axes>"
      ]
     },
     "metadata": {
      "needs_background": "light"
     },
     "output_type": "display_data"
    }
   ],
   "source": [
    "Vide.plot_forest(samples, title=\"Treatments and Fungus\")"
   ]
  },
  {
   "cell_type": "markdown",
   "id": "0da7aad1",
   "metadata": {},
   "source": [
    "## Collider Bias"
   ]
  },
  {
   "cell_type": "markdown",
   "id": "2c503aea",
   "metadata": {},
   "source": [
    "### 6.21"
   ]
  },
  {
   "cell_type": "markdown",
   "id": "ab8df1f6",
   "metadata": {},
   "source": [
    "**Simulação**\n",
    "\n",
    "1. Cada ano, $20$ pessoas nascem com valores de felicidade uniformente distribuídos\n",
    "\n",
    "\n",
    "2. Cada ano, cada uma das pessoas envelhece $1$ ano. A sua felicidade não muda.\n",
    "\n",
    "\n",
    "3. Aos $18$ anos, um indivíduo de casa com a probabilidade de porporcional a sua felicidade.\n",
    "\n",
    "\n",
    "4. Uma vez casado, o indivíduo se mantém casado.\n",
    "\n",
    "\n",
    "5. Aos 65 anos, o indivíduo deixa a amostra (Vai morar na Espanha)"
   ]
  },
  {
   "cell_type": "code",
   "execution_count": 53,
   "id": "dcee492d",
   "metadata": {},
   "outputs": [],
   "source": [
    "# Function based in https://github.com/rmcelreath/rethinking/blob/master/R/sim_happiness.R\n",
    "# Inv_logit R-function in https://stat.ethz.ch/R-manual/R-devel/library/boot/html/inv.logit.html\n",
    "\n",
    "def inv_logit(x):\n",
    "    return np.exp(x) / (1 + np.exp(x))\n",
    "\n",
    "def sim_happiness(seed=1977 , N_years=1000 , max_age=65 , N_births=20 , aom=18):\n",
    "    np.random.seed(seed)\n",
    "    \n",
    "    df = pd.DataFrame(columns=['age', 'married', 'happiness'])\n",
    "\n",
    "    for i in range(N_years):\n",
    "        # Update age\n",
    "        df['age'] += 1\n",
    "\n",
    "        # Move to Spain when age == max_age\n",
    "        df.drop(df[df['age'] == max_age].index, inplace=True)\n",
    "        \n",
    "        # Will marry?\n",
    "        index_unmarried_aom = df.query((f'age>={aom} and married==0')).index.tolist()\n",
    "        weddings = np.random.binomial(1, inv_logit(df.loc[index_unmarried_aom, 'happiness'] - 4))\n",
    "        df.loc[index_unmarried_aom, 'married'] = weddings\n",
    "        \n",
    "        # New borns\n",
    "        df_aux = pd.DataFrame(columns=['age', 'married', 'happiness'])\n",
    "\n",
    "        df_aux.loc[:, 'age'] = np.zeros(N_births).astype(int)\n",
    "        df_aux.loc[:, 'married'] = np.zeros(N_births).astype(int)\n",
    "        df_aux.loc[:, 'happiness'] = np.linspace(-2, 2, N_births)  # np.random.uniform(0, 1, N_births)\n",
    "        \n",
    "        df = df.append(df_aux, ignore_index=True)\n",
    "        \n",
    "    return df"
   ]
  },
  {
   "cell_type": "code",
   "execution_count": 54,
   "id": "3e82c937",
   "metadata": {},
   "outputs": [
    {
     "data": {
      "text/html": [
       "<div>\n",
       "<style scoped>\n",
       "    .dataframe tbody tr th:only-of-type {\n",
       "        vertical-align: middle;\n",
       "    }\n",
       "\n",
       "    .dataframe tbody tr th {\n",
       "        vertical-align: top;\n",
       "    }\n",
       "\n",
       "    .dataframe thead th {\n",
       "        text-align: right;\n",
       "    }\n",
       "</style>\n",
       "<table border=\"1\" class=\"dataframe\">\n",
       "  <thead>\n",
       "    <tr style=\"text-align: right;\">\n",
       "      <th></th>\n",
       "      <th>count</th>\n",
       "      <th>unique</th>\n",
       "      <th>top</th>\n",
       "      <th>freq</th>\n",
       "      <th>mean</th>\n",
       "      <th>std</th>\n",
       "      <th>min</th>\n",
       "      <th>5.5%</th>\n",
       "      <th>50%</th>\n",
       "      <th>94.5%</th>\n",
       "      <th>max</th>\n",
       "    </tr>\n",
       "  </thead>\n",
       "  <tbody>\n",
       "    <tr>\n",
       "      <th>age</th>\n",
       "      <td>1300.0</td>\n",
       "      <td>65.0</td>\n",
       "      <td>64.0</td>\n",
       "      <td>20.0</td>\n",
       "      <td>NaN</td>\n",
       "      <td>NaN</td>\n",
       "      <td>NaN</td>\n",
       "      <td>NaN</td>\n",
       "      <td>NaN</td>\n",
       "      <td>NaN</td>\n",
       "      <td>NaN</td>\n",
       "    </tr>\n",
       "    <tr>\n",
       "      <th>married</th>\n",
       "      <td>1300.0</td>\n",
       "      <td>2.0</td>\n",
       "      <td>0.0</td>\n",
       "      <td>950.0</td>\n",
       "      <td>NaN</td>\n",
       "      <td>NaN</td>\n",
       "      <td>NaN</td>\n",
       "      <td>NaN</td>\n",
       "      <td>NaN</td>\n",
       "      <td>NaN</td>\n",
       "      <td>NaN</td>\n",
       "    </tr>\n",
       "    <tr>\n",
       "      <th>happiness</th>\n",
       "      <td>1300.0</td>\n",
       "      <td>NaN</td>\n",
       "      <td>NaN</td>\n",
       "      <td>NaN</td>\n",
       "      <td>-8.335213e-17</td>\n",
       "      <td>1.214421</td>\n",
       "      <td>-2.0</td>\n",
       "      <td>-1.789474</td>\n",
       "      <td>-1.110223e-16</td>\n",
       "      <td>1.789474</td>\n",
       "      <td>2.0</td>\n",
       "    </tr>\n",
       "  </tbody>\n",
       "</table>\n",
       "</div>"
      ],
      "text/plain": [
       "            count  unique   top   freq          mean       std  min      5.5%  \\\n",
       "age        1300.0    65.0  64.0   20.0           NaN       NaN  NaN       NaN   \n",
       "married    1300.0     2.0   0.0  950.0           NaN       NaN  NaN       NaN   \n",
       "happiness  1300.0     NaN   NaN    NaN -8.335213e-17  1.214421 -2.0 -1.789474   \n",
       "\n",
       "                    50%     94.5%  max  \n",
       "age                 NaN       NaN  NaN  \n",
       "married             NaN       NaN  NaN  \n",
       "happiness -1.110223e-16  1.789474  2.0  "
      ]
     },
     "execution_count": 54,
     "metadata": {},
     "output_type": "execute_result"
    }
   ],
   "source": [
    "df = sim_happiness(seed=1997, N_years=1000)\n",
    "df.describe(percentiles=[0.055, 0.945], include='all').T"
   ]
  },
  {
   "cell_type": "code",
   "execution_count": 55,
   "id": "13f82a62",
   "metadata": {},
   "outputs": [
    {
     "data": {
      "image/png": "[encoded data removed]",
      "text/plain": [
       "<Figure size 1224x432 with 1 Axes>"
      ]
     },
     "metadata": {
      "needs_background": "light"
     },
     "output_type": "display_data"
    }
   ],
   "source": [
    "# Figure 6.21\n",
    "plt.figure(figsize=(17, 6))\n",
    "\n",
    "colors = ['white' if is_married == 0 else 'blue' for is_married in df.married ]\n",
    "\n",
    "plt.scatter(df.age, df.happiness, color=colors)\n",
    "\n",
    "plt.title('White - Unmarried   |    Blue - Married')\n",
    "plt.xlabel('Age')\n",
    "plt.ylabel('Happiness')\n",
    "plt.show()"
   ]
  },
  {
   "cell_type": "markdown",
   "id": "1d2aa94d",
   "metadata": {},
   "source": [
    "### R Code 6.22"
   ]
  },
  {
   "cell_type": "code",
   "execution_count": 56,
   "id": "b071c256",
   "metadata": {},
   "outputs": [],
   "source": [
    "df2 = df[df.age > 17].copy()  # Only adults\n",
    "df2.loc[:, 'age'] = (df2.age - 18) / (65 - 18)"
   ]
  },
  {
   "cell_type": "markdown",
   "id": "8857a7e0",
   "metadata": {},
   "source": [
    "### R Code 6.23"
   ]
  },
  {
   "cell_type": "markdown",
   "id": "8b2b5c71",
   "metadata": {},
   "source": [
    "Modelo:\n",
    "\n",
    "$$ happiness \\sim Normal(\\mu_i, \\sigma) $$\n",
    "\n",
    "$$ \\mu_i = \\alpha_{_{MID}[i]} + \\beta_A \\times A_i $$\n",
    "\n",
    "prioris:\n",
    "\n",
    "$$ \\alpha_{_{MID}[i]} \\sim Normal(0, 1)$$\n",
    "\n",
    "$$ \\beta_A \\sim Normal(0, 2) $$\n",
    "\n",
    "$$ \\sigma \\sim Exponential(1); $$"
   ]
  },
  {
   "cell_type": "code",
   "execution_count": 57,
   "id": "70e19b4f",
   "metadata": {
    "scrolled": true,
    "tags": [
     "remove_output"
    ]
   },
   "outputs": [
    {
     "name": "stderr",
     "output_type": "stream",
     "text": [
      "\u001b[32mBuilding:\u001b[0m found in cache, done.\n",
      "\u001b[36mSampling:\u001b[0m   0%\n",
      "\u001b[1A\u001b[0J\u001b[36mSampling:\u001b[0m   2% (200/8000)\n",
      "\u001b[1A\u001b[0J\u001b[36mSampling:\u001b[0m  10% (800/8000)\n",
      "\u001b[1A\u001b[0J\u001b[36mSampling:\u001b[0m  15% (1200/8000)\n",
      "\u001b[1A\u001b[0J\u001b[36mSampling:\u001b[0m  40% (3200/8000)\n",
      "\u001b[1A\u001b[0J\u001b[36mSampling:\u001b[0m  62% (5000/8000)\n",
      "\u001b[1A\u001b[0J\u001b[36mSampling:\u001b[0m  80% (6400/8000)\n",
      "\u001b[1A\u001b[0J\u001b[36mSampling:\u001b[0m 100% (8000/8000)\n",
      "\u001b[1A\u001b[0J\u001b[32mSampling:\u001b[0m 100% (8000/8000), done.\n",
      "\u001b[36mMessages received during sampling:\u001b[0m\n",
      "  Gradient evaluation took 0.000115 seconds\n",
      "  1000 transitions using 10 leapfrog steps per transition would take 1.15 seconds.\n",
      "  Adjust your expectations accordingly!\n",
      "  Informational Message: The current Metropolis proposal is about to be rejected because of the following issue:\n",
      "  Exception: normal_lpdf: Scale parameter is 0, but must be positive! (in '/tmp/httpstan_fshdmqak/model_n7n6r2wh.stan', line 22, column 8 to column 38)\n",
      "  If this warning occurs sporadically, such as for highly constrained variable types like covariance matrices, then the sampler is fine,\n",
      "  but if this warning occurs often then your model may be either severely ill-conditioned or misspecified.\n",
      "  Informational Message: The current Metropolis proposal is about to be rejected because of the following issue:\n",
      "  Exception: normal_lpdf: Scale parameter is 0, but must be positive! (in '/tmp/httpstan_fshdmqak/model_n7n6r2wh.stan', line 22, column 8 to column 38)\n",
      "  If this warning occurs sporadically, such as for highly constrained variable types like covariance matrices, then the sampler is fine,\n",
      "  but if this warning occurs often then your model may be either severely ill-conditioned or misspecified.\n",
      "  Gradient evaluation took 0.000172 seconds\n",
      "  1000 transitions using 10 leapfrog steps per transition would take 1.72 seconds.\n",
      "  Adjust your expectations accordingly!\n",
      "  Gradient evaluation took 0.000173 seconds\n",
      "  1000 transitions using 10 leapfrog steps per transition would take 1.73 seconds.\n",
      "  Adjust your expectations accordingly!\n",
      "  Gradient evaluation took 0.000164 seconds\n",
      "  1000 transitions using 10 leapfrog steps per transition would take 1.64 seconds.\n",
      "  Adjust your expectations accordingly!\n",
      "  Informational Message: The current Metropolis proposal is about to be rejected because of the following issue:\n",
      "  Exception: normal_lpdf: Scale parameter is 0, but must be positive! (in '/tmp/httpstan_fshdmqak/model_n7n6r2wh.stan', line 22, column 8 to column 38)\n",
      "  If this warning occurs sporadically, such as for highly constrained variable types like covariance matrices, then the sampler is fine,\n",
      "  but if this warning occurs often then your model may be either severely ill-conditioned or misspecified.\n",
      "  Informational Message: The current Metropolis proposal is about to be rejected because of the following issue:\n",
      "  Exception: normal_lpdf: Scale parameter is 0, but must be positive! (in '/tmp/httpstan_fshdmqak/model_n7n6r2wh.stan', line 22, column 8 to column 38)\n",
      "  If this warning occurs sporadically, such as for highly constrained variable types like covariance matrices, then the sampler is fine,\n",
      "  but if this warning occurs often then your model may be either severely ill-conditioned or misspecified.\n"
     ]
    }
   ],
   "source": [
    "model = \"\"\"\n",
    "    data {\n",
    "        int N;\n",
    "        vector[N] age;\n",
    "        vector[N] happiness;\n",
    "        array[N] int married;  // Must be integer because this is index to alpha. \n",
    "    }\n",
    "    \n",
    "    parameters {\n",
    "        vector[2] alpha;  // can also be written like this: real alpha[2] or array[2] int alpha;\n",
    "        real beta_age;\n",
    "        real<lower=0> sigma;\n",
    "    }\n",
    "    \n",
    "    model {\n",
    "        vector[N] mu;\n",
    "        \n",
    "        for (i in 1:N){\n",
    "            mu[i] = alpha[ married[i] ] + beta_age * age[i];\n",
    "        }\n",
    "        \n",
    "        happiness ~ normal(mu, sigma);\n",
    "        \n",
    "        // Prioris\n",
    "        alpha ~ normal(0, 1);\n",
    "        beta_age ~normal(0, 2);\n",
    "        sigma ~ exponential(1);\n",
    "    }\n",
    "\"\"\"\n",
    "\n",
    "data = {\n",
    "    'N': len(df2.happiness.values),\n",
    "    'age': df2.age.values,\n",
    "    'happiness': df2.happiness.values,\n",
    "    'married': df2.married.values + 1  # Because the index in stan starting with 1 \n",
    "}\n",
    "\n",
    "posteriori = stan.build(model, data=data)\n",
    "samples = posteriori.sample(num_chains=4, num_samples=1000)"
   ]
  },
  {
   "cell_type": "code",
   "execution_count": 58,
   "id": "9fdb4842",
   "metadata": {},
   "outputs": [
    {
     "data": {
      "text/html": [
       "<div>\n",
       "<style scoped>\n",
       "    .dataframe tbody tr th:only-of-type {\n",
       "        vertical-align: middle;\n",
       "    }\n",
       "\n",
       "    .dataframe tbody tr th {\n",
       "        vertical-align: top;\n",
       "    }\n",
       "\n",
       "    .dataframe thead th {\n",
       "        text-align: right;\n",
       "    }\n",
       "</style>\n",
       "<table border=\"1\" class=\"dataframe\">\n",
       "  <thead>\n",
       "    <tr style=\"text-align: right;\">\n",
       "      <th></th>\n",
       "      <th>mean</th>\n",
       "      <th>std</th>\n",
       "      <th>7.0%</th>\n",
       "      <th>93.0%</th>\n",
       "    </tr>\n",
       "  </thead>\n",
       "  <tbody>\n",
       "    <tr>\n",
       "      <th>alpha[0]</th>\n",
       "      <td>-0.19</td>\n",
       "      <td>0.06</td>\n",
       "      <td>-0.30</td>\n",
       "      <td>-0.07</td>\n",
       "    </tr>\n",
       "    <tr>\n",
       "      <th>alpha[1]</th>\n",
       "      <td>1.38</td>\n",
       "      <td>0.09</td>\n",
       "      <td>1.22</td>\n",
       "      <td>1.53</td>\n",
       "    </tr>\n",
       "    <tr>\n",
       "      <th>beta_age</th>\n",
       "      <td>-0.81</td>\n",
       "      <td>0.11</td>\n",
       "      <td>-1.02</td>\n",
       "      <td>-0.62</td>\n",
       "    </tr>\n",
       "    <tr>\n",
       "      <th>sigma</th>\n",
       "      <td>0.97</td>\n",
       "      <td>0.02</td>\n",
       "      <td>0.93</td>\n",
       "      <td>1.02</td>\n",
       "    </tr>\n",
       "  </tbody>\n",
       "</table>\n",
       "</div>"
      ],
      "text/plain": [
       "          mean   std  7.0%  93.0%\n",
       "alpha[0] -0.19  0.06 -0.30  -0.07\n",
       "alpha[1]  1.38  0.09  1.22   1.53\n",
       "beta_age -0.81  0.11 -1.02  -0.62\n",
       "sigma     0.97  0.02  0.93   1.02"
      ]
     },
     "execution_count": 58,
     "metadata": {},
     "output_type": "execute_result"
    }
   ],
   "source": [
    "Vide.summary(samples)"
   ]
  },
  {
   "cell_type": "code",
   "execution_count": 59,
   "id": "e5aab3a3",
   "metadata": {},
   "outputs": [
    {
     "data": {
      "image/png": "[encoded data removed]",
      "text/plain": [
       "<Figure size 1080x360 with 1 Axes>"
      ]
     },
     "metadata": {
      "needs_background": "light"
     },
     "output_type": "display_data"
    }
   ],
   "source": [
    "Vide.plot_forest(samples, title='Married and Unmarried')"
   ]
  },
  {
   "cell_type": "markdown",
   "id": "b8af454d",
   "metadata": {},
   "source": [
    "### R Code 6.24"
   ]
  },
  {
   "cell_type": "code",
   "execution_count": 60,
   "id": "c3ed78c6",
   "metadata": {
    "tags": [
     "remove_output"
    ]
   },
   "outputs": [
    {
     "name": "stderr",
     "output_type": "stream",
     "text": [
      "\u001b[32mBuilding:\u001b[0m found in cache, done.\n",
      "\u001b[36mSampling:\u001b[0m   0%\n",
      "\u001b[1A\u001b[0J\u001b[36mSampling:\u001b[0m   6% (500/8000)\n",
      "\u001b[1A\u001b[0J\u001b[36mSampling:\u001b[0m  16% (1300/8000)\n",
      "\u001b[1A\u001b[0J\u001b[36mSampling:\u001b[0m  22% (1800/8000)\n",
      "\u001b[1A\u001b[0J\u001b[36mSampling:\u001b[0m  48% (3800/8000)\n",
      "\u001b[1A\u001b[0J\u001b[36mSampling:\u001b[0m  66% (5300/8000)\n",
      "\u001b[1A\u001b[0J\u001b[36mSampling:\u001b[0m  81% (6500/8000)\n",
      "\u001b[1A\u001b[0J\u001b[36mSampling:\u001b[0m 100% (8000/8000)\n",
      "\u001b[1A\u001b[0J\u001b[32mSampling:\u001b[0m 100% (8000/8000), done.\n",
      "\u001b[36mMessages received during sampling:\u001b[0m\n",
      "  Gradient evaluation took 0.00011 seconds\n",
      "  1000 transitions using 10 leapfrog steps per transition would take 1.1 seconds.\n",
      "  Adjust your expectations accordingly!\n",
      "  Gradient evaluation took 0.000102 seconds\n",
      "  1000 transitions using 10 leapfrog steps per transition would take 1.02 seconds.\n",
      "  Adjust your expectations accordingly!\n",
      "  Gradient evaluation took 0.000176 seconds\n",
      "  1000 transitions using 10 leapfrog steps per transition would take 1.76 seconds.\n",
      "  Adjust your expectations accordingly!\n",
      "  Informational Message: The current Metropolis proposal is about to be rejected because of the following issue:\n",
      "  Exception: normal_lpdf: Scale parameter is 0, but must be positive! (in '/tmp/httpstan_6fm3z8ym/model_cddx5h2j.stan', line 21, column 8 to column 38)\n",
      "  If this warning occurs sporadically, such as for highly constrained variable types like covariance matrices, then the sampler is fine,\n",
      "  but if this warning occurs often then your model may be either severely ill-conditioned or misspecified.\n",
      "  Gradient evaluation took 0.000138 seconds\n",
      "  1000 transitions using 10 leapfrog steps per transition would take 1.38 seconds.\n",
      "  Adjust your expectations accordingly!\n"
     ]
    }
   ],
   "source": [
    "model = \"\"\"\n",
    "    data {\n",
    "        int N;\n",
    "        vector[N] age;\n",
    "        vector[N] happiness;\n",
    "    }\n",
    "    \n",
    "    parameters {\n",
    "        real alpha;\n",
    "        real beta_age;\n",
    "        real<lower=0> sigma;\n",
    "    }\n",
    "    \n",
    "    model {\n",
    "        vector[N] mu;\n",
    "        \n",
    "        for (i in 1:N){\n",
    "            mu[i] = alpha + beta_age * age[i];\n",
    "        }\n",
    "        \n",
    "        happiness ~ normal(mu, sigma);\n",
    "        \n",
    "        alpha ~ normal(0, 1);\n",
    "        beta_age ~ normal(0, 2);\n",
    "        sigma ~ exponential(1);\n",
    "    }\n",
    "\"\"\"\n",
    "\n",
    "data = {\n",
    "    'N': len(df2.happiness.values),\n",
    "    'happiness': df2.happiness.values,\n",
    "    'age': df2.age.values,\n",
    "}\n",
    "\n",
    "posteriori = stan.build(model, data=data)\n",
    "samples = posteriori.sample(num_chains=4, num_samples=1000)"
   ]
  },
  {
   "cell_type": "code",
   "execution_count": 61,
   "id": "1791ca51",
   "metadata": {},
   "outputs": [
    {
     "data": {
      "text/html": [
       "<div>\n",
       "<style scoped>\n",
       "    .dataframe tbody tr th:only-of-type {\n",
       "        vertical-align: middle;\n",
       "    }\n",
       "\n",
       "    .dataframe tbody tr th {\n",
       "        vertical-align: top;\n",
       "    }\n",
       "\n",
       "    .dataframe thead th {\n",
       "        text-align: right;\n",
       "    }\n",
       "</style>\n",
       "<table border=\"1\" class=\"dataframe\">\n",
       "  <thead>\n",
       "    <tr style=\"text-align: right;\">\n",
       "      <th></th>\n",
       "      <th>mean</th>\n",
       "      <th>std</th>\n",
       "      <th>7.0%</th>\n",
       "      <th>93.0%</th>\n",
       "    </tr>\n",
       "  </thead>\n",
       "  <tbody>\n",
       "    <tr>\n",
       "      <th>alpha</th>\n",
       "      <td>-0.00</td>\n",
       "      <td>0.08</td>\n",
       "      <td>-0.15</td>\n",
       "      <td>0.14</td>\n",
       "    </tr>\n",
       "    <tr>\n",
       "      <th>beta_age</th>\n",
       "      <td>0.00</td>\n",
       "      <td>0.14</td>\n",
       "      <td>-0.23</td>\n",
       "      <td>0.27</td>\n",
       "    </tr>\n",
       "    <tr>\n",
       "      <th>sigma</th>\n",
       "      <td>1.22</td>\n",
       "      <td>0.03</td>\n",
       "      <td>1.17</td>\n",
       "      <td>1.27</td>\n",
       "    </tr>\n",
       "  </tbody>\n",
       "</table>\n",
       "</div>"
      ],
      "text/plain": [
       "          mean   std  7.0%  93.0%\n",
       "alpha    -0.00  0.08 -0.15   0.14\n",
       "beta_age  0.00  0.14 -0.23   0.27\n",
       "sigma     1.22  0.03  1.17   1.27"
      ]
     },
     "execution_count": 61,
     "metadata": {},
     "output_type": "execute_result"
    }
   ],
   "source": [
    "Vide.summary(samples)"
   ]
  },
  {
   "cell_type": "code",
   "execution_count": 62,
   "id": "18979936",
   "metadata": {},
   "outputs": [
    {
     "data": {
      "image/png": "[encoded data removed]",
      "text/plain": [
       "<Figure size 1080x288 with 1 Axes>"
      ]
     },
     "metadata": {
      "needs_background": "light"
     },
     "output_type": "display_data"
    }
   ],
   "source": [
    "Vide.plot_forest(samples, title='Without married variable')"
   ]
  },
  {
   "cell_type": "markdown",
   "id": "b2f3083a",
   "metadata": {},
   "source": [
    "### RCode 6.25"
   ]
  },
  {
   "cell_type": "code",
   "execution_count": 63,
   "id": "2b950c2d",
   "metadata": {},
   "outputs": [],
   "source": [
    "N = 200  # Qty of triads  (G, P, C)\n",
    "\n",
    "b_GP = 1  # Direct effect of G on P \n",
    "b_GC = 0  # Direct effect of G on C\n",
    "b_PC = 1  # Direct effect of P on C\n",
    "b_U  = 2  # Direct effect of U on  P and C"
   ]
  },
  {
   "cell_type": "markdown",
   "id": "156c209f",
   "metadata": {},
   "source": [
    "### R Code 6.26"
   ]
  },
  {
   "cell_type": "code",
   "execution_count": 64,
   "id": "bc860db2",
   "metadata": {},
   "outputs": [
    {
     "data": {
      "text/html": [
       "<div>\n",
       "<style scoped>\n",
       "    .dataframe tbody tr th:only-of-type {\n",
       "        vertical-align: middle;\n",
       "    }\n",
       "\n",
       "    .dataframe tbody tr th {\n",
       "        vertical-align: top;\n",
       "    }\n",
       "\n",
       "    .dataframe thead th {\n",
       "        text-align: right;\n",
       "    }\n",
       "</style>\n",
       "<table border=\"1\" class=\"dataframe\">\n",
       "  <thead>\n",
       "    <tr style=\"text-align: right;\">\n",
       "      <th></th>\n",
       "      <th>C</th>\n",
       "      <th>P</th>\n",
       "      <th>G</th>\n",
       "      <th>U</th>\n",
       "    </tr>\n",
       "  </thead>\n",
       "  <tbody>\n",
       "    <tr>\n",
       "      <th>0</th>\n",
       "      <td>0.986995</td>\n",
       "      <td>1.197787</td>\n",
       "      <td>-0.795915</td>\n",
       "      <td>1</td>\n",
       "    </tr>\n",
       "    <tr>\n",
       "      <th>1</th>\n",
       "      <td>5.715446</td>\n",
       "      <td>3.573636</td>\n",
       "      <td>0.072746</td>\n",
       "      <td>1</td>\n",
       "    </tr>\n",
       "    <tr>\n",
       "      <th>2</th>\n",
       "      <td>-4.387763</td>\n",
       "      <td>-3.131400</td>\n",
       "      <td>-0.261240</td>\n",
       "      <td>-1</td>\n",
       "    </tr>\n",
       "    <tr>\n",
       "      <th>3</th>\n",
       "      <td>2.598454</td>\n",
       "      <td>0.462321</td>\n",
       "      <td>-1.298047</td>\n",
       "      <td>1</td>\n",
       "    </tr>\n",
       "    <tr>\n",
       "      <th>4</th>\n",
       "      <td>6.614388</td>\n",
       "      <td>4.931193</td>\n",
       "      <td>2.676112</td>\n",
       "      <td>1</td>\n",
       "    </tr>\n",
       "  </tbody>\n",
       "</table>\n",
       "</div>"
      ],
      "text/plain": [
       "          C         P         G  U\n",
       "0  0.986995  1.197787 -0.795915  1\n",
       "1  5.715446  3.573636  0.072746  1\n",
       "2 -4.387763 -3.131400 -0.261240 -1\n",
       "3  2.598454  0.462321 -1.298047  1\n",
       "4  6.614388  4.931193  2.676112  1"
      ]
     },
     "execution_count": 64,
     "metadata": {},
     "output_type": "execute_result"
    }
   ],
   "source": [
    "np.random.seed(3)\n",
    "\n",
    "U = 2 * np.random.binomial(n=1, p=0.5, size=N) - 1  # {-1, 1}\n",
    "# U = np.random.normal(0, 1, N)  # Simulation more realistic example \n",
    "\n",
    "G = np.random.normal(0, 1, size=N)  # Has not influence\n",
    "\n",
    "P = np.random.normal(b_GP*G + b_U*U, 1, size=N)\n",
    "\n",
    "C = np.random.normal(b_PC*P + b_GC*G + b_U*U, 1, size=N)\n",
    "\n",
    "d = pd.DataFrame.from_dict({'C':C, 'P':P, 'G':G, 'U':U})\n",
    "\n",
    "d.head()"
   ]
  },
  {
   "cell_type": "markdown",
   "id": "e0f4cf8f",
   "metadata": {},
   "source": [
    "### R Code 6.27"
   ]
  },
  {
   "cell_type": "code",
   "execution_count": 65,
   "id": "96fc9f31",
   "metadata": {
    "tags": [
     "remove_output"
    ]
   },
   "outputs": [
    {
     "name": "stderr",
     "output_type": "stream",
     "text": [
      "\u001b[32mBuilding:\u001b[0m found in cache, done.\n",
      "\u001b[36mSampling:\u001b[0m   0%\n",
      "\u001b[1A\u001b[0J\u001b[36mSampling:\u001b[0m  25% (2000/8000)\n",
      "\u001b[1A\u001b[0J\u001b[36mSampling:\u001b[0m  50% (4000/8000)\n",
      "\u001b[1A\u001b[0J\u001b[36mSampling:\u001b[0m  75% (6000/8000)\n",
      "\u001b[1A\u001b[0J\u001b[36mSampling:\u001b[0m 100% (8000/8000)\n",
      "\u001b[1A\u001b[0J\u001b[32mSampling:\u001b[0m 100% (8000/8000), done.\n",
      "\u001b[36mMessages received during sampling:\u001b[0m\n",
      "  Gradient evaluation took 5.2e-05 seconds\n",
      "  1000 transitions using 10 leapfrog steps per transition would take 0.52 seconds.\n",
      "  Adjust your expectations accordingly!\n",
      "  Gradient evaluation took 4.9e-05 seconds\n",
      "  1000 transitions using 10 leapfrog steps per transition would take 0.49 seconds.\n",
      "  Adjust your expectations accordingly!\n",
      "  Gradient evaluation took 5e-05 seconds\n",
      "  1000 transitions using 10 leapfrog steps per transition would take 0.5 seconds.\n",
      "  Adjust your expectations accordingly!\n",
      "  Gradient evaluation took 6.9e-05 seconds\n",
      "  1000 transitions using 10 leapfrog steps per transition would take 0.69 seconds.\n",
      "  Adjust your expectations accordingly!\n"
     ]
    }
   ],
   "source": [
    "# C ~ P + G\n",
    "\n",
    "model = \"\"\"\n",
    "    data {\n",
    "        int N;\n",
    "        vector[N] C;\n",
    "        vector[N] P;\n",
    "        vector[N] G;\n",
    "    }\n",
    "    \n",
    "    parameters {\n",
    "        real alpha;\n",
    "        real b_PC;\n",
    "        real b_GC;\n",
    "        real<lower=0> sigma;\n",
    "    }\n",
    "    \n",
    "    model {\n",
    "        vector[N] mu;\n",
    "        \n",
    "        for (i in 1:N){\n",
    "            mu[i] = alpha + b_PC*P[i] + b_GC*G[i];\n",
    "        }\n",
    "        \n",
    "        C ~ normal(mu, sigma);\n",
    "        \n",
    "        alpha ~ normal(0, 1);\n",
    "        b_PC ~ normal(0, 1);\n",
    "        b_GC ~ normal(0, 1);\n",
    "        sigma ~ exponential(1);\n",
    "    }\n",
    "\"\"\"\n",
    "\n",
    "data = {\n",
    "    'N': len(d.C.values),\n",
    "    'C': d.C.values,\n",
    "    'P': d.P.values,\n",
    "    'G': d.G.values,\n",
    "}\n",
    "\n",
    "posteriori = stan.build(model, data=data)\n",
    "samples = posteriori.sample(num_chains=4, num_samples=1000)"
   ]
  },
  {
   "cell_type": "code",
   "execution_count": 66,
   "id": "8fe98b4c",
   "metadata": {},
   "outputs": [
    {
     "data": {
      "text/html": [
       "<div>\n",
       "<style scoped>\n",
       "    .dataframe tbody tr th:only-of-type {\n",
       "        vertical-align: middle;\n",
       "    }\n",
       "\n",
       "    .dataframe tbody tr th {\n",
       "        vertical-align: top;\n",
       "    }\n",
       "\n",
       "    .dataframe thead th {\n",
       "        text-align: right;\n",
       "    }\n",
       "</style>\n",
       "<table border=\"1\" class=\"dataframe\">\n",
       "  <thead>\n",
       "    <tr style=\"text-align: right;\">\n",
       "      <th></th>\n",
       "      <th>mean</th>\n",
       "      <th>std</th>\n",
       "      <th>7.0%</th>\n",
       "      <th>93.0%</th>\n",
       "    </tr>\n",
       "  </thead>\n",
       "  <tbody>\n",
       "    <tr>\n",
       "      <th>alpha</th>\n",
       "      <td>0.07</td>\n",
       "      <td>0.10</td>\n",
       "      <td>-0.10</td>\n",
       "      <td>0.24</td>\n",
       "    </tr>\n",
       "    <tr>\n",
       "      <th>b_PC</th>\n",
       "      <td>1.77</td>\n",
       "      <td>0.04</td>\n",
       "      <td>1.70</td>\n",
       "      <td>1.84</td>\n",
       "    </tr>\n",
       "    <tr>\n",
       "      <th>b_GC</th>\n",
       "      <td>-0.82</td>\n",
       "      <td>0.10</td>\n",
       "      <td>-1.01</td>\n",
       "      <td>-0.65</td>\n",
       "    </tr>\n",
       "    <tr>\n",
       "      <th>sigma</th>\n",
       "      <td>1.33</td>\n",
       "      <td>0.07</td>\n",
       "      <td>1.20</td>\n",
       "      <td>1.45</td>\n",
       "    </tr>\n",
       "  </tbody>\n",
       "</table>\n",
       "</div>"
      ],
      "text/plain": [
       "       mean   std  7.0%  93.0%\n",
       "alpha  0.07  0.10 -0.10   0.24\n",
       "b_PC   1.77  0.04  1.70   1.84\n",
       "b_GC  -0.82  0.10 -1.01  -0.65\n",
       "sigma  1.33  0.07  1.20   1.45"
      ]
     },
     "execution_count": 66,
     "metadata": {},
     "output_type": "execute_result"
    }
   ],
   "source": [
    "Vide.summary(samples)"
   ]
  },
  {
   "cell_type": "code",
   "execution_count": 67,
   "id": "4434c499",
   "metadata": {},
   "outputs": [
    {
     "data": {
      "image/png": "[encoded data removed]",
      "text/plain": [
       "<Figure size 1080x360 with 1 Axes>"
      ]
     },
     "metadata": {
      "needs_background": "light"
     },
     "output_type": "display_data"
    }
   ],
   "source": [
    "Vide.plot_forest(samples)"
   ]
  },
  {
   "cell_type": "code",
   "execution_count": 68,
   "id": "ca6ce4ce",
   "metadata": {},
   "outputs": [
    {
     "data": {
      "image/png": "[encoded data removed]",
      "text/plain": [
       "<Figure size 1224x432 with 1 Axes>"
      ]
     },
     "metadata": {
      "needs_background": "light"
     },
     "output_type": "display_data"
    }
   ],
   "source": [
    "# Figure 6.5\n",
    "plt.figure(figsize=(17, 6))\n",
    "\n",
    "colors = ['black' if u <= 0 else 'blue' for u in U]  # Unobserved\n",
    "\n",
    "x = np.linspace(-3, 4)\n",
    "y = np.mean(samples['alpha']) + np.mean(samples['b_GC']) * x\n",
    "\n",
    "plt.plot(x, y, c='k')\n",
    "\n",
    "plt.scatter(G, C, c=colors)\n",
    "plt.xlabel('Granparent Education (G)')\n",
    "plt.ylabel('GranChild Education (C)')\n",
    "plt.title('Educations - Bias Collider')\n",
    "plt.show()"
   ]
  },
  {
   "cell_type": "markdown",
   "id": "93fe0f3b",
   "metadata": {},
   "source": [
    "### R Code 6.28"
   ]
  },
  {
   "cell_type": "code",
   "execution_count": 69,
   "id": "03ebe5f8",
   "metadata": {
    "tags": [
     "remove_output"
    ]
   },
   "outputs": [
    {
     "name": "stderr",
     "output_type": "stream",
     "text": [
      "\u001b[32mBuilding:\u001b[0m found in cache, done.\n",
      "\u001b[36mSampling:\u001b[0m   0%\n",
      "\u001b[1A\u001b[0J\u001b[36mSampling:\u001b[0m   4% (300/8000)\n",
      "\u001b[1A\u001b[0J\u001b[36mSampling:\u001b[0m   8% (600/8000)\n",
      "\u001b[1A\u001b[0J\u001b[36mSampling:\u001b[0m  12% (1000/8000)\n",
      "\u001b[1A\u001b[0J\u001b[36mSampling:\u001b[0m  38% (3000/8000)\n",
      "\u001b[1A\u001b[0J\u001b[36mSampling:\u001b[0m  59% (4700/8000)\n",
      "\u001b[1A\u001b[0J\u001b[36mSampling:\u001b[0m  80% (6400/8000)\n",
      "\u001b[1A\u001b[0J\u001b[36mSampling:\u001b[0m 100% (8000/8000)\n",
      "\u001b[1A\u001b[0J\u001b[32mSampling:\u001b[0m 100% (8000/8000), done.\n",
      "\u001b[36mMessages received during sampling:\u001b[0m\n",
      "  Gradient evaluation took 9.1e-05 seconds\n",
      "  1000 transitions using 10 leapfrog steps per transition would take 0.91 seconds.\n",
      "  Adjust your expectations accordingly!\n",
      "  Gradient evaluation took 8.8e-05 seconds\n",
      "  1000 transitions using 10 leapfrog steps per transition would take 0.88 seconds.\n",
      "  Adjust your expectations accordingly!\n",
      "  Gradient evaluation took 8.9e-05 seconds\n",
      "  1000 transitions using 10 leapfrog steps per transition would take 0.89 seconds.\n",
      "  Adjust your expectations accordingly!\n",
      "  Gradient evaluation took 7.3e-05 seconds\n",
      "  1000 transitions using 10 leapfrog steps per transition would take 0.73 seconds.\n",
      "  Adjust your expectations accordingly!\n"
     ]
    }
   ],
   "source": [
    "model = \"\"\"\n",
    "    data {\n",
    "        int N;\n",
    "        vector[N] C;\n",
    "        vector[N] P;\n",
    "        vector[N] G;\n",
    "        vector[N] U;\n",
    "    }\n",
    "    \n",
    "    parameters {\n",
    "        real alpha;\n",
    "        real b_PC;\n",
    "        real b_GC;\n",
    "        real b_U;\n",
    "        real<lower=0> sigma;\n",
    "    }\n",
    "    \n",
    "    model {\n",
    "        vector[N] mu;\n",
    "        \n",
    "        for (i in 1:N){\n",
    "            mu[i] = alpha + b_PC*P[i] + b_GC*G[i] + b_U*U[i];\n",
    "        }\n",
    "        \n",
    "        C ~ normal(mu, sigma);\n",
    "        \n",
    "        alpha ~ normal(0, 1);\n",
    "        b_GC ~ normal(0, 1);\n",
    "        b_PC ~ normal(0, 1);\n",
    "        b_U  ~ normal(0, 1);\n",
    "        sigma ~ exponential(1);\n",
    "    }\n",
    "\"\"\"\n",
    "\n",
    "data = {\n",
    "    'N': len(d.C.values),\n",
    "    'C': d.C.values,\n",
    "    'P': d.P.values,\n",
    "    'G': d.G.values,\n",
    "    'U': d.U.values,\n",
    "}\n",
    "\n",
    "posteriori = stan.build(model, data=data)\n",
    "samples = posteriori.sample(num_chains=4, num_samples=1000)"
   ]
  },
  {
   "cell_type": "code",
   "execution_count": 70,
   "id": "3296e29e",
   "metadata": {},
   "outputs": [
    {
     "data": {
      "text/html": [
       "<div>\n",
       "<style scoped>\n",
       "    .dataframe tbody tr th:only-of-type {\n",
       "        vertical-align: middle;\n",
       "    }\n",
       "\n",
       "    .dataframe tbody tr th {\n",
       "        vertical-align: top;\n",
       "    }\n",
       "\n",
       "    .dataframe thead th {\n",
       "        text-align: right;\n",
       "    }\n",
       "</style>\n",
       "<table border=\"1\" class=\"dataframe\">\n",
       "  <thead>\n",
       "    <tr style=\"text-align: right;\">\n",
       "      <th></th>\n",
       "      <th>mean</th>\n",
       "      <th>std</th>\n",
       "      <th>7.0%</th>\n",
       "      <th>93.0%</th>\n",
       "    </tr>\n",
       "  </thead>\n",
       "  <tbody>\n",
       "    <tr>\n",
       "      <th>alpha</th>\n",
       "      <td>0.07</td>\n",
       "      <td>0.07</td>\n",
       "      <td>-0.06</td>\n",
       "      <td>0.21</td>\n",
       "    </tr>\n",
       "    <tr>\n",
       "      <th>b_PC</th>\n",
       "      <td>1.00</td>\n",
       "      <td>0.07</td>\n",
       "      <td>0.86</td>\n",
       "      <td>1.12</td>\n",
       "    </tr>\n",
       "    <tr>\n",
       "      <th>b_GC</th>\n",
       "      <td>-0.03</td>\n",
       "      <td>0.10</td>\n",
       "      <td>-0.22</td>\n",
       "      <td>0.15</td>\n",
       "    </tr>\n",
       "    <tr>\n",
       "      <th>b_U</th>\n",
       "      <td>1.97</td>\n",
       "      <td>0.17</td>\n",
       "      <td>1.68</td>\n",
       "      <td>2.27</td>\n",
       "    </tr>\n",
       "    <tr>\n",
       "      <th>sigma</th>\n",
       "      <td>1.02</td>\n",
       "      <td>0.05</td>\n",
       "      <td>0.93</td>\n",
       "      <td>1.11</td>\n",
       "    </tr>\n",
       "  </tbody>\n",
       "</table>\n",
       "</div>"
      ],
      "text/plain": [
       "       mean   std  7.0%  93.0%\n",
       "alpha  0.07  0.07 -0.06   0.21\n",
       "b_PC   1.00  0.07  0.86   1.12\n",
       "b_GC  -0.03  0.10 -0.22   0.15\n",
       "b_U    1.97  0.17  1.68   2.27\n",
       "sigma  1.02  0.05  0.93   1.11"
      ]
     },
     "execution_count": 70,
     "metadata": {},
     "output_type": "execute_result"
    }
   ],
   "source": [
    "Vide.summary(samples)"
   ]
  },
  {
   "cell_type": "code",
   "execution_count": 71,
   "id": "8960382f",
   "metadata": {},
   "outputs": [
    {
     "data": {
      "image/png": "[encoded data removed]",
      "text/plain": [
       "<Figure size 1080x432 with 1 Axes>"
      ]
     },
     "metadata": {
      "needs_background": "light"
     },
     "output_type": "display_data"
    }
   ],
   "source": [
    "Vide.plot_forest(samples)"
   ]
  },
  {
   "cell_type": "markdown",
   "id": "3e5a3524",
   "metadata": {},
   "source": [
    "### R Code 6.29\n",
    "\n",
    "Reference: [*ksachdeva*](https://colab.research.google.com/github/ksachdeva/rethinking-tensorflow-probability/blob/master/notebooks/06_the_haunted_dag_and_the_causal_terror.ipynb#scrollTo=wyUj47f7-kLy)"
   ]
  },
  {
   "cell_type": "code",
   "execution_count": 72,
   "id": "97881f4c",
   "metadata": {},
   "outputs": [
    {
     "data": {
      "image/png": "[encoded data removed]",
      "text/plain": [
       "<Figure size 266.457x209.764 with 1 Axes>"
      ]
     },
     "metadata": {},
     "output_type": "display_data"
    }
   ],
   "source": [
    "dag_6_1 = CausalGraphicalModel(\n",
    "    nodes=[\"C\", \"U\", \"B\", \"A\", \"X\", \"Y\"],\n",
    "    edges=[\n",
    "        (\"U\", \"X\"),\n",
    "        (\"A\", \"U\"),\n",
    "        (\"A\", \"C\"),\n",
    "        (\"C\", \"Y\"),\n",
    "        (\"U\", \"B\"),\n",
    "        (\"C\", \"B\"),\n",
    "        (\"X\", \"Y\"),\n",
    "    ],\n",
    ")\n",
    "\n",
    "pgm = daft.PGM()\n",
    "coordinates = {\n",
    "    \"U\": (0, 2),\n",
    "    \"C\": (4, 2),\n",
    "    \"A\": (2, 3),\n",
    "    \"B\": (2, 1),\n",
    "    \"X\": (0, 0),\n",
    "    \"Y\": (4, 0),\n",
    "}\n",
    "for node in dag_6_1.dag.nodes:\n",
    "    pgm.add_node(node, node, *coordinates[node])\n",
    "for edge in dag_6_1.dag.edges:\n",
    "    pgm.add_edge(*edge)\n",
    "pgm.render()\n",
    "\n",
    "plt.show()"
   ]
  },
  {
   "cell_type": "code",
   "execution_count": 73,
   "id": "6e030064",
   "metadata": {},
   "outputs": [
    {
     "name": "stdout",
     "output_type": "stream",
     "text": [
      "frozenset({'C'})\n",
      "frozenset({'A'})\n"
     ]
    }
   ],
   "source": [
    "all_adjustment_sets = dag_6_1.get_all_backdoor_adjustment_sets(\"X\", \"Y\")\n",
    "\n",
    "for s in all_adjustment_sets:\n",
    "    if all(not t.issubset(s) for t in all_adjustment_sets if t != s):\n",
    "        if s != {\"U\"}:\n",
    "            print(s)"
   ]
  },
  {
   "cell_type": "markdown",
   "id": "68b50209",
   "metadata": {},
   "source": [
    "### R Code 6.30"
   ]
  },
  {
   "cell_type": "code",
   "execution_count": 74,
   "id": "49cc5991",
   "metadata": {},
   "outputs": [
    {
     "data": {
      "image/png": "[encoded data removed]",
      "text/plain": [
       "<Figure size 153.071x153.071 with 1 Axes>"
      ]
     },
     "metadata": {},
     "output_type": "display_data"
    }
   ],
   "source": [
    "dag_6_2 = CausalGraphicalModel(\n",
    "    nodes=['S', 'A', 'M', 'W', 'D'],\n",
    "    edges=[\n",
    "        ('S','W'),\n",
    "        ('S','M'),\n",
    "        ('S','A'),\n",
    "        ('A','M'),\n",
    "        ('A','D'),\n",
    "        ('M','D'),\n",
    "        ('W','D'),\n",
    "    ],\n",
    ")\n",
    "\n",
    "# Drawing the DAG\n",
    "pgm = daft.PGM()\n",
    "coordinates = {\n",
    "    \"S\": (0, 2),\n",
    "    \"A\": (0, 0),\n",
    "    \"M\": (1, 1),\n",
    "    \"W\": (2, 2),\n",
    "    \"D\": (2, 0),\n",
    "}\n",
    "for node in dag_6_2.dag.nodes:\n",
    "    pgm.add_node(node, node, *coordinates[node])\n",
    "for edge in dag_6_2.dag.edges:\n",
    "    pgm.add_edge(*edge)\n",
    "pgm.render()\n",
    "\n",
    "plt.show()"
   ]
  },
  {
   "cell_type": "code",
   "execution_count": 75,
   "id": "dfed1764",
   "metadata": {},
   "outputs": [
    {
     "name": "stdout",
     "output_type": "stream",
     "text": [
      "frozenset({'A', 'M'})\n",
      "frozenset({'S'})\n"
     ]
    }
   ],
   "source": [
    "# R Code 6.30\n",
    "\n",
    "all_adjustment_sets = dag_6_2.get_all_backdoor_adjustment_sets(\"W\", \"D\")\n",
    "\n",
    "\n",
    "for s in all_adjustment_sets:\n",
    "    if all(not t.issubset(s) for t in all_adjustment_sets if t != s):\n",
    "        print(s)"
   ]
  },
  {
   "cell_type": "markdown",
   "id": "52d7399f",
   "metadata": {},
   "source": [
    "### R Code 6.31\n",
    "\n",
    "Reference: [*Fehiepsi - Numpyro*](https://github.com/fehiepsi/rethinking-numpyro/blob/master/notebooks/06_the_haunted_dag_and_the_causal_terror.ipynb)"
   ]
  },
  {
   "cell_type": "code",
   "execution_count": 76,
   "id": "b6da226b",
   "metadata": {},
   "outputs": [
    {
     "name": "stdout",
     "output_type": "stream",
     "text": [
      "('M', 'W', {'S'})\n",
      "('W', 'A', {'S'})\n",
      "('S', 'D', {'W', 'A', 'M'})\n"
     ]
    }
   ],
   "source": [
    "all_independencies = dag_6_2.get_all_independence_relationships()\n",
    "\n",
    "for s in all_independencies:\n",
    "    if all(\n",
    "        t[0] != s[0] or t[1] != s[1] or not t[2].issubset(s[2])\n",
    "        for t in all_independencies\n",
    "        if t != s\n",
    "    ):\n",
    "        print(s)"
   ]
  }
 ],
 "metadata": {
  "celltoolbar": "Tags",
  "kernelspec": {
   "display_name": "Python 3 (ipykernel)",
   "language": "python",
   "name": "python3"
  },
  "language_info": {
   "codemirror_mode": {
    "name": "ipython",
    "version": 3
   },
   "file_extension": ".py",
   "mimetype": "text/x-python",
   "name": "python",
   "nbconvert_exporter": "python",
   "pygments_lexer": "ipython3",
   "version": "3.8.0"
  }
 },
 "nbformat": 4,
 "nbformat_minor": 5
}
