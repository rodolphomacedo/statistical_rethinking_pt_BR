{
 "cells": [
  {
   "cell_type": "markdown",
   "id": "e9bf0146",
   "metadata": {},
   "source": [
    "# 13 Models With Memory"
   ]
  },
  {
   "cell_type": "markdown",
   "id": "16ed1f97",
   "metadata": {},
   "source": [
    "## Imports, loadings and functions"
   ]
  },
  {
   "cell_type": "code",
   "execution_count": 1,
   "id": "39e7ebea",
   "metadata": {},
   "outputs": [],
   "source": [
    "import numpy as np\n",
    "\n",
    "from scipy import stats\n",
    "\n",
    "import matplotlib.pyplot as plt\n",
    "from matplotlib.gridspec import GridSpec\n",
    "\n",
    "import pandas as pd\n",
    "\n",
    "import networkx as nx\n",
    "# from causalgraphicalmodels import CausalGraphicalModel\n",
    "\n",
    "import arviz as az\n",
    "# ArviZ ships with style sheets!\n",
    "# https://python.arviz.org/en/stable/examples/styles.html#example-styles\n",
    "az.style.use(\"arviz-darkgrid\")\n",
    "\n",
    "import xarray as xr\n",
    "\n",
    "import stan\n",
    "import nest_asyncio\n",
    "\n",
    "plt.style.use('default')\n",
    "plt.rcParams['axes.facecolor'] = 'lightgray'\n",
    "\n",
    "# To DAG's\n",
    "import daft\n",
    "# from causalgraphicalmodels import CausalGraphicalModel  # Just work in < python3.9 "
   ]
  },
  {
   "cell_type": "code",
   "execution_count": 2,
   "id": "7a78c92f",
   "metadata": {},
   "outputs": [],
   "source": [
    "# Add fonts to matplotlib to run xkcd\n",
    "\n",
    "from matplotlib import font_manager\n",
    "\n",
    "font_dirs = [\"fonts/\"]  # The path to the custom font file.\n",
    "font_files = font_manager.findSystemFonts(fontpaths=font_dirs)\n",
    "\n",
    "for font_file in font_files:\n",
    "    font_manager.fontManager.addfont(font_file)"
   ]
  },
  {
   "cell_type": "code",
   "execution_count": 3,
   "id": "57b999a1",
   "metadata": {},
   "outputs": [],
   "source": [
    "# To make plots like drawing \n",
    "# plt.xkcd()"
   ]
  },
  {
   "cell_type": "code",
   "execution_count": 4,
   "id": "8781d488",
   "metadata": {},
   "outputs": [],
   "source": [
    "# To running the stan in jupyter notebook\n",
    "nest_asyncio.apply()"
   ]
  },
  {
   "cell_type": "code",
   "execution_count": 5,
   "id": "bbe1f6a8",
   "metadata": {},
   "outputs": [],
   "source": [
    "# Utils functions\n",
    "\n",
    "def logit(p):\n",
    "    return np.log(p) - np.log(1 - p)\n",
    "\n",
    "def inv_logit(p):\n",
    "    return np.exp(p) / (1 + np.exp(p))"
   ]
  },
  {
   "cell_type": "markdown",
   "id": "ab28e2ba",
   "metadata": {},
   "source": [
    "## 13.1 Example: Multilevel tadpoles"
   ]
  },
  {
   "cell_type": "markdown",
   "id": "e0f4702d",
   "metadata": {},
   "source": [
    "### R Code 13.1"
   ]
  },
  {
   "cell_type": "code",
   "execution_count": 6,
   "id": "2966b0de",
   "metadata": {},
   "outputs": [],
   "source": [
    "df = pd.read_csv('./data/reedfrogs.csv', sep=\";\")\n",
    "df['tank'] = df.index.to_list()\n",
    "df['tank'] += 1  # index start from 1 like Stan works\n",
    "df"
   ]
  },
  {
   "cell_type": "code",
   "execution_count": 7,
   "id": "a877a7e4",
   "metadata": {},
   "outputs": [],
   "source": [
    "df.describe()"
   ]
  },
  {
   "cell_type": "markdown",
   "id": "07571408",
   "metadata": {},
   "source": [
    "### R Code 13.2"
   ]
  },
  {
   "cell_type": "markdown",
   "id": "13877b50",
   "metadata": {},
   "source": [
    "$$ S_i \\sim Binomial(N_i, p_i) $$\n",
    "\n",
    "$$ logit(p_i) = \\alpha_{TANK[i]} $$\n",
    "\n",
    "$$ \\alpha_j \\sim Normal(0, 1.5), \\mbox{ for } j \\in \\{1, 48\\}$$"
   ]
  },
  {
   "cell_type": "code",
   "execution_count": 8,
   "id": "6f4c2bd2",
   "metadata": {},
   "outputs": [],
   "source": [
    "model = \"\"\"\n",
    "    data {\n",
    "        int qty;\n",
    "        array[qty] int N;  // Total quantities that have tadpoles in tank\n",
    "        array[qty] int survival;  // How many tadpoles survival\n",
    "        array[qty] int tank;  // Tank index\n",
    "    }\n",
    "    \n",
    "    parameters {\n",
    "        vector[qty] alpha;\n",
    "    }\n",
    "    \n",
    "    model {\n",
    "        vector[qty] p;\n",
    "        \n",
    "        alpha ~ normal(0, 1.5);\n",
    "        \n",
    "        for (i in 1:qty){\n",
    "            p[i] = alpha[ tank[i] ];\n",
    "            p[i] = inv_logit(alpha[i]);\n",
    "        }\n",
    "        \n",
    "        survival ~ binomial(N, p);\n",
    "        \n",
    "    }\n",
    "\"\"\"\n",
    "\n",
    "dat_list = {\n",
    "    'qty': len(df),\n",
    "    'tank': df['tank'].to_list(),\n",
    "    'survival': df['surv'].to_list(),\n",
    "    'N': df['density'].to_list()\n",
    "}\n",
    "\n",
    "\n",
    "posteriori = stan.build(model, data=dat_list)\n",
    "samples = posteriori.sample(num_chains=4, num_samples=1000)"
   ]
  },
  {
   "cell_type": "code",
   "execution_count": 9,
   "id": "b4d68a9d",
   "metadata": {},
   "outputs": [],
   "source": [
    "model_13_1 = az.from_pystan(\n",
    "    posterior=samples,\n",
    "    posterior_model=posteriori,\n",
    "    observed_data=dat_list.keys()\n",
    ")"
   ]
  },
  {
   "cell_type": "code",
   "execution_count": 10,
   "id": "5a9709aa",
   "metadata": {},
   "outputs": [],
   "source": [
    "az.summary(model_13_1, hdi_prob=0.89)"
   ]
  },
  {
   "cell_type": "code",
   "execution_count": 11,
   "id": "fe0fa372",
   "metadata": {},
   "outputs": [],
   "source": [
    "az.plot_forest(model_13_1, hdi_prob=0.89, combined=True, figsize=(17, 20))\n",
    "\n",
    "plt.grid(axis='y', c='white', alpha=0.3)\n",
    "plt.show()"
   ]
  },
  {
   "cell_type": "markdown",
   "id": "d19e5e79",
   "metadata": {},
   "source": [
    "### R Code 13.3"
   ]
  },
  {
   "cell_type": "markdown",
   "id": "a3b894a1",
   "metadata": {},
   "source": [
    "#### Multilevel model Tadpole\n",
    "\n",
    "$$ S_i \\sim Binomial(N_i, p_i) $$\n",
    "\n",
    "$$ logit(p_i) = \\alpha_{TANK[i]} $$\n",
    "\n",
    "$$ \\alpha[j] \\sim Normal(\\bar{\\alpha}, \\sigma) \\mbox{ - [Adaptative prior]} $$\n",
    "\n",
    "$$ \\bar{\\alpha} \\sim Normal(0, 1.5) \\mbox{ - [prior to average tank]} $$\n",
    "\n",
    "$$ \\sigma \\sim Exponential(1) \\mbox{ - [prior for standard deviation of tanks]} $$"
   ]
  },
  {
   "cell_type": "code",
   "execution_count": 12,
   "id": "7203c437",
   "metadata": {},
   "outputs": [],
   "source": [
    "model = \"\"\"\n",
    "    data {\n",
    "        int qty;\n",
    "        array[qty] int N;\n",
    "        array[qty] int survival;\n",
    "        array[qty] int tank;\n",
    "    }\n",
    "    \n",
    "    parameters {\n",
    "        vector[qty] alpha;\n",
    "        real bar_alpha;\n",
    "        real<lower=0> sigma;\n",
    "    }\n",
    "    \n",
    "    model {\n",
    "        vector[qty] p;\n",
    "        \n",
    "        alpha ~ normal(bar_alpha, sigma);\n",
    "        \n",
    "        bar_alpha ~ normal(0, 1.5);\n",
    "        sigma ~ exponential(1);\n",
    "        \n",
    "        for (i in 1:qty){\n",
    "            p[i] = alpha[ tank[i] ];\n",
    "            p[i] = inv_logit(p[i]);\n",
    "        }\n",
    "    \n",
    "        survival ~ binomial(N, p);\n",
    "    }\n",
    "\"\"\"\n",
    "\n",
    "\n",
    "dat_list = {\n",
    "    'qty': len(df),\n",
    "    'tank': df['tank'].to_list(),\n",
    "    'survival': df['surv'].to_list(),\n",
    "    'N': df['density'].to_list()\n",
    "}\n",
    "\n",
    "\n",
    "posteriori = stan.build(model, data=dat_list)\n",
    "samples = posteriori.sample(num_chains=4, num_samples=1000)"
   ]
  },
  {
   "cell_type": "code",
   "execution_count": 13,
   "id": "e312974d",
   "metadata": {},
   "outputs": [],
   "source": [
    "model_13_2 = az.from_pystan(\n",
    "    posterior=samples,\n",
    "    posterior_model=posteriori,\n",
    "    observed_data=dat_list.keys(),\n",
    ")"
   ]
  },
  {
   "cell_type": "code",
   "execution_count": 14,
   "id": "2732fcfd",
   "metadata": {},
   "outputs": [],
   "source": [
    "az.summary(model_13_2, hdi_prob=0.89)"
   ]
  },
  {
   "cell_type": "code",
   "execution_count": 15,
   "id": "29c63ab3",
   "metadata": {},
   "outputs": [],
   "source": [
    "az.plot_forest(model_13_2, hdi_prob=0.89, combined=True, figsize=(17, 20))\n",
    "\n",
    "plt.grid(axis='y', color='white', alpha=0.3)\n",
    "plt.show()"
   ]
  },
  {
   "cell_type": "markdown",
   "id": "c81d27cd",
   "metadata": {},
   "source": [
    "### R Code 13.4"
   ]
  },
  {
   "cell_type": "code",
   "execution_count": 16,
   "id": "b2f99ea1",
   "metadata": {},
   "outputs": [],
   "source": [
    "# az.compare(model_13_1, model_13_2)"
   ]
  },
  {
   "cell_type": "markdown",
   "id": "122be960",
   "metadata": {},
   "source": [
    "### R Code 13.5"
   ]
  },
  {
   "cell_type": "code",
   "execution_count": 17,
   "id": "fe08dff6",
   "metadata": {},
   "outputs": [],
   "source": [
    "means = [ model_13_2.posterior.alpha.sel(alpha_dim_0=(i-1)).values.flatten().mean() for i in df.tank ]\n",
    "means = inv_logit(means)"
   ]
  },
  {
   "cell_type": "code",
   "execution_count": 18,
   "id": "32f09207",
   "metadata": {},
   "outputs": [],
   "source": [
    "# My test, this is not originaly in book\n",
    "means_13_1 = [ model_13_1.posterior.alpha.sel(alpha_dim_0=(i-1)).values.flatten().mean() for i in df.tank ]\n",
    "means_13_1 = inv_logit(means_13_1)"
   ]
  },
  {
   "cell_type": "code",
   "execution_count": 19,
   "id": "ce91f00b",
   "metadata": {},
   "outputs": [],
   "source": [
    "bar_alpha_log = model_13_2.posterior.bar_alpha.values.flatten()\n",
    "bar_alpha = inv_logit(bar_alpha_log)\n",
    "bar_alpha_mean = bar_alpha.mean() \n",
    "\n",
    "sigma_log = model_13_2.posterior.sigma.values.flatten()\n",
    "sigma = inv_logit(sigma_log)\n",
    "sigma_mean = sigma.mean()"
   ]
  },
  {
   "cell_type": "code",
   "execution_count": 20,
   "id": "60f9bf96",
   "metadata": {},
   "outputs": [],
   "source": [
    "plt.figure(figsize=(17, 6))\n",
    "plt.ylim = ([0, 1])\n",
    "\n",
    "plt.scatter(df.tank, means, edgecolors='black', c='lightgray', s=100)\n",
    "plt.scatter(df.tank, means_13_1, edgecolors='yellow', c='lightgray', s=100, alpha=0.4)\n",
    "plt.scatter(df.tank, df.propsurv, c='blue')\n",
    "\n",
    "\n",
    "plt.axvline(x=15.5, ls='--', color='white', alpha=0.3)\n",
    "plt.axvline(x=31.5, ls='--', color='white', alpha=0.3)\n",
    "\n",
    "plt.axhline(y=bar_alpha_mean, ls='--', c='black', alpha=0.7)\n",
    "\n",
    "plt.text(4, 0.05, 'Small Tank', size=12)\n",
    "plt.text(22, 0.05, 'Medium Tank', size=12)\n",
    "plt.text(40, 0.05, 'Large Tank', size=12)\n",
    "\n",
    "plt.gca().set_ylim(0.0, 1.05)\n",
    "\n",
    "plt.title('Tadpole survival Tanks')\n",
    "plt.xlabel('Tank Index')\n",
    "plt.ylabel('Porportion Survival')\n",
    "\n",
    "plt.show()"
   ]
  },
  {
   "cell_type": "markdown",
   "id": "3e064bb2",
   "metadata": {},
   "source": [
    "- **Blue dot**: Proportion survival s_i/N_i\n",
    "\n",
    "- **Black circle**: Multilevel model estimative\n",
    "\n",
    "- **Light Yellow**: No-pooling estimative"
   ]
  },
  {
   "cell_type": "markdown",
   "id": "1fb23838",
   "metadata": {},
   "source": [
    "### R Code 13.6"
   ]
  },
  {
   "cell_type": "code",
   "execution_count": 21,
   "id": "086fcc9f",
   "metadata": {
    "scrolled": false
   },
   "outputs": [],
   "source": [
    "fig = plt.figure(figsize=(17, 6))\n",
    "gs = GridSpec(1, 2)\n",
    "\n",
    "x = np.linspace(-3, 4)\n",
    "\n",
    "s_sampled = 500\n",
    "\n",
    "ax1 = fig.add_subplot(gs[0, 0])\n",
    "log_odds_survival = []\n",
    "log_odds_sampled_index = np.random.choice(len(bar_alpha_log) ,size=s_sampled, replace=False)\n",
    "\n",
    "for i in log_odds_sampled_index:\n",
    "    log_odds_survival.append(stats.norm.pdf(x, bar_alpha_log[i], sigma_log[i]))\n",
    "\n",
    "for i in range(s_sampled):\n",
    "    ax1.plot(x, log_odds_survival[i], c='darkblue', linewidth=0.05)\n",
    "ax1.set_title('Survival across Tank')\n",
    "ax1.set_xlabel('log_odds survival')\n",
    "ax1.set_ylabel('Density')\n",
    "    \n",
    "\n",
    "ax2 = fig.add_subplot(gs[0, 1])\n",
    "samples_log = np.random.normal(bar_alpha_log, sigma_log)\n",
    "ax2.hist(inv_logit(samples_log), rwidth=0.9, color='darkblue', density=True)\n",
    "ax2.axvline(x=np.mean(inv_logit(samples_log)), c='black', ls='--')\n",
    "ax2.text(np.mean(inv_logit(samples_log))+0.01, 2.5, 'Mean')\n",
    "\n",
    "ax2.set_title('Survival probabilities simulations')\n",
    "ax2.set_xlabel('Probability survival')\n",
    "ax2.set_ylabel('Density')\n",
    "\n",
    "plt.show()"
   ]
  },
  {
   "cell_type": "markdown",
   "id": "81b96139",
   "metadata": {},
   "source": [
    "## 13.2 Varing effects  and underfitting/overfitting trade-off"
   ]
  },
  {
   "cell_type": "markdown",
   "id": "72b22cfa",
   "metadata": {},
   "source": [
    "The model\n",
    "\n",
    "$$ S_i \\sim Binomial(N_i, p_i) $$\n",
    "\n",
    "$$ logit(p_i) = \\alpha_{POND[i]} $$\n",
    "\n",
    "$$ \\alpha_j \\sim Normal(\\bar{\\alpha}, \\sigma) $$\n",
    "\n",
    "$$ \\bar{\\alpha} \\sim Normal(0, 1.5) $$\n",
    "\n",
    "$$ \\sigma \\sim Exponential(1) $$"
   ]
  },
  {
   "cell_type": "markdown",
   "id": "a6fef872",
   "metadata": {},
   "source": [
    "$\\bar{\\alpha} := $ the avegare log-oods fo survival in the entire population of ponds\n",
    "\n",
    "$\\sigma := $ the standard deviation of the distribution of log-oods of survivial among ponds\n",
    "\n",
    "$\\alpha := $ a vector of individual pond intercepts, one for each pond"
   ]
  },
  {
   "cell_type": "markdown",
   "id": "1ebf32aa",
   "metadata": {},
   "source": [
    "### R Code 13.7"
   ]
  },
  {
   "cell_type": "code",
   "execution_count": 22,
   "id": "4279f35b",
   "metadata": {},
   "outputs": [],
   "source": [
    "a_bar = 1.5\n",
    "sigma = 1.5\n",
    "nponds = 60\n",
    "\n",
    "repeats = 15\n",
    "\n",
    "Ni = np.repeat([5, 10, 25, 35], repeats=repeats)"
   ]
  },
  {
   "cell_type": "markdown",
   "id": "646a770c",
   "metadata": {},
   "source": [
    "### R Code 13.8"
   ]
  },
  {
   "cell_type": "code",
   "execution_count": 23,
   "id": "7d9ecd3d",
   "metadata": {},
   "outputs": [],
   "source": [
    "a_pond = np.random.normal(loc=a_bar, scale=sigma, size=nponds)"
   ]
  },
  {
   "cell_type": "markdown",
   "id": "ef39008e",
   "metadata": {},
   "source": [
    "### R Code 13.9"
   ]
  },
  {
   "cell_type": "code",
   "execution_count": 24,
   "id": "c9614282",
   "metadata": {},
   "outputs": [],
   "source": [
    "d = {\n",
    "    'pond': np.arange(nponds) + 1,\n",
    "    'Ni':Ni,\n",
    "    'true_a': a_pond,\n",
    "}\n",
    "\n",
    "dsim = pd.DataFrame(data=d)\n",
    "dsim.head()"
   ]
  },
  {
   "cell_type": "markdown",
   "id": "bdfe8ced",
   "metadata": {},
   "source": [
    "### R Code 13.10"
   ]
  },
  {
   "cell_type": "code",
   "execution_count": 25,
   "id": "6ac31a70",
   "metadata": {},
   "outputs": [],
   "source": [
    "# Code in R -> integer vs numeric"
   ]
  },
  {
   "cell_type": "markdown",
   "id": "f6abedc7",
   "metadata": {},
   "source": [
    "### R Code 13.11"
   ]
  },
  {
   "cell_type": "code",
   "execution_count": 26,
   "id": "624e38f2",
   "metadata": {},
   "outputs": [],
   "source": [
    "dsim['Si'] = np.random.binomial(n=dsim['Ni'], p=inv_logit(dsim['true_a']))\n",
    "dsim.head()"
   ]
  },
  {
   "cell_type": "markdown",
   "id": "1039fcb5",
   "metadata": {},
   "source": [
    "### R Code 13.12"
   ]
  },
  {
   "cell_type": "markdown",
   "id": "8b394277",
   "metadata": {},
   "source": [
    "#### 13.2.4 Compute the no-pooling estimates"
   ]
  },
  {
   "cell_type": "code",
   "execution_count": 27,
   "id": "27491eda",
   "metadata": {},
   "outputs": [],
   "source": [
    "dsim['p_nopool'] = dsim['Si'] / dsim['Ni']\n",
    "dsim.head()"
   ]
  },
  {
   "cell_type": "markdown",
   "id": "99d028cf",
   "metadata": {},
   "source": [
    "### R Code 13.13"
   ]
  },
  {
   "cell_type": "markdown",
   "id": "99ccaee8",
   "metadata": {},
   "source": [
    "#### 13.2.5 Compute the partial-pooling estimates"
   ]
  },
  {
   "cell_type": "code",
   "execution_count": 28,
   "id": "2681a744",
   "metadata": {},
   "outputs": [],
   "source": [
    "model = \"\"\"\n",
    "    data {\n",
    "        int N;\n",
    "        array[N] int pond;  // Pond index\n",
    "        array[N] int Ni;  // Population in pond[i]\n",
    "        array[N] int Si;  // Survivals from Ni pond\n",
    "    }\n",
    "    \n",
    "    parameters {\n",
    "        vector[N] alpha;\n",
    "        real bar_alpha;\n",
    "        real<lower=0> sigma;\n",
    "    }\n",
    "    \n",
    "    model {\n",
    "        vector[N] pi;\n",
    "        \n",
    "        // Link\n",
    "            for (i in 1:N) {\n",
    "                pi[i] = alpha[ pond[i] ];\n",
    "                pi[i] = inv_logit(pi[i]);\n",
    "            }\n",
    "        \n",
    "        // Prior\n",
    "        alpha ~ normal(bar_alpha, sigma);\n",
    "        \n",
    "        // Hyper Prior\n",
    "        bar_alpha ~ normal(0, 1.5);\n",
    "        sigma ~ exponential(1);\n",
    "    \n",
    "        // Likelihood\n",
    "        Si ~ binomial(Ni, pi);\n",
    "    }\n",
    "\"\"\"\n",
    "\n",
    "\n",
    "dat_list = {\n",
    "    'N': len(dsim),\n",
    "    'Ni': dsim['Ni'].to_list(),\n",
    "    'pond': dsim['pond'].to_list(),\n",
    "    'Si': dsim['Si'].to_list(),\n",
    "}\n",
    "\n",
    "posteriori = stan.build(model, data=dat_list)\n",
    "samples = posteriori.sample(num_chains=4, num_samples=1000)"
   ]
  },
  {
   "cell_type": "markdown",
   "id": "cb5b2d66",
   "metadata": {},
   "source": [
    "### R Code 13.14"
   ]
  },
  {
   "cell_type": "code",
   "execution_count": 29,
   "id": "7eb8e89c",
   "metadata": {},
   "outputs": [],
   "source": [
    "model_13_3 = az.from_pystan(\n",
    "    posterior=samples,\n",
    "    posterior_model=posteriori,\n",
    "    observed_data=dat_list\n",
    ")"
   ]
  },
  {
   "cell_type": "code",
   "execution_count": 30,
   "id": "8dd12db9",
   "metadata": {},
   "outputs": [],
   "source": [
    "az.summary(model_13_3, hdi_prob=0.89)"
   ]
  },
  {
   "cell_type": "markdown",
   "id": "999a0658",
   "metadata": {},
   "source": [
    "### R Code 13.15"
   ]
  },
  {
   "cell_type": "code",
   "execution_count": 31,
   "id": "07042ce0",
   "metadata": {},
   "outputs": [],
   "source": [
    "dsim['p_partpool'] = [inv_logit(model_13_3.posterior.alpha.sel(alpha_dim_0=i).values.mean()) for i in range(len(dsim))]\n",
    "dsim.head()"
   ]
  },
  {
   "cell_type": "markdown",
   "id": "3413ccee",
   "metadata": {},
   "source": [
    "### R Code 13.16"
   ]
  },
  {
   "cell_type": "code",
   "execution_count": 32,
   "id": "9a6fd6bb",
   "metadata": {},
   "outputs": [],
   "source": [
    "dsim['p_true'] = inv_logit(dsim['true_a'])\n",
    "dsim.head()"
   ]
  },
  {
   "cell_type": "markdown",
   "id": "a8170cd3",
   "metadata": {},
   "source": [
    "### R Code 13.17"
   ]
  },
  {
   "cell_type": "code",
   "execution_count": 33,
   "id": "c78e65a9",
   "metadata": {},
   "outputs": [],
   "source": [
    "no_pool_error = np.abs(dsim['p_nopool'] - dsim['p_true'])\n",
    "partpool_error = np.abs(dsim['p_partpool'] - dsim['p_true'])"
   ]
  },
  {
   "cell_type": "markdown",
   "id": "340feedc",
   "metadata": {},
   "source": [
    "### R Code 13.18"
   ]
  },
  {
   "cell_type": "code",
   "execution_count": 34,
   "id": "f6734480",
   "metadata": {},
   "outputs": [],
   "source": [
    "plt.figure(figsize=(17, 8))\n",
    "plt.ylim = ([0, 1])\n",
    "max_lim_graph = 0.3\n",
    "\n",
    "plt.scatter(dsim.pond, partpool_error, edgecolors='black', c='lightgray', s=100)\n",
    "plt.scatter(dsim.pond, no_pool_error, c='blue')\n",
    "\n",
    "qty_unique_ponds = len(dsim['Ni'].unique())\n",
    "qty_each_ponds = repeats  # The number of repetitions for each element in each pond.\n",
    "\n",
    "\n",
    "# Vertical lines\n",
    "for i in range(qty_unique_ponds):\n",
    "    plt.axvline(x=qty_each_ponds*(i+1) + 0.5, ls='--', color='white', alpha=0.3)\n",
    "    \n",
    "    partpool_error_mean = np.mean(partpool_error[(qty_each_ponds*i):(qty_each_ponds*(i+1))])\n",
    "    no_pool_error_mean = np.mean(no_pool_error[(qty_each_ponds*i):(qty_each_ponds*(i+1))])\n",
    "    \n",
    "    plt.hlines(y=partpool_error_mean, xmin=1+(qty_each_ponds*i), xmax=qty_each_ponds+(qty_each_ponds*i), ls='--', colors='black', alpha=0.7)\n",
    "    plt.hlines(y=no_pool_error_mean, xmin=1+(qty_each_ponds*i), xmax=qty_each_ponds+(qty_each_ponds*i), ls='-', colors='blue', alpha=0.7)\n",
    "\n",
    "score_no_pooling = 0\n",
    "score_partial_pooling = 0\n",
    "    \n",
    "for i in dsim.pond:\n",
    "    if no_pool_error[i-1] >= partpool_error[i-1]:  # partial polling is better\n",
    "        plt.vlines(x=i, ymin=no_pool_error[i-1], ymax=partpool_error[i-1], ls='--', colors='green', alpha=0.3)\n",
    "        score_partial_pooling += no_pool_error[i-1] - partpool_error[i-1]  # How partial pooling is better\n",
    "        \n",
    "    else:  # no pooling is better\n",
    "        plt.vlines(x=i, ymin=no_pool_error[i-1], ymax=partpool_error[i-1], ls='--', colors='red', alpha=0.3)\n",
    "        score_no_pooling += partpool_error[i-1] - no_pool_error[i-1]  # How no pooling is better\n",
    "\n",
    "plt.text(7, max_lim_graph, 'Tiny Ponds ($5$)', size=12)\n",
    "plt.text(21, max_lim_graph, 'Small Ponds ($10$)', size=12)\n",
    "plt.text(35, max_lim_graph, 'Medium Ponds ($25$)', size=12)\n",
    "plt.text(50, max_lim_graph, 'Large Ponds ($35$)', size=12)\n",
    "\n",
    "plt.text(47, 0.25, f'Partial pooling is better by = {round(score_partial_pooling, 2)}')\n",
    "plt.text(47, 0.24, f'No pooling is better by = {round(score_no_pooling, 2)}')\n",
    "plt.text(47, 0.23, f'Partial Polling/No polling = {round((score_partial_pooling/score_no_pooling)*100, 2)}%')\n",
    "\n",
    "\n",
    "plt.gca().set_ylim(-0.01, max_lim_graph + 0.05)\n",
    "\n",
    "plt.title('Pond survival error absolute \\n\\n Black dash line = partial pooling \\n Blue line = no pooling')\n",
    "plt.xlabel('Pond Index')\n",
    "plt.ylabel('Absolute Error')\n",
    "\n",
    "plt.show()"
   ]
  },
  {
   "cell_type": "markdown",
   "id": "3d528d29",
   "metadata": {},
   "source": [
    "### R Code 13.20"
   ]
  },
  {
   "cell_type": "code",
   "execution_count": 35,
   "id": "2d7bc2cf",
   "metadata": {},
   "outputs": [],
   "source": [
    "# Reuse code in using Rethinking packages in R, here is automatically reuse!\n",
    "# Just re-run from R Code 13.7"
   ]
  },
  {
   "cell_type": "markdown",
   "id": "0de0e34d",
   "metadata": {},
   "source": [
    "## 13.3 More than one type of cluster"
   ]
  },
  {
   "cell_type": "markdown",
   "id": "e0133bfc",
   "metadata": {},
   "source": [
    "#### Multilevel Chimpanzees\n",
    "\n",
    "$$ L_i \\sim Binomial(1, p_i) $$\n",
    "\n",
    "$$ logit(p_i) = \\alpha_{ACTOR[i]} + \\gamma_{BLOCK[i]} + \\beta_{TREATMENT[i]} $$\n",
    "\n",
    "$$ \\beta_j \\sim Normal(0, 0.5) \\mbox{  , } j \\in \\{1, ... ,4\\} $$\n",
    "\n",
    "$$ \\alpha_j \\sim Normal(\\bar{\\alpha}, \\sigma_\\alpha) \\mbox{  , } j \\in \\{1, ... ,7\\} $$\n",
    "\n",
    "$$ \\gamma_j \\sim Normal(0, \\sigma_\\gamma) \\mbox{  , } j \\in \\{1, ... ,6\\} $$\n",
    "\n",
    "$$ \\bar{\\alpha} \\sim Normal(0, 1.5) $$\n",
    "\n",
    "$$ \\sigma_{\\alpha} \\sim Exponential(1) $$\n",
    "\n",
    "$$ \\sigma_{\\gamma} \\sim Exponential(1) $$"
   ]
  },
  {
   "cell_type": "markdown",
   "id": "7fadb95d",
   "metadata": {},
   "source": [
    "### R Code 13.21"
   ]
  },
  {
   "cell_type": "code",
   "execution_count": 36,
   "id": "be447731",
   "metadata": {},
   "outputs": [],
   "source": [
    "# Previous chimpanzees models is in chapter 11\n",
    "\n",
    "df = pd.read_csv('./data/chimpanzees.csv', sep=';')\n",
    "df.head()"
   ]
  },
  {
   "cell_type": "code",
   "execution_count": 37,
   "id": "f0597ffa",
   "metadata": {},
   "outputs": [],
   "source": [
    "df['treatment'] = 1 + df['prosoc_left'] + 2 * df['condition']\n",
    "df.head()"
   ]
  },
  {
   "cell_type": "code",
   "execution_count": 38,
   "id": "c340e064",
   "metadata": {},
   "outputs": [],
   "source": [
    "model = \"\"\"\n",
    "    data {\n",
    "        int N;\n",
    "        int qty_chimpanzees;\n",
    "        int qty_blocks;\n",
    "        int qty_treatments;\n",
    "        \n",
    "        array[N] int pulled_left;\n",
    "        array[N] int actor;\n",
    "        array[N] int block;\n",
    "        array[N] int treatment;\n",
    "    }\n",
    "    \n",
    "    parameters {\n",
    "        vector[qty_treatments] beta;\n",
    "        \n",
    "        vector[qty_chimpanzees] alpha;\n",
    "        real bar_alpha;\n",
    "        real<lower=0> sigma_alpha;\n",
    "        \n",
    "        vector[qty_blocks] gamma;\n",
    "        real<lower=0>  sigma_gamma;\n",
    "           \n",
    "    }\n",
    "    \n",
    "    model {\n",
    "        vector[N] p;\n",
    "    \n",
    "        // priors\n",
    "        beta ~ normal(0, 0.5);\n",
    "        \n",
    "        alpha ~ normal(bar_alpha, sigma_alpha);\n",
    "        bar_alpha ~ normal(0, 1.5);\n",
    "        sigma_alpha ~ exponential(1);\n",
    "        \n",
    "        gamma ~ normal(0, sigma_gamma);\n",
    "        sigma_gamma ~ exponential(1);\n",
    "        \n",
    "        // link\n",
    "        for (i in 1:N){\n",
    "            p[i] = alpha[ actor[i] ] + gamma[ block[i] ] + beta[ treatment[i] ];\n",
    "            p[i] = inv_logit(p[i]);\n",
    "        }\n",
    "        \n",
    "        // linkelihood\n",
    "        pulled_left ~ binomial(1, p);\n",
    "    }\n",
    "\n",
    "\"\"\"\n",
    "\n",
    "dat_list = df[['pulled_left', 'actor', 'block', 'treatment']].to_dict('list')\n",
    "dat_list['N'] = len(df)\n",
    "dat_list['qty_chimpanzees'] = len(df['actor'].unique())\n",
    "dat_list['qty_blocks'] = len(df['block'].unique())\n",
    "dat_list['qty_treatments'] = len(df['treatment'].unique())\n",
    "\n",
    "posteriori = stan.build(model, data=dat_list)\n",
    "samples = posteriori.sample(num_chains=4, num_samples=1000)"
   ]
  },
  {
   "cell_type": "markdown",
   "id": "b29208fc",
   "metadata": {},
   "source": [
    "### R Code 13.22"
   ]
  },
  {
   "cell_type": "code",
   "execution_count": 39,
   "id": "1d9fb8ea",
   "metadata": {},
   "outputs": [],
   "source": [
    "model_13_4 = az.from_pystan(\n",
    "    posterior=samples,\n",
    "    posterior_model=posteriori,\n",
    "    observed_data=dat_list\n",
    ")"
   ]
  },
  {
   "cell_type": "code",
   "execution_count": 40,
   "id": "834aa576",
   "metadata": {},
   "outputs": [],
   "source": [
    "az.summary(model_13_4, hdi_prob=0.89)"
   ]
  },
  {
   "cell_type": "code",
   "execution_count": 41,
   "id": "068dc7c7",
   "metadata": {},
   "outputs": [],
   "source": [
    "az.plot_forest(model_13_4, hdi_prob=0.89, combined=True, figsize=(15, 8))\n",
    "plt.grid('--', color='white', alpha=0.2)\n",
    "plt.axvline(x=0, color='red', alpha=0.5, ls='--')\n",
    "plt.show()"
   ]
  },
  {
   "cell_type": "code",
   "execution_count": 42,
   "id": "f923270b",
   "metadata": {},
   "outputs": [],
   "source": [
    "plt.figure(figsize=(17, 6))\n",
    "\n",
    "az.plot_dist(\n",
    "    [model_13_4.posterior.sigma_gamma], color='blue', quantiles=[.05, .89]\n",
    ")\n",
    "\n",
    "az.plot_dist(\n",
    "    [model_13_4.posterior.bar_alpha + model_13_4.posterior.sigma_alpha],\n",
    "    color='black', quantiles=[.05, .89]\n",
    ")\n",
    "\n",
    "plt.legend(['Block', 'Actor'])\n",
    "plt.title('Posteioris')\n",
    "plt.ylabel('Density')\n",
    "plt.xlabel('Standard Deviation')\n",
    "plt.show()"
   ]
  },
  {
   "cell_type": "markdown",
   "id": "efa9f1c0",
   "metadata": {},
   "source": [
    "###  R Code 13.23"
   ]
  },
  {
   "cell_type": "code",
   "execution_count": 43,
   "id": "0564b736",
   "metadata": {},
   "outputs": [],
   "source": [
    "model = \"\"\"\n",
    "    data {\n",
    "        int N;\n",
    "        int qty_chimpanzees;\n",
    "        int qty_blocks;\n",
    "        int qty_treatments;\n",
    "        \n",
    "        array[N] int pulled_left;\n",
    "        array[N] int actor;\n",
    "        array[N] int block;\n",
    "        array[N] int treatment;\n",
    "    }\n",
    "    \n",
    "    parameters {\n",
    "        vector[qty_treatments] beta;\n",
    "        \n",
    "        vector[qty_chimpanzees] alpha;\n",
    "        real bar_alpha;\n",
    "        real<lower=0> sigma_alpha;   \n",
    "    }\n",
    "    \n",
    "    model {\n",
    "        vector[N] p;\n",
    "    \n",
    "        // priors\n",
    "        beta ~ normal(0, 0.5);\n",
    "        \n",
    "        alpha ~ normal(bar_alpha, sigma_alpha);\n",
    "        bar_alpha ~ normal(0, 1.5);\n",
    "        sigma_alpha ~ exponential(1);\n",
    "        \n",
    "        // link\n",
    "        for (i in 1:N){\n",
    "            p[i] = alpha[ actor[i] ] + beta[ treatment[i] ];\n",
    "            p[i] = inv_logit(p[i]);\n",
    "        }\n",
    "        \n",
    "        // linkelihood\n",
    "        pulled_left ~ binomial(1, p);\n",
    "    }\n",
    "\n",
    "\"\"\"\n",
    "\n",
    "dat_list = df[['pulled_left', 'actor', 'block', 'treatment']].to_dict('list')\n",
    "dat_list['N'] = len(df)\n",
    "dat_list['qty_chimpanzees'] = len(df['actor'].unique())\n",
    "dat_list['qty_blocks'] = len(df['block'].unique())\n",
    "dat_list['qty_treatments'] = len(df['treatment'].unique())\n",
    "\n",
    "posteriori = stan.build(model, data=dat_list)\n",
    "samples = posteriori.sample(num_chains=4, num_samples=1000)"
   ]
  },
  {
   "cell_type": "code",
   "execution_count": 44,
   "id": "b029a06d",
   "metadata": {},
   "outputs": [],
   "source": [
    "model_13_5 = az.from_pystan(\n",
    "    posterior=samples,\n",
    "    posterior_model=posteriori,\n",
    "    observed_data=dat_list.keys()\n",
    ")"
   ]
  },
  {
   "cell_type": "markdown",
   "id": "3b11b52a",
   "metadata": {},
   "source": [
    "### R Code 13.24"
   ]
  },
  {
   "cell_type": "code",
   "execution_count": 45,
   "id": "46698673",
   "metadata": {},
   "outputs": [],
   "source": [
    "# az.compare(model_13_4, model_13_5)"
   ]
  },
  {
   "cell_type": "markdown",
   "id": "389b3d40",
   "metadata": {},
   "source": [
    "### R Code 13.25"
   ]
  },
  {
   "cell_type": "code",
   "execution_count": 46,
   "id": "e34bd922",
   "metadata": {},
   "outputs": [],
   "source": [
    "model = \"\"\"\n",
    "    data {\n",
    "        int N;\n",
    "        int qty_chimpanzees;\n",
    "        int qty_blocks;\n",
    "        int qty_treatments;\n",
    "        \n",
    "        array[N] int pulled_left;\n",
    "        array[N] int actor;\n",
    "        array[N] int block;\n",
    "        array[N] int treatment;\n",
    "    }\n",
    "    \n",
    "    parameters {\n",
    "        vector[qty_treatments] beta;\n",
    "        real<lower=0>  sigma_beta;\n",
    "\n",
    "        vector[qty_chimpanzees] alpha;\n",
    "        real bar_alpha;\n",
    "        real<lower=0> sigma_alpha;\n",
    "        \n",
    "        vector[qty_blocks] gamma;\n",
    "        real<lower=0>  sigma_gamma;\n",
    "        \n",
    "    }\n",
    "    \n",
    "    model {\n",
    "        vector[N] p;\n",
    "    \n",
    "        // priors\n",
    "        beta ~ normal(0, sigma_beta);\n",
    "        sigma_beta ~ exponential(1);\n",
    "        \n",
    "        alpha ~ normal(bar_alpha, sigma_alpha);\n",
    "        bar_alpha ~ normal(0, 1.5);\n",
    "        sigma_alpha ~ exponential(1);\n",
    "        \n",
    "        gamma ~ normal(0, sigma_gamma);\n",
    "        sigma_gamma ~ exponential(1);\n",
    "        \n",
    "        // link\n",
    "        for (i in 1:N){\n",
    "            p[i] = alpha[ actor[i] ] + gamma[ block[i] ] + beta[ treatment[i] ];\n",
    "            p[i] = inv_logit(p[i]);\n",
    "        }\n",
    "        \n",
    "        // linkelihood\n",
    "        pulled_left ~ binomial(1, p);\n",
    "    }\n",
    "\n",
    "\"\"\"\n",
    "\n",
    "dat_list = df[['pulled_left', 'actor', 'block', 'treatment']].to_dict('list')\n",
    "dat_list['N'] = len(df)\n",
    "dat_list['qty_chimpanzees'] = len(df['actor'].unique())\n",
    "dat_list['qty_blocks'] = len(df['block'].unique())\n",
    "dat_list['qty_treatments'] = len(df['treatment'].unique())\n",
    "\n",
    "posteriori = stan.build(model, data=dat_list)\n",
    "samples = posteriori.sample(num_chains=4, num_samples=1000)"
   ]
  },
  {
   "cell_type": "code",
   "execution_count": 47,
   "id": "051d5432",
   "metadata": {},
   "outputs": [],
   "source": [
    "model_13_6 = az.from_pystan(\n",
    "    posterior=samples,\n",
    "    posterior_model=posteriori,\n",
    "    observed_data=dat_list.keys()\n",
    ")"
   ]
  },
  {
   "cell_type": "code",
   "execution_count": 48,
   "id": "92985ff0",
   "metadata": {},
   "outputs": [],
   "source": [
    "az.plot_forest([model_13_4, model_13_6], combined=True, figsize=(17,12), hdi_prob=0.89,\n",
    "              model_names = [\"model_13_4\", \"model_13_6\"])\n",
    "plt.show()"
   ]
  },
  {
   "cell_type": "markdown",
   "id": "2c95abbe",
   "metadata": {},
   "source": [
    "## 13.4 Divergent Transitions and non-centered priors"
   ]
  },
  {
   "cell_type": "markdown",
   "id": "1a82b1f4",
   "metadata": {},
   "source": [
    "### R Code 13.26"
   ]
  },
  {
   "cell_type": "code",
   "execution_count": 49,
   "id": "cb1eebc6",
   "metadata": {},
   "outputs": [],
   "source": [
    "model = \"\"\"\n",
    "    parameters {\n",
    "        real v;\n",
    "        real x;\n",
    "    }\n",
    "    \n",
    "    model {\n",
    "        v ~ normal(0, 3);\n",
    "        x ~ normal(0, exp(v));\n",
    "    }\n",
    "\"\"\"\n",
    "\n",
    "posteriori = stan.build(model)\n",
    "samples = posteriori.sample(num_chains=4, num_samples=1000)"
   ]
  },
  {
   "cell_type": "code",
   "execution_count": 50,
   "id": "158f472e",
   "metadata": {},
   "outputs": [],
   "source": [
    "model_13_5 = az.from_pystan(\n",
    "    posterior=samples,\n",
    "    posterior_model=posteriori,\n",
    ")"
   ]
  },
  {
   "cell_type": "code",
   "execution_count": 51,
   "id": "b684be8b",
   "metadata": {},
   "outputs": [],
   "source": [
    "az.summary(model_13_5, hdi_prob=0.89)"
   ]
  },
  {
   "cell_type": "markdown",
   "id": "077d555e",
   "metadata": {},
   "source": [
    "### R Code 13.27"
   ]
  },
  {
   "cell_type": "code",
   "execution_count": 52,
   "id": "97ee6912",
   "metadata": {},
   "outputs": [],
   "source": [
    "model = \"\"\"\n",
    "    parameters {\n",
    "        real v;\n",
    "        real z;\n",
    "    }\n",
    "    \n",
    "    model {\n",
    "        v ~ normal(0, 3);\n",
    "        z ~ normal(0, 1);\n",
    "    }\n",
    "    \n",
    "    generated quantities {\n",
    "        real x;\n",
    "        \n",
    "        x = z*exp(v);\n",
    "    }\n",
    "\"\"\"\n",
    "\n",
    "posteriori = stan.build(model)\n",
    "samples = posteriori.sample(num_chains=4, num_samples=1000)"
   ]
  },
  {
   "cell_type": "code",
   "execution_count": 53,
   "id": "3a716084",
   "metadata": {},
   "outputs": [],
   "source": [
    "model_13_6 = az.from_pystan(\n",
    "    posterior=samples,\n",
    "    posterior_model=posteriori,\n",
    ")"
   ]
  },
  {
   "cell_type": "code",
   "execution_count": 54,
   "id": "88f77684",
   "metadata": {},
   "outputs": [],
   "source": [
    "az.summary(model_13_6, hdi_prob=0.89)"
   ]
  },
  {
   "cell_type": "markdown",
   "id": "7b18d661",
   "metadata": {},
   "source": [
    "#### 13.4.2 Non-centered chimpanzees"
   ]
  },
  {
   "cell_type": "markdown",
   "id": "c3e1f001",
   "metadata": {},
   "source": [
    "### R Code 13.28"
   ]
  },
  {
   "cell_type": "code",
   "execution_count": 55,
   "id": "d719f814",
   "metadata": {},
   "outputs": [],
   "source": [
    "# Don't have apapt_delta in pystan3, until today."
   ]
  },
  {
   "cell_type": "markdown",
   "id": "24a26935",
   "metadata": {},
   "source": [
    "### R Code 13.29"
   ]
  },
  {
   "cell_type": "markdown",
   "id": "75592884",
   "metadata": {},
   "source": [
    "$$ L_i \\sim Binomial(1, p_i) $$\n",
    "\n",
    "$$ logit(p_i) = \\bar{\\alpha} + z_{ACTOR[i]} \\sigma_\\alpha + x_{BLOCK[i]}\\sigma_\\gamma + \\beta_{TREATMENT[i]} $$\n",
    "\n",
    "To Actor:\n",
    "$$ \\bar{\\alpha} \\sim Normal(0, 1.5) $$\n",
    "\n",
    "$$ z_j \\sim Normal(0, 1) $$\n",
    "\n",
    "$$ \\sigma_\\alpha \\sim Exponential(1) $$\n",
    "\n",
    "\n",
    "\n",
    "To Block:\n",
    "\n",
    "$$ x_j \\sim Normal(0, 1) $$\n",
    "\n",
    "$$ \\sigma_\\gamma \\sim Exponential(1) $$\n",
    "\n",
    "\n",
    "To Treatment:\n",
    "\n",
    "$$ \\beta_j \\sim Normal(0, 0.5) $$\n",
    "\n",
    "\n",
    "Where, each actor is defined by:\n",
    "\n",
    "$$ \\alpha_j = \\bar{\\alpha} + z_j\\sigma_\\alpha  $$\n",
    "\n",
    "and, each block is defined by:\n",
    "\n",
    "$$ \\gamma_j = x_j\\sigma_\\gamma $$"
   ]
  },
  {
   "cell_type": "code",
   "execution_count": 56,
   "id": "09f1699e",
   "metadata": {},
   "outputs": [],
   "source": [
    "model = \"\"\"\n",
    "    data {\n",
    "        int N;\n",
    "        int qty_chimpanzees;\n",
    "        int qty_blocks;\n",
    "        int qty_treatments;\n",
    "        \n",
    "        array[N] int pulled_left;\n",
    "        array[N] int actor;\n",
    "        array[N] int block;\n",
    "        array[N] int treatment;\n",
    "    }\n",
    "    \n",
    "    parameters {\n",
    "        // To treatments\n",
    "        vector[qty_treatments] beta;\n",
    "        \n",
    "        // To actors\n",
    "        real bar_alpha;\n",
    "        vector[qty_chimpanzees] z;\n",
    "        real<lower=0> sigma_alpha;\n",
    "        \n",
    "        // To block\n",
    "        vector[qty_blocks] x;\n",
    "        real<lower=0>  sigma_gamma;\n",
    "    }\n",
    "    \n",
    "    model {\n",
    "        vector[N] p;\n",
    "    \n",
    "        // priors\n",
    "        beta ~ normal(0, 0.5);  // treatment\n",
    "        z ~ normal(0, 1);  // actor\n",
    "        x ~ normal(0, 1);  // block \n",
    "        \n",
    "        bar_alpha ~ normal(0, 1.5);  // Intercept to alpha (actor)\n",
    "        \n",
    "        sigma_alpha ~ exponential(1);\n",
    "        sigma_gamma ~ exponential(1);\n",
    "        \n",
    "        // Link\n",
    "        for (i in 1:N){\n",
    "            p[i] = bar_alpha  + z[ actor[i] ]*sigma_alpha +  x[ block[i] ]*sigma_gamma + beta[ treatment[i] ];\n",
    "            p[i] = inv_logit(p[i]);\n",
    "        }\n",
    "        \n",
    "        // Linkelihood\n",
    "        pulled_left ~ binomial(1, p);\n",
    "    }\n",
    "    \n",
    "    generated quantities {\n",
    "        vector[qty_chimpanzees] alpha;\n",
    "        vector[qty_blocks] gamma;\n",
    "        \n",
    "        alpha = bar_alpha + z*sigma_alpha;\n",
    "        gamma = x*sigma_gamma;\n",
    "    }\n",
    "\n",
    "\"\"\"\n",
    "\n",
    "dat_list = df[['pulled_left', 'actor', 'block', 'treatment']].to_dict('list')\n",
    "dat_list['N'] = len(df)\n",
    "dat_list['qty_chimpanzees'] = len(df['actor'].unique())\n",
    "dat_list['qty_blocks'] = len(df['block'].unique())\n",
    "dat_list['qty_treatments'] = len(df['treatment'].unique())\n",
    "\n",
    "posteriori = stan.build(model, data=dat_list)\n",
    "samples = posteriori.sample(num_chains=4, num_samples=1000)"
   ]
  },
  {
   "cell_type": "code",
   "execution_count": 57,
   "id": "3f1be292",
   "metadata": {},
   "outputs": [],
   "source": [
    "model_13_4_nc = az.from_pystan(\n",
    "    posterior=samples,\n",
    "    posterior_model=posteriori,\n",
    "    observed_data=dat_list.keys()\n",
    ")"
   ]
  },
  {
   "cell_type": "code",
   "execution_count": 58,
   "id": "adb86a60",
   "metadata": {},
   "outputs": [],
   "source": [
    "az.plot_forest(model_13_4_nc, hdi_prob=0.89, combined=True, figsize=(17, 13))\n",
    "\n",
    "plt.axvline(x=0, ls='--', color='red')\n",
    "plt.grid(axis='y', color='white', ls='--', alpha=0.5)\n",
    "plt.show()"
   ]
  },
  {
   "cell_type": "markdown",
   "id": "755cc932",
   "metadata": {},
   "source": [
    "### R Code 13.30"
   ]
  },
  {
   "cell_type": "code",
   "execution_count": 59,
   "id": "cfebc789",
   "metadata": {},
   "outputs": [],
   "source": [
    "# Extract features from ess\n",
    "\n",
    "# non-centered\n",
    "ess_nc = np.array(az.ess(model_13_4_nc, var_names=['alpha']).alpha.values)\n",
    "ess_nc = np.append(ess_nc, az.ess(model_13_4_nc, var_names=['beta']).beta.values)\n",
    "ess_nc = np.append(ess_nc, az.ess(model_13_4_nc, var_names=['gamma']).gamma.values)\n",
    "ess_nc = np.append(ess_nc, az.ess(model_13_4_nc, var_names=['bar_alpha']).bar_alpha.values)\n",
    "ess_nc = np.append(ess_nc, az.ess(model_13_4_nc, var_names=['sigma_alpha']).sigma_alpha.values)\n",
    "ess_nc = np.append(ess_nc, az.ess(model_13_4_nc, var_names=['sigma_gamma']).sigma_gamma.values)\n",
    "\n",
    "# centered\n",
    "ess_c = np.array(az.ess(model_13_4, var_names=['alpha']).alpha.values)\n",
    "ess_c = np.append(ess_c, az.ess(model_13_4, var_names=['beta']).beta.values)\n",
    "ess_c = np.append(ess_c, az.ess(model_13_4, var_names=['gamma']).gamma.values)\n",
    "ess_c = np.append(ess_c, az.ess(model_13_4, var_names=['bar_alpha']).bar_alpha.values)\n",
    "ess_c = np.append(ess_c, az.ess(model_13_4, var_names=['sigma_alpha']).sigma_alpha.values)\n",
    "ess_c = np.append(ess_c, az.ess(model_13_4, var_names=['sigma_gamma']).sigma_gamma.values)"
   ]
  },
  {
   "cell_type": "code",
   "execution_count": 60,
   "id": "e4762b69",
   "metadata": {},
   "outputs": [],
   "source": [
    "plt.figure(figsize=(17, 8))\n",
    "\n",
    "plt.scatter(ess_c, ess_nc)\n",
    "\n",
    "plt.plot([0, 2500], [0, 2500], ls='--', c='k', alpha=0.4)\n",
    "plt.text(650, 500, 'Identity line ($x=y$)')\n",
    "\n",
    "plt.title('Effective number samples')\n",
    "plt.xlabel('n_eff(centered)')\n",
    "plt.ylabel('n_eff(non-centered)')\n",
    "\n",
    "plt.show()"
   ]
  }
 ],
 "metadata": {
  "kernelspec": {
   "display_name": "Python 3 (ipykernel)",
   "language": "python",
   "name": "python3"
  },
  "language_info": {
   "codemirror_mode": {
    "name": "ipython",
    "version": 3
   },
   "file_extension": ".py",
   "mimetype": "text/x-python",
   "name": "python",
   "nbconvert_exporter": "python",
   "pygments_lexer": "ipython3",
   "version": "3.10.12"
  }
 },
 "nbformat": 4,
 "nbformat_minor": 5
}
